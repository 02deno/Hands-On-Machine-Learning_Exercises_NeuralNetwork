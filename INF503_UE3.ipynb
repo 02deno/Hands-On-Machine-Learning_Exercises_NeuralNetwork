{
  "nbformat": 4,
  "nbformat_minor": 0,
  "metadata": {
    "colab": {
      "provenance": []
    },
    "kernelspec": {
      "name": "python3",
      "display_name": "Python 3"
    },
    "language_info": {
      "name": "python"
    }
  },
  "cells": [
    {
      "cell_type": "markdown",
      "source": [
        "# Question 8 "
      ],
      "metadata": {
        "id": "qb9jsPiSzXCW"
      }
    },
    {
      "cell_type": "markdown",
      "source": [
        "Practice training a deep neural network on the CIFAR10 image dataset:\n",
        "\n",
        "1. Build a DNN with 20 hidden layers of 100 neurons each (that’s too many, but\n",
        "it’s the point of this exercise). Use He initialization and the ELU activation\n",
        "function.\n",
        "\n",
        "2. Using Nadam optimization and early stopping, train the network on the\n",
        "CIFAR10 dataset. You can load it with keras.datasets.cifar10.load_data(). The dataset is composed of 60,000 32 × 32–pixel color images (50,000 for training, 10,000 for testing) with 10 classes, so you’ll need a softmax output layer with 10 neurons. Remember to search for the right learning rate each time you change the model’s architecture or hyperparameters.\n",
        "\n",
        "3. Now try adding Batch Normalization and compare the learning curves: Is it\n",
        "converging faster than before? Does it produce a better model? How does it\n",
        "affect training speed?\n",
        "\n",
        "4. Try replacing Batch Normalization with SELU, and make the necessary adjustements to ensure the network self-normalizes (i.e., standardize the input features, use LeCun normal initialization, make sure the DNN contains only a sequence of dense layers, etc.).\n",
        "\n",
        "5. Try regularizing the model with alpha dropout. Then, without retraining your model, see if you can achieve better accuracy using MC Dropout.\n",
        "\n",
        "6. Retrain your model using 1cycle scheduling and see if it improves training\n",
        "speed and model accuracy.\n",
        "\n",
        "Solutions to these exercises are available in Appendix A.\n"
      ],
      "metadata": {
        "id": "ulJ-h1D9zV1w"
      }
    },
    {
      "cell_type": "markdown",
      "source": [
        "## Imports"
      ],
      "metadata": {
        "id": "AaZAmdvt1isn"
      }
    },
    {
      "cell_type": "code",
      "source": [
        "import tensorflow as tf  \n",
        "from tensorflow import keras\n",
        "import numpy as np\n",
        "import matplotlib.pyplot as plt\n",
        "import pandas as pd\n",
        "from functools import partial\n",
        "import os\n",
        "from sklearn.model_selection import learning_curve\n",
        "import math"
      ],
      "metadata": {
        "id": "XD2JTvGN1j-E"
      },
      "execution_count": null,
      "outputs": []
    },
    {
      "cell_type": "markdown",
      "source": [
        "## Load the dataset"
      ],
      "metadata": {
        "id": "iEKpDNJx0Xud"
      }
    },
    {
      "cell_type": "code",
      "execution_count": null,
      "metadata": {
        "id": "8JegGZmvyot0"
      },
      "outputs": [],
      "source": [
        "(X_train_full, y_train_full), (X_test, y_test) = keras.datasets.cifar10.load_data()"
      ]
    },
    {
      "cell_type": "markdown",
      "source": [
        "## Take a look at the CIFAR10 image dataset"
      ],
      "metadata": {
        "id": "dpU_ZI100ZzI"
      }
    },
    {
      "cell_type": "code",
      "source": [
        "# 32x32 pixel, 3 color channels (red, green, blue) -> renkli resimler\n",
        "print(\"Shape of X_train: \", X_train_full.shape) # 50000 training instances\n",
        "print(\"Shape of y_train: \", y_train_full.shape)\n",
        "print(\"Shape of X_test: \", X_test.shape)\n",
        "print(\"Shape of y_test: \", y_test.shape) # 10000 test instances"
      ],
      "metadata": {
        "id": "8SNzP0vB0fSK"
      },
      "execution_count": null,
      "outputs": []
    },
    {
      "cell_type": "code",
      "source": [
        "y_train_full"
      ],
      "metadata": {
        "id": "p8viKLkJC96z"
      },
      "execution_count": null,
      "outputs": []
    },
    {
      "cell_type": "code",
      "source": [
        "# number of classes - 10 classes\n",
        "np.unique(y_train_full) "
      ],
      "metadata": {
        "id": "dIjZ5hf2Dge9"
      },
      "execution_count": null,
      "outputs": []
    },
    {
      "cell_type": "markdown",
      "source": [
        "Labels : \n",
        "* airplane - 0\n",
        "* automobile - 1\n",
        "* bird - 2\n",
        "* cat - 3\n",
        "* deer - 4\n",
        "* dog - 5\n",
        "* frog - 6\n",
        "* horse -7\n",
        "* ship - 8\n",
        "* truck - 9"
      ],
      "metadata": {
        "id": "k-d2RhUoGJtD"
      }
    },
    {
      "cell_type": "code",
      "source": [
        "pd.DataFrame(y_train_full).value_counts() # each class has 5000 images"
      ],
      "metadata": {
        "id": "Wl80-Fx9NPDB"
      },
      "execution_count": null,
      "outputs": []
    },
    {
      "cell_type": "code",
      "source": [
        "label = \"Label: \" + str(y_train_full[0][0])\n",
        "plt.xlabel(label)\n",
        "plt.imshow(X_train_full[0], aspect = 'auto')"
      ],
      "metadata": {
        "id": "jttmxP5qCxD3"
      },
      "execution_count": null,
      "outputs": []
    },
    {
      "cell_type": "code",
      "source": [
        "#examine data\n",
        "img_classes=[\"airplane\",\"automobile\",\"bird\",\"cat\",\"deer\",\"dog\",\"frog\",\"horse\",\"ship\",\"truck\"]"
      ],
      "metadata": {
        "id": "8lOl-XKdOHoE"
      },
      "execution_count": null,
      "outputs": []
    },
    {
      "cell_type": "code",
      "source": [
        "# visualize data by plotting images\n",
        "fig, ax = plt.subplots(5, 5, figsize = (20,20))\n",
        "k = 0\n",
        " \n",
        "for i in range(5):\n",
        "    for j in range(5):\n",
        "        # hide x any y ticks\n",
        "        ax[i][j].set_xticks([])\n",
        "        ax[i][j].set_yticks([])\n",
        "\n",
        "        label = \"Label: \" + str(img_classes[y_train_full[k][0]])\n",
        "        ax[i][j].set_xlabel(label, fontsize = 20)\n",
        "        ax[i][j].imshow(X_train_full[k], aspect='auto')\n",
        "        k += 1\n",
        "\n",
        "\n",
        "# set the spacing between subplots\n",
        "plt.subplots_adjust(left=0.1,\n",
        "                    bottom=0.1,\n",
        "                    right=0.9,\n",
        "                    top=1.5,\n",
        "                    wspace=0.4,\n",
        "                    hspace=0.4)\n",
        "\n",
        "plt.show()"
      ],
      "metadata": {
        "id": "B4PXWatJCotY"
      },
      "execution_count": null,
      "outputs": []
    },
    {
      "cell_type": "code",
      "source": [
        "# Splitting the dataset into training and validation dataset\n",
        "# because we want to use early stopping\n",
        "X_train = X_train_full[5000:]\n",
        "y_train = y_train_full[5000:]\n",
        "X_valid = X_train_full[:5000] # first 5000 images\n",
        "y_valid = y_train_full[:5000]"
      ],
      "metadata": {
        "id": "5IlbBBXGQ_da"
      },
      "execution_count": null,
      "outputs": []
    },
    {
      "cell_type": "code",
      "source": [
        "print(\"Shape of X_train: \", X_train.shape) # 45000 training instances\n",
        "print(\"Shape of y_train: \", y_train.shape)\n",
        "print(\"Shape of X_valid: \", X_valid.shape)\n",
        "print(\"Shape of y_valid: \", y_valid.shape) # 5000 validation instances"
      ],
      "metadata": {
        "id": "xGVqOO-rSE3m"
      },
      "execution_count": null,
      "outputs": []
    },
    {
      "cell_type": "markdown",
      "source": [
        "## Build a DNN"
      ],
      "metadata": {
        "id": "-9olEuz40fj2"
      }
    },
    {
      "cell_type": "markdown",
      "source": [
        "\n",
        "a. Build a DNN with 20 hidden layers of 100 neurons each (that’s too many, but\n",
        "it’s the point of this exercise). Use He initialization and the ELU activation\n",
        "function.\n"
      ],
      "metadata": {
        "id": "7dYGx8D00jz7"
      }
    },
    {
      "cell_type": "code",
      "source": [
        "# avoid writing the same 20 layers over and over again \n",
        "RegularizedDense = partial(keras.layers.Dense,\n",
        "activation=\"elu\",\n",
        "kernel_initializer=\"he_normal\")"
      ],
      "metadata": {
        "id": "PmLvRRoh0kCx"
      },
      "execution_count": null,
      "outputs": []
    },
    {
      "cell_type": "code",
      "source": [
        "keras.backend.clear_session()\n",
        "np.random.seed(42)\n",
        "tf.random.set_seed(42)"
      ],
      "metadata": {
        "id": "13t34vj0PuEj"
      },
      "execution_count": null,
      "outputs": []
    },
    {
      "cell_type": "code",
      "source": [
        "model = keras.models.Sequential()\n",
        "model.add(keras.layers.Flatten(input_shape=[32, 32, 3])) # input layer\n",
        "\n",
        "for _ in range(20):\n",
        "    model.add(RegularizedDense(100)) # hidden layers\n",
        "\n",
        "model.add(keras.layers.Dense(10, activation=\"softmax\")) # output layer, 10 classes"
      ],
      "metadata": {
        "id": "b7mT3C4eOvA_"
      },
      "execution_count": null,
      "outputs": []
    },
    {
      "cell_type": "code",
      "source": [
        "model.summary()"
      ],
      "metadata": {
        "id": "_KURHZE5POGn"
      },
      "execution_count": null,
      "outputs": []
    },
    {
      "cell_type": "markdown",
      "source": [
        "## Nadam Optimization and Early Stopping"
      ],
      "metadata": {
        "id": "n29bHiFM0n3r"
      }
    },
    {
      "cell_type": "markdown",
      "source": [
        "b. Using Nadam optimization and early stopping, train the network on the\n",
        "CIFAR10 dataset. You can load it with keras.datasets.cifar10.load_data(). The dataset is composed of 60,000 32 × 32–pixel color images (50,000 for training, 10,000 for testing) with 10 classes, so you’ll need a softmax output layer with 10 neurons. Remember to search for the right learning rate each time you change the model’s architecture or hyperparameters."
      ],
      "metadata": {
        "id": "iL-Fi8PD0z47"
      }
    },
    {
      "cell_type": "code",
      "source": [
        "optimizer = keras.optimizers.Nadam(learning_rate=5e-5) # 0.00005\n",
        "model.compile(loss=\"sparse_categorical_crossentropy\",\n",
        "              optimizer=optimizer,\n",
        "              metrics=[\"accuracy\"])"
      ],
      "metadata": {
        "id": "FXC-52rg00M1"
      },
      "execution_count": null,
      "outputs": []
    },
    {
      "cell_type": "code",
      "source": [
        "# early stopping\n",
        "# patience : Number of epochs with no improvement after which training will be stopped.\n",
        "early_stopping_cb = keras.callbacks.EarlyStopping(patience=20)"
      ],
      "metadata": {
        "id": "27L89qE1QYxw"
      },
      "execution_count": null,
      "outputs": []
    },
    {
      "cell_type": "code",
      "source": [
        "# checkpoint, rollback to best model\n",
        "model_checkpoint_cb = keras.callbacks.ModelCheckpoint(\"my_cifar10_model.h5\", save_best_only=True)"
      ],
      "metadata": {
        "id": "25jVFkvbQhrQ"
      },
      "execution_count": null,
      "outputs": []
    },
    {
      "cell_type": "code",
      "source": [
        "# for tensorboard\n",
        "run_index = 1 # increment every time you train the model\n",
        "run_logdir = os.path.join(os.curdir, \"my_cifar10_logs\", \"run_{:03d}\".format(run_index))\n",
        "tensorboard_cb = keras.callbacks.TensorBoard(run_logdir)"
      ],
      "metadata": {
        "id": "3R0aF8WwQYmf"
      },
      "execution_count": null,
      "outputs": []
    },
    {
      "cell_type": "code",
      "source": [
        "callbacks = [early_stopping_cb, model_checkpoint_cb, tensorboard_cb]"
      ],
      "metadata": {
        "id": "xUPtD9x3QbH_"
      },
      "execution_count": null,
      "outputs": []
    },
    {
      "cell_type": "code",
      "source": [
        "# 1407 = total number of batches processed in each epoch\n",
        "model.fit(X_train, y_train, epochs=100,\n",
        "          validation_data=(X_valid, y_valid),\n",
        "          callbacks=callbacks)"
      ],
      "metadata": {
        "id": "rM91mZNJQv-5"
      },
      "execution_count": null,
      "outputs": []
    },
    {
      "cell_type": "code",
      "source": [
        "model.history.history"
      ],
      "metadata": {
        "id": "JvACHQA3X2iB"
      },
      "execution_count": null,
      "outputs": []
    },
    {
      "cell_type": "code",
      "source": [
        "history_dict = model.history.history\n",
        "train_loss_values = history_dict['loss']\n",
        "val_loss_values = history_dict['val_loss']\n",
        "train_accuracy = history_dict['accuracy']\n",
        "val_accuracy = history_dict['val_accuracy']"
      ],
      "metadata": {
        "id": "vPKDjNErXimx"
      },
      "execution_count": null,
      "outputs": []
    },
    {
      "cell_type": "code",
      "source": [
        "# learning curve\n",
        "# Plot accuracy per iteration\n",
        "plt.plot(train_accuracy, label='Training Accuracy', color='red')\n",
        "plt.plot(val_accuracy, label='Validation Accuracy', color='blue')\n",
        "plt.legend()"
      ],
      "metadata": {
        "id": "DCYJ5fHQTUD_"
      },
      "execution_count": null,
      "outputs": []
    },
    {
      "cell_type": "code",
      "source": [
        "# learning curve\n",
        "# Plot accuracy per iteration\n",
        "plt.plot(train_loss_values, label='Training Loss', color='red')\n",
        "plt.plot(val_loss_values, label='Validation Loss', color='blue')\n",
        "plt.legend()"
      ],
      "metadata": {
        "id": "hhG2mRccY_Fo"
      },
      "execution_count": null,
      "outputs": []
    },
    {
      "cell_type": "code",
      "source": [
        "%reload_ext tensorboard\n",
        "%tensorboard --logdir=./my_cifar10_logs/run_001 --port=6029"
      ],
      "metadata": {
        "id": "ETK_ibkLQz7k"
      },
      "execution_count": null,
      "outputs": []
    },
    {
      "cell_type": "code",
      "source": [
        "model = keras.models.load_model(\"my_cifar10_model.h5\") # rollbackt to best model\n",
        "model.evaluate(X_valid, y_valid)"
      ],
      "metadata": {
        "id": "wXKsnPPaSxvx"
      },
      "execution_count": null,
      "outputs": []
    },
    {
      "cell_type": "markdown",
      "source": [
        "The model with the lowest validation loss gets about 46.08% accuracy and     1.527 loss on the validation set. It took 36(55-patience(20)) epochs to reach the lowest validation loss, with roughly 27 seconds per epoch.\n",
        "\n",
        "* val_loss: 1.5271 - val_accuracy: 0.4608"
      ],
      "metadata": {
        "id": "grsOi-gATLOl"
      }
    },
    {
      "cell_type": "markdown",
      "source": [
        "## Batch Normalization and Learning curves:"
      ],
      "metadata": {
        "id": "j8g1Kf1C03uy"
      }
    },
    {
      "cell_type": "markdown",
      "source": [
        "c. Now try adding Batch Normalization and compare the learning curves: Is it\n",
        "converging faster than before? Does it produce a better model? How does it\n",
        "affect training speed?"
      ],
      "metadata": {
        "id": "g5ZHL1181XoI"
      }
    },
    {
      "cell_type": "code",
      "source": [
        "keras.backend.clear_session()\n",
        "tf.random.set_seed(42)\n",
        "np.random.seed(42)"
      ],
      "metadata": {
        "id": "KLOfvsmIaC-f"
      },
      "execution_count": null,
      "outputs": []
    },
    {
      "cell_type": "code",
      "source": [
        "model = keras.models.Sequential()\n",
        "model.add(keras.layers.Flatten(input_shape=[32, 32, 3]))\n",
        "model.add(keras.layers.BatchNormalization()) # first layer in the model, StandardScaler effect"
      ],
      "metadata": {
        "id": "SGs4u3SWb7gu"
      },
      "execution_count": null,
      "outputs": []
    },
    {
      "cell_type": "code",
      "source": [
        "\"\"\"\n",
        "for _ in range(20):\n",
        "    model.add(keras.layers.Dense(100, kernel_initializer=\"he_normal\"))\n",
        "    model.add(keras.layers.BatchNormalization()) # after every dense layer, before the activation function\n",
        "    model.add(keras.layers.Activation(\"elu\"))\n",
        "model.add(keras.layers.Dense(10, activation=\"softmax\"))\n",
        "\n",
        "\"\"\"\n",
        "# zero centers and normalizes each input, then scales and shifts the result\n",
        "# using two new parameter vectors per layer \n",
        "# before or after the activation function of each hidden layer\n",
        "# the operation lets the model learn the optimal\n",
        "# scale and mean of each of the layer’s inputs.\n",
        "# not used after output layer\n",
        "\n",
        "for _ in range(20):\n",
        "    model.add(RegularizedDense(100)) # hidden layers\n",
        "    model.add(keras.layers.BatchNormalization()) # # after every dense layer, after the activation function\n",
        "\n",
        "model.add(keras.layers.Dense(10, activation=\"softmax\")) # output layer, 10 classes"
      ],
      "metadata": {
        "id": "aqTMPpLSdqiR"
      },
      "execution_count": null,
      "outputs": []
    },
    {
      "cell_type": "code",
      "source": [
        "model.summary()"
      ],
      "metadata": {
        "id": "PKJ0F3WQeSFT"
      },
      "execution_count": null,
      "outputs": []
    },
    {
      "cell_type": "code",
      "source": [
        "optimizer = keras.optimizers.Nadam(learning_rate=5e-4) # 0.0005, learning_rate i arrtır\n",
        "model.compile(loss=\"sparse_categorical_crossentropy\",\n",
        "              optimizer=optimizer,\n",
        "              metrics=[\"accuracy\"])"
      ],
      "metadata": {
        "id": "gUCvPGi81X-i"
      },
      "execution_count": null,
      "outputs": []
    },
    {
      "cell_type": "code",
      "source": [
        "early_stopping_cb = keras.callbacks.EarlyStopping(patience=20)\n",
        "model_checkpoint_cb = keras.callbacks.ModelCheckpoint(\"my_cifar10_bn_model.h5\", save_best_only=True)\n",
        "#model file name to my_cifar10_bn_model.h5. (bn yoktu öncekinde)"
      ],
      "metadata": {
        "id": "fzJg4UtXedTY"
      },
      "execution_count": null,
      "outputs": []
    },
    {
      "cell_type": "code",
      "source": [
        "run_index = 1 # increment every time you train the model\n",
        "run_logdir = os.path.join(os.curdir, \"my_cifar10_logs\", \"run_bn_{:03d}\".format(run_index))\n",
        "run_logdir\n",
        "# renamed the run directories to run_bn_* (bn yoktu öncekinde)"
      ],
      "metadata": {
        "id": "nqcexC-8exn4"
      },
      "execution_count": null,
      "outputs": []
    },
    {
      "cell_type": "code",
      "source": [
        "tensorboard_cb = keras.callbacks.TensorBoard(run_logdir)"
      ],
      "metadata": {
        "id": "Dni8sAW_e2pD"
      },
      "execution_count": null,
      "outputs": []
    },
    {
      "cell_type": "code",
      "source": [
        "callbacks = [early_stopping_cb, model_checkpoint_cb, tensorboard_cb]"
      ],
      "metadata": {
        "id": "AwfhEuB7e29G"
      },
      "execution_count": null,
      "outputs": []
    },
    {
      "cell_type": "code",
      "source": [
        "model.fit(X_train, y_train, epochs=100,\n",
        "          validation_data=(X_valid, y_valid),\n",
        "          callbacks=callbacks)"
      ],
      "metadata": {
        "id": "ITPcIP8ofTTM"
      },
      "execution_count": null,
      "outputs": []
    },
    {
      "cell_type": "code",
      "source": [
        "%tensorboard --logdir=./my_cifar10_logs --port=6000"
      ],
      "metadata": {
        "id": "2VuZCZ73fY8M"
      },
      "execution_count": null,
      "outputs": []
    },
    {
      "cell_type": "code",
      "source": [
        "# with bn\n",
        "history_dict_bn = model.history.history\n",
        "train_loss_values = history_dict_bn['loss']\n",
        "val_loss_values = history_dict_bn['val_loss']\n",
        "train_accuracy = history_dict_bn['accuracy']\n",
        "val_accuracy = history_dict_bn['val_accuracy']"
      ],
      "metadata": {
        "id": "C4wrRMsifmST"
      },
      "execution_count": null,
      "outputs": []
    },
    {
      "cell_type": "code",
      "source": [
        "# learning curve\n",
        "# Plot accuracy per iteration\n",
        "plt.plot(train_accuracy, label='Training Accuracy', color='red')\n",
        "plt.plot(val_accuracy, label='Validation Accuracy', color='blue')\n",
        "plt.title(\"Accuracy With Batch Normalization\")\n",
        "plt.legend()"
      ],
      "metadata": {
        "id": "l0M-3pOmfs60"
      },
      "execution_count": null,
      "outputs": []
    },
    {
      "cell_type": "code",
      "source": [
        "# learning curve\n",
        "# Plot accuracy per iteration\n",
        "plt.plot(train_loss_values, label='Training Loss', color='red')\n",
        "plt.plot(val_loss_values, label='Validation Loss', color='blue')\n",
        "plt.title(\"Loss With Batch Normalization\")\n",
        "plt.legend()"
      ],
      "metadata": {
        "id": "jo-yBHojfwE6"
      },
      "execution_count": null,
      "outputs": []
    },
    {
      "cell_type": "code",
      "source": [
        "model = keras.models.load_model(\"my_cifar10_bn_model.h5\") # Epoch 17 da en iyi model bulundu.patience 20 olduğu için 20 adım daha devam etti.\n",
        "model.evaluate(X_valid, y_valid)"
      ],
      "metadata": {
        "id": "kNZGUuzpfVm4"
      },
      "execution_count": null,
      "outputs": []
    },
    {
      "cell_type": "markdown",
      "source": [
        "* Is the model converging faster than before? Much faster! The previous model took 36 epochs to reach the lowest validation loss, while the new model achieved that same loss in just 5 epochs. The BN layers stabilized training and allowed us to use a much larger learning rate, so convergence was faster.\n",
        "\n",
        "* Does BN produce a better model? Yes! The final model is also much better, with 54.22% accuracy instead of 46.08%. It's still not a very good model, but at least it's much better than before.\n",
        "\n",
        "* How does BN affect training speed? Although the model converged much faster, each epoch took about 40s instead of 26s, because of the extra computations required by the BN layers. But overall the training time (wall time) was shortened significantly!"
      ],
      "metadata": {
        "id": "20vA7PnugSpm"
      }
    },
    {
      "cell_type": "markdown",
      "source": [
        "## SeLU"
      ],
      "metadata": {
        "id": "8RlL4oVg1eZ3"
      }
    },
    {
      "cell_type": "markdown",
      "source": [
        "d. Try replacing Batch Normalization with SELU, and make the necessary adjustements to ensure the network self-normalizes (i.e., standardize the input features, use LeCun normal initialization, make sure the DNN contains only a sequence of dense layers, etc.)."
      ],
      "metadata": {
        "id": "ClWYU4nh1f79"
      }
    },
    {
      "cell_type": "code",
      "source": [
        "keras.backend.clear_session()\n",
        "tf.random.set_seed(42)\n",
        "np.random.seed(42)"
      ],
      "metadata": {
        "id": "BnNlEWAniEC9"
      },
      "execution_count": null,
      "outputs": []
    },
    {
      "cell_type": "code",
      "source": [
        "# avoid writing the same 20 layers over and over again \n",
        "NormalizedDense = partial(keras.layers.Dense,\n",
        "activation=\"selu\",\n",
        "kernel_initializer=\"lecun_normal\")"
      ],
      "metadata": {
        "id": "qIFa8Yx21hSb"
      },
      "execution_count": null,
      "outputs": []
    },
    {
      "cell_type": "code",
      "source": [
        "model = keras.models.Sequential()\n",
        "model.add(keras.layers.Flatten(input_shape=[32, 32, 3])) # input layer\n",
        "\n",
        "for _ in range(20):\n",
        "    model.add(NormalizedDense(100)) # hidden layers\n",
        "\n",
        "model.add(keras.layers.Dense(10, activation=\"softmax\")) # output layer, 10 classes"
      ],
      "metadata": {
        "id": "l3IlG793l4pZ"
      },
      "execution_count": null,
      "outputs": []
    },
    {
      "cell_type": "code",
      "source": [
        "model.summary()"
      ],
      "metadata": {
        "id": "QPaj8bR2l4ap"
      },
      "execution_count": null,
      "outputs": []
    },
    {
      "cell_type": "code",
      "source": [
        "optimizer = keras.optimizers.Nadam(learning_rate=7e-4) # 0.0007, learning rate i daha da büyüt\n",
        "model.compile(loss=\"sparse_categorical_crossentropy\",\n",
        "              optimizer=optimizer,\n",
        "              metrics=[\"accuracy\"])"
      ],
      "metadata": {
        "id": "DqvHwiaOl4Xa"
      },
      "execution_count": null,
      "outputs": []
    },
    {
      "cell_type": "code",
      "source": [
        "early_stopping_cb = keras.callbacks.EarlyStopping(patience=20)\n",
        "model_checkpoint_cb = keras.callbacks.ModelCheckpoint(\"my_cifar10_selu_model.h5\", save_best_only=True)\n",
        "run_index = 1 # increment every time you train the model\n",
        "run_logdir = os.path.join(os.curdir, \"my_cifar10_logs\", \"run_selu_{:03d}\".format(run_index))\n",
        "tensorboard_cb = keras.callbacks.TensorBoard(run_logdir)\n",
        "callbacks = [early_stopping_cb, model_checkpoint_cb, tensorboard_cb]"
      ],
      "metadata": {
        "id": "a_-BAfRfmhey"
      },
      "execution_count": null,
      "outputs": []
    },
    {
      "cell_type": "code",
      "source": [
        "# Scale\n",
        "X_means = X_train.mean(axis=0)\n",
        "X_stds = X_train.std(axis=0)\n",
        "X_train_scaled = (X_train - X_means) / X_stds\n",
        "X_valid_scaled = (X_valid - X_means) / X_stds\n",
        "X_test_scaled = (X_test - X_means) / X_stds"
      ],
      "metadata": {
        "id": "G__E726VmkzK"
      },
      "execution_count": null,
      "outputs": []
    },
    {
      "cell_type": "code",
      "source": [
        "model.fit(X_train_scaled, y_train, epochs=100,\n",
        "          validation_data=(X_valid_scaled, y_valid),\n",
        "          callbacks=callbacks)"
      ],
      "metadata": {
        "id": "qoXMVa5_mn25"
      },
      "execution_count": null,
      "outputs": []
    },
    {
      "cell_type": "code",
      "source": [
        "# with selu\n",
        "history_dict_selu = model.history.history\n",
        "train_loss_values = history_dict_selu['loss']\n",
        "val_loss_values = history_dict_selu['val_loss']\n",
        "train_accuracy = history_dict_selu['accuracy']\n",
        "val_accuracy = history_dict_selu['val_accuracy']"
      ],
      "metadata": {
        "id": "-jWldqJNnFex"
      },
      "execution_count": null,
      "outputs": []
    },
    {
      "cell_type": "code",
      "source": [
        "history_dict_selu"
      ],
      "metadata": {
        "id": "pKM2qyxUq0Ag"
      },
      "execution_count": null,
      "outputs": []
    },
    {
      "cell_type": "code",
      "source": [
        "# learning curve\n",
        "# Plot accuracy per iteration\n",
        "plt.plot(train_accuracy, label='Training Accuracy', color='red')\n",
        "plt.plot(val_accuracy, label='Validation Accuracy', color='blue')\n",
        "plt.title(\"Accuracy With Selu\")\n",
        "plt.legend()"
      ],
      "metadata": {
        "id": "BCzxC6nynFKP"
      },
      "execution_count": null,
      "outputs": []
    },
    {
      "cell_type": "code",
      "source": [
        "# learning curve\n",
        "# Plot accuracy per iteration\n",
        "plt.plot(train_loss_values, label='Training Loss', color='red')\n",
        "plt.plot(val_loss_values, label='Validation Loss', color='blue')\n",
        "plt.title(\"Loss With Selu\")\n",
        "plt.legend()"
      ],
      "metadata": {
        "id": "XwRi7IxdnTpJ"
      },
      "execution_count": null,
      "outputs": []
    },
    {
      "cell_type": "code",
      "source": [
        "%tensorboard --logdir=./my_cifar10_logs --port=6007"
      ],
      "metadata": {
        "id": "p7s_qgAgnBlc"
      },
      "execution_count": null,
      "outputs": []
    },
    {
      "cell_type": "code",
      "source": [
        "model = keras.models.load_model(\"my_cifar10_selu_model.h5\") # Epoch 10 da en iyi model bulundu.\n",
        "# 8 epoch ile de ilk şıkta 37 Epoch da bulunan modeli geçti.\n",
        "model.evaluate(X_valid_scaled, y_valid)"
      ],
      "metadata": {
        "id": "BCamz2n2moZh"
      },
      "execution_count": null,
      "outputs": []
    },
    {
      "cell_type": "markdown",
      "source": [
        "* We get 50.3% accuracy, which is not much better than the original model (46.08%), and not as good as the model using batch normalization (54.22%). However, convergence was almost as fast as with the BN model, plus each epoch took only 22 seconds. So it's by far the fastest model to train so far."
      ],
      "metadata": {
        "id": "Dvb-TZ-umy88"
      }
    },
    {
      "cell_type": "markdown",
      "source": [
        "## Regularize the model "
      ],
      "metadata": {
        "id": "aVH021ga1mfn"
      }
    },
    {
      "cell_type": "markdown",
      "source": [
        "e. Try regularizing the model with alpha dropout. Then, without retraining your model, see if you can achieve better accuracy using MC Dropout."
      ],
      "metadata": {
        "id": "LVXrEl3M1zys"
      }
    },
    {
      "cell_type": "markdown",
      "source": [
        "### With Alpha Dropout"
      ],
      "metadata": {
        "id": "uWa0Gh1wzQV-"
      }
    },
    {
      "cell_type": "code",
      "source": [
        "keras.backend.clear_session()\n",
        "tf.random.set_seed(42)\n",
        "np.random.seed(42)"
      ],
      "metadata": {
        "id": "pqLqfUsW10Fc"
      },
      "execution_count": null,
      "outputs": []
    },
    {
      "cell_type": "code",
      "source": [
        "model = keras.models.Sequential()\n",
        "model.add(keras.layers.Flatten(input_shape=[32, 32, 3])) # input layer\n",
        "\n",
        "for _ in range(20):\n",
        "    model.add(NormalizedDense(100)) # hidden layers\n",
        "\n",
        "model.add(keras.layers.AlphaDropout(rate=0.1))\n",
        "# Alpha Dropout is a Dropout that keeps mean and variance of inputs to their \n",
        "# original values, in order to ensure the self-normalizing property even after \n",
        "# this dropout. Alpha Dropout fits well to Scaled Exponential Linear Units by \n",
        "# randomly setting activations to the negative saturation value.\n",
        "model.add(keras.layers.Dense(10, activation=\"softmax\")) # output layer, 10 classes"
      ],
      "metadata": {
        "id": "SS-c89GUnbnK"
      },
      "execution_count": null,
      "outputs": []
    },
    {
      "cell_type": "code",
      "source": [
        "model.summary()"
      ],
      "metadata": {
        "id": "aF4LM7KFnrac"
      },
      "execution_count": null,
      "outputs": []
    },
    {
      "cell_type": "code",
      "source": [
        "optimizer = keras.optimizers.Nadam(learning_rate=5e-4)\n",
        "model.compile(loss=\"sparse_categorical_crossentropy\",\n",
        "              optimizer=optimizer,\n",
        "              metrics=[\"accuracy\"])"
      ],
      "metadata": {
        "id": "f3OBON6Zns4u"
      },
      "execution_count": null,
      "outputs": []
    },
    {
      "cell_type": "code",
      "source": [
        "early_stopping_cb = keras.callbacks.EarlyStopping(patience=20)\n",
        "model_checkpoint_cb = keras.callbacks.ModelCheckpoint(\"my_cifar10_alpha_dropout_model.h5\", save_best_only=True)\n",
        "run_index = 1 # increment every time you train the model\n",
        "run_logdir = os.path.join(os.curdir, \"my_cifar10_logs\", \"run_alpha_dropout_{:03d}\".format(run_index))\n",
        "tensorboard_cb = keras.callbacks.TensorBoard(run_logdir)\n",
        "callbacks = [early_stopping_cb, model_checkpoint_cb, tensorboard_cb]"
      ],
      "metadata": {
        "id": "GWTfiHwInvKy"
      },
      "execution_count": null,
      "outputs": []
    },
    {
      "cell_type": "code",
      "source": [
        "# Scaling\n",
        "X_means = X_train.mean(axis=0)\n",
        "X_stds = X_train.std(axis=0)\n",
        "X_train_scaled = (X_train - X_means) / X_stds\n",
        "X_valid_scaled = (X_valid - X_means) / X_stds\n",
        "X_test_scaled = (X_test - X_means) / X_stds"
      ],
      "metadata": {
        "id": "WQaoogi1nxVq"
      },
      "execution_count": null,
      "outputs": []
    },
    {
      "cell_type": "code",
      "source": [
        "model.fit(X_train_scaled, y_train, epochs=100,\n",
        "          validation_data=(X_valid_scaled, y_valid),\n",
        "          callbacks=callbacks)"
      ],
      "metadata": {
        "id": "4FPOlOP_n1FX"
      },
      "execution_count": null,
      "outputs": []
    },
    {
      "cell_type": "code",
      "source": [
        "model = keras.models.load_model(\"my_cifar10_alpha_dropout_model.h5\") # Epoch 6' de bulmuş en iyi modelini en az loss olan\n",
        "model.evaluate(X_valid_scaled, y_valid)"
      ],
      "metadata": {
        "id": "9zBSNBPHn3Zl"
      },
      "execution_count": null,
      "outputs": []
    },
    {
      "cell_type": "markdown",
      "source": [
        "* The model reaches 47.50% accuracy on the validation set. That's slightly better than without dropout (46.08%). "
      ],
      "metadata": {
        "id": "NvfhTNS8ycO6"
      }
    },
    {
      "cell_type": "code",
      "source": [
        "%tensorboard --logdir=./my_cifar10_logs --port=6007"
      ],
      "metadata": {
        "id": "0tzdifIW1b5j"
      },
      "execution_count": null,
      "outputs": []
    },
    {
      "cell_type": "markdown",
      "source": [
        "### With MC Dropout"
      ],
      "metadata": {
        "id": "aUOSSH1GzEK0"
      }
    },
    {
      "cell_type": "code",
      "source": [
        "class MCAlphaDropout(keras.layers.AlphaDropout):\n",
        "    def call(self, inputs):\n",
        "              # setting training=True to ensure that\n",
        "              # the Dropout layer is active, and stack the predictions.\n",
        "              # apply dropout at test time\n",
        "              return super().call(inputs, training=True)"
      ],
      "metadata": {
        "id": "kUhH_fJ8s8VG"
      },
      "execution_count": null,
      "outputs": []
    },
    {
      "cell_type": "code",
      "source": [
        "# Now let's create a new model, identical to the one we just trained (with the same weights),\n",
        "# but with MCAlphaDropout dropout layers instead of AlphaDropout layers:\n",
        "\n",
        "mc_model = keras.models.Sequential([\n",
        "    MCAlphaDropout(layer.rate) if isinstance(layer, keras.layers.AlphaDropout) else layer\n",
        "    for layer in model.layers \n",
        "    # trained modelimizde dropout layerlarını mc ile değiştiriyor sadece tekrar eğitmiyor\n",
        "])"
      ],
      "metadata": {
        "id": "ax9pcscOtSET"
      },
      "execution_count": null,
      "outputs": []
    },
    {
      "cell_type": "code",
      "source": [
        "#  The first will run the model many times (10 by default) and \n",
        "#  it will return the mean predicted class probabilities\n",
        "def mc_dropout_predict_probas(mc_model, X, n_samples=10):\n",
        "    Y_probas = [mc_model.predict(X) for sample in range(n_samples)] # shape=(10, 5000, 10)\n",
        "    return np.mean(Y_probas, axis=0) # columnn wise, 5000x10 bir prediciton döndericek \n",
        "    \n",
        "    \"\"\"\n",
        "First Prediciton for first instance :    [0.1 .... 0.5] - toplamı 1 edicek olasılıklar 10 sınıf için\n",
        "First Prediciton for second instance :   [0.056 .... 0.9] - toplamı 1 edicek olasılıklar 10 sınıf için\n",
        "her prediciton shape : 5000x10 (rowlar instance, columnlar class)\n",
        "\n",
        "    \"\"\"\n",
        "\n",
        "\n",
        "# chooses the highest predicted probability to pick the most likely class. \n",
        "# This will use these mean probabilities to predict the \n",
        "# most likely class for each instance:\n",
        "def mc_dropout_predict_classes(mc_model, X, n_samples=10):\n",
        "    Y_probas = mc_dropout_predict_probas(mc_model, X, n_samples)\n",
        "    print(pd.DataFrame(Y_probas))\n",
        "    return np.argmax(Y_probas, axis=1)  # Returns the indices of the maximum values along an axis for row\n",
        "\n",
        "    \"\"\"\n",
        "    5000 instances : \n",
        "\n",
        "    [9] - belongs to the class truck\n",
        "    [1] - belongs to thr class automobile\n",
        "    ...\n",
        "\n",
        "    \"\"\""
      ],
      "metadata": {
        "id": "wM8isL9ntfmm"
      },
      "execution_count": null,
      "outputs": []
    },
    {
      "cell_type": "code",
      "source": [
        "keras.backend.clear_session()\n",
        "tf.random.set_seed(42)\n",
        "np.random.seed(42)\n",
        "\n",
        "y_pred = mc_dropout_predict_classes(mc_model, X_valid_scaled) # inference, validation set"
      ],
      "metadata": {
        "id": "LFZRwsbWtfdu"
      },
      "execution_count": null,
      "outputs": []
    },
    {
      "cell_type": "code",
      "source": [
        "y_pred"
      ],
      "metadata": {
        "id": "2JoDC7gkrXFS"
      },
      "execution_count": null,
      "outputs": []
    },
    {
      "cell_type": "code",
      "source": [
        "y_pred.shape # 5000 intances per inferece 1 prediction"
      ],
      "metadata": {
        "id": "DOKyY8WQrZYu"
      },
      "execution_count": null,
      "outputs": []
    },
    {
      "cell_type": "code",
      "source": [
        "accuracy = np.mean(y_pred == y_valid[:, 0])\n",
        "accuracy"
      ],
      "metadata": {
        "id": "GTa70FXL0kep"
      },
      "execution_count": null,
      "outputs": []
    },
    {
      "cell_type": "markdown",
      "source": [
        "* We get no significant accuracy improvement in this case. We're at 47.7% accuracy on validation set. So the best model we got in this exercise is the Batch Normalization model."
      ],
      "metadata": {
        "id": "cSYVtzemtyQ4"
      }
    },
    {
      "cell_type": "markdown",
      "source": [
        "## Retraining"
      ],
      "metadata": {
        "id": "fNq_MuX215L1"
      }
    },
    {
      "cell_type": "markdown",
      "source": [
        "f. Retrain your model using 1cycle scheduling and see if it improves training\n",
        "speed and model accuracy."
      ],
      "metadata": {
        "id": "hMkRa7Yu158h"
      }
    },
    {
      "cell_type": "markdown",
      "source": [
        "- 1cycle scheduling\n",
        "    \n",
        "    ![image.png](data:image/png;base64,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)\n",
        "    - 2018, en iyi çalışan mekanizmalardan\n",
        "    - küçük büyük sonra tekrar küçük\n",
        "    - eğitimi hızlandırıyor, accuracy yükseliyor, error rate azalıyor"
      ],
      "metadata": {
        "id": "8QSs6WIWhgkb"
      }
    },
    {
      "cell_type": "markdown",
      "source": [
        "* It starts by increasing the initial learning rate η0, growing linearly up to η1\n",
        "halfway through training. \n",
        "\n",
        "* Then it decreases the learning rate linearly down to η0 again during the second half of training, finishing the last few epochs by dropping the rate down by several orders of magnitude (still linearly). \n",
        "\n",
        "* The maximum learning rate η1 is chosen using the same approach we used to find the optimal learning rate, and the initial learning rate η0\n",
        "is chosen to be roughly 10 times lower. \n",
        "\n",
        "* When using a momentum, we start with a high momentum first (e.g., 0.95), then drop it down to a lower momentum during the first half of training(e.g., down to 0.85, linearly), and then bring it back up to the maximum value (e.g., 0.95) during the second half of training, finishing the last few epochs with that maximum value."
      ],
      "metadata": {
        "id": "7aj_SyV61-EB"
      }
    },
    {
      "cell_type": "code",
      "source": [
        "# i.e., by growing the learning rate exponentially, plotting \n",
        "# the loss, and finding the point where the loss shoots up\n",
        "K = keras.backend\n",
        "\n",
        "class ExponentialLearningRate(keras.callbacks.Callback):\n",
        "  \n",
        "    def __init__(self, factor):\n",
        "        self.factor = factor\n",
        "        self.rates = []\n",
        "        self.losses = []\n",
        "\n",
        "    def on_batch_end(self, batch, logs): # on_batch_*, on_train_end, on_epoch_begin\n",
        "        self.rates.append(K.get_value(self.model.optimizer.learning_rate))\n",
        "        self.losses.append(logs[\"loss\"])\n",
        "        K.set_value(self.model.optimizer.learning_rate, self.model.optimizer.learning_rate * self.factor)"
      ],
      "metadata": {
        "id": "PbH9O96wqRwi"
      },
      "execution_count": null,
      "outputs": []
    },
    {
      "cell_type": "code",
      "source": [
        "def find_learning_rate(model, X, y, epochs=1, batch_size=32, min_rate=10**-5, max_rate=10):\n",
        "    init_weights = model.get_weights()\n",
        "    iterations = math.ceil(len(X) / batch_size) * epochs # bir epoch un tamamlanması için gerekli adım sayısını bulup epoch ile çarpıyor\n",
        "    factor = np.exp(np.log(max_rate / min_rate) / iterations)\n",
        "    print(\"Factor: \", factor)\n",
        "\n",
        "    init_lr = K.get_value(model.optimizer.learning_rate)\n",
        "    print(\"Initial Learning Rate: \", init_lr)\n",
        "\n",
        "    K.set_value(model.optimizer.learning_rate, min_rate) # 10^-5 ile başlıyor\n",
        "    exp_lr = ExponentialLearningRate(factor) # her 32 instancedan sonra faktör ile  çarpılıyor\n",
        "    history = model.fit(X, y, epochs=epochs, batch_size=batch_size,\n",
        "                        callbacks=[exp_lr])\n",
        "    \n",
        "    # 1 epoch sonra eğitim bitince, optimizer ın learning rate e eşitliyor\n",
        "    K.set_value(model.optimizer.learning_rate, init_lr) # modeli eski haline geri getiriyo\n",
        "    model.set_weights(init_weights)\n",
        "    return exp_lr.rates, exp_lr.losses\n",
        "# optimal learning rate i bulmak için"
      ],
      "metadata": {
        "id": "AqIXOQ4SqN-E"
      },
      "execution_count": null,
      "outputs": []
    },
    {
      "cell_type": "code",
      "source": [
        "def plot_lr_vs_loss(rates, losses):\n",
        "    plt.plot(rates, losses)\n",
        "    plt.gca().set_xscale('log')\n",
        "    plt.hlines(min(losses), min(rates), max(rates))\n",
        "    plt.axis([min(rates), max(rates), min(losses), (losses[0] + min(losses)) / 1.4])\n",
        "    plt.xlabel(\"Learning rate\")\n",
        "    plt.ylabel(\"Loss\")"
      ],
      "metadata": {
        "id": "Zd1hfhr_rlQl"
      },
      "execution_count": null,
      "outputs": []
    },
    {
      "cell_type": "code",
      "source": [
        "keras.backend.clear_session()\n",
        "tf.random.set_seed(42)\n",
        "np.random.seed(42)"
      ],
      "metadata": {
        "id": "2NfVOeRM16Nd"
      },
      "execution_count": null,
      "outputs": []
    },
    {
      "cell_type": "code",
      "source": [
        "model = keras.models.Sequential()\n",
        "model.add(keras.layers.Flatten(input_shape=[32, 32, 3])) # input layer\n",
        "\n",
        "for _ in range(20):\n",
        "    model.add(NormalizedDense(100)) # hidden layers\n",
        "\n",
        "model.add(keras.layers.AlphaDropout(rate=0.1))\n",
        "model.add(keras.layers.Dense(10, activation=\"softmax\")) # output layer, 10 classes"
      ],
      "metadata": {
        "id": "czy5rjp6p2SW"
      },
      "execution_count": null,
      "outputs": []
    },
    {
      "cell_type": "code",
      "source": [
        "optimizer = keras.optimizers.SGD(learning_rate=1e-3)\n",
        "model.compile(loss=\"sparse_categorical_crossentropy\",\n",
        "              optimizer=optimizer,\n",
        "              metrics=[\"accuracy\"])"
      ],
      "metadata": {
        "id": "8GhpDkN3p2PO"
      },
      "execution_count": null,
      "outputs": []
    },
    {
      "cell_type": "code",
      "source": [
        "batch_size = 128\n",
        "rates, losses = find_learning_rate(model, X_train_scaled, y_train, epochs=1, batch_size=batch_size)\n",
        "plot_lr_vs_loss(rates, losses) # 0.5 - best candidate for n1 aka max_rate"
      ],
      "metadata": {
        "id": "-Fw7QW69p2NT"
      },
      "execution_count": null,
      "outputs": []
    },
    {
      "cell_type": "code",
      "source": [
        "rates"
      ],
      "metadata": {
        "id": "JAN0oWuR3phB"
      },
      "execution_count": null,
      "outputs": []
    },
    {
      "cell_type": "code",
      "source": [
        "keras.backend.clear_session()\n",
        "tf.random.set_seed(42)\n",
        "np.random.seed(42)"
      ],
      "metadata": {
        "id": "huFSSRrxp2KB"
      },
      "execution_count": null,
      "outputs": []
    },
    {
      "cell_type": "code",
      "source": [
        "class OneCycleScheduler(keras.callbacks.Callback):\n",
        "    def __init__(self, iterations, max_rate, start_rate=None,\n",
        "                 last_iterations=None, last_rate=None):\n",
        "        self.iterations = iterations\n",
        "        self.max_rate = max_rate\n",
        "        self.start_rate = start_rate or max_rate / 10 # chosen to be roughly 10 times lower. \n",
        "        self.last_iterations = last_iterations or iterations // 10 + 1 # floor division, 500, decay phase\n",
        "        self.half_iteration = (iterations - self.last_iterations) // 2 # without decay phase, 2500\n",
        "        self.last_rate = last_rate or self.start_rate / 1000 # at the end\n",
        "        self.iteration = 0\n",
        "        self.rates = []\n",
        "\n",
        "    def _interpolate(self, iter1, iter2, rate1, rate2):\n",
        "        return ((rate2 - rate1) * (self.iteration - iter1) / (iter2 - iter1) + rate1)\n",
        "        \n",
        "    def on_batch_begin(self, batch, logs):\n",
        "        if self.iteration < self.half_iteration: # 0-2500, max_rate e çık \n",
        "            rate = self._interpolate(0, self.half_iteration, self.start_rate, self.max_rate)\n",
        "        elif self.iteration < 2 * self.half_iteration: # 2500-5000\n",
        "            rate = self._interpolate(self.half_iteration, 2 * self.half_iteration,\n",
        "                                     self.max_rate, self.start_rate)\n",
        "        else: #decay phase, 5000-5500, last_rate e düş\n",
        "            rate = self._interpolate(2 * self.half_iteration, self.iterations,\n",
        "                                     self.start_rate, self.last_rate)\n",
        "            \n",
        "        self.rates.append(rate)\n",
        "        self.iteration += 1\n",
        "        K.set_value(self.model.optimizer.learning_rate, rate)"
      ],
      "metadata": {
        "id": "PEFE1sW8skG5"
      },
      "execution_count": null,
      "outputs": []
    },
    {
      "cell_type": "code",
      "source": [
        "model = keras.models.Sequential()\n",
        "model.add(keras.layers.Flatten(input_shape=[32, 32, 3])) # input layer\n",
        "\n",
        "for _ in range(20):\n",
        "    model.add(NormalizedDense(100)) # hidden layers\n",
        "\n",
        "model.add(keras.layers.AlphaDropout(rate=0.1))\n",
        "model.add(keras.layers.Dense(10, activation=\"softmax\")) # output layer, 10 classes"
      ],
      "metadata": {
        "id": "dd71t0Tzp2G-"
      },
      "execution_count": null,
      "outputs": []
    },
    {
      "cell_type": "code",
      "source": [
        "optimizer = keras.optimizers.SGD(learning_rate=1e-2)\n",
        "model.compile(loss=\"sparse_categorical_crossentropy\",\n",
        "              optimizer=optimizer,\n",
        "              metrics=[\"accuracy\"])"
      ],
      "metadata": {
        "id": "BlbocOhFsFhr"
      },
      "execution_count": null,
      "outputs": []
    },
    {
      "cell_type": "code",
      "source": [
        "model_checkpoint_cb = keras.callbacks.ModelCheckpoint(\"my_cifar10_1cycle_model.h5\", save_best_only=True)"
      ],
      "metadata": {
        "id": "hvBSIy5qPJOn"
      },
      "execution_count": null,
      "outputs": []
    },
    {
      "cell_type": "code",
      "source": [
        "n_epochs = 15\n",
        "onecycle = OneCycleScheduler(math.ceil(len(X_train_scaled) / batch_size) * n_epochs, max_rate=0.05) # iteration and max_rate\n",
        "history = model.fit(X_train_scaled, y_train, epochs=n_epochs, batch_size=batch_size,\n",
        "                    validation_data=(X_valid_scaled, y_valid),\n",
        "                    callbacks=[onecycle, model_checkpoint_cb])"
      ],
      "metadata": {
        "id": "xRARU3ZmsIhw"
      },
      "execution_count": null,
      "outputs": []
    },
    {
      "cell_type": "code",
      "source": [
        "onecycle.rates"
      ],
      "metadata": {
        "id": "gSuOgvshGRpK"
      },
      "execution_count": null,
      "outputs": []
    },
    {
      "cell_type": "markdown",
      "source": [
        "![Ekran Resmi 2023-04-26 23.20.52.png](data:image/png;base64,iVBORw0KGgoAAAANSUhEUgAAA7gAAAMbCAYAAABnsTkbAAAYTmlDQ1BJQ0MgUHJvZmlsZQAAWIWVeQk4lV3X/77PfI75HPM8z2Se53meZxKO6ZjiGEOJJGOiQkglGSuVQiUiDUoZekiSSIZKoaJC9d2Gep73ef/X/7u+fV373r+z9tprrb3WHu51bgC4qnwjI8MQjACER8RQHUwN+N3cPfixswAFWAEDEADsvuToSH07OysAl9/tf5aVYQBttE9lNmT9d///tzD5B0STAYDsYOznH00Oh/FVAFDl5EhqDACYDbpQfEzkBoYrYKbCBsI4cwMHbeHyDey3hS9t8jg5GMK4GwAcra8vNQgA+n6Yzh9HDoJl0C/CfcQIf0oEACwoGOuEh+/2B4DLCOYRh3kiYbwxDzW/f8gJ+g+Zfn9k+voG/cFbc9ksOCNKdGSY757/ozv+9xIeFvtbhyhcaYOpZg4bc4b9NhK623ID08J4PsLPxhbGRBh/o/hv8sMYQQiONXPe4kdwk6MNYZ/BkQYIOX9fI0sYc8PYJCLMxmqb7hdIMTGHMbxCEAmUGHMnGLPDODMg2thxm+c0dbfDti5EcyDVUH+b/sCXuql3Q9d4bKiz/rb8T8EB5tvykfSJwU6uMCbAWDiO4mIDY3oYy0aHOlpu82glBhva/Oahxjps2C8MY4eACFODLfnIuECqicM2f3Z49O/5Ik8HU8xttvGVmGAnsy3/ILvJvpv2w3NB9gdE6Dv/lhMQ7Wb1ey7+AUbGW3NHzgVEODtuy/kWGWPgsDUWRYgMs9vmRwkGhJlu0AVhrBQd57g9FuUSAy/ILfmowMgYO6ctO1GJIb4Wdlv2oI4AK2AIjAA/iIWrH9gNQgDlyXzLPPxrq8cE+AIqCAIBQGab8nuE62ZPBPx0BIngA4wCQPSfcQabvQEgDqb/+EPdesqAwM3euM0RoWAGxuHAEoTBv2M3R0X80eYC3sAUyn9p94UrGbY3DK4b/f9v+m/q3xR9mGK1TYn9rZGf4TcnxhhjhDHDmGAkUJwoHZQmygp+6sFVAaWGUv89j7/50TPoAfRr9BB6Av18FyWN+i8rrcEELN9k2xd+//QFShSWqYwyQGnD0mHJKFYUJ5BBKcF69FG6sGZlmGq4bfeGV/j/Jfs/ZvCPaGzz4eXwCDwbXg8v/u+R9JL0yn+kbPj6n/7ZstXvj78N//T8W7/hP7zvD7eW/+ZEZiKbkPeRncgeZBuyBfAjO5CtyF7krQ38Z3W92Vxdv7U5bNoTCsuh/Je+35Hd8GS0XIPcW7n1rb6YgISNMxoY7o7cQ6UEBcfw68M3QgC/eQRZVppfQU5BEYCN+2Xr+PrssHlvQKx9f9PIBwFQhc9n/OrftPDPAFyC9z6/9d80EW94+2EAqJ0hx1LjtmiojQcaPiUY4J3GAXiBEBCH56MAVIAm0APGwALYAifgDrxh64PhdU4F8SAZpIIMkAOOgOOgFJwCZ0EtuACugBbQBjrBPfAI9IMh8AJePdPgPVgEK2ANgiAsRAeRIA6IDxKBpCAFSA3SgYwhK8gBcod8oCAoAoqFkqEDUA5UCJVCZ6A66DJ0HeqEeqAB6Dk0Cb2FPkGrCCSCFsGM4EGIInYg1BD6CEuEE2InIggRhUhEpCMOI0oQlYjziGZEJ+IRYggxgXiPWEYCJA2SFSmAlEGqIQ2RtkgPZCCSityHzEYWISuRF5E34Dg/RU4g55HfURgUCcWPkoFXsBnKGUVGRaH2oXJRpahaVDOqG/UUNYlaRP1E06G50VJoDbQ52g0dhI5HZ6CL0NXoa+i78F6aRq9gMBhWjBhGFd6L7pgQTBImF3MS04i5jRnATGGWsVgsB1YKq421xfpiY7AZ2BPY89gO7CB2GvsNR4PjwyngTHAeuAhcGq4IV49rxw3iZnFreEa8CF4Db4v3x+/B5+Or8Dfwffhp/BqBiSBG0CY4EUIIqYQSwkXCXcIY4TMNDY0gjTqNPQ2FZj9NCc0lmgc0kzTfaYm0krSGtF60sbSHaWtob9M+p/1MR0cnSqdH50EXQ3eYro7uDt043Td6Er0svTm9P30KfRl9M/0g/UcGPIMIgz6DN0MiQxFDE0MfwzwjnlGU0ZDRl3EfYxnjdcZnjMtMJCZ5JlumcKZcpnqmHqY5IpYoSjQm+hPTiWeJd4hTJCRJiGRIIpMOkKpId0nTzBhmMWZz5hDmHOYLzE+YF1mILEosLiwJLGUst1gmWJGsoqzmrGGs+axXWIdZV9l42PTZAtiy2C6yDbJ9Zedi12MPYM9mb2QfYl/l4Ocw5gjlKOBo4XjJieKU5LTnjOes4LzLOc/FzKXJRebK5rrCNcqN4JbkduBO4j7L3cu9zMPLY8oTyXOC5w7PPC8rrx5vCO8x3nbet3wkPh0+Ct8xvg6+d/ws/Pr8Yfwl/N38iwLcAmYCsQJnBJ4IrAmKCToLpgk2Cr4UIgipCQUKHRPqEloU5hO2Fk4WbhAeFcGLqIkEixSL3Bf5Kiom6ip6SLRFdE6MXcxcLFGsQWxMnE5cVzxKvFL8LwmMhJpEqMRJiX5JhKSyZLBkmWSfFEJKRYoidVJqQBotrS4dIV0p/UyGVkZfJk6mQWZSllXWSjZNtkX24w7hHR47Cnbc3/FTTlkuTK5K7oU8Ud5CPk3+hvwnBUkFskKZwl+KdIomiimKrYpLSlJKAUoVSiPKJGVr5UPKXco/VFRVqCoXVd6qCqv6qJarPlNjVrNTy1V7oI5WN1BPUW9T/66hohGjcUVjQVNGM1SzXnNOS0wrQKtKa0pbUNtX+4z2hA6/jo/OaZ0JXQFdX91K3dd6Qnr+etV6s/oS+iH65/U/GsgZUA2uGXw11DDca3jbCGlkapRt9MSYaOxsXGo8biJoEmTSYLJoqmyaZHrbDG1maVZg9sycx5xsXme+aKFqsdei25LW0tGy1PK1laQV1eqGNcLawvqo9ZiNiE2ETYstsDW3PWr70k7MLsrupj3G3s6+zH7GQd4h2eG+I8lxl2O944qTgVO+0wtncedY5y4XBhcvlzqXr65GroWuE2473Pa6PXLndKe4t3pgPVw8qj2WPY09j3tOeyl7ZXgN7xTbmbCzx5vTO8z71i6GXb67mnzQPq4+9T7rvra+lb7LfuZ+5X6LZENyMfm9v57/Mf+3AdoBhQGzgdqBhYFzQdpBR4PeBusGFwXPUwwppZSlELOQUyFfQ21Da0J/hbmGNYbjwn3Cr0cQI0Ijunfz7k7YPRApFZkRORGlEXU8apFqSa2OhqJ3RrfGMMMv8r2x4rEHYyfjdOLK4r7Fu8Q3JTAlRCT07pHck7VnNtEk8VwSKomc1JUskJyaPLlXf++ZfdA+v31dKUIp6SnT+03316YSUkNTH6fJpRWmfTngeuBGOk/6/vSpg6YHGzLoM6gZzw5pHjqVicqkZD7JUsw6kfUz2z/7YY5cTlHOei4592GefF5J3q/DgYef5KvkVxzBHIk4MlygW1BbyFSYWDh11Ppo8zH+Y9nHvhzfdbynSKnoVDGhOLZ4osSqpPWE8IkjJ9ZLg0uHygzKGsu5y7PKv570PzlYoVdx8RTPqZxTq6cpp0fOmJ5prhStLDqLORt3dqbKper+ObVzddWc1TnVP2oiaiZqHWq761Tr6uq56/MbEA2xDW/Pe53vv2B0ofWizMUzjayNOZfApdhL7y77XB6+Ynmlq0mt6eJVkavl10jXspuh5j3Niy3BLROt7q0D1y2ud93QvHHtpuzNmjaBtrJbLLfy2wnt6e2/OhI7lm9H3p7vDOqc6trV9eKO252/uu27n9y1vPvgnsm9O/f173c80H7Q1qPRc/2h2sOWRyqPmnuVe689Vn587YnKk+Y+1b7WfvX+GwNaA+2DuoOdT42e3vvL/K9HQzZDA8POwyPPvJ5NjPiPzD0Pe740Gje69mL/GHos+yXjy6Jx7vHKVxKvGidUJm5NGk32vnZ8/WKKPPX+TfSb9en0GbqZolm+2bo5hbm2tyZv+995vpt+H/l+bT7jA9OH8o/iH68u6C30LrotTi9Rl359yv3M8bnmi9KXrmW75fGV8JW1r9nfOL7Vflf7fn/VdXV2LX4du17yQ+LHjZ+WP8d+hf/6FelL9d18FUDCFREYCMCnGgDo3AEgwfkZwXMr/9suSPjlAwG3LpAs9B6RDt+ofagMtAkGiXmELcFF4K0IEjRYmnnaQboW+hqGasZGplZiF+kRcz/LCOsrtjn29xxLnKtcP3gQvFg+Aj+dAFGQKMQqzC7CJsouxi3OI8EvyS8lKC0sIyortkNaTk5eUUFFUUNJV9lYxVzVXM1E3UTDRNNQS19bS0dDV0lPVl/UgMeQ2Yhg9Mv4s8mM6XOzXvM2i1rLo1Yp1iE2brbGdsr2Yg5cjoxOOGekC+SKcEO54z0YPTm8hHfKeEvsEvbh8+X0YyGT/IkBpEDWIK5gQYp0iGqoSZhLOCUieXdhZFXUaWpJdEFMbmxWXHb84YSSPbWJ7Ukv9oJ90im79p9IfXFAMH33wc5DmEyhLIVsgxzH3MC8xMMF+bVHbheMFi4fYzouU2RRHFhy4ERF6fWywfI3J5dPYU9znJGs1DprW+V3Lqb6YE1RbW3d9fqHDaPn31343oi7xHZZ/Ipuk/vVqGtZzSdbGls7rvfc6LvZ3/boVlf75Y6y2ymdu7o07hDvzHRfv1t/r/x+zoOEHr+H5o9ke+l75x/ffVLeF9lvMEAamBq88jT1L/shkWHU8NtnvSONzwtHY164jKm95Hy5Pj7+qnPi3GTW691Tzm+0poXhVbYy+9fc1bfF71Leh82TP5A/Ri7kLF5bWvis9+XMCulryXep1SfrKT81fv36R/wVkHOoQrQlhgXzEtuEy8UHEYxoJGkZaNfpZulHGEYYXzG9IX4gfWZeYfnBusb2g/0nxw/OFa7P3As8M7xjfIP8dwWuC1YL5QiHiViJSorhxd6J90jUSWZLUaQtZWRk6WQXdgzIXZUvVkhWJCvZKxuoKKgKqBHVfql/1BjT7NFq1q7UydWN1/PRtzBQMOQ0Qhi9NX5icsm0wCza3MlCxZLNcs3qlfUdm3rbArsk+0AHR0d9J3lnAReSK9Z11e29+5hHr+ctr8adp72P7jrkk+xL9aOQff09ApwC7YNsgi0pliFmoZphsuECESy7aSIRketR36jfo3/EouOI8UIJGnucEqOTipLb9s6k0OznS5VJ0z5gk+53MD4j71B1ZkfWaPbXXOY8hcP2+RFH8goaCh8cfXPsVxFnsXKJ3YnQ0oNlp8pbT/ZXzJ36eYa5UuKsdpXdOXJ1bM2h2hL4nOttWLhAvKjY6Hgp6nL+lYam7qtj1z61YFo5rkve0Lhp0eZ2K7A9piPldmrnga6DdzK6D93NvJd9P/dBXk/ew7xHeb25j3OeZPUd6k8fSB3c+zTur6ih3cORz2JGkp4fHD36onKs6eW98eevPkyC18QpwTfy0zoz5rN+c6fffnivPJ/0of3jz0XNpbhPFz+/WWZfsfya8q3p++wa97rDj+yf3dvxN0boI3cgP6I60Ycwjlhx7BLuOj6D4EDDTTNOe5YunF6dAcHQyZjOZEFkIPaTjjDbsjCwPGbNZjNhh9hbOSI4hThHuHK4dbg/8JTxmvF+4avgN+P/KHBMUENwTGivML9wu4i3yLpoiZiSWK94gPi6xFFJKckOKUepGelUGRGZEdncHQY7vsjVyHsq0Cl0KEYqCSgNKqepKKhMquaraat9UC/TMNdY1jyrZa/1U7tBx10Xq3tNj6xP1L9tEGnIb9hvlGasZDxrUmpqC7933DSPspCyeGNZYeVhzWr91KbQ1sGOZDdsf8LB21HY8Z3TZedEF2NXBtdRt2r3aA8DT1rPYa9TO4O9FbzXdt31KfD18pPwWyF3+x8N8A1UDEIFDQfXU1JCnEKlw9Bhr8JvRJTsjo90jdKg8kajoudjhmI74xrjKxLy96QmxieFJvvv3bnPLcVpv0OqfZr9AYd0p4PuGTsPBWSGZkVnp+Rk5hbmVRyuy28+cqdgoHD86MfjqCKJYq+SIyfulq6Vy570qzh+6uHp9UqFswFVpef6alC1WnXx9Y0N7y9IXgxprL+0cEWlaf/V3maOlrDW7ht8N1PaXrdbdbR1yned75a6e/m+wYPRhwm9fI/7+/IGnJ6KDoHh9yNvRt+9BK9EJndN1c+g5xLfgw9Vi+TPuitq353XSzbiv/U/4EbBqABw/BAAG//zONQBkHseALE9ALDBuacdHQBO6gAhYAqg5S4AWWj/uT8gOPEkABLgAZJADZjB+WUYnFMWg0bQA6bAD4gdUoYcoWjoONQKvYRzPmmECyIV0YgYRzIgDZDxyAvIGThL80KVoV7AmZgP+hz6A0YFk4p5guXBhmM7cCQcBdeJ58TH4gcJioRiwjoNmeYxrTptLR07XS49gj6J/itDLMMKYyITxJRNZCVWkdRI/cwhLFiWc6zGrDNsmexS7P0cMZwcnO1c/tw03Fd4PHiRvBf4POGMYEAgX9BWiEnoqXCxiKeogOiM2HnxaAkNSUiyR6pA2hNenYuygzva5KrlCxX2KVKUHJU1VPhUIdUJtTb1Yxohmtpa9Fpj2nU6Mbq6eji9Af0mg6uGLUY3jNtN7pj2mPWZD1uMW85aLVmv2eLsWO1FHdQcrZzIzskuJa7tbnMeJE99r8idld5DPgRffb8kcqv/10C1oKTgzhBCqHNYVfjybrPIiqiFaK2YnNjxeKWEI3uWklyT7+3TTmlPtUybSs/K0M4EWQM5l/LK8wsLzI4ij90tKigJKDUsl64QPC1SqVRlUx1VW1b/6AJoVL1s0+R+Lbgl+frxm1duDXasdPF2m92LeXD64ZPeH30yAzufHh66PUIaJY9dGJ+f5J5Sm9ablX9L/+7Z/OGPOxY6l8w+dX9RWC5dWf1m//3c6tK6xo+Un7c3z4+t+BPh+EsAVWACXEEI2AeOgQbQDcbBN4gEyUE2UAR0BGqCniMAQgLO8tMQlxGv4TzeCpmO7ECuobRRB1C9aHZ0ILoZg8d4Y5qxjNgw7COcNC4ft4z3wt8jyBKKaZA0UTSTtM60D+kM6drptehvwVnsA0Z7xnE4T/1FPEaSJT1mjoAzz1ZWXzYatlb2QA5Wjvuce7ikuSa5i3lseXG8XXz7+Q0EMAKPBYuEfIVlhddFekUrxKLEjSW4JD5JPpQ6K50i4ymruUNCjl0eL7+usKA4pfRM+aHKTdXzaqXqhzSomp5ahtqSOow6y7qjeu36jQaXDZuMWoxvmnSYdps9NO+3eGb5ymrWeslmzQ5nz+og5qjuZO3s77LXtdTtuvuoxw8vwZ0W3jG7Tvv0+UFkFf+IgLrAmWBRSkjI5dDVcNOIot1zUVrUvdEdsag4q/jihJlE9aTDybP7jFNqU+nT9hyYhc+T/kyLrPs5Zrm9hx3yJwpSjvIeu10UWEJ/orXM/ySp4t7pvZUqZz+du1wTW6fVgDk/dPHcpeQrXldVmulbpq5fvXnglk0H++3Jrrpu6j2tB9ie4Ud1j/f3eQ3oPBUZYhp+MOL8fPpF4kvm8SsTTpPrU7XT7rMMcz3vMuctPzIuPFs6/TlkWeUr4lvfatl60E/F7fgjAQbQbp4A4kAFXgFuIBwcBKfATTAK739ByAKKhaqgYQQNwgje+V1IHNIeeQr5CWWBqkHj0VT0K4wTvNttsEM4Mu47voigTpimOUGrRztGl0TPT9/DEM8oyTjFdIroR5IgfWW+z1LBmsTmya7HIcXJzkXDjeBe51nlXecHAlj4DZRHWFZEW9RBLEh8v8QJyWtw3r0oy7hDQc5Vfp9ClWKf0pqKhKq7WqH6oCazlrt2lc6CnrZ+nsErI0XjHJNJMy3zIotPVnbWF2xp7cLsHzpKOuU4v3O1cKv3wHtSvO57i+466DPtZ0iuDkAG+gfdoYiGZITOhVtFNEayRCVQJ2KMYi/Gsyfs2/M+yQ3epyopNakcaYfTUQeTMz5lemRdzv6V65RXc3j1iGPBxaOEY5Tj94qlSnJPLJS5lt+qED1VAJ/9/md7z2lW19Qy1SXWz5x3vNDWKHop//JKk/fVe80yLUdaF2/Y37x4i9Ae2NHeSewKuNN8F3XP7n7Zg6mHEo8ovdWPJ/s4++0HDg5effp6iDAs98xhhPr88GjdiztjQy9nxpderU9Cr7FTmDeYaTC9OvNhdnzu8dvWd5XvM+cjPlh/lFrALrxabF3K+uTxWeLzpy9ty2krRl8xX7u/pXzX/L60em7NY52w3vyD/JPu55Vf7hvx3/p2tHl/MAJwmmsDDVyaUfv3d5ut70r/yE3+3YLN22WjbNwumy1804D/AT/J0Bz4XfY3AAAAVmVYSWZNTQAqAAAACAABh2kABAAAAAEAAAAaAAAAAAADkoYABwAAABIAAABEoAIABAAAAAEAAAO4oAMABAAAAAEAAAMbAAAAAEFTQ0lJAAAAU2NyZWVuc2hvdDpb+SQAAAHWaVRYdFhNTDpjb20uYWRvYmUueG1wAAAAAAA8eDp4bXBtZXRhIHhtbG5zOng9ImFkb2JlOm5zOm1ldGEvIiB4OnhtcHRrPSJYTVAgQ29yZSA2LjAuMCI+CiAgIDxyZGY6UkRGIHhtbG5zOnJkZj0iaHR0cDovL3d3dy53My5vcmcvMTk5OS8wMi8yMi1yZGYtc3ludGF4LW5zIyI+CiAgICAgIDxyZGY6RGVzY3JpcHRpb24gcmRmOmFib3V0PSIiCiAgICAgICAgICAgIHhtbG5zOmV4aWY9Imh0dHA6Ly9ucy5hZG9iZS5jb20vZXhpZi8xLjAvIj4KICAgICAgICAgPGV4aWY6UGl4ZWxZRGltZW5zaW9uPjc5NTwvZXhpZjpQaXhlbFlEaW1lbnNpb24+CiAgICAgICAgIDxleGlmOlBpeGVsWERpbWVuc2lvbj45NTI8L2V4aWY6UGl4ZWxYRGltZW5zaW9uPgogICAgICAgICA8ZXhpZjpVc2VyQ29tbWVudD5TY3JlZW5zaG90PC9leGlmOlVzZXJDb21tZW50PgogICAgICA8L3JkZjpEZXNjcmlwdGlvbj4KICAgPC9yZGY6UkRGPgo8L3g6eG1wbWV0YT4KzuCOTAAAQABJREFUeAHsnQe8j9Ufx79GpNKSVf/ISETZZG+hyCY7qWQkslcJoUgKCQkhys5O2XtvEaVFShlRKu7/fM695/H8nvv73fs89/7u+t3P18v9PeM8Z7zP/J6ZIkyJUEiABEiABEiABEiABEiABEiABEggiRNImcT9T++TAAmQAAmQAAmQAAmQAAmQAAmQgCZABZcJgQRIgARIgARIgARIgARIgARIICQIUMENiWhkIEiABEiABEiABEiABEiABEiABKjgMg2QAAmQAAmQAAmQAAmQAAmQAAmEBAEquCERjQwECZAACZAACZAACZAACZAACZAAFVymARIgARIgARIgARIgARIgARIggZAgQAU3JKKRgSABEiABEiABEiABEiABEiABEqCCyzRAAiRAAiRAAiRAAiRAAiRAAiQQEgSo4IZENDIQJEACJEACJEACJEACJEACJEACVHCZBkiABEiABEiABEiABEiABEiABEKCABXckIhGBoIESIAESIAESIAESIAESIAESIAKLtMACZAACZAACZAACZAACZAACZBASBCgghsS0chAkAAJkAAJkAAJkAAJkAAJkAAJUMFlGiABEiABEiABEiABEiABEiABEggJAlRwQyIaGQgSIAESIAESIAESIAESIAESIAEquEwDJEACJEACJEACJEACJEACJEACIUGACm5IRCMDQQIkQAIkQAIkQAIkQAIkQAIkQAWXaYAESIAESIAESIAESIAESIAESCAkCFDBDYloZCBIgARIgARIgARIgARIgARIgASo4DINkAAJkAAJkAAJkAAJkAAJkAAJhAQBKrghEY0MBAmQAAmQAAmQAAmQAAmQAAmQABVcpgESIAESIAESIAESIAESIAESIIGQIEAFNySikYEgARIgARIgARIgARIgARIgARKggss0QAIkQAIkQAIkQAIkQAIkQAIkEBIEqOCGRDQyECRAAiRAAiRAAiRAAiRAAiRAAlRwmQZIgARIgARIgARIgARIgARIgARCggAV3JCIRgaCBEiABEiABEiABEiABEiABEiACi7TAAmQAAmQAAmQAAmQAAmQAAmQQEgQoIIbD9F44eJFOXb8hBw/cVIuXroUDy4mHif++OO8DHx9uNSq21Q+mv5J4vEYfUICJEACJEACJEACJEACJBByBFKEKQm5UCWCAEGZnfPZQpkzd4FcvnzFx0e33nqLtHy6sTRpVFeyZ7vf512o3bw7fpK8894EK1jLFs6WvA89aN3zggRIgARIgARIgARIgARIgASCRYAjuMEiGWEP+gumTJ8ljz/ZSKZMmxlJuYUxKLwTJk+VSo/Xlc/mLQqyDxKXdb///oePhzCiSyEBEiABEiABEiABEiABEiCBuCBABTfIVEeNGS9Dho1ybWuv/q/LpCkfuzaf1Ay2at5EHsyVU3u7Vo2qUrJE0aQWBPqXBEiABEiABEiABEiABEggiRDgFOUgRtSOXXukSYt2PjZiOnLN6lWkYvmycu3af7Jm/SZZuHiZjxncfD5/luTP91Ck56HwAKPaV678JWBBIQESIAESIAESIAESIAESIIG4IkAFN4hkGzRtI3v2HfCxcdWSuZI7Vw6fZ/sPHJK6jVv5PKtSqbxMGj9asCHVyi++st6luSmN1K1Ty7o3FwsWL5V///3X3Erd2rUkTZo0+v7atWuyVinSu/fulzNnzsott6STe7NmkapVKlijqdaH6mLJ8lVKAQ1fJwz36jxZQ/YpP8Iff5y/IB1feFa2bt9hfeLFT4ePHlMbbH1jfVu5Ynm5J8Pd1j0u3PoX5uYt/Nz69o477pDHq1ay7i9d+lOWr1pt3WN9c8niN0aMfz59RjZu3mq9f7RAfq4HtmjwggRIgARIgARIgARIgASSPgEquEGKwx9+/EkqVKvjY9uEsaOkepWKPs/Mzdz5i6Vnv0HmVv/u2vKVpE1zkxQoWs7n+ZZ1KyRzpozWs59+Pi3lqjxp3WdQCuO29SslZcqUcuaXs9K0ZTv5/oefrPf2i9YtmsrAvt0lRYoU1uPiZavJuXO/W/ev9ushg4a+Zd0vX/yp1KzT2LrHhVs/DXtrjHw4dYb17aczPpRiRQtZ9178i5HgEuWq+/j1+MEdkipV+Ez7Nes2yrPtu1h2F3g4ryyeN9O6nz5zjrw25E3rfuzoEYJp0xQSIAESIAESIAESIAESIIHQIMA1uEGKx81bb4xwwsocD2QPqNzifcP6dSJN2d22facabb0l0ojtFofdW7bthBWWNKpXRyu35y9clNbPdgyo3OKDaTNmy8h3xlnf+rtwvk93880x9pM/+80zr/6FUl6xXGnzuf499f0P1j2miNvl4OGjglFdI/v2HzKX+rd4scI+97whARIgARIgARIgARIgARJI2gSo4AYp/jASaZdHCuSz3/q9Llq4oM/zs7/+pu+frFnd5/mGTTem1eKFfZot7s0oZIeXuuuzdvEMUrZ0SXnzjdcEI7LZ7r8v/KH6+/7Ej+TzpSuse+eFOdao1GPFpWiRgpI2bRqJqZ+cdtvvY+LfMqVK2q2QQ0eOWvfOTga82H/whlK7a89eyyw2vsp4TwbrnhckQAIkQAIkQAIkQAIkQAJJn0DqpB+ExBGCs2d/9fFIvrx5fO793Tyc9yFZv3GL9cooyVDisCGTUTRXfblGrl+/rkdpsQ71yzXrrW+guOZXU3Fx/M7W7bus51BMJ7//jrUut2L5MvJk/WaWnWvXb5baT9SwzNsvoNjiW4zcGrlTrXf16ifzrb/fmPrXuQvzgYOHpXatx/UaYqxtdsrOXXsFPLG22T5tu3JF32ngzu94TwIkQAIkQAIkQAIkQAIkkPQIcAQ3SHF27dp1H5tSpUzlc+/vJmXE2lHrXVj4FUZM69iUTyi6R74+rl8eUZs2GcUXD+o99aReT4vpuHbJlSOHHDx0RHbv2af/Y42t/bstajp0IHm1bw8f5RbmYuKnQPbjeUz9mzVLZj3929htNvXad+CweSSFCz5iXZtR3SNHw/mZF4+VLGYu+UsCJEACJEACJEACJEACJBAiBDiCG6SIzJI5o49NUESjE6eZezLemDL7RM1q8smn8y0rNm/Zro8R2rR1u/UMFziCCOIcvfx03kLB/0By5swv8ptSep07GsN8rpwP+P3Mq5/8WhLxMDb+rVShrHz73Slt067d+/QuzLt235h+/PyzraR7n1e1Qo91uX//fVUr+3b/FCtyY6Mr+3NekwAJkAAJkAAJkAAJkAAJJF0CHMENUtxlzHiPj00YPY1O9qvptXbJkimTdYvjbeznxq7dsEm/W6eO/zGCdaR5Hsylb8+c9V0DbMxE9fv773/4fZ0qlf/RZ69+8mt5xMPY+Le0mkJtl29OfCv2EekSxYqoc4fLWEYQF/sOHLTuixct7MPWesELEiABEiABEiABEiABEiCBJE2AI7hBij77eauw8viJk4LdjksFmAq7cvUan+Nu8I39+BwomU0a1JUp02fhlWAn5V/UOl/7Ott6Tz2h3+EP1vPapcMLbdUmU4/ZH+lzc2+66Sbr2f22jaesh1FcePVTFFbFyr92TnAD05TNTtN5H3pQ7rrrTsW9uCxd/oX2wk41urtrz37LOxUcOzFbL3hBAiRAAiRAAiRAAiRAAiSQpAlwBDdI0Zc7Vw6BcmWX5zt2lZ9Pn7E/0tcnvz0lL3bu7vMcOx5ncowCm92RjcGx7082l/q35uPh05Nx80iBh33epU9/mzxWoqjP/wey3y+pleKM/1hTa99EyufjKG68+CkKa2Ll39vTp/dZZ/vRtPBOALhXvmwp7SxGcY0sWLRUMCXbCLhQSIAESIAESIAESIAESIAEQo8AR3CDGKevdOkgz3XoatmITZ0aNmsr9erUkrJqJ9/rYdcFR/7MW7jEMmMuXurwvLm0fgupzZKyqE2VjHI2c/Zc610BtXNy9mz3W/cPRUxVNg9GjHxXoOSZDZe+O/W9NGr+rDVqnCHD3bJ13UpJ5dzoylgQ4NeLnwJYoR/H1r8V1BRks8EURsuNmJF0rCNGGLG5lv09zD36SH5jnL8kQAIkQAIkQAIkQAIkQAIhRIAjuEGMzCqVykvTRvV8bIRyinNnmz/TXlq27SATP5xuKZnGYPvn2vhMTzbPU6ZMqZVjc2//rWubnoznmHrct+cN5RrPGjRtI1Vq1leKbVupXKOej7svKje9Krew04ufYD6QxNa/gaZ+Fyn8qHYyRYoUUr5M+Giu3Q/VqlSU1KnZr2NnwmsSIAESIAESIAESIAESCBUCVHCDHJODX+0j2MXXrWDUt/vLHQMar1Wjmt93NapVjvS83TMt5KUOz/k8x27D2GnYLjg3tk3Lp+2PPF178VNUFsfGvwX9jMJiVPuO22+3nMR5vk7BVHAKCZAACZAACZAACZAACZBAaBKgghvkeMVGTL27d5FZ0yYKjtUJJPXqPCHzZk+Vju2f1aOigczlz/eQz7mvMFe0SEG5N2sWv5+83Lm9vNa/p57a7DSQTW0qNWbUGzL6rSE+bto3nrLv3Oz83tx78ZNzlDhlyhTGGv0bE//iwzRp0giOC7JL2TK+m2oVLxr5KCCuv7UT4zUJkAAJkAAJkAAJkAAJhBaBFGFKQitIiSs0V/76S62hPavOnD0nQJ05U0bJnDlTjDZ48hKy69evy1m16/K5P85LKjXV+f7/3Zeoj8ZJav71Ehc0SwIkQAIkQAIkQAIkQAIkED8EqODGD2e6QgIkQAIkQAIkQAIkQAIkQAIkEMcEOEU5jgHTehIgARIgARIgARIgARIgARIggfghQAU3fjjTFRIgARIgARIgARIgARIgARIggTgmQAU3jgHTehIgARIgARIgARIgARIgARIggfghQAU3fjjTFRIgARIgARIgARIgARIgARIggTgmQAU3jgHTehIgARIgARIgARIgARIgARIggfghQAU3fjjTFRIgARIgARIgARIgARIgARIggTgmQAU3jgHTehIgARIgARIgARIgARIgARIggfghQAU3fjjTFRIgARIgARIgARIgARIgARIggTgmQAU3jgHTehIgARIgARIgARIgARIgARIggfghQAU3fjjTFRIgARIgARIgARIgARIgARIggTgmQAU3jgHTehIgARIgARIgARIgARIgARIggfghQAU3fjjTFRIgARIgARIgARIgARIgARIggTgmQAU3jgHTehIgARIgARIgARIgARIgARIggfghQAU3fjjTFRIgARIgARIgARIgARIgARIggTgmQAU3jgHTehIgARIgARIgARIgARIgARIggfghQAU3fjjTFRIgARIgARIgARIgARIgARIggTgmQAU3jgHTehIgARIgARIgARIgARIgARIggfghkDp+nAl9V/bs3R/6gWQISYAESIAESIAESIAESIAE4oRA4UKPxom9yc3SFGFKklugGV4SIAESIAESIAESIAESIAESIIHQI8ApyqEXpwwRCZAACZAACZAACZAACZAACSRLAlRwk2W0M9AkQAIkQAIkQAIkQAIkQAIkEHoEqOCGXpwyRCRAAiRAAiRAAiRAAiRAAiSQLAlQwU2W0c5AkwAJkAAJkAAJkAAJkAAJkEDoEaCCG3pxyhCRAAmQAAmQAAmQAAmQAAmQQLIkQAU3WUY7A00CJEACJEACJEACJEACJEACoUeACm7oxSlDRAIkQAIkQAIkQAIkQAIkQALJkgAV3GQZ7Qw0CZAACZAACZAACZAACZAACYQeASq4oRenDBEJkAAJkAAJkAAJkAAJkAAJJEsCVHCTZbQz0CRAAiRAAiRAAiRAAiRAAiQQegSo4IZenDJEJEACJEACJEACJEACJEACJJAsCVDBTZbRzkCTAAmQAAmQAAmQAAmQAAmQQOgRoIIbenHKEJEACZAACZAACZAACZAACZBAsiRABTdZRjsDTQIkQAIkQAIkQAIkQAIkQAKhR4AKbujFKUNEAiRAAiRAAiRAAiRAAiRAAsmSABXcZBntDDQJkAAJkAAJkAAJkAAJkAAJhB4BKrihF6cMEQmQAAmQAAmQAAmQAAmQAAkkSwJUcJNltDPQJEACJEACJEACJEACJEACJBB6BKjghl6cMkQkQAIkQAIkQAIkQAIkQAIkkCwJUMFNltHOQJMACZAACZAACZAACZAACZBA6BGgght6ccoQkQAJkAAJkAAJkAAJkAAJkECyJEAFNwjRfu3adVmzbqOr/+s2bNYu7j9wSBo1bysTP5weBB+4t+Lo18e1P09+e8r9RwlscvZnCzSrTVu2JbBP/DufEHEJFkg/YONVrl79R3/buVtvr5/SfBwS2Llrr1SpWV+mzZgdh64kLasHDBqm0+rvv/+RtDyeDH2bkHGVEGVwUo1i5CXUHYivhBC0eeA+4iw5SWJvx8RFXHjJl+fO/S4NmraRl3v08+wVL+54tpwfJFkCqZOszxORx//59x95tn0X1z46eWSXXLh4SXbt3id58zzo+rvYGLx27ZqMfX+yjBk3UVvT/rk20rNb59hYGW/f/nz6jGb1+x/n481NLw7Fd1zCb2CB9FOqZHEvXtVmr12/pr/Ndv99nr8N9Q9Qya7ftEWyZM6s2BaL1+CuWb9Rvv3ulMxb8Lm0btE0KG5v2LRVfjt3TipVKCd33nF7UOyMT0sOH/la9uw7IFf/+Sc+naVbMSCQkHGVEGVwDBAlik+Ql1B3XFcd8wkhP/z4k3YfcZacJLG3Y+IiLrzky4OHj+qyHuX9oAG95I7b3ddXXtyJi3DSzsRJgApuEOIlzU03Sd+eXSUsLMyybe2GTbJl6w7VsCwrj5W40VBOnTr+kX//w0/SVfWKoeCgkAAJBCZwUimYr/QaKNWqVIx3BRdKbdq0aaVS+TKBPejxzYTJU3U5tHjezCSp4HoMLo2TAAmQAAkkQQJlSpWQ/n1ekSyZMnlSbpNgUOnleCIQ/9pWPAUsPp1JlSqVtHumhY+Tf/39t25YVlSN1ZbNGvu8i8+bs7/+JhWr19FOPlGzmjxaIL8Me+ud+PQC3SIBEnBBIFPGe+SlDs+5MEkjJEACJEACJBA6BDD407ZVs9AJEEOS4ASo4CZ4FIhgXey8hUtkx649cm/WLHrkqFmTBgLF2S5m/eza9Zvk9tvTS/mypaRKpfL6G7s5+/Vff/2lb9984zVpWK+2zFXTH2Mj8ANGpzdv2S7//fefFHr0Ean5eBV5pMDD2tpJUz7W4WnZvLF6V8DHqVPf/yDvjpsk992XVbq99KJ+98vZX+WrtRsEa0p//Om0UsAfljKlS8rjVSv5fOvvBt9+uWa9YF3z+fMXpFyZx6SiGjEv8HBef8Z9np0+84vM+OQzOXDwsFy89Kc8kj+f1HmyhhQvWtjH3BXFb+06NRq/bYfs239QcufOKUUKPSqNGzwladKk8TGLm2DH5T9qOhnCuFaF8Yiargn3WzePPH0Vo/Rjxn4gBR/NL62aN/Hx1+49+2Tm7HlStXJ5FVdVfd7Zb0xY12/cIkePHZdiRQpJWRUXSGcpU0a/XP/I0WOybuNmnTauXb8uZR4rob8toNga+UNNrR4y/G3J8UA2adWiiUyZOlOx3Smpb0otVSqWk+oq3v93373GuP514y+7vRh9/eTT+bJ9527p0vF5ebxaZcE6+XkLF8vW7bt0HN3/v/sE/mql0qmZCjV0xGg5fPRr7ebuvfv1SO4tt6aTwQP76GeYobF563bZuGmbbNm+U/KouChTqqTiWkFuvfUWHz+D+eKlK3X6ujndzTp9tXi6UaSw2T86eOiIfDT9E83sqdo1xR6mek89ocO0bccuuUk1BAqrNNi+XRtJn/42uxXWtYlzs85t5OixkuHuu3UZcEC58/Wxb+Tlzi8IOBiZOXuu7N6zX5o3bSBFChc0j2X1V+tk+covpX7dJ3R48cJNXFsW2C4wNXLWnHkqnitK3oce1HsQIA9mz36/nu1SrXJFv2HCEgvk102bt8npX87qfFpfMcmXN4/NdpHvTn2v7T+k8srly1dUuZRPpavygo5Gu/z991X5eNanKrz75NQPP2q/IK3Xq/OEpEiRwjLqJu0Zw58vWykbkHdUGZlVleMo/9q0elrS3XyzMeL695Iqk7AWG3GFKZ35Hsqj4uRRadqovqoXos+Liamchl+wR4WXegugUE4gD7zxen9Z+PkyWfnFV3ppRgVVHlVWcYqyzp+4KYPdlAfGbrd5OTb1kZv4tuedjPdk0OUL/JZRdYxVVksQmjaOnDZQ3q1dv1GXyZkzZ9J1HOovt4J6ecWqrwTTz1GOFSyQX+rWqSV5HswVrRVY67ty9Rpdv//62zkppsoU50CA3RK36cSUw5tUG2SzmiUHFshrDevXkcyZMtqt1O2KQP6HPb0HDJb//v1PXu3fQ25Pn97nW6TZJctWqbKjtNR+oobPO9zYy2e3dZmxBHavUOkZdfrD+fKqGUMVdFvOvMevmzQBc27LMsPNTf0FeyH4ple/Qar+TyXDBvf3KRtfG/Km9uOAvt19ZgdNmDRVjn9zUnp07RhuScTf6PLllStX1Lrw4arszCzdX77xrSmDg90G8/Ecb0KSQAqVgG/Mqw3JICZMoN4dP0neeW+CXkvgbwQXa+Nat+soRYsU1A0iNMbs0rhBXZ8CBRVNy7Yd7Eb0dYYMd8viuTMka5bMkd7hAQoNVC7Zs92v30PB7dn3NYnJGtxAfoDFb48YrCs+NBpfHTxCnlaV7dBB/bSb5s/4D6bIyHfGSecX20lXpeCeUUpm7YYtBOsenQIlbUCf7rox9/a774evHx71htSu9bg2ekY1cms3aO7322mTx2ll12mnuUfjt2nLdroBDH4Q4wf4GX6H/Pvvv/Jch64Chc8piLeJ40bLXXfeIXEZl736vy6fzVvkdF53AKDx0EmxRGcBFJm6jVtJrRpVZezoET7m0fDu8kpfizsqjAJFygrW4K5dtVibRWdF2xdeko1KgXAKRhVf7tze+djn3jDweRhxM2n8aKvyRmO9QrU68mCunPrt8RMnfT6BorhqyVwrPbv1l7EXYbp85S8rPocNHqCUujryzPOd/IYtxwPZZda0D3TD6PEnG4nTP0gfOzZ+of1o8rSPh9VNqceKy9SJ78lNaqkCZP6iJdK996v6Gv5B5wMEYZv50QR59BH/DfMvvlwrL3R6RZ5t00L69eqqFRuwMmuljT3aMvUHfl+xeI7lrnmO32UrVkunrr3sj/T1iCEDtYKIsmn4kAGqo6auZaZ0pVo6TyLvvda/p/W8Q5eeqpH7pSyYM10rFW7j2rLAdrFw8TLp1muATg/ouHHKYyWKyvQPx4tZyoFNR7C0Ah15TvPg+dnMKVo5hT1R+QtT38zowMVLl6RFm/aCNV+QLKrsRFkEQSfXO28N1ddu0x4M9+4/WD6dt1B/Z49zxNH8OVOtThRtIJo/WKvXsFlby0924zWqV5H33h4WqfPTbiahymkTV5vWLLPybyC/RFdvITwmPaLMRxnmlI9UnqtQrrR+bOLeTX0K5dZNeQCL3ebl2NRHbuPb5B3kESiuTmnetKEMfjW8M87pd7tZpCHk58IFH5F5s6faX/lcv6f27Bit6l5/MmfG5EidwXZzaM/Ub9I6UnmKPIvOZPjfXk97SSeBymGkqamTxkr+fA9pr7jxvynbxowcGkmJbf5Mez0L7+Mp462OPXsYTZ3jti4z7Rh/ZRnsHTXidd3Bhmu3acJtWQY7A3Fz1l8wa5cmLdrpwZfVy+ZLzhzZ9SsTdtyMe2eE1XGOvFWoZAXdtvp6/1Ydz27buegwKFq6ii7Ply2crd2JqzaYtpx/Qp8AFFxK8AmozZzCcuQtEjZ95hy/liulSb+Hme69B4ap3s6wP/+8HPbZ/MXW82PHv9HfqlGJsAJFy+rnCxYtDVMKStgf5y+EDR42Sj+r+VSTMNUY8+uO86Gxf8Sod52vorxXPXKWv9TIQtjFi5fCzl+4EKZGY6zn8NNvv53T9/CvKpx87Kz+REP9Dnb99dffYea+R59Xw06fPhN29erVsI2bt1phBSPIqDHj9XeLl67Q96rHMgxhBjvVyx+mNlzS9oENnuH/qe9/1Gb9/enV73VtBnF0/fp1/V+NLuhn8Df8AekzYLB+Vrt+szA1YqUYXwtTIyphjZs/q5+/NXqsNhdXcalG1Cw/qZ5qzVNVLGEvdeujnyOcYANRo8v6WceXe+p7+x9wg9m3I8xevnJF31eoVtsypjol9LOnWz0XdurUDzqsSrGw4mL5ytWWWefFsW9O6G/hBvysep4jpWU1AqA/+/6HHy2zYL11+06ddhEu+B12gLdJz279ZbcX8YP4QjwiDa5avUbbi/CeOPmdju9vTnxrxeOH02ZaQVKjvtrs8x27Wc9wsXT5F/p5sTJVw9ToruYDN01aUL3Z2jzSU6mKNbVZxBkEfjDlwYsv9dDP/P0x/kSahtjDhHhRjZ4wNaIfpkZUw+APsFKNXn9WWc+atXlBm0O6NbJr9179rFvPAeaR5gL78B/+N4I0j3jCf8SJl7g2dth/7Xm0YbNntH1wQymbYZVr1NPum/DjO9VI1s/gLzVrRPsBZlVnjH6ulHhtPbibMuGDydPCkMbxf97Cz63vTZoyfoAdKEshYG2YIu1AvKY9fP/Tz6f1t8gDzzzfWbsdqA7QBv38MeU68gPKU/gbcYY4AAc14u3nq/BHCVlOm7hCOoXEtt4y+QhhnjN3gS5TUOeojlLNATx+/Oln7ZaXMtjks+jKA7d5Obb1kdv4NukWPIaOeDvswsWLug5G+sIz/Ec5CkF5a56hTEbbAuzUmnzrOeIrkKjRaMsc2CINquVOYYPfGKmft3vx5UCf6ufIl3D/qUYtw9COUTMwfPI43pn63Us6QXmHbxH3+B7lIfKu2hHacg8ecOt/lKWwz1neq0EB/Rx52pQbzgDby2f4J7q6zLRj4B7iDGUP2j3D3xpjhQlpDuI1TURXlrmtv5xhxP37kz7S/vt07kLrNfIjwoH/aCcZQdmJZ+07vaIfecmXaAPjW5TjRuKiDWbs5m/oE8AUBEocEDAN2kCNG5Px/RWgplGKCg2CBhsy/nvjJ/n4FJUGGol4Z5RhHwN+bmKq4JpCDo0+p6heXt0QVdNu9CtUFvCTqcDwEAoFnqHCg5hGNpQZo1DqF+qPGpnU9o2b8KF+ZCoGo+BCwYBd4AQGdoHSiXeo1AMJ3IQZdSyLjxE0nKHgoNKEUgIz+G8aDcYwlGdwN5ViXMWlUZ7QILMLKkajDARDwUUFjnCikkYjyC4mbEaRsL8z1yZtoNHlFBN3yA8Qe6PAnj7w7vLly2FodMIvaKh78ZfdXjT87AKlA/GqRlnsj8PUiKB2y1TGeBlIwTXKipoi7GMHOlcMO7wAP9zjv1Ge8Bxh2bFzj+6IwL0/MQ1vo+DZw6RmGPh8Yhp0b779ns9z540pS+wKLvyCuEbZY8Q0ko15dARA1LQyHZYu3fvqey9xrT9w/DGNdLjvjA+UYXaW+NQoTc78DJYwa5RxNAzxDGWDU4ziazpZTIMSipJdkK8R/2DtJe2pJRbaLy3bvmi3TndCwj404L0IGon4Dgq6XdTeCdqdQHUKzJr4SYhy2sSVUXBjW28ZBdd0JNpZmE4+tRRBPzbllJv61G154DYvx7Y+chvfJu8gPRtFyDAx5SY6aiGm/QFFySnoUEbeiUrBRQc20iA6tOyCvIFv8T+QoPPamDFpwZhFuWLemfLfSzpRo4H6+2UrvjBW6l/U2aiPESaUK279j+9QFsFP9npDHemjn0U1EGAvn01YjKecdRmem7rQWZeinjBMYCfEbZpwU5bBPrf1F8w6BXUH/GfvEEVHLZ6hPYc8Z9LjjFmf6efgB/GSL50Kbly1wZzh433oEuAa3AQepMeaT+da20rly+qpMaoi1r7bo9YDQrBxFdZu2OVXtYkU5PCRY/Jg7ujXxdi/NdeqASZvvj3W3Pr8Yt1uZbU2ct++g/o5pjc5BdNX7VNYG6hvMN0S06CwLhaiGu/6t5GaLgrBNGFIVbVe0rmWtbp6hv+B5PDh8G8xDcqcK2zMqkpKX2I9YyApqXa1xvTENmra6nNtW0lZtXsf1mOaqU34TlUw+nPEj3NNKKYgYmqkU4IZl7ly5tDTguBG+bLh0/CMe1jTBz4ffDjNPIrVr+p80N+DJ9Zg2uXPy5f1LdbPBZL9Bw7rV5h65RSkHRxPhfXLTimt1uja5ZZbbtFhxVpLrAHGukuIF39h/bVzLRXWteO/Ulr0cgA100D+/PNP2aXWr0GQr6ISVfzr9YMwc+HCxUh5EM/hR+TX++7NqqdYYb1R3YYtBWvRSxYvIojPYkULwahnwTTXu+++y+c77DgJTlh77lVQ3mBNqurVF6yLx/IFxC+mD3btFD4tDzvAYzrazt17tfVmKmhM49rpR+ws71wvh/LLTO/FlM8sas2gEee6wUIFw9f3Y2ox0gnCZPhiScYPal0t1tYj/SIuIGY/AkxjlQ9FlOIkP585I1UrVRDYB7fxH4I1yhA3aS9/xJp/TO/HNH+sl8b6dSwbca7p15ZG8wdrkyFwG0sPLqm0ivV4a9aGl/1K8Q1oQ2Iqp4NVb/nbjwHr6jFt+dCR8GnmBoibMthteYC1+YiL6PJybOsjr/FdsnhRn7WQCDvK2akfz5aLEfXfoYjp91jb6RTswxDdXhxY2w+WKPtQRmCzSqRB/I9OvjkZXp9gKrVz6RTKFJTRqH+NuE0nKENNmV1JrTm2C5aHfDB2lP2RK//juyYN68mUaTNlnSoDzVrbpctXabueerKmj52BbqKry3LnymF9WqJYEesaF6jPcdoG2nYo97Avgts04aYs81p/+XhO3WD9P+oGHJ8HQT2Kth02LUW7acTId+XY8RPyUJ7csnXHTm3GeXyhm3ypP7T9UZ3c+g7fBrMNZnOClyFOgApuAkdwBkfDFd65U63rtMtGtf4W8v7Ej+yPfa5Pfvudz72XGzT4UWD5E9No3HcwXIl5IPv9/oz5PKugFDIUiGrEVa9Bxno6rB+CYI0oxDQ6zZoO/dDlHyg/EDT+Ap0/bBqo/qx8pUsHpahc0JU81iLiPwRrmDq2f1Y3rL+JWBuaJ4/7ToNgxiUqOgga3GnTRt7MKibctIV+/qheeutpIJ5obEMR9Ldhzt794cqrWedtWaYuzLP9EenHvEMjx99mOVDmICeU0o2K2Uh0/jLm0qVLZy6tX1TIb495X3BkTkzExAW+xRrZQIKOIii4E8e9LV179tdnPQ58fbg2jnWeWNv9wrOtInXoBLLPPL8nYp24ucfvbbfdar/1fF2hXLiCu2PXXqVoZtKNK3RmFS70iM672Eiu+dMN1Rqq8AaLacDFJK79ec6sW3O+e0idC461xijP7AruHY4zfFGmYM2dWTsPe9Cp1VNtiGLKFqfd5h6bguFYtzHjPpCZn8zV//EOm5NhbwKsTfSSJ7D7NdYTDhj0hu4oMJ1BWGv9TMunBRuGeRGEqe+rQ3UnoZfvYDYxldPBqrewAZlTsmX7n37kjGs3ZbCX8sBNXo5tfeQ1vu+6604njkidemrUTZsx5a/9A3/P7O/NNersoW+O9slj5l1Uv99GtEVy2ZQ6u3l0ZNkVXLfpBOUw6iHUiTffnNZupd9rt/6vq/InFNwlqsMPCi7iA51VqKOgtEUnbuoyux3O9h3e3e2IU7dpwk1Z5rX+svsV16ina6gOJWyEis6OX389p41AKYfyCwUXa6gfVJsuouyzdxQau9zkS2PW/MZVG8zYz9/QJ0AFNwnEMXrzsIMiNoXJleNGTyC8fvWfq5I2TVrJnNl390AvwcLOxds2hPdYOr8zDWnseovREowY2xueTvO4h0KGjX2wCyh2fc2aJYvebAI98aZyhiIAOXv2V/3r5Q92jYRgN8fmTRr6fKpW1Koexmt68yefF7YbVI7YVbp39y56Yxrs4osNYtQ0SPlS7ej85fL52s/45MyZcEXT9nmsLt3G5d13hY/YobGvpv9E2sUYPer+5JoKu1PQoItKMt4TzhOdElMnjo1k1KSxtGkiK9ow/IBqbCJtnFO7ZjrTxm/nwivDbKpX2i7YCdef/PpbeLgyqd0wY+svYz82Npv44XS9mVA9lWaKqt08MTqD0TtsvhWd3HXnjQalv5F7wyd37vC8id5mmDv57Sk9EwPKIjZIwoYtJ9TohtnEKDp34/I9RoAh21X+vFftWgmpqGaOYCS0epVKsmDxUt2hgQYL0qwZbY1JXGvLHX/OnPUf/9iJFmLyuOOzgLdoENZRG9ZBMMsEZwljt/b0t92mN/xybh6G3VyxqzV25lRTm+WzBYu1QomZJ0sXfOI57WGmylcrFspetSHWth271a7Tq3UHHDo60DHUtFG9gH53vmj5bAetpENBfrJmdd3IRjm86PPloqYnO4373CemctptWecTAD83v/32eyQFTq1N1ibvVXWLV/FSHrjJyyatxrQ+ik18Bwr7/aoMClQmn/s98qaOTntwsgE2g4Og4xcjchky3KU61m4TtcTHadzn/p6I+uTsWf91lDPvu00npqMPdSI2M/LXQWo84sX/GIVExyryPkaov1wbvvldI3VSghtxU5e5scduxkuaiK4sM53GsN9N/WX3h7kurzZzg4KLEfQfFH8IThBA5x46GlFPlFO7m6MDAju9B0PQboQEuw0WDL/RjqRBgApuEoinYoULaQUXUzj1lJQg+xmNWmy1H5VgG35MW8QIjjkSyJjHLqeY0oupU7lyPqAf161dSyu42KLfKLP16z5pPhEzrQ+Ny7atm1vPcaHW7egCE6PFZuTIbgC7MEKgkMWGB6Z9YnQF//v07CI1n2qqGwU4tuThvOE7MSK8V6/+4zOKqtbtqN01l+pnOFbEi3iJS4xyoWEORck+xQnumalaxu106ggHyE5VAWHk037Uido0yhjz+5svb/iUSPSy4igS+7d+P3A8LKRGvLArJrjZp3nD2KFDR7VpjIrZBQqJWtvsc0wN3kNBgKDRY0apY+ovbZH6Y2YnjFW7z9qPvzm7MnDnir1TAB0iZlodlCanEm/ccf7C//iPkVCwUeuVZPGSFTJ88EBXIxBO+2Jzfz1iurexA1MHkb42qqM27skQnvdLRyi9FSuU0Qqu2lREN1jQU28kJnFtvrX/4ngTM7XYPMeO7+ZYo5wRI/nmXXS/m5WiCsGRVuPHvOlj/D9H2M1LxCvChv/durwoL/fop3efXq06I3B8FMRL2sNRWkhf+P/i88/oI58GDxup4ny5awUXSglGJVG2zZo6QVDmG4GCG50kpnLaS1kXVbiQJkxZYMyZGSGmHjHP3fzGpDyIKi/Hpj6KbXwHCi/qaBw76K9M3hux3CjQt3hulkL1fKWzPo7MmDUdUObe32/eiFFPtTZZT2c1O6LDLDp7TB4333pJJ+j0wfdqvX6kI8JwjBQ6WbHrtlf/Y3bNG2q0Gp2ROBoIEtWResbv+HVTl9nNR3cdkzQRVVmGUytiUn/Z/WmmHG/fsUcthzuq7TOdnhjdxeDAuvWb9Sc4bi0YgjYAJNhtsGD4jXYkDQIpk4Y3k7cvzTThQUPf0gqYoYEGIY5myJmvqB6JNM/j4hdr5iBq8xKtcBk3MP2llRpx6P/aG9aaSbzDGYXoOUTBN10dHYQGm1nHh/cYNYbgqBv7ERBo9KoNbbR93wVQzEyjBtMLMTXGCEY6hwwbpXlgS35/gh7GR4qV0//VhheWkdtuvdU6yw1rODFigsoUldeQ4aMsc7hQG3hI34FD9Pl+Pi9c3HiJS6Nw4Bw6KNVGsH7KTIM0z0wvLfxrppHiHc77VbsEG2N+f81aM/SM42gFu2AkCukL6SyQYI0MRG0ypZVWYw4V9YDXh+nb4sXCzZh3+MVROnZFco5SqMzxFw89mEuPsqKSi6m/jFupUoX3451X62eN4EgCf1P+zSi12mBFj5wb84+VDE//OGJLbX5hHutzV5GewAjrv+F/XNeq21Q35oxBjEhDkA9uUmf+xpfcnDZ8Kt/hiDXldnexZhpx9PEnn+qOojsjpgHj/GIIRrog5cqU0r/4E9O4tiyIuECcOvMopuVCcGwFOt28SBq1lg6CszftU9vnzl8s3353yscqHP+BODLLJvASjXAzYwBHf3nJE8gzsK9fhP+NY1mzZNKXZv00yifsPYD/uPYnqZQ/ICincNyVEUy/VjtCm9uAv4mpnPZS1gUMkHqBMgTlmBF0ppplJc612cZMVL9uywO3eTk29VFs4ztQOIthnbkSlMlqp2nLGNZKqs3KrPtAF6aMsq/xR908+t0JgT6xnmOWFuoj1EVqEzzrOS5eVUs2kLbt4iWdGOXpld4DfcpX1Idq4yMZrZYbQdnz6v8na1XXXho7frKenoyy0YwY2/0a6Dq6uizQd/6ee0kTbsoyuOG2/vLnHzwDCyjJS1es0tPL7fttoFMRgiUfEH91vX7h8U9ctcE8eoPGkzCB+GtpJWFICe11FCY4w3HK9Fn6bECsFbvj9vSyRhXqqESwmYO/kc5g+htT8DAqAaWgaq36etQDjUJM64Hg/Ejn4e+NGz6l12egEd26RVOftYeoBKd88K7elAXTRKdO/0Sw1grnGSJMWMeBtTH+BNNiMEqDM+xwNjAa3XB7u5oaiBFPTJlp1qSBv0+1goEeXrXLnzo3tqU8UaO6mn55j+7xxcgJlFrTczh29HCpp87yg5K+QW2wgM0hdqlNmEyDuf1zz/h1I6qHXuISa4XVLoT6HFCcD1dZbaxx6ocfdQ+2/exOuIe4QBxghBDKKJSELGpt5aov10TlHesdeOJcYTQcl6oebDQ6MMJqzsXFCFcgwQjYC8+21pte4dxW3GM0y5xbinNVsSmMXaDoYYRB7ZSqpjqVkJOqs8Gsy5r8/jvWyFVs/GXcq60aLzgDUB1todeAYx3x2g2b5W8/m0uZ9X5ohNWs00QqlC+t12vi3GYsEwAPnM9ZXil9//z7j96oCe5gkzUoRcUVN6RdpKUn6zUTbP6CqXSY3gXBmdhelTf9YQz/5MubR6dtdMioI7h0PjRKatkyJfW6ZITV3mCBQoYRd8zMgBRR63KNxCSuzbf2X6RflCWY4YHOMCgTKCeQLnBWr1fBxnEQpKEatRvr9A9FCGkMdtob1Y3rP6Vno2AKJkZ98ipGUCCRXmEW5SvEbdqr88Tjevq52tFXsGEbymNsdIUyBtKgbm39++NPp/X0Trixd9ta/cz5BzNpMCsFaQ2dJFUqlpc/zp/X5Sy+i04SUzntpayLKlzpVYdjGZXnYB86l1AmQlDmGOUoqu+d79yWB27zcmzqo9jGtzNs5h7T9DG7CEsNyletrdlBQYUi6Kw7zDf2X7DGplVY2oH1vJhRoY49U5tNBZ71Yv8eZ6Mi/U7+aIbKVxt88rjTfS/ppPOLz6mNEPfp8qJE2Wo6XNjcD/kFgjoTG0d59T9m5UBRM2mrgW22mT1c/q6RL93UZf6+9ffMS5pwW5a5rb/8+cc8A1N07kPM5qG4Np1qKGPB8BY/+2DAXEwkLtpgMfEHv0maBDiCG0fxZqZ5ml+nMylTpgh/FPHjfI97KAlG+qhNUbp0ekErX1AqMYoHRRCVPBSCqNajGDvsv3a77c+jukbl0aNrJ92ThylA8AeUyZc6PCejhr8e6dM6asMGI/42WsFOru+/+5agVxaNaYyoQOnA7nyL5s6wlJyUKcIh2VmiAh8z6g3dmETlAiUUyi02sZo366Mop5G+PrC3dOn4vPYa1t5iBOZbtUEQ1hrNmhbeC4mXWH/18YfjtX8w9QnModyiAbp80RxrOm5cxSV6MKd8MEa7D/9gpBvTszq80FZ6qniAGDa4HjZ4gGUW08nRuEGl1KfHy3htpSc7R/1C/XkgezY1JfIDvX4Ra1PRWIcyB4V/pnqO9TZRSY9unaSbUgLRy4u0AWUBHQXgPKBP90ifYgr4zI8myK23pNNKORQTuDVy+CCtFJoP3PrLX5iMHZ1V+sQ6JciyFau1sompnBPHjTZGrF8oqWNHj9DTd5GewAECpXjS+NHSuEFd3YACW+xCjPQ/5LW+Og/AHJTXBXOm63hAWvlw6gzdSESj69V+PXT+gTl/YvJkRHKPcqq4Ca/5xp99eNbumZa6wwHXCLvZmRL3RQqFj/Lg2j5Ki3tsXgKBsufc5dxrXGuLHH+wJnXQgF66wYx8D+UWyvN0ld/sO2amVJ0DEBNehzXWLUafP58/y4o3rFU9fPRrnZ6wphiSIqI8RVmEOEZHBGaQjBn7gU6vaJwtWzj7xnpjl3kCm/Zg3S46BVAWoTyBcosp4EjjCBcEG7RA0FEVVScH0iW+QfmO8gnlLNIv9gyARMciwcppP3EVjHpr2uSxuo5AmQIFBPGGztbuXTtqHvjjpQx2Wx54ycuxqY9iG98Iv5UmTOGhng0d1E/atGyqyyiwg3ILf06M2G3Y5C187xSU92+PGKy/RV2C+jW1Kts+nvK+fuY077xH2Y+N19DRinIQefzSpUu6zq5SqZw2bsWZunObTrC/x/vvjdTLPtDxgQ5dKLcYMUaeNmvdY+J/o9RCYcV+BG7FbV1m6morrmwOmGcpU4SXd27ThNuyzG39ZfNSpMuypR/Tz8CnoKo/jWDHbTOyjs0L7WLFcXgTzv7KujZ1mCmfrRfqIq7aYHY3eB3CBNR0LkoSI6B2PQ5TU7bUWY3XEszn8AMOQ49K1PoffSYazmxVU/KiMqrPDMWZeaqXOUpz/l7iHDmcVYsz7bwKDq9X06yj/Qys1VSvGLkRleVu4xJnwrkNI8ziPD3nOZpR+cP+Tk0b1t//+edl+2PX1wgT/vsT+Avn5+GMXyNqXVdA88YMfmPrL8QhGOKMRDeCczDVpiN+jSL/KQXE7zvzEGkZaToQC2MuPn6RJhAeMAymRBXX/twxZ3mac5ERJ2BkPzPY33deniGcsNNN+Yj4RZqIjovbtIczvZHG/YVn6sef6LSvphq7Cg7OE4Vdf/991ZV5f4YQP4mlnIZfvNRb5hxcc0468i2+D5Z4KQ+85OWY1kfBiG9/bFD34uxfnM0aE0H5jHoypoI8hnhzW7d7SSeouwOV0ca/bv2vlvLo/OnvDGljl/03NnWZ3Z6orr2kCbdlGdxzU39F5a+EeIf8GhdtsIQIC92MHwKcopwEOy/0Wjk1YpGQYtbr+fODagzqEdH+g8LXX2KTA9ND6c88nqGHMV2W8I2SApkJ9Bzf2kd9Apnz9zy6zbXMNxghN5tlmWfB+HUbl5iC7DaMMIuz9GIqGLmIzfdRpQ1/fsIUPzcSW38hDt0yhH8wmhtI3Gw0hZ5p5zmQgeyL6+dIE1GFJ6bue41rpzuIk2AzQjjdhhWzJPA/OnGb9jDaHSjvmPNB3S4nwVrCQHZF51/zPqr4ie9y2m1ZZ/zu/MVIEf4HS7yUB17yckzro2DEtz82qHtx9m9MxW35HMh+t3nMfO8lnZiNjsy3/n6j8z82vsJmXNjlHoLlYDGV6Nzyaq+XNOGFs5v6y6tf49p8XLXB4trftD/hCFDBTTj2Iety6+c66TVuCCCmrtRWa9QoJEACJJCcCRw7dkJPW04sjUuW08k5NTLsIKBGlSV/4RvTarGXgjljmYRIgASSNgEquEk7/hKl73HebUG1njJP7lyC3Qkx+kEhARDAmbJYS5g14uxVUkleBPI//JCOf7PLa3IK/QvtWls7tSeGcCf2chozf9QyCVV/sJmSGNJLKPoBo9s4pjC9msWB473smydFF17WZdER4nsSSFgCKTATOmG9QNdJgARIgARIgARIgARIgARIgARIIPYEwrdsi709tIEESIAESIAESIAESIAESIAESIAEEpQAFdwExU/HSYAESIAESIAESIAESIAESIAEgkWACm6wSNIeEiABEiABEiABEiABEiABEiCBBCVABTdB8dNxEiABEiABEiABEiABEiABEiCBYBGgghsskrSHBEiABEiABEiABEiABEiABEggQQlQwU1Q/HScBEiABEiABEiABEiABEiABEggWASo4AaLJO0hARIgARIgARIgARIgARIgARJIUAJUcBMUPx0nARIgARIgARIgARIgARIgARIIFgEquMEiSXtIgARIgARIgARIgARIgARIgAQSlAAV3ATFT8dJgARIgARIgARIgARIgARIgASCRYAKbrBI0h4SIAESIAESIAESIAESIAESIIEEJUAFN0Hx03ESIAESIAESIAESIAESIAESIIFgEaCCGyyStIcESIAESIAESIAESIAESIAESCBBCVDBTVD8dJwESIAESIAESIAESIAESIAESCBYBKjgBosk7SEBEiABEiABEiABEiABEiABEkhQAlRwExQ/HScBEiABEiABEiABEiABEiABEggWASq4wSJJe4JOYOeuvVKlZn2ZNmN20O2OKwuTop/jikVM7L169R9p1LytdO7WOyafJ6pvXuk1UOo2biW//nbOs78+nvWpTvvbd+72/G1cf4C4QRwhrhKrnD7zi6xZtzHK/2d//S2xep/+IoEEIeAsd/YfOKTz+sQPp1v+GTBomH72++9/WM8S8sLp54TyS1KvuxLK/2ciyurde/YlVNR5dtdfvvBsCT+IcwKp49wFOkACMSSwZv1G+fa7UzJvwefSukVTbcvRr4/Lka+PySP5H5bcuXLE0ObYfxbIH/78HHvXQs+GsLAwWfT5ckmVKqXUfqKGFcBr16/Jrt37JNv991nP4vJiw6at8tu5c1KpQjm5847bg+bUxUuXZMHipdq+g4eOKPvLerJ73sIlOu2vXbdJShQr4unbuDZ84OBh+f6HnwRx5VUC5Ruv9kRnfqOK1179X4/S2NjRI6RWjapRmuFLbwTiK369+Yqm3RJwljsXLl7S5XHePA9aVhw+8rXs2XdArv6TODq4nH62PBrPF/Fdd8U0eIml7oX/l69cLT37DZLLl6/Io4/kl4Wf3uhIiWn44uM7f/kiPtylG94IUMH1xoum45EAlNq0adNKpfJlLFe/XLNeRo0ZLwP6dE9QBTeQP/z52fI8LywC169fl269Buh7u4JrGYiniwmTp8qWrTtk8byZQVVwb0+fXsaPeVN+Pn1GypQq4Tk0Q17rK1+t3SBNGtb1/G1i/iBQvokrPxctUlCqV6nk1/q8D91otPs1wIeeCcR3/Hr2ID+IkkBSLHeSop+jjIQ4fpkY6t4rV67I62+Mkk/nLYzj0NL65EyACm5yjv1EHvZMGe+Rlzo8l8h96eu9pOhn3xDwLlgEalSvEmOrCjycV/CfEjsCxYsUlufatoydJfyaBJIJgaRY7iRFPyeT5BQwmM3atBdM80UnY5dOL8iLnbsHNMsXJBBTAlRwY0rOz3d//31VsB4EawlO/fCjzrxlS5eUenWekBQpUugv5sxdKNt37Jb2z7eR3349JzPnzJXvv/9RChYsoEYqy0qFcmX0tE279Zu2bJMVq74STA26Od3NUrBAfqlbp5bkeTCXZWzI8Lfljz/Oy+sDe8usOfNk6/adck6tkcHUovbPtZYHsmezzAa6wFqIr9S6tS3bdsgPP/4spUoUk5Ilikr5sqUkZcoby7W9unXlr78EUy3Xb9wiR48dl2JFCgm4OO11+gtTOz+a/ok2V0GN4g5+Y6TgGeSz+Yv0dSHFrWWzxvqZG3fACP7P8UA2qValonzy6XzBOscuHZ+Xx6tVlmvXrsu8hYsVv12C6Xb3/+8+KZA/n7Rq3ljuuP12OX/hYpT+sPv5qdo1tb/wxw1bu9/qPfWE9tu2HbvkptSppXChR6V9uzaSPv1tlp2BLo4cPSbrNm6WzVu2q2mk16XMYyU0Q4QDgrWJS5atknJlHtPpyG7Pf//9J30HDtEchg3uL2nSpJFgcLW78YnCu1sAAEAASURBVNm8RbJp63brEdaqQnq+0tknfODx8SefCRhAHlPpsVnj+pIhw9363vxx4z9j1vwij86cPU9Xsng2cvRYyXD33dKwXm0p9VhxnUbgfu8eXWSm8gOmMiMv9OzWWVvhJk++pew8c+asDH6tj9ySLp3Y8/5RFUdr1m/SaSxnjuxqpLaejg/jv4WLl2k3n2ndTCu6mLaNfF29akXJeE8GWbx0pS5nMqpOoMpqenVTxQXTve2CkWnkOfg1c+ZMUufJGirfPSZDho2S7Nnvj7bz6MTJ7+SLL9fq9JL6ptTaf2apgN0dXMc238COS5f+1OvtD6g8/sOPP0m+h/JIkcKPStNGkcMG88EUjCh8qUbMUTbv239Q5/lSJYvpqeu33Xar5ZQp+wKlC8ug7eKXs7/q0XjEw48/nZZHCzwsZVT593hV35FlTB3cuHmbnlGANJ81a2ZVBheXShXLyr1Zs1g2eklH+Aj2blb5bZMqDzarNIH0U+jRAtKwfh3JnCmjttde9vgrF40dGzcp/6m6JU/unGpmQkmpWrmC3HrrLdGWi3Z/BLIDZuz+cFsGgi9Gjtdt2Cznz1/Q6bSiWhLg7CByUz/DDygbkL8wFR/17SOq3GzxdCP533334rUrOfX9D/LuuEnycL488mybFtY3WI8//K0xcvfdd0m/Xl2t58g/fQa8rmcsDX61j34ek3Ittu46yx3Lgx4vossnqFtRD61VZeDtt6fX9VOVSuWtdI41v18f+0aeafW0zot257858a28P/EjqwwL5Ofo3DD1YO0nHpeKtlliyHufzl2k6pui0qjBU5bTJ789JeMmfCgFH82v2gNNrOf+LtzWXdG1C2Ibn06/BbvudZv3nP746efT0rZ1c+nRtZOc+eUX52tP99GVryaeUa+jfrcL8l2/V4fKv//+K0MG9ZV0N99stXfQDkZdkFuVdUVU+6uxSgtoD0UlMeURlZ18F3MCVHBjzs7nS6y5a6F6pQ4ePqqfZ8mSWVDw4j8ame+8NVQ/37P3gF6b98+//8jS5V9YduC7mZ/MlU4vtpNuL71oPX/v/cky+t33rXtcoOGKqZVzZkyW4kUL63fL1FoGFJZ/nD+vKw3zAXrJMA1kzcqFkj3b/eZxpF9MpXyqUUs5d+536x2+/eDDafLCs62lV/eXrOde3ILC1L7TK7rhZiyAvVOmzdQN7Jc7tzePI/1ioxisY0RjoGTxItaaRhhE5YX/plHv1p0/L1/W9mCN57SZc6zwQnFFYffM8518/Ao30MhHPM6a9oGEKYXRrK305w+7n42C65at3W9zFyzW6xwNFCjc6ORYsXiO3HTTTeZxpF8oYq3bdfR5jvQy8p1xMmn8aEEjIotSdhCGvarwRkeJXVC5z1VrnlEZoDAPBle7/bg+rJS7xUtWWI8Nzw4vtLUUXHTOtHvxZb3WyxhEOLBmZ/bHkwRTgCFu/WfsML9nfvnVJx6RRyFo1EBMGj995ozu7MCz+yPWBbvNk6u/XCfHT5yU/n1e0Qquyfvnfv9dlwmwE4I0tmzFahkzcqi1HhnlAbjUfLyKbqhD4cO93T/hX4d3WKDjyDSM8RwdN6i4jcA+KAFP1Kymy53CBR+JUsE9dvyE1KgT3nFk7AB/2HH5yl/mkf4NRr5BHmnYrK0uw4zl4IIwQzF77+1hKq+nMq+C+vuPWkvYXo0gQLk0Al6zP1ugy9dpk8fJzTen1a+iShfmW/svyuTaDVtY5QzeofyboTpN0EjGUgtThr07bqKMUf+NYJ0j0sWto26RpfM/kWzZ/qdfeUlH+ADp9Z33Jhhr9S/icaravG/qpLGSP99DYi97nOWiPzsQBlNOTJ34nvytOjFNPoZ5xB3+m7C5sQPlmt0fbsrAM7+cldoNmvvw3bFrj7yt6kzEGzrxIG7r5/mLlkj33q/qb1BHYK050v3M2XNl5kcT9DpB/TKaP+h4Ao/1m7bohrzp4N6k0pjhhJkFmPEDOf7NCc3TrNWPabkWW3ed5U40wQz4Oqp8go6elm07+HyL9Pju+EmyeO4MyaraTulUxwI4oUPXdMyaD5YsW6nfvdIl3A5/fnbnRjptT5iE+Si4CxYt089RP9oVXNgJP+XLm8d4xe+v27rLTbsgtvHp9GAw6163ec/pB9x/pMoMZweUP3PRPXNTviI9Id527dkrDeo+aQ02we49e/fr9jHqQyi3UHQ7vNTDp35G+kL7b9GS5TJx3Gi56847/HorNjz8WsiHsSbg2+Ufa+uSrwVfrdmglVtUUIf2bJLNa5bJui8W69EmNOZR2dsFyi0aOFvWrZAje7do5QPvx6rGyOqv1mmj2OXTKLeorI8f3C7bNqyStq2a6ff2nQ31A/UHox9YqH/84A6ZP2eaYA0a5IPJ0/Svvz/o2UaFA+W2edOGsnntcu0WFGj0zkPJRWPPKW7cQk8uGo5QHNauXGT5C/aiQlux6kuntX7v0WFw8sguMZUaGoa4f/ON17R5r+6g4ZLzgeyybOFsObpviy74vlq7XvsVDZvVy+bLicM75Yul83QjF5tdLV3xhUTnD6fnY8IWfsOIzSaVhr7ev1WnDYxawg9o8AYSKFNGucW6pP071suBnRssRs916CoY3UUFjalBsA+KjF2gRENMT2cwuNrtx/Wr/Xro9GWeIx7xP1fOB8wjvenEn39e1h0zSPeoEBEvyEcYfTbi1X/mO2wuBDehyEOwBhf39gYNnh9XowUfTxkvB3dvlDeHvioxyZOwxy5QpqHMIt2tXbVYnlajr5BhI9+1G/N7jY6Ods+0kL3b18qebWtk0IBe2hwa4D/+9LO+hmJklFvkj4O7Nmjz4G7vVPPrgHqI0cznO4aPLqE8QBkFv344YYzecMbeCQY7gpFvpkybpZVbxMuOjV/o9DF31hRd/qCMQLqNKxn4+gid77HJycrPP5VvDu2QVUvm6nwPZan3gNcjOe1MF5EMqAfI+63bddLlKvIT6gRwRHpC+TdddbBhZBWCBhSUWzyfOfUDOXZgm2xdv1LatGyq80Krdh10vGjDEX/cpCNs5AblFvaiDkF5gnoJI5KIR5NOjL3+ykWUObADZdC82VN1GQ470LkK5e+NN9+Jtlx0Y4fxA37dlIHY9bXtCy/pcGCUdNcWNctpz2Z5e8RgbRXKQtgDcVM/Y5R65DvjtXnEAfIm4gGdsNgEZ0IUdaj+yPYHMzYwQwmMv/3ue+sNFF4jYGdk5+69+tKMJMa0XIutu8Y/wfp15hOMSKIzCYJ4Qltp99Y1uhMArJ5t30V1NF9THXtVtZl5Cz/X9/om4s/Cz5fpq0B7N7h1A0oNBJ3CRpAGvlTtAAjqR4w0GjEziaLbUwFpJbq6y227INjxGay610veM/zsv8FQbt2Wr2jr4D/KAij4dlnxRXh7x9T7rw4eoZVb+A9tQ7Sj0TZAWYdZVB9OnWH/3LqOLQ/LIl4ElUDKoNqWjC3DdBoIpt+iJwiC6a3zPgkfaTU9tfqF+gPFc4Aa2cEUsbRp0+iRtaGD+unXS5aHN+BhD5TMlUs+0z3RGMHA9DKMdEHQ6+mUN5QdaKih5xzT0J5p2UwbcWZs+3eHjxzVhTm+QwGIET64hUw9fsxb2uiCReE7wtq/i84tVFRoxKFx9f57I/UIhPGXsRdKY2wlpu5Men+0LvgwUplaTQPOrwo18J4z40PBtFH0ukPpeqFda+3FHWr6oleJKVvs8IqeR4xqYNS1ZsR6zmOqpz+QmPQABahZkwaCqZVgj8Y1ZgZAvojoPGlUP3zq1crVayzrMGpgGg/YmCdYXC0HPF6MfWe4nnWAtFihXGk1RSh8w6X9Bw5rm2LqPy/eGDlskJ6KiYYG0klM8qTTPUzNQuMM9kFpf0lNj4egNxqNo6gEFXWfHi/rEWxMmcf0fNgBwZRiiEkHWL+OuL/lllu0eUwvNp1j2mCAP/sPHtGNAVMeoIyCX9F5ZzqU7J8GI9/An8h7sB+KFOK8SOGCusMNbkFpj4lgpkvpSrUi/X9BzSqBIM2bjU4mvPuWPJg7l16OgR3ax74zQucfdFD+9fffPs4704XPy4gb5H10OqGxhA4ndI6BI6b2jlKNezSwMQ0WYvIdZvpgajTKI9QZ/Xp10+UwGmf7ItJ9hPVaKYguHZnRQnTOYDQT5QnqJdQ91dQSjVRq6Qmm1dnFWS5iJBUyTvGAn1GGw44JY0fp5+a9vgnwx5jxYkd0ZeDho1/rDi90UvVRSwkwsoKRdsxKMXXkxs3hyoub+hmjvMiDECx9gSAeOqr69lNVJ7SPqAf0Cxd/sNwIYo4/QXmF2UCm09nMGoEZLCmClFbLSWJbrsXUXe2BIP9x5pOVX6zRZRxmqSGeUJ5i9/q+PV/WXNCBefLb7+QeVQYgfaI8NMo/vHZILdNCXkDbxJR7Ti+7dQPtLrgBxfq7U99ra5BOcG86PrHMB4KNmTAFHmXTQ3ly62dR/Ymu7vLSLkiI+IzW/x7yXlScYvPOS/lqNmtcGaHQwl3MPMKoLAT7ZaAuMAM541VdgLoWZR3K77dUOwD59vg3J7V55x8vZZHzW97HHYHUcWd18rJZV1ofimDd3c9qWmPVShV0JYlC2F9BDIUFjTi7VK5YTt/ujWjMYXoOCnL0KqJXEqNHWKeG/4GkUESvpHlfQk3thUR15iMqDQgUKVTodikdMcKFkQxUvHY/R+cW1spAUEnt3rPfbq2eioYHWIMTW4mJOyi0zDRX4z5GTfEfBR0q2j/Ueq4///xTTW0JP5/N2cg130X164WtsSeHGlnGtGy7oNcY0xqxxiyQGMUP8egUpC3MDsCaEgimqg4eNlKPHHWOUH7RQ424wjQeKMamUegl/vxxdfrFzT3cz50rp49RKAaYav3DT+GjMjGJdx8LXdwULhTey2+MxiRPmm/Nb7GIWRXmHgok4hwjBhcuXtTszTvnb8niRX2mWOE94nbqx7PlovoWYpRBrEN0ShW1ZnLK9FnOxz73ZrTUX3lQrUoFH7O4CUa+QWMCgrSG6a+XVL5DObdm7cbw52pUOS7EpCHMMIECahd0JqL8RRl17NgJvfbOvHemC/Pc/mvyflXViIZia5fq6hn+Q9B4NmUM1kjbBeUt1rmi/D2kpspB+TUSXTrCNE9jbyW1TtsuUHQ/iFBQ8RxT4CHO/Iu6x5TRF9QyDqxncwriDCNd992b1flK33uxw1jgpgw8fDi83oL7UD7sgnwEMXs2uK2fkQ5R9tdt2FJaqn0XsDQmV84cUqxoIbv1rq7Lli6hzaFcxXpnxB/8Wrd2LblVdTqt+nKNbmRjew74H+kPHaoxKXftHoqpu3Y7gnXtzCeYEgpBXepMS7+q9g3k8JFjuqOpvqqH0CGwfOWXKh7Cl458EdEha0bc9AeOP17cQMcp3NipRuewTwmmIUN6v/KSXrKFvSzgFsoJxF2tGtV89iNxOK1v3dRdpmzwV8Y621zxHZ9u/O8l7/lj5OZZp669VNkYFsko9jBo/1wb3dmBl9GVrzCDeBs09C21NGq5tQQQ7Wx0ZmDWEDpZTL2HMt+53h5t+M9mToFVfiU+ePh1mA+jJOCrzURplC+jIoBGSN+eXdU0sw/0Wlqsp4WghxCZ0UyHMXagAneK2fADPZSYfoHeaExdG/rmaJ0Rneb93d9xe3qfxyisohNU6BBsvOQUNLBMpY9GkH2zqujcso82YuqRP0GlgcrOjHr7MxPdMy/uGLvSqRE5p0CxfXvM+3p9s/NdTO+9sDWdB+i9dop9oxvnO3OPNUMQf2utzbP9B8NHjDA6hMoVo32YpowNy8z0ZGzuAgkWV22Zxz8ZlIJv1q2ZT++80/ecWi/+i2n6ulkdU+UUr3nS+f0dd9zhfKQ6NO7UCm6kF44Hd911p+OJROqoMVMis0RsIGT/4F61cVF08o0adYT4Kw8waoxRDDQMjAQj38C+vmrNMBqbwRRszIbNywIJ1j5CcgU4UxvKDRQ8mMPmMkb8pQvzzvyavI/ZIFEJ1m6hHEQjCqNKTjHxYBpg5n106chur1lDbL4N9OssF2GHETPqbe7tvxgBC6TgerEj2/3h64zdlIFYdw5Bh0ig+sUoi27r54nj3pauPfvr6YgDXx+u7YfiiWUELzzbKlJHhTYQ4A866JBX1kYo32aNdznViYFODYzgYhQKcYP4x2aUkNiWazF1N0AwYvXYmU82RiiQ2CQqkGAEF1JRjYCj/YJpyphxgPrRzHRwbtCmP4j448UNM914Ozoh1CwSbLKJOMO6X7iBjgeUb2YUuULZ0nan/F67qbtM2WDytt0iZ5srvuPTlf895D172LxcB1qOhXWyEMMwuvIVZtFZado76FzAvgPLI5bHNahbG0ZUJ0Z4vZcnTy597+WPl7LIi700GzsCVHBjx8/na0wNxdom7L62Y+ce+UxN7UKDDf+XLvjEZ3OCX38L7620W4B1GxAU6qj0cA6mOSsUa+FKlSyuCt+71NTT26R2/fCpx/bvY3qNqbAQe6PVbpfp3c94zz32x9FeG/MIz9SJYyOZv/rPVUmbJq36H7lRF8lwFA+C5Q5GB7GuGQ2aemr6VFE1RRINeozId3mlbxQ+CPzKC9vf//gjsEUu3jygNqHBFDtscoFp5nb57dw5fZvtf/dZj+srRRYKLqYpo5JA4wGVe8ni4aNEweJqORjki4TwX3zlydigwq6vSAdQdJ2jkmYac1T2Y8dliL/yABsyOZ8HI9+0fLaDbrBgWvSTNavraYDo1MEaUixziCsxYT17NnJ5DDfPRkzfNea8+MMofMaOQN9i924IOjah+Nh3rMdz7LwLue8+/yOk+qWfP0ZJhL2Yjofpdl7lrjtvdKj4G8EwZXju3DkCWu3FjosXLwW0x/kCG/BAMNW1eZOGPq+vh11Xisk1nw1h3NTPGLlBOLFjLtbIrt2wSZeR2AvjxMlvrc0ifRwLcIMOuhpqZ36sj8dJCWvWb1SdRtn1Uh3MRoFgA7U71OgRBGt2IbEt12LqrnY8jv+gsxxrGYcPGSC5cvimGZOWMmcO39kbnT1QPpD/oWCi3YO0jPjGTJpA4sUNdPyiYwk72qOTAXGOvVHAEDNjUDeiA2Wb2vsAYp9BEch9N8+9tAsSY3x6zXtumDjNYC+G62oGiVNMJ6Db8tV8j5lpaO+sUtOUcboIpiejbYoTPSBZs2TRvzj5wKvEBw+vfqJ5tcSEEIJLAIop1qrhf7cuL8rLPfrpjYFWq4xl331v954D1ppC4wPs1gbBFAmImcKDEQiMRBhxrpkyz2P6a3YpxNRG5zEgUG5R8D+oeqNRGHiRfHnDpx2iRxDHfaCgDpZcv37NsipY7pgNr8aqHVux/s/I2ZW+a9TMc/za/WF/bq69sI2tgosp49iECOv60ENpl0OHwtOWfSYBpi0iTjEiWURNxUU8P6M2MDMN4WBxtfsjmNfB9N91Nf3ejcRXnnTjl0BmCiolEZ1qsz6dJ4+pKa0m32GJAaa5Ryf5IqYL+ysP/K3lj22+gTKO3nikxVlTJ+g1w8aPUHDjUnAUEWS3mjqJkRr7Eg3w2nfgoH7/cDQ7p2pDjj9YmwxBZyfWXdsFO6hiZPgBdVwT1l1CsUdDGooV1v/aZd/+Q/rW2Gd/F9U1pkUbe48d/8an/sF3WI+GzrDatR4PaA3qM0xbRt0EBdvZcRboQ3u56MUOLwouOnIgSDdmXWsg/5jnbutndPjhf/OnG+ryFCcMYC328MEDdeezsS+637Jq3TMU3NVr1mnFDicSQGA3FCtsaGQa6mY5UTDKtZi4G11YgvG+WOFCmgP2BXATZ1BmoeBidpGZMWZGugP5x6sbWE6GZRtmnTimLUPAEIJNqL5at0HnJX8zaLQhj3+8tAtgdWKLz5jkPY+IdGd7VN+Y8tBN+Qp7KqpjOFFWQLEtr0bi0VGLchnLNSDoGIFgJhw2jTKKNJ6hY3e+2ocGz/ylv/jgAX9QvBHw3qXrzf5kY7r5M+0lZ76iWlkwgUZjyfTGOrcWx8YmZm0TzGP01uxoiY2qIDepsych9nWXaHSNfneCfh6sPyZzogK3TxFEg88cmVAmYj2RFzcx+olCA72uOKrCLjjuBbwaNG1jfxztNRooEOzgbCRY7qRKFcFbrTUzgvPs/E2n8ucP8439N67Y2t0w16ZjZOiIt601dXgHBWLA68O0seLFwjtPcIMwoLDG2s+3Ro/T7+uozY+MBIursc/+ax+lMusg7e/dXAfDf2YKnT/FzZ8f4itP+nPb7TOc64iKHDsm9+o3SK8rQ1nTpXtfnzInkH32NGt2dIdZ7K7cq++gSJ/FNt+kilj3jw4W+xFEWD+J6Yl2wXpOnOWIM4ExKhlbwUgQFDg0dkaMes/HOuxqjLILo26Y2eBVsFYMglGgz9XRJkZQhiMu+r/2htrc5gf9uLSanQNBfKExZQSNa7MJFjouvIoZnXil90CfjbKQHl5Ux2GMVrsjm7IskN3oJIH07PuaPkbDmMO05EeKldPluFnzauyyl88w78UOY390v6aBi+VAZu0kvsEoOM56Rv2C44IgbupndA7im1p1m/qwyhQx1R95yuR/dERgqiPSbFRijh0DZ0i5suFKE66rVq6olT2MKqHsNntCBKNci4m78FNci1nLjPWQqJeMoGxBWwD87bsaI80j/0H5/HR++KkUZo2q+db569UNnEkNwUwUCNZdQzDKio79yWrnXMQzRnSDJfYy1k2bK5jxGYy610veCxYzpz1eyld8i7IJMwJQpvcdOERbV7d2TctazBhChyDqgiHDR1nPcYG6AN9gBpc/SQw8/PkruT/jCG6QUkDj+k/p6S2YUoye8byqxx8NNFReqBixFtcumDqIIw5QsWXMmEGv9UAhil5NTKWCYM0ANo/BtFk0GHKqgn6zmkJz9tfAI4p2N9xeo/GGtUfPd+wmWGcFP6BXGdOnkNmR6bt37eTWOh9z48e8qc8pxDETS9XxLqh8MCps1iNhlNuL5HkwtzYOZRxT9556soYeCQ+GO7VrVddHF+H8VWw8gHWbWD/1t2MHVXggkD+cYYlLtk63MGsAIwQ41qlCtTp6FgEqM6RBCKZePa6mzNkFBTxG9TB6hHh2jh4Fg6vdPXONUUUzuvR06+elUvky0qNbZ51XjBk3v7H1H2ZVYFQWlRd2XMUMBtNR4M/9+MqT/tx2+ww73GJJQKPmbfXZmjiv1AjOsx4RzXFEKJtGDBkovfq/rssElAfYH8C5kY+xMxj5Bm5g6iKUiyoVy+vzvNHwQ9lpF2ykBn9BcqhNYcxup3YzXq+xW+8T9Z/WR0CgAYPd59GLj44fuI/zo2MiGO2Z8sG7upzHEoep0z+R7GrEFg14lKsYwTMNLOykvWP3Hs2gaOkq+lxOTJvG5lIQ+NHt6Kndr51ffE7v4gvlrUTZarpOwYZQYA3BsWtmBMP+nf26q9rxFuZRZmNH6vJlSon9HHccowOlDBKoXHRrh5cRXOwjgPzfoUtPfcwd8i32EtiudrvH7tUoe7GbPMRN/Ywp3YgTzCZ4sl4zrdBgNsu8hUu0Hdix3OyT0KRlOx2Hn8+fFWm2jDYc8QdcTNrGo6JqBNMIRgpxHrxWnir5Kk+xLddi6q7xW1z9ovzETu4YMUVaQrsII7OYIow8AUUOMxqMoJ5o1KCOvKk6n8AJ+5mYODBmnL9e3ShRLFyhhf2YJo7RZSOPV6+sN2fEvTlT2byLza/XdkEw4zMYda+XvBcbTlF966V8NfY8pdo7mBGA8gEdJ2Yk3bwfO3q41GvSWs+62KCO9ELa2KU2SEVdAGn/3DPGqM9vYuDh4yHeaAIpySE4BJBx0AhBBYke+zFjP9CKBQpMnKdlNpAyrg0e2FsrHGjAmMX0WCOA43PMjptYp4Oz4lAYYm0IpjqlVhstfDzl/YAjCmY6onEnhaTQl2kiRoPNc+cvNuHAEQ5oMKIxAwUSgqNZpqjzL3FMilPcuIVNqWapMwWxDTvWsn7y6XzrzEmcNWjWIjntxr3pabTPbMaIRBfVGETDE0xMb69bd5x+trvbWR2rYjoXECdo2KCxi8O9nRLIH/787JZtVH4z74z9Tv+Y+x7dOuldAjEqBcUNyi1G0cEMZwc7pXChR3WaxfNGaqdPpwSDq9NOc49jscARDRsoYefPn7em0xoz/n5xtIkRt/4z5p2/7Z5pqTsC8Bxx7jwGwHA333nJk6lSp9KfGTtSpgzPi+be2Gn/Ne/cmDXfmW8UPPNIN6r3bV+nlTMsb+jfu5s+U7ha5YraTMpo1mNi51AcGWbWs4ENFOdPpk200otxNxj5BnkMHTRICxixhHKLvNi7exftX+NWtmz/02Uf8n8ONc0zkBjzEcVfIGP6Oeyc/fFk3amFzkMcrYNfbDIz86MJejqp0wLLfucLxz3ONX1fHTmBdI4p31gOgA4z7GK+aO4MqzGN0YXJ77+jj0VKnz69Hn1H3YAGP85MRoebETdpw/gPU+pwRBum2sJelOso39G4Q33VtFE9ba0xb9yw/6KjD0o+6gIow+CD2QGol3D8EY6jMhKoXHRrR1T+MO/sZSDqlTGj3tCcwAt1JBqv4DVv1kdWp4Cb+hmK04I503XcoEGLMy/RuYwwIy/0iOjkhSKEdIo0aKbzm/D7+60csYM10pN92qO9I81ZD8a2XIM/YuKuM22Ze3s+MmWHiQ9/YTbP/Jnpozbj7NLpBV22IJ+j7AdPdM4iD5glMsYO+6wi7EDtFONHu1te3EA8It1CnKO0ZlMpmDEjhk73zb3dffPM+Wuvu9y2C4wdMYlP863zNxh1r9u853Q7mPduy1fjJtpzaKNDTNln3uEXa/A//nC8LgOwfANpE2UBOqmWL5pjdWaZNGfPF4mBhz0svBZJoaZ8RV7FTTKxIoDpxucvXNBTXJy9jb37D9YNOCh32LAAc/2x4RSmwzjN2j2BY35QgGI3uLgW7GqMIyFiMmIQld8wNQ9rz+6+665IIzNRfefvHey6pDhjiqmZFmfMxdYdTH08rZRx9JpGtZkF3IvKH8Y/9t+4Ymt3w1yfj5hqjS3wgyGx5RrIDzgOJkz9S682EXHTSAhkT2z8h+n4l9U0udtuvTXKfGh3Oz7zpN3d6K6xK/ahI0d1ZW1vROM7TNnEcVEYzX+tf8/orNLv0fhEvDiPrnJ+HIx8g93jUR5myhh+PrjTDdwjniFRlZfaQAz+IAy/nD2rOySDbT/yPpaboLPTrqT58yb2WbhdjWzFdPdvf3biGezFETVudmUPZAd2RU6jlL6o0kN05aIbOwK5H+g5+CKtgm9Uo9JR1c/GbkxzBivsKu0sPzE1GZs8Ytddf+dCGzuC9Rubci1Yfogre1BHocMHS7mcim2w3IwPN2Lr1/hsF9j9Gqy6123es7sd7Gs35euVv/7Ss9tQTmxesyzSJox2P6EuOPPLL/o88qjKE/s35jox8DB+Sc6/VHDjOfadCm48O0/nSIAEQpwAjrR5vHZjHcrBA/tIiRJF5KpSHDHFeMLkqXqqH0ZKnKMVIY6FwSOBoBBYsnyVvNStj7yrNiPEjt8UEiCBxE0AnUS/KaUWnbuY5YHZKNjJmxLaBLgGN7Tjl6EjARJIZgQezJ1LT+0dPnKMtbmYHUG/Xl2p3NqB8JoEPBDABlMQszGYh09plARIIAEITJg0VUaNGa9dxh4TL3W8sawiAbxDJ+OJAEdw4wm0cQajKDh8/sla1eXerFnMY/6SAAmQQFAJYHdqnMmNdcWYEosNtbAG6aE84Ru1BdUxWkYCyYQANuQ7raZpY00thQRIIPETQLsb+7XgWLaaat0+9g+ghD4BKrihH8cMIQmQAAmQAAmQAAmQAAmQAAkkCwI3tiNNFsFlIEmABEiABEiABEiABEiABEiABEKVABXcUI1ZhosESIAESIAESIAESIAESIAEkhkBKrjJLMIZXBIgARIgARIgARIgARIgARIIVQJUcEM1ZhkuEiABEiABEiABEiABEiABEkhmBKjgJrMIZ3BJgARIgARIgARIgARIgARIIFQJUMEN1ZhluEiABEiABEiABEiABEiABEggmRGggpvMIpzBJQESIAESIAESIAESIAESIIFQJUAFN1RjluEiARIgARIgARIgARIgARIggWRGgApuMotwBpcESIAESIAESIAESIAESIAEQpUAFdxQjVmGiwRIgARIgARIgARIgARIgASSGQEquMkswhlcEiABEiABEiABEiABEiABEghVAlRwQzVmGS4SIAESIAESIAESIAESIAESSGYEqOAmswhncEmABEiABEiABEiABEiABEggVAlQwQ3VmGW4SIAESIAESIAESIAESIAESCCZEaCCm8winMElARIgARIgARIgARIgARIggVAlQAU3SDG7/8AhadS8rUz8cHqQbIxba17pNVDqNm4lv/52Lm4dSua2J0S6+P33P3RaHDBoWIzo4zukZdgTCvLpvIU6PBs2bY234Jw+84usWbdRTpz8Ls7dnP3ZAh2+TVu2xblbCeVAQuQje1hDLU/Yw2a/jq9wJnR82sPs5pr1pRtK8Wvm3LnfpUHTNvJyj36Ww870m9TSmQnI1av/6DK9c7fe5hF/SYAEPBKggusRWCDjFy5ekl2798kPP/4UyEiieX7x0iVZsHipoPA/eOhIovGXV49AYUE4zl+46PXTeDOfEOni6j//6LR4+MjXMQonvkNahj2hIKdP/6LDgwZRfMlGlTafbd9F5i34PGhOHv36uE7v35z41sfOn0+f0eH7/Y/zPs9D6SYh8pGdX6jliUBlZ3yFM6Hj0x630V2zvoyOUMK8P3j4qOzZd0AWL1khFy6GtwGc6Tc26SwsLEwWLl4mny9dEe8BvHb9mi7TDxw8HHS3UQ+i3bRl286g200LSSAxEUidmDxDv8QPgdvTp5fxY94UNIzLlCoRP47GgSsTJk+VLVt3yOJ5M+XOO26PAxdoJQkkHgJfrlkvo8aMlwF9ukvuXDkSj8fokyRHgGWn+yhjfemeVXyaRNulf59XJEumTHLH7cGv/69fvy7deg3QQar9RI34DFqcunXyu1OCGQnVqlSUUiWLxalbtJwEEpIAFdyEpJ+AbteoXiUBXafTJEACJEACJJA0CLC+THzxlDp1amnbqlni8xh9RAIkkCgIUMGN42i48tdfsnbdJlm/cYscPXZcihUpJGVLl5TyZUtJypQ3Zohfu3Zd5i1cLFu37xJMRbz/f/dJgfz5pFXzxj69k0OGvy1/qKmIvXt0kZmffCaYalayRFHp2a2zmHevD+wts+bMU3btlHNqHWXePA9K++daywPZs1mhfWv0WDlz5qwMfq2P3JIuncyZu1C279gt7Z9vI0ePHpM16zdpf+TMkV2aNKwn5co8Zn2LC6wRwYgSwnX4yFHJmfMBXdlcU72eM2Z9JlUqlZdaNar6fGNuMP0V/qtetaKkSZNGTwNCmCdPeEeH+9KlP2XajNlyQE2fxpTvfA/lkSKFH5WmjepLqlQpZfeefTJz9jw9xRp2jlRhyXD33dKwXm0p9Vhx7Yxb7sZP9t+//74qH8/6VLtz6ocfJe9DD+o4q1fnCUmRIoVlFFOYNm/dLpu2bFe/OyTjPRmk0KMFpGH9OpI5U0bLnLlAGOctXCI7du2Re7Nm0b2nzZo0UGFKZYzo31/O/qrZrtuwWc6fv6DZV6xQVgo8nNfHHG6QXtau3yiblR8yZ84kdZ6sIUUKPRrJXM++r0natGll8Kt9fN5hevfgN0ZK9uz3y0sdnvN5Z78xYd24aZtsUekqT+6cavS/pFStXEFuvfUWu1HrGt/06jdIpfNUMmxwfx92rw15UxDPA/p29xl9nzBpqhz/5qT06NpRsmTJLLBj42blpuK7bccuyZo1s5QqUVwqVSyrGRrHTPp9oV1rne6/WrtB/vrrb5kzY7IxEul35eo1suqLNZI+/W1qVPQVHQ9IW4uXrhRMDbs53c3yiMqDLZ5uJP+7795I33t94CV/2u02cWSWE3w2f5FeWlCoYAFp2ayx3ahe97vii6/kiJpm/nC+vKqXvoLOiz6G1A3SItYIr1X5/Pbb0+vyCHkW6TI6MXlry7Ydsm//Qcmt0gLSXOMGT+n8DHuXLFul8yLypF1QzvV7daj8+++/MmRQX0l3880SnX32753X5tvoylfnd/YyCPkbeycgzpEPKqm8Vq1yRZ0unN9du3ZNZqhyd5NKk6d/OSvFixaW+k89Ifny5vEx+t2p73UZd0jFw+XLV+SRAvmkSsXyUrF8GR9zWKsN++D2RZUfkN6Qh2GvXWIaTrsduHZTdsKc23AGy19wE+LFPqw5X7HqK1X/fK3zasEC+aVunVqS58Fc4ZapvybPsb6Mu/oSsI+oNsO6jZt1PYQ2QJnHSugyBW0YuwSzbr1y5YoMGDRc1wndX+5odyba6+jSzmfzFskmVbcbwYgnpOcrna263W0Z6jaPG7ecv3/9/bduD6Gt99+//4WXT2r0NZdqc9nFTR09dMRoOXw0fOnS7r379UjuLbemk3ZtWsi74yapOiOPPKuujWCPluFvjZG7775L+vXqah6r8uG69Bnwuk+bwkveddPGMXW62zap5TnbRXRtSZtRXoYggRQqU4SFYLjiPUgofFq36yjNmza0lIj//vtP2r7wkm6gOz0EZeLlzu31YxQWzzzfya+5HA9kl1nTPrAK1dKVainF9Bd5TCm1UG4gaBC989ZQMe/QiELD1SlrVi6U7Nnu148ff7KRHD9xUnZt+UruuvMO6d1/sGAzHijeaCw6ZczIoWKm6SDJdO3ZX699cZqDUrtsxWrp9GI76fbSi87X+h7rWjD1p2iRgnqdiTH0xdJ5kk4pFQ2btdVhNM/NL3rR33t7mKxUSkmnrr3MY+t3xJCB0kg1st1ytz60XWC9VYs27QXreyBQssAbYjjrG/Xn3fGT5J33Jphb6zdDhrtl6qSxkj/fQ7oDAukCYUWFiMauXRo3qOuj/J1RjebaDZqLv/Wi0yaP8+lomL9oiXTv/ardOn0NTitWfSmFCz4i82ZP1c9y5iuqFdEDOzf4mEflW0alKbtZbNyBtU2b1iyTrCr8kEBhRYfC1InvyU033eRjr7lp0qKdVuhXL5sv6CyBoNOiwv/ZOxN4rabuj29lnmX+e83zPGVKGhBCSZJIFCJjplJRVColJVKJUiilUiINhjIkSsiQeZ6J1xTqlfvf33Xvepzn3Gc453meO3Rb637uc87ZZ589/Pa01t5rr92gsdzfdXtf1/D44okQ2sEBh9UVjN574yUJc9Dgu92gu4aL3+APQvW0Rx5y2233H3HW+otgwAQChB/yq2EM6NtTGGDegc8l7TuKn4cfHCECShDP7bbdxn3+xVd4FT9j7hvm9tt3b3mO8gODdN0NPVy7C1oLU8Q3cdpnMA7qH9+GCeGxX++b3IA7hrrBQ+8VQZZJpzDd1reHY3JGCeau1XmX6GPiSr2dOvHBRJknXgRuEEzbXnJVyj6COj78roHuO1+HT2zSwoHh7JmPJk1svLLwddf87PMT9S1KePRP+fSvgeQnbrUPQqhPhRn96/0jhjhWiSBtE6n8U88mjBkpE2H41bRyHyZUKnXVCeG3RasLpL6DPaTtvlf3692ZzZuKWz79mQQQ+JG+OUPfGSef+aRLMcplvCQ7d/r6PtDX+1TEpJZOEGibs/GybMZL8NeyTFUW9wwZmJhgK/TYykT/wbWOkXb3xJRxEr3WXx27NG3Behal7nTvdasIleE8waMgWEbtQ6O28XA8CIv7HFTb0S/s4CfdmJAL04ypDydN5kQZo5XvC4ZFHM8+OTUR3/znZyX6bO0n8f/SczPdFptvJp/Cy9DHMxk4YtigWDxXVB5Hx/QoPGkwP3rPFrxsvGR4cUG/tWsVQQAB1yh/BLxQWLTjHgcV3XBT70RgN/bsK25nntO26LPPvij6++8VRV5wKNrn4NriPn3mU+J31lOz5blug0ZF3upqkd/7UeQNyRQ1b3m+uI8YPSYR5hH1GopbzSOPLXrhxZeKlv7xR9GyZcvkffCdX1lJxNfsrDbyTeeuPRPhHHdSM3HzhmnE7brre8gzeZj6+HQJ87PPvyzq0u1mcSdspXtGPiBu5GPBK6/5eP4u8p1JUYfONybC8HsF1Xup6+RHpyX8+ZW8os+/+LLIz+xKvnv2uU3eXXplx6IlS36UsBe++noCM7/SkQjvrNYXiV+/0ptw4yYq7kkflTxo2vzERJEfZMSV9IE32PiZanHzHb88gwFlv3z5csmHt+Io7qec3kr8ab3g22s7dSvylomLfv99adGER6aKP9zf/+BD8QsGDU85Q9z9ykMRZeNXIYs0TfilTCC/apH4fsy4iRLmz7/8UuT31iXcm55xrvjlh29Ja5goN94F/XKPG++gadOflGcw8LO+Uq/AROsnZZiOht5zn3z78MQpCS/jJ04WN+II1kmwxa3dZdeIX8036fYr5EVeGCryM79F3Xv1E3+0l6VLl4rfYP31VoUFZ/CE/CSE+Cc8yK9wyjP5Uexpc9p+iAsiPi9ci9+Lr+ggblF/yC956dv/jsQnGj7xZmufiY8CN16IlTBHjh4bcC0qoq0RF//3jxkv9fYbX3Z+5l3cwI/8QX5lMdGWwIM6/t+ffynSdkf9oz2nI8qLeBo1PUvaAn0a7U/rgtcMkU+1HvuJoqSgNJ6HHn5E3KOGp+0ol/41KQElD1q3yAv94/sffiT1mvQefcKpkkfaoJK2Cfx7bQnBCL/0E7j5CTfxCs6a97vvHS39M330pCmPiT/8Kr5aZ6ljfMe/n5gUf5SZ9uv59Gea/vA1Xd8ZNZ+El0+68ilP+gBw5J9wwPP7H5YUeU0Ucbvg4isT2Q22ORsvCz9e0m60LBiH/IpZqfGNsQrSNleosZWxlLhpb0paf3XsCtezOHWHeqV50/C5xulDo7bxYPjc02do3Fy9RpL0B144FB4Tt+D4F2eMnv/KqxL2hZdenRStn4gXd3hQJb+QkUgHPI+S13ATd8YbKGpfEIfHUezIazaeVNMVvOpYE4WXDH5n91UHgX91ZKuIwF5ZsoGKl2/8svoz9M7+stKEei0qrEMG3SrJnDbjSbnu7VVPmXUe71eSWOVCDZZZQtQtoQVedThM/ft0FxVR1ItR8w1Sbz/7z2qTxtemVfE+lcVejSgbnXduS1mpJUxWYK649EL5hFUkXX18fPoscRvm81Xz4ANEtZOVPlYdUqnRpouTNN54fQdRS15rrTUl36xKgQUrU8wsMsN20IH7y8o44bCymIni4J4qnPfe/1CcUSVHfRJCXXzSQ6MkXTqDiRVCqF+vG2VVlRVM/KHqivGG6l79HDUcJfJyi19h3mSTjaVOBNWp315crDKE6hAzo6yKdvYq6Kxcrb32WrLqeMlF50lQnkmT65PPPCtXygs1Z1aRMLRx0fnniqq2xluI68TJUyUYVltZ6aVekddhg28Td32fKq7atYpV21XbAD9znntRvFL+5MN3p/Kss9SoY0NTHntCrmgnYAyD1TTwv/66q2WFhhXWRW8uFj/6c/GFbbxKfRPBmToVpiefnuMuvvxaqVvjH7jX7brLzuKF1QVdqUf1FyK+Sz3urPC2K2mL8iLPn3zaZ6aoT2rYQFSWqbdoHlxxWXHbpd1++dXX8inaDzyjXYE6J34x0Nal45UJLYOPP/k0ZTSe4XMcSQQNueNWWTmhLtDmb/X9ESu4qJdDlAE006tLK7FC/+jj0+URLYM44WkYes23nWs4tJvBA/u6XXfeSeo1WhfD7izun8dNeES9Ja4339RF2if9En4vbttG3i187Y2Enx5dO4nmxIXnnyPbP+ijm55ycmKF9/0PPhK/bO2AUOekz+e/7lG13GOPjHUj775DnguVT4koxk+2fBY6XXHCo84yRsx8fIL0vZQF20O0j0y1Im/jZerCj4N7qhAU6wvanC3j0Prrr5cY39DignSsKquxNVW60rnlUnfCYcXpQ6O08XD44ef+t3SXlVJ4MrY+wTMxdjL+sY0L0jE4lzFa46t7VPH2CbYxQNQNxkv6dchPFsiVH7a/QbV83xWnDsXhcSQC/xOFJ1W/wWu+vGQwLLtfOREo1r9aOdNeqVOtR3nATL4aYH5I9O9Ll0raVY2YfW/8w/Ah4PgVFff777+7hSUdDXswwnTgAfuGnRLPB3ghJEiHHnKQPPpZ7qBzyvuaJZ2ZvqRDRU36E295D1P8a6yxemLv6+GHJlvgQ8g71gt3qt6rYaS71jqseL9s8D374SBw4xij3zwO7KOYPeeFYne/7yYTxcE9VTjSmY9wjj3KX3/7rTu2fl2HwIOwzz/kV1oSZVO/7lFJwYDB3SWCHy+UmUVlLqwOU79Obdlb+tXX30gYi0sEXfLO/tsg6TEIug/z7RIVavZYhgmV34kFOp4G4VPr6S9+vy77K8NEesnDNv+3dfiV7J9GiHhubvHgSB1HPRhhjP1ZfoVTMNp9t13cSwuKB80jfL0IYqxCsgYOjuz9RRUZHIKWIJmYSEcIzDpITxw7MqGuj38mB6h7tL8mzVq5Vi2bu8N8u9l5px1lEiddmLm459M+M8V3aM3idq5+YOZQIaPMUAtjUuI1v+8Kok8Jl+UPJf3D4nfeTwj+GhZXFV6py+E9ybQN1HSVTjyhgUPNz8+8J7YqvO4np1DBZRsDQjX79qAo4Wm4es23nWs49GHh/fJMepAfGEhw28rvbVcK72/XyRAmR2D0qJtM+kHsX/viiy9lby19PnUL+tOrH0KH+bjpK1v77SltzzvH1fZWYWkTCM5KKhREGUf0m0Jcs+WzUPhrWuOEx5556gx902eff+EY1xgj+E9HNl6mRiYO7qlCeKNkghHV/TAdXe8o2TrBPn2o0GMrKspxKZe6E44jTh8apY2Hww8/h7Fl4hU3+CP6FPr9fMZoja92rUPlFlsX2BFhbKXfadLoRLfeuuu6WU/Plr23mCGBP2ESlYWYOH1UHB5H05WNJ4W/SEX58pKpwjS3lQsBE3DLqLy86k4iZM7DTEV0HjCaa/gOa8CgoY6jG6LS2t5gUDrayBuNCVK6DiDoR+832mgjvU1ca9TYWARcHJaUnCUKAxgW2HgfxUgN/iCM+IQJBriLN0LDzGEuFAd3BIAwITh16XiV3/d5tzfiNVH+8cOqbLu2rWUFE6aXsgMDVlij0KY1NinlbWO/QhskjJBBDFzp6owOJjpzq3uqg+Gkcgu+j3NPXpUuuuwavS11xahOKgGXFb4TGhwtxrVgRn/44Uf5FsEL42EIuOxn2tUbKmKQBlP+vYpZAuNUK7E77rCdhKNCkiZo7RRlqu9UuOUZA1RhGn7XANlbzkpytx63yGsGcfZCXuRX48KaEuHvoz7n0z4zxRGuT/it4TUGgvSCxxoaOvy+oHPSfboV3A/9nn1ot92KV72TPgo9sKKm+1XZh4bQNt1PbECnNWkk1zjhyQeBn3zbuQbFym0q2t0b5kPABYuggLtR6DgymE20M3TvLGExCdXRG1dTgTZV+Lhd0/4S98svv8hkFHv5dT8/+wUvbXe+xFuofKZLQzr3bPksdLrihsfewF79Bibhni4vuNt4mRqduLiHQ3m9RHhNNeao2xtvFWvZlNXYGk5Ttue4dSccXpw+NEobD4cffKZvSXUEko5/TKDnO0ZrfLv4vpD45pRMrmPcETrKa2Ex4cz4yYo0PA/8j9p1iFOH4vA4mq5sPKn6C1/z5SXD4dnzyoeACbhlVGabb1a8GR/hctTwwaViWbZ8mVtrzbX8/5qu34A7xYonzPSpXm3wYK+SS6fGCmL7a7qU+rYiHZTZg/lDOA8Licq05prGVudfIowhKjgnNzzOsbKH2tOjj00Xle9s4cbBPV1YqFthORcrsX6PsZvgVXQRuPmfNvkhmbXkWzBA7RIhrhC0eYkBB1RHW57RLClIv0PPr/CvELVlXmzrrfqyaoSVbC0T/eDHn37S26Qrg1KY/uetMmaiTTb+V0AKrtDpN1qPd9llR3Uqda3j1S6xHo1GwhceMwgLzKgby4D63Fx3lDduRvqwlA1hFRsCYwbXoMVx3Fkdg7bZpvSqsbxI84PaEqvb5/lJJwyTBM9PZlWSPH78yWeysj7n+bligAhjNh99/IkYcksT7ErjzKw2AvwtN3d1O++YXGZalltuWdoCOBncequtJJ9YX49CpzU5WfCb5dWUseSOejL9IVbkobjhBeMsRDsnvG+/T50X3V6gbTIYd6Z7mKrGzc4WL6hh169zpNTRDdZfXwzCYdhPCUaRrRidrm0vhnrmvfyKGPrzexnd094K+NPTH/Gqt9HHEQ23PK6FTlec8LCQrueTMhmAxsemm27ix4n1nd8bXh7ZjxyH9s1VdbzcYbv/pB2HlvxY3Edv5zVHlCpqbNX4C1F34vShUdp4mIfStHKlP/H2PUpNruqEGicnFGKMJi62SDAZTf/z+edf+pM0XnBo72HIkfEa4sQInfzC+BMUp+1qfxqFx5HA8/jJl5fMI2r7tJIgYAJuGRXEnnsUq9qycscRN3Qe6QiVTWiwtxDMflOl72f+u4dT3Sr6iqDBHlGObZnkBQUEQSWEDgSZXAmBjVUPmOCxo4a5db1ajBICbjr6x6sGKsXBXb9JdWVgYpWR/6vbX+yu7HC9WId+ylup5UgQBHBWWr2RolJHhLDvEMGz0YnHpwo6rRtHhEDkX/e9pPO87z57iYoux4sEVRrx//qit0p9RpgIkKyi6sw6nr748stSfoMO4MAeS1QpESaVYQv6yXYPAwrNX/CazAATnqqF6oD6bMm+XBV+WLVVjBE4d9k5WRhb9MbbEib716MSFmzPbdlCygb13Cuv7SIWIMOaCOyD57/lmc3k+BZvMEwsht/Ss1vkFfuoacrF3z///Fvf435f88ADRMClbWWrY+GwVeWLVRuOCQuurMOEPfLoNHHTmf16XgWfeodgW6d2LWHW2E+lFrfjhhdMT6HaOfvNVLVYw+f4Edo2tJNn8OLQi35SDIL5GzKoX9Knfwf6qeALjuA4pVFD+e/csb1reEoLERpo24XKZzC+4H2w7wy6Z7svdLrihKeq9RzZgpVyJZ2U0OfKcK3q4yXbLbCvkGocevvtd6UIsNsQpIoYWzX+QtSdXPrQTG08vLVE06pXbKdguyVIaotkL8+L5DpGs10oTLX9cZAIuE/NflbGCWx6QIyHaFY9Pee5hKaWbn2L03bj8DjhtMV5zpWXjBOH+a38CBRm6any57PcU6h7+pi5xSx9kLz1ZMexLZi0h6pXL55n4LxLJfaXZFIjVH8VcdVjLlDjvGvYCDlb8bFpM9z5/kgknVnMJV3VvbofhCC29I/ifWo8o/LnrZBym0SqdhY0nhUH96TASh5atmknZYMakxJqiDpLieEnSAWxazp1k5Vs9Yuarbe46wZ6lUMGnjikwhqq0ajtKrGCeXOf2yRdHAkD6b6UXn0HJAwI4Y7KUp9bb+c2idAKgDgjVYkVeMovGx3uDTxBnKXLsS5KqCXvW/MoSZfuEdZ3wetmXu0JoXbajFkiKAf3FOksMCrh0CE1D0x8qnu0OUsXAUqJox840gra3080RKUafjWa1fYB/XrKYI3KleIJk0ab5OgDcFHaYovN5RZBjf3nEH5pm+yVL0/S+qTq6bnErftD2R8LE6CEUEd/BAbgm4rQpGDSgTZ+8y23JXnhKCdvcd2xQqJEelFHpg/kHdTEC3JKccPT77jm2841LNKmdUDd2CIBMZEXnvxQP+mua/o9+JC38JownsbzxEemJrZ58EwfR9vh31stxUlo/fXWS2gVbLjBBrHzyWSQnr2rYaa6puo7U/lL51Yo/DX8OOFpO+SMcCUmKQbeMUwfK9W1Ko+X7IWGGIc4/k2JvqVrjz7yqH16RY5gM61/AABAAElEQVStmq44dSeoNaR7lQknah8atY1r2tJdr+vS3dE/K2HYa+rjM+SRcRWKM0ajNQh5a8qiHSUPJT8cpwXBv0BH1T5crvwce3Q9EXqJn3Knf4LitN04PI4EnuNPXF4yx2jss0qOQDHHVskTubImjxl8zjRlb9W0J2ZJx8ggoHsbWBmEGp14nJwz6o83EAMsqKywD+KvAKNdmTBAQOnc4UoRpPwRJYmkIQRgOZEzOXMh9u2xqoQKJYLGMfXqeCHiZ1ENJuwwsZLKjCzMM9aFzz27hXS8UXEPh8dz86anyOo0KnCsxO7h40DAplMnDezFhS6/uK0I9gg7h9ZuIPsNMbSkloDZe6MrVfJBhB9Udkk757NyTimDyG677uxXPl+VM4tR58ViMoT6IytlWHOuc2wjiR8mDwEbVfeg8KL+EejY8/rwxEfFgBJ17DdvPTgbXeUt7pIv6i3nStY58gi3/H/LnT+aQD7lPGcGuUxEndHzbI/ys8RKaqgMZgBhF4uzSljwXvDqaxI35x1yvvP33y9JnHOL9dtcVpRJK+e1ntC4uQiqMAnHHVtfhF40CE4+9SyHgRSEYdVIaHVWcxF2EPDPOvdCSeJyf9++xMq4prksr7vtuosED3ODtsQp/vxrzlGOQ5QDDPfI+8dKWVKf2RM829cbBFcYHCxjpqPBA29xp55xrszyP+8Nh7H6gAVhjNBB7UqsCuv3rExiTR7VXNTdMKIUpLjhBb/Np51rOLQVJitmzHrG7b/f3jJ5QduhrXOudlzCqAyExsMJjZqLkMw+cQyiESb1HOIeDQ+sUjdp3sqddMJxXqthM+nPqINMJOgKd5x8nuHP1aUcscQc1uyQiEt+0vWdQT/Z7uOkK1tYvI8aHnV41APjZFsPkz2ssvujvbyxqcqn8US+SG9VHS/RcGKV7+4Ro+Vsc54RDNW68jktz3DHe7VXqCLHVkmA/4lTd9C6Uy2iM32fz3aDDldfLmFE6UMZP6K2cU1fqitb1Q6rc7xYWEdLQXkM+if6LyjOGL29P1cXoi9q2PgMV7dOLbE7ghtjo/JgPB/sNX6UsPA+cvQY+e7o+keps1yjtt04PE5SBDEf4vKSMYM37ysJAraCW6CCqlZtteKQSi487LD9dl7V9m4RRuik/NmPIiTQaY7x7rqv4fJL2jr2pkBPzHhKmGpUUmDC01EmlefwO38AhQSzZskKFA/VV68ubupX06/P8jL0E3zX9rxW7sXZTzhM2DPA9e5xg3+e7q2rFu+JrJZBJTsUbNIjeWaQhEljlY59r2DDPjUomIYL2rQSv7iDm1p5jYo734UJhhzBCXWcmU/NdoMG3y2DNcIXezZVtRb1TI5/Qo11Az+TidDBwAMTz/ctTj9VglZcS4ogHF2Jn3+bIYLroNt6i6ABU4y6EMIBlmcnjb0vSaDjWKbWrVrIPlYYCoRbvh9eYsW5mh9glUgPgyCMNcIIjHXxYHNrcRoCfvU7xZoJl3uGDBRhCqEdoRrhFoGb40Su8PU3G6klZOLfP6BuhVVLXQ3XYwo0LFYA7x16uxwRBcbECSYIYYP69xJM1K/irGlWd66reYYLCu6VZuKAIxWgS6+8TlbBJ4+/X6w7g8+IUQ8KA01+OZahw1WXiV+eddV5P68mno4S6Qj0B+o38a7EIVX7VL/BKzghUIMhWwR0pVXbWjhcvlW3aqv9Wxc6eyNq7S+7SAQo2hd7kmlvtGPwDuIUjJ979ik/MGKI4IQaPt+CF0zR9EfHlxKq6MdoS5C2CXko+YkanpZvsB3l0841DaSpe9frRDhCawPhlv7nfp/HoKXocJvQ78NX9nQjXGK8inaLcM/RGPSTxx1TX7xrfezRrVNigoS+Dk2fT7xWBPtKx44u1mjgg6j5hGGlHKkfe5ZYow+nT5/T9Z1R8xknXRpn8JpPeTJuDujbU/of2gF95OreevUDI4eKWzAevdd2oM/Ba/hdqvZo42UQseT7DldfJpbSmShkwpmxiMkZ+qquna9NeC702KrtKBGBvwnX33A9i1t3GGPpd2lX9HU/+wl3KGofGrWNS6CBH62T9J0PjR4uFvDhceAxwJYx6fTTTkl8EWeMRojVo9Hoo+BLg3R0yckQx/tJ3+A2FF2tx6/yrvpd1D4K/1F5HC07xULjCl4zvYvDSwbDtPuqg8BqHOlbdbJTeXPC6hqWYWtssokwIKlSisGib7wgTAcE419ZCfVZjmZgbw0dW5BQc2R/CMIDx9XkSv5AcL9KtcQLYZsndbKpwmMviT8Y3aHeF1YpjIJ7qjBx+/33pe5nb+WUM37D4Ya/YWYVU/qoXRaKUJVlYEWozrQaTBP+xjPmMNfBfcup0oFfrC5ibVjVrVP5y+TG96hisq+oPAmMN/SrjZmMchQiPaiEE9c6fjU5aIQqGHZ4D2rwXVnfU6d/83UTNVNVW841TrZFoCmCCn4mwTZV+PRX3373nUyUpKuff/gjceo2aCz1mAkxXXHINbxU3+EWt50jzKKlgfYBEzTkhRVALFEXqn6htv+H32pBH5YNW1bkqXc6gZZLPlFNxsgShtQwXhWFMvWdUb5XP3Hx1+/SXaOGxzgEk8uKTWWlVWW8BH/dZpWu39QyquixlXTEqTscQVXk/zAWFxaqovahUdu4YhS+6rYHJpazUdQxmj6qerXqBeVborZd8hCVx8mW30zv4/CSmcKxdysfAqaiXE5lhoDEOZSZCCYouGqQyW9FvmPf2vV+nxodbW8/w8mRGhgrevLpZ0W4JW2qepprOmHcs+GlYbNHlkmBVBQF91Tf4YawGlVgzcaYposjkzuMdpT6wIAb9Xgm/CKw50O5qAXnE59+WxYYa9jBKyp22TAKzmwHvy2Pe+p0NgYyajokHD8xkgvRX6U6GoqwYHI4UoztCkzSoEqdSbjlm0zh8T4T5dPOCZe4s5V5pvhTvaNPStcvhf1HFdAy5VPVxLFaHpUy9Z1Rw8BfpnTFCUf9Rg0PLZTKTqvKeEk5RO2XKnpsJa1x6k6mBYeofWjUNk7aUlGcCeWoY3TU/ilVetK5RW27fB+Vx0kXVxT3OLxklPDMz8qDgAm4K09ZVZqUsvfzxZfmi8po+GxU1OOGDx7gNgmdv1lpEm8JMQQMgTJHYNg9o5zuz0ewveLS7GrsZZ6oKh4BBqYgNc5WxbO70mTPxsuVpqgsoYaAIVCFEDAV5SpUmOWdFQwsLXrzLffJJ5+Luutee+0uRmfKa6WtvPNr8RkChkA0BJ71BszYI7yDN2jS0O8Lj6JWFy3kwvj64MOP/H7BuWKNPHg0W2FCr5hQONroG799gL1zRpUPARsvK1+ZWIoMAUOg6iJgAm7VLVvLmSFgCBgChoAhYAgYAoaAIWAIGAKrFAL/mtZcpbJtmTUEDAFDwBAwBAwBQ8AQMAQMAUPAEKhqCJiAW9VK1PJjCBgChoAhYAgYAoaAIWAIGAKGwCqKgAm4q2jBW7YNAUPAEDAEDAFDwBAwBAwBQ8AQqGoImIBb1UrU8mMIGAKGgCFgCBgChoAhYAgYAobAKoqACbiraMFbtg0BQ8AQMAQMAUPAEDAEDAFDwBCoagiYgFvVStTyYwgYAoaAIWAIGAKGgCFgCBgChsAqioAJuKtowVu2DQFDwBAwBAwBQ8AQMAQMAUPAEKhqCJiAW9VK1PJjCBgChoAhYAgYAoaAIWAIGAKGwCqKgAm4q2jBW7YNAUPAEDAEDAFDwBAwBAwBQ8AQqGoImIBb1UrU8mMIGAKGgCFgCBgChoAhYAgYAobAKoqACbiraMFbtg0BQ8AQMAQMAUPAEDAEDAFDwBCoagiYgFvVStTyYwgYAoaAIWAIGAKGgCFgCBgChsAqioAJuKtowVu2DQFDwBAwBAwBQ8AQMAQMAUPAEKhqCJiAW9VK1PJjCBgChoAhYAgYAoaAIWAIGAKGwCqKgAm4q2jBW7YNAUPAEDAEDAFDwBAwBAwBQ8AQqGoImIBb1UrU8mMIGAKGgCFgCBgChoAhYAgYAobAKoqACbiVqOAfGPuwO6ZhUzf/lVdjp+qVha/Lt6MfHBf721Xpg67d+7jTW57nfvrpv1U+28NH3C95fePNt6t8XjWD+bQhDaOqX5ctWy714vKrO1X1rFr+UiCwsvaB3/+wxHXscpOMc7Xqn+h+/uXXFLkre6drruvmmjQ/x/2w5MfYkVn/FBuy2B/8+ddfbvazL7iFry6K/W3cDxhb4ScYayuSVsWxHrzHTZgs+M+d93JFwm9xV1IETMCtRAUzacrj7pNPP3Nznp0bO1Wzn3tBvp00+bHY365KHyx+5z0Z+JYtX17ls/3Fl19JXn/59bcqn1fNYD5tSMOo6tcV/6yQevHmW4urelYtfykQWFn7wNZtL3MT/fjGGLnLTju46tXSsy/Pz33JTZ46reBC8K+//SbhIti89fY7KdDN7LSy9E9lhV9mdArz9ptvvnPnt2vvuvfqV5gAfSg//viTlPu8l19JCpOxFUGasbYiaVUc68H762++Ffx/+u/PFQm/xV1JEVi9kqZrlUzWzTd1cc/Med6d0axJ7Pyfe3YLt9Zaa7n6dY6M/a19YAhUFQTyaUNVBQPLhyFQ1RBgtfTd9z5w6623rnv5+Vlu3XXWyZjFYfeOcvNeWuCmThrjNt5ow4x+47zccIMN3JBB/YSxPvKIQ+N8Kn5Xlv6prPCLDVgl+eBjP6nCyn2DY+q5Iw6rWUlSZckwBAyBTAiYgJsJnXJ+t89eezj+c6EtNt/MXXFJ21w+tW8MgSqDQD5tqMqAYBkxBKoYAt9++53kqNbhh2YVbss66yccd0zOUVj/lDN09qEhYAgYArEQMAE3FlzpPaOmMnb8JHfcsfXcBhus76ZMfUJmnHffbRd32cUXuO2329a9tuhNN+r+h9wHH33sdt15J3fsMXVdoxOPTwTKN6gGtTn3LBF0g2Fuvtmmbuq0me7V1xa5zb0we3Tdo1yL5k1d9erFalqoS93nw65T+wh3SqOG7r9eZePmWwa4HXfYzp184nHuwYcmuvkLFrqtt97KnX3m6e6oIw9333im4e57R7vX33jL1dhkY3foIQe5C1qf7VZfvbha3Hvfg+6dd993Ha661G211ZaJdHLTq+9A2cd6y81d3RprrOHGT5ziw3/VtbuwtXvt9Tfck08/K3uUah12iLv4wjYy8z718RnusSdmuh/8Xqr999vHnXZqI3eAv6aioqIid9313d2KFf+4njd2cuuuu26St5lPzXaznpztjqlfx514wrHib9KUqe6l+QsF923/s43bZ+893Tktm7uNNkw/gx8njySAdL340nz3wtyX3bz5r7jddtnJHXnEYe7Yo+tKHpMSmeKBvSIzZj3jUBNce5213f777O2aND7R7bbrzgnflBvl16NbJ6lTL/l4fvR7hvfYbVfXru25boftt0v45Yb9xODB6j8rHTUP3N9d0ObsJD+ZHsA4F+yC9TPXOk+6fvvtd8fe8Td9HUbVas/dd3MHHbifa3F6cf1mr13P3v0lCx2uvsxtteUWieywX338hClum222dldfcbG0u2AbsnZQOdsBAsszfp/cvJcX+DL/2h1xaE132KEHS/9Vzauesofu8SdmST9F+wjS33//7bp0u1nafJ+eN7g111zT/fHnn7K147kX5rl33//A1TzoAFe71mGJ8Pg+WBdYiXno4UfE3kH7Sy90xzc4OhhF4r4QbSNb3z3nubnuMd+3N21ykvQlicj9zYRJj0qfdtEF50ofUag2Rxz//POP9Mf0y999972r5Vck69Wp7Q735RCm777/wT09+zn37PMvup9//kXKpV7d2kkTsjoGkFb6LPqjP//8y41/8N5wcInnP/74wz3t/TF2LPLjEH02K2T1/fi2/vrrib+b+9zm3v/wI7l/1Y8trKRBt/a5yVFXgsT4OGbcJKd2B/oPHOw2rVHDNfNjzRGHHyJjIvWgU4f2bsxDE2S8pd51vPpyCSZK/3yrD/Pbb793PW/qLMK25pux710/Xs725clq8047bu+1sU4VrDSN+YzxGgYr09Rz0rql7wsbn3yCr+uHO3Dafvtts050MwY/TzvxaYQfYAxufc6Zbp211xb+IhN+pCFKXQjW0z1231X2qLIlgvTV9/WmwdHFfJLmiStlB4+DP8bGfX1dgFf5zzb/F/SW032cMgpHAK+z+N33xFnr37rrreN6duuc5BU8UUFfsPA1938eV+rxWWec5nm06qX80b/R7jfccAPpo+Bj+CYbxR3rSVOUuJSvmTtvvudvFjj6LOpFs6aN3ZZbbJ6UrExthHA6de3p/v7f3+7GGzo4NB6CpP16vTq1XKOTTgi+kvtgH33O2We4kaPG+DHiFbf6Gqu7Y+od5fnr+mnrA2HPePIZ947nrfbacw+/2l5X+MNgJNl4jaDfTO0k6C8qxsFv7L58EFjNV8ii8omqasfCwHX1dV3dIQcfKB1cMLeoVXXpeJW7/sZeQWe579X9enemF1QhBJuRo8e44XcNEIFJw4ThQHALU8sWzbzwV9zJPvn0HHfRZde4872Aev11V4mgULdBY7fdttu45b6z0RlwDQNVqT633u6WLv1DneSKwD3ott5yzz4WOo3pj453COpBqndcY/f5F1+5t1+bKwNjpxt6uocnTRGm8oUXkzf8H3zQ/r6z3NeNGPVgMAi5nzrxQWFqSr3wDhdffq0Ibnfd3tc1PP7YJC8YdmAQhXk66ID9XZsLL3PhePlgxx22d2NH353opE9r4QXwRW+6ubOfcFt7oT1OHgnvjiH3uNvvHMZtEsE8jRp+pwj7SS8CD3cOvdcNvGNowOXfW/JB3YEwoEJ51atzpAyC//oqvps9c4pMmPBE+TU941yZNAn6o87BIFBvRt97VxKTFfQHAx8Vu+B33Gv9zKfOs4em2VnnlaqfhM9KyZ0D+giDoG0DweTuwbfx2mFMBKNsYPXAyCEiHKg/bUMIzNYOktsBwuA+B9WWvmHOrKmCZXm2A8r8lNNbyb42iTzwc9H557rrrr1CJtZOOvVMab9PT38k4MMJY9/qvEtEYBlz3zCHwHveRVekbP9otVx5eTv5PlgXlv7xZyL+Pj27ptwWUoi2EaXvpl+EiYZhbnlms6S8YhBqzLiJifpdiDanfSDta8asp5Pi46H/Ld1d01NOTrh/64XfRqe1TOCVeOFvgn2LjgHB/oB+6M1Xng9+krhf7u0gXHDxlSnLjTAIe+2115I2zr7bMH3w1oLEBK++e2LGU+6yq67Tx8S1783d3OmnnZLoW4PlgoB4+629XNT++fiTT5f+duG8Z9wmG2/kNN9MLiN4hmlQ/14JZj7cP2l5BtMT/D44xuPOpEwqPuKkhg3ctOlPugP339dNGjcqGETSvaYVR3gDxnCIcfKR8aPc3BfnZ8Qval3QfCG4MTESJvJ7/4ghicn0Rx593F3b6UbxFkwX9Yc2vt++e4eDSPv88SefuWNPbCqTL6ioQ5rvKGUUDljLO+i+6aY13IIXnpQJknMvuNTB4yDohPmp5qc1cUzCrbbaavI5wiF9V5gID14IniQdxR3r48SVjq8hXaPuGez23nN3SVaUNnJJ+47SrwTrveapZZt2snVAx2t116v20SwAQSwGBYn6MOvxiQmcBnh+arDnq9LVs9v69nCnNj5JgojKa+BZ6wv3wfqo7UQXTeJgTFhG5YtA8vRn+cZdJWNj9q7Tte3dO6/Pc6/PnyOzlXRMDEp0dovmP+s+eGu+63jN5ZJ/VnSzEUIKK3KE99rLs133rsUDOIzPl199nfFzBrCDDthXvnv/zZcTzN4NN/V2O/qVwBeemeY+WvyKMFAExKwVs2i5EkImjMmHby9wTz3xiKz8IogKE+eF+ffeeMm9tfB52ctCHFMem542KlZ4oSdmPpXkh5VnwmRV+WC/WvnMnOeESaIjIk7y8+S0SSIwwhhNm/Fk0ve5PsA8IdzS6cNEwGA9++RUiYdZ9d79bk8bNBZAVbgFH+oAe8nOO+cs+SaVFUZWNKc8fL/E88j40TKI4plVd6VOXXvIIAADMPOxhwX3xx4Z67bYfPOUkyL6nV4LgV0+dX7k6LEioLIKD8MALhPHjpTVcJhvNAiga668RJgwJnJm+lla6E4/2YBwy/5zVtEzkbWDytEO/vprmTB4GG2BeX9xznQpcyZ4YF7uHjFaLGPuucdujpUf2u/7HxSv3mn5ogEBsSoHITTQ78A0z5n5aKK9EB6MW1iIoy7s5Bn6J6aMc+8umudOa/KvMCcBlvwUom3k03cH0xK+z6fNaVjgwmQCYwpCKJOeEIKGtjssbjN5QHkxeYpQt/i1F92Avj3FL8y9Ckni4H9IG5MGC1982r0yt7QArf669egr5Rbsu2BeVUCmb4OY4KAfhOgnPn5nofyr9pK8KPnR90w4Qgg4+Ee4DdIHH30iY95br77g+vW60eXSPwfD4x7hFqaeOsXEkU5c9+l/R9hrqeco9YSJWRVu+/W+ScZReIIbr+8gwm2pQEMOCA9MQjN+Me6TxjcWPCcTqbQzVvIz4ZdLXUC4Rfib+fgEaZeMTQgJ5LfvbXdKCllj6X/7ELkfM+puSZfyKvBOwwLjXShLsR9zKSPSrloIDY6pJ/WJsSpI8CMneC0Q6jxtifKBwPvDEiHts8+/cO38pD1E+2Fx4NWXZrvzzi2ePGKSccWKFfI+1U+csT5OXI96Hgy+hv4S3gQeDb6G1XPavda5qG1E+9PH/YRLkJb4sOCTqH+He42dTIRg+/W337qH7h8u48NzTz0mdZP6cNGlV5fCiXoGXwymL/rFCyZKoW49bhGtO+6j8hpR2gnhxcEY/0blj0C18o+yasfI4Hzh+ed4g09rinoG6slKqNqiyonKSts2rcSZhgzTl4lg9Dp3uFLCY+ao1VnNZVaJbz76+NNMn8o7Olu+Q/X4Eq8urNTdq8CiFsPsIgICK4YQM5G5EqslqD+jOoaKVmsvfECEzYCPOjPqxqgtQ4vefEuuqX6YbaXTZWYaVTYlhByoxemnSjx7+33LDEDjHxwhcZKfnXfawaEqBy3w6m+FoImTi1e7WFFmphwGC1XoYSUrivo+VVyof5FGBkvwoQ6gBnTJReeJ91Sz3L39hADMH/GgLtSmVbEwvLhE6KPegA009I5b3a677FyMh59tvWfIQHHP9lMI7PKp8wgp4EIdZeADl4P8pAXCDwRTB4HfwH7FTPUNflULtaVh94ySdoDachSydlDx7WDxO++K0Eq9hjFH3Zwypw4NGXSrFOPkR6fJ9fSmxUIJ6vdKrNZOeewJeTzumPrC6Nw/Zrz0E0Pv7O+22+4/ifai4aWa4Lpn6EARoFFv1i0ZGodeC9E28u27NS3haz5tTsOi7cEIMjbQz6JOCbMNPeUZRgjVTMYDBMbOXq2XFUtWVVEb177rhRdfEr/6Q9+OocRN/LYXxsFURDnC/EPDAn3XLjvv6Ab7/pX0IHChpVEW1L9PdxnzMFZFHcilfw6nC+xQuyQ8Jluv8KrvEJNwMOaZKEo90TECrQTKjnEUFVAm+HSiNFMcH3qhHtrT8xOqDosa+IB+N0sfzHibiXKpC5Tj4IF9ZUsW4xgrgcPuLG7n4yYUa2b86i1TgxF0wP77yJU2eakfGx/2Y3q7knFcXuT5k08ZZYqasesWryVAnSfPlI9Osry9+D35dKbfUkU9YCsN7Yc6hwG0Lh2vTKwAf/zJpymjiTvWx4kLa+MQEz3wJvBo8DVdO18jCxFYK0ctPWobUb4NPo2yVdL6e7pXe6bPz0b034cdcrD4RU2d9NGu3lrMGPJ50udoMMAXk0YWPq64rLjtgbcuAkXlNaK2kzgYJyXWHsoNgdXLLaZVJCJmK4OE8ScIho6OQ4kGzkwmM6f/+9//hGnQd+ErjVxVXPTd0X4/wqgHxrlff/1VnVJeiTdocZKBgw6AAWX3wL5PPt5u2/9IGPkcobPfPnslpUP3b+xVouKiL1UVZ1kG4R5G4Qy/6j3y/rGy90vVlFllhk7xqmUQgzX/ME0wY//1e8R+//13t9Dv6YEKwSQxy8yeGegXvycU1e0w0Zl+9fU3bpv/2zr8SiY2YEoJh5k/ZkPZD8J/OjrAC9FBYo80xLfQhx8XMyysXCme8sL/MLmAQRMGg0xUCOzyqfMwdhDYsW/uN19uYDJ7TjG+SwMTG9Tl9pdd5AYNvtu1bH2RfDfQqxYG67c4pvixdlA52sHbfn8UhEpZWLCsVbLqxgogKxkwLT379BdV+MtLJgpf9nYEqCusEsBIvvf+hxIebq++9obc68/vS5fKrbZbdaddhPeG6bvgtRBtI5++O5iW8H0+bU7D0v5Un7myb41tMnoEzuIS5hx82X8bpF9Kxh71q+/Y/5yNlImk7wrbd2Dij76Scnv//Y+8vYbo6qnZ4tX3B3qtpiAx8Ry3fw5+z33N0NjP2KdjPFhRX9NRlHqik33sfQ7TMd4GBONkJmLCBkLbgVX5U085SfaqM3aQ92yUS11gpU55AA2fiVhV+0TlmUkuxgHG7ibNWrlW3m7GYX6s23mnHV3Ng7PXJQ03yjWfMsoUPviFhbb6fj87K5bwBBC2SSA9p1ceSn6wSwItfud9magucU5c4o71UeMCY+WT6vt970GCX9XtQOoepY3wHXvP6Uee9W1Y99pOmz5Lgjnl5IYaXMYrBuWCxIROndq1vD2ZCWJngckwpUNrFvNG+oygy15v+DTqGAJ7VF4jajuJijH13ahiEDABt8C4r+0bVipaw2+Sz5WYFQxTFAaNb9byQmI6Ws3PzBWaOKooFa0emrELC+ypvsENg1kM3Kgpw5CpejIMHoa7IATbAYOGelWmUfJcFj90kkrsdU5Hn372eUoBF//sS+rVb2DKvWypwtvIG6AIUphB+qRktnfnQEcf9E/Hmk3ALQR2+dR5VKC6ePV9XZUPpj/VPRoIDHB8x94aVtKjkLWDKChl95NvO1DtkB132K5UZDCIyuiiJoYxNd1bhZoyhthUPRnmHFLjQ9yj4peKEM6Ck1zrZDliRsMoRNvIp+/WdKS65tPmNDztP/WZq7qxPQLCYBfE5FM6fHWSQTz6n3Rp0/dcPygxGpWu74LxRsDFX1kIuGunGKfi9s/B/HC/0UYbhZ1cjRobyyR2qRchhyj1RFettgoZ/SGo/9t6y1CIpR+ZbEcFtWv33oKtTvww+dem1Zky1pb+6l+XXOqC7qX8N5Tiu929wURU21mxRMDFZsJVHW+QrUeolUJMfKD1dZHXiGOyuxCUTxllin/TGpuUer2x13YI0gt+/y00dPh9Qeek+3QruHHH+qhx0Z/TPzLhgGZGNoraRprAt3kBFzVlBFzGayZWmFwM23NJFSf+Um1BYMII+qhEG0G/DWONO4ZTgxSV14jaTqJiHEyD3ZcvArlLXeWbToutAhHA2maYMNJSHrSvXxGmU0MVF0MhKgih5qLU//a7xEojA+KpXvWHfbmo3bGHo/01xfvK1G+6a7Y8brLxv53lhDEjSwWzbPkyP5mwlttll39nFYOesCiKETII9dsjvHXpTTfdxFsKXd81alqsehz0H+V+s82KtQO+/7549jf8zbff/yuUh9/pcyGw07ByubY6/xKZuYfJOrnhcTL4oTbHviBUT8OEhUcGKgjVKvbmstJWHpStjpRlGqpKO1BNAy3DMGYIttDmJXW7qRdkUW1DTRmtBNSTUQc87JCaSf6Y/Bk1fLC4BX+0XWaa4Aj6D96Xd9v4p6h0P7vca/eUFf3400+CaTB8rLVD25ZYrsViP4RKZcszmsm9/pDev/9eIWrL6hb1ivVfKF3f9b1XiYTUnzyU4U9Z9M+FTi5GA9G8QtANr3pH2apEelBBfWbGFPe63/rxst+6M91PHDN5gXDJJBDbftJRLnUh3RiEyiukYaKCyriKgShWPec8P1faPXYrPvKaShgBW9mJyTv26nLyxM47JvMJ2k9tueXmKbMZd6yPGtdmvi+FmGzAqF4qoVITFKeNYA0dvg1+DY2sp72dFCi8F17DDl+/CSwoBN/9sKSY19kixSRP0F+q+zi8RpR2EhXjVGkxt/JBwATc8sF5pYxl3XXXkXSjVojRFyWssKZjUNVPIa8Mulh8xkCEqicHj/VQIzKDvcVd9m8qfT+zeBDV51TXqHlkdlNVfjmSJnhUTapww26q0oxxsXYXtE681oE+4RDjZo8Sy9YcXcBqU1DlE2ZFj8rIFGQ+2GUKN8o7mDVW9BBOxo4alnQUFAJumFDzu7bzjeLcrm1r2YPb6YYesioRVSMgHGaU56h1JEpY+fipCu0AxgdC3ZK9g0FCuGU1gVUf1VZAbY57Vg4wlsf7Nt4wmzJie+5RrOLOCgpHSxWyHpRX29AV5VTtNd2KThC3XO9fX/RWKdVUjmiBmHCCEKogyiCsFi0vcvzhKDAoVd+FerraZtgrMO7kEtU/PqwoVBb9c5R44/jZ35cJAsPYhye5w/0RNFrXwQutlqiEfQzGSf7ZL83xgmwFmPr49FICbhC/XOoCR/+QvqD6LvY0tK5j7C1ITGLxjzVx6iLW1tmLfUvPbpFWGINhlcU942yuVPPAA0TARdU2bluKO9bHiYu2Tnm8/8GHSXwe+cSgI5NenK4Rt42w+t7ba6wxWcGRb1CqbRHyIvQDf8l4gGpxkJiYgRAu41BcXoOws7WTOBjHSav5LRwChddRLVzaLKQKRkD3ItDJacfOHtK7ho0o15Q18uf4QlhTZAaUYx1YoVWqXr14nobzUpWwBJ1JFUj9xckjTAXUsctNsm9aw0Ated+aR7md9jzY6b40fadXVVHnDEklBv6BdwzTx9hX1NqYJWUw6DfgzqTvb/RqXggD2Sgf7LKFne199ZLzlklnUCOAPX2TpjxW6vPuvW6VvHIM1rVXFh/NgNrTuAmTS/ktpEOcOlLIeMNhVYV2oEwyTKtqY5BP+hc9JuTIWv/uvWJiCVV0bBXcOvAugaRx4PxE+gGYHVYgOMIiSKxO0SY5FicXKq+2ocwrZzgGjbKgQkp/V1bEpGHQQjXGWHr1HSDRHewnCyCt+2P8OeociaGENgPnroIvR3XEJfa8MmFI36XWdDWMQXcNl/Kkb2O1PhdSFWQ1yJctjLLon7PFGfd9o5OOl4kGtJk4I57yoI60v7aLXLOFR/ugvNQqrvrfeqvi1fQaATXbVPjlUhdol+H6wZYUCCNMCL5YVCZdJzZpkbSVQFfpmFzR8sEv4zp2NsqTVAOEc9dTafJESYvuJ2YcQ+BSQuCnjwIDznBPRXHH+jhxcV44dE2nbkn4U7cuvqKDG+gtLNMPaxlE5WFOLuHbBg+5V9ST2W6iK8ap8hh2YzxQvpN3nGVM+UNh+zHimOEnDq8RtZ3EwZiFDBaK8lnQyJA9e5UGAVvBTQOMOTtX12/o7+dN+aMieODh9d1JJxwne6LU2EV5YYQ6VvD8uiaNTkyKGsaf40A4U5FjDjAwMMcbRPkrggXOOHm8yls/hOFEqOKs2jpHHuHPGF6esGSMBemg4B1MJJ07RsE4Doj9bcxco277/Q/ZV5mD4YTvsegMY3DvfQ/6cnpe9qsxCDCAgltwIA1/y3M+2KUKL44bxmSYyQZT8nBMvTqecflZBB9dwdPwWE1jFQ9hprXfL8bsKlamj2/UXBg2rICzj6gsKE4dKYv4Ncyq0A4QWNhvd6E/6oG97JQ/Rtnmzpsvwg6rCddedZlmWa7s52KFilUG3geNi+BhyKB+ck4rR11M8ysFMB7M/tNOoavbXyzXuD/l1Tb28KuUanTngEPryWrJX8uWJdpBlImquHnDP/XphMbNxcI9goZaOWVCgTNyIfajgS9nW3J+J0Zm2As936u3cgIA5Yn15VwI67onNT1TjpBD/RFL8a+/8ZZMZtD+o1qCTxU3GkesOHXpdrOvBy+JtkAmQ0pl1T+nSluubqxmoYbPGfATJz8m/xoWxz31zXIcUWMvIKPyy1m6GPnCwNcPS35MTBCe1qSRBicreanwi1sXqGMIpOydZy+1jk2UL1uOoEN8e6X+o81z8qlnOQxooqExacrj8h7ruNRPjHGede6F4obqfvtLi+/FoYx/tt++2N4HbbFh4zNc3Tq1vPXjq2LFSh3D2jU2ReAfOHIIOxuzvSDJRA/lETasFIwgzlgfJ67LL27rDfQtkrI5tHYDsXuAYSydXLum/SViIDVuG0HLLci36fFBwTylu6d+YGzwiHoNvbXzQ93HH3+asCdy79Dbk7S90oURdI/Da0RtJ3EwZpJnwqRH5eSAsOZSMJ12X1gEbAW3sHiWCg1GPBupqlG1aquJV33O9F3CT8kB4hpPyWNCfSlVGGuWGLxazRXHp34SYZY4wCTQmTD40LFzrMPnnnGE8QgLE+nSXs0PVFDYoJXGVc0PXFFIz8SFoWJ/RJAu98cmcE4wxFm1DIwwS8PvGhj0JveJ9JQAFSePCM7knfOMsRTIHlBm00kTZ0hyfEM6QgDj7Dv8sseIM4wxvPXAyKFpVykUIw1Ty0vLD3cEPgyHMBvOKhdC4G+//eYG3dbbD1RHyadaNhpO8BoHu+B3me61Lmbyo3mjjLB2yABP/WJVj7LkLGkIf6yKd/Cr5hBMkaq7YURLMb/hpuJVAc2rhq9X+Tj0ozgqrvo6/E2cOhKOX8NM1LtQf6BxlWc70Dg1bVzj5DGfdkBcx3qLrzBr1FmYKFZzIdrVyGGDSlnFPvCA/RL9TXDvvXzkfzBGNdafn4lQJmcnegYe4RZhmHM19YzkVPnWMFJdy6JtEE8iHSV9EFbAacOkF2IbBu1AjhMpmcxLfCM+Sv/EaXNaF4f7483AjJUahFv6JpivXn7iKEj4oT+BAYfppO9CuGUycdLY+xLbNdLV/WBYwXuOdBr3wL0SDhN99Kdcjz+2vhtz37Ck/cGav2w4aPgX+GP46FcgxoQPPvxYX8k1HE6c/rn66sVjloYRJd9x/GpC9RtfYdRJJoQWzX9WxiG2utzQ6Wo3e+YU1+DoeuJHyzbxQeAGA2LTJj8khvkoR1aq0H5hSwB4K158kg6/qHVBo2VbBeeTUq6MTUy4Es/9I4Y49t1C9OeTx98vVtMZw0aMelAmghljOUqsQ8mEF896lFH4tAaNj6uWR7BPVbcEpsEPSu4zvWPiWo87ou4zSQBpuCFWqiTE4ovWXZ46e6GYkwAYt2njTFQw9nFcF7yWbr1ICqDkIe5YHzUujvLiiDXUwjfwx07RH9Mvo0FBnnVfdpw2oulXoRaBtZ63Kh2V9tpjd6mT6/ltcqQHY5n0j/1v6S4TIBpOtZK2kars1K3aasU8aBReg3DjtJOoGKshvlpeWDcqPwRW8yqnReUXncW0siKAyi/HBzGjH+ywK1N+MJLwjTcsxWCEClxciptHLBCu6QfdoGpXlDg55ofOl1nFQtLvvy91HI2SSxnli12++eCcPwxIbLH55mnPzsw3jkJ8H7eOFCLOuGHkW5Zx85hrOyBf7BXn2K24e9rTYYLa/9fffOstaG6S2Mebzm9U93zxjBoP/lBXRP2So1WCe+rjhBHXL3GyvQMDYMoUpguD8oIhJ30IHIUiMP7OG8UjXJ3AKkTYqDhy1Nj6660XOdyy6p/zzQ/q5G+/864IhuHVaFaIBnuB9ZyWZ7ibbuiYNarlfixHXXIzPwYxYZWOMuGXqS4gzGJUEa0mJiEpX4RcrN1mig/1X9LFvnTOiE1Fy5Ytr9AxggnX6tWqewOR66VKXmQ32hxaZhjUyyTYpgow7lgfJy7wX8/vE86Uv6hthNVqtjJErZdo3tRt0Fg0RcY/WLzlhLiwop2uPqTCJ5NbHF4jajshvnQYI2LtvFdNmUBc8MKTmZJm7wqMgKkoFxjQqhpcqmMMKlteGSR0VjiXtMXNY65MOQJoWRADUqZBKVOc+WKXKewo79jjEzYoEeW78vYTt46Ud/qIL9+yjJvHXNsBaYXZzcTw4icOIRwVuh7li2ec9GOAhv/ypDhxUlb59LHp8gXGZWENnUmCdNtG0qWlrPrndPFFdWex6prritV6e3br7A499CDHOfKcT3yfFyQgXeHMFiYCQ5R2kgm/OHWB8lUL6pnSxuR5Nn+sOFYkxa1P6dIqAlsaIT7dN+oed6yPE1f43GKNM3jN1kaY/MBIGCrxEKrZuVK2uOKGG4fXiNpOSEM6jHXf7QnHHR03qeY/TwRMwM0TQPvcEDAEDAFDwBAwBAyBskSALRls3bil/yDXtUefUlFhfI/9q0aGQEUigBbN3gcemUgCq/hsR1hVSc+vxmaLUfkiYCrK5Yu3xWYIGAKGgCFgCBgChkBOCGAgat7LC2RfMSue7J/H5sTuJcfG5RRogT/64MOPvJGvua6mNyIXPLqvwNFYcJUQAdTMe/e73W3gNcoo+7DNlExJRvV67PhJbuuttxRje5n8rizv2DKz4JXXvFGxuuWunbOyYFRW6TQBt6yQtXANAUPAEDAEDAFDwBAwBAwBQ8AQMATKFYFi82LlGqVFZggYAoaAIWAIGAKGgCFgCBgChoAhYAgUHgETcAuPqYVoCBgChoAhYAgYAoaAIWAIGAKGgCFQAQiYgFsBoFuUhoAhYAgYAoaAIWAIGAKGgCFgCBgChUfABNzCY2ohGgKGgCFgCBgChoAhYAgYAoaAIWAIVAACJuBWAOgWpSFgCBgChoAhYAgYAoaAIWAIGAKGQOERMAG38JhaiIaAIWAIGAKGgCFgCBgChoAhYAgYAhWAgAm4FQC6RWkIGAKGgCFgCBgChoAhYAgYAoaAIVB4BEzALTymFqIhYAgYAoaAIWAIGAKGgCFgCBgChkAFIGACbgWAblEaAoaAIWAIGAKGgCFgCBgChoAhYAgUHgETcAuPqYVoCBgChoAhYAgYAoaAIWAIGAKGgCFQAQiYgFsBoFuUhoAhYAgYAoaAIWAIGAKGgCFgCBgChUfABNzCY2ohGgKGgCFgCBgChoAhYAgYAoaAIWAIVAACJuBWAOgWpSFgCBgChoAhYAgYAoaAIWAIGAKGQOERMAG38JhaiIaAIWAIGAKGgCFgCBgChoAhYAgYAhWAgAm4FQC6RWkIGAKGgCFgCBgChoAhYAgYAoaAIVB4BEzALTympULs2r2PO73lee6nn/5b6l0hHZYtWy7xXH51p0IGW2ZhXXNdN9ek+TnuhyU/llkcVS1g6hB1iTplVPEI/PjjT+60Fq3dlR2ur9DETJz8mGvZpp07pHYDN3jovRWalnwif+PNt6V+Dx9xfz7BlMu3+Za99X/Zi2llqg9///23u3XgYBnTaIdz572cPYMhH+MmTJb6n8u3oaAq7WNFlunKxiPFLcRvvv3OjXloYk51L25cVd1/RdbTqo5teeXPBNwCIv383Jfc5KnT3M+//JoU6uJ33nMLX13kli1fnuRe6IcV/6yQeN58a3Ghgy54eL/+9ptgRSfy1tvvFDz88grw3fc+kHx8+NEn5RIldYi6RJ0ySkYgXftL9pXbU1FRkZsy9Qn32LQZSQG8tfhd99qiN93Ux2e4X35NbvdJHsvw4alnnnUdu9zk5r20wNXYeGO3ySYbl2FshQka4ZC+ct7LryQF+Muvv0n9/uLLr5LcK+NDPmVfVfq/si6Xlak+9L3tTjd0+H2OMW2H7bd1a6+1dlp40o0bX3/zrdT/n/77c9pvV/YXFVmmKxOPlEs5Dxo83HXt0ce1Ou8St2LFilyCsG9KEKjIemqFUBgEVi9MMBYKCAy7d5QwmVMnjXEbb7ShgZIBgQ032MANGdTPMaAfecShGXxW7ldPz37O3TZoiOva+Vq3y847Vu7EVvHUlWX7++eff9zV13UVBBuddEICSeruDZ2vcVttsYXbaMOKafNz582X9HS85nLX7oLWibRV5puPP/3MsYLZ4Jh67ojDalbmpKZNWz5lX1X6v7TgrIIvnpnzvOR64tiR7qAD98+IgI0bGeGxlzkg8Meff7qHJ01JfPmin/A86sjDE892YwisagiYgLuqlXglyu8Jxx1TiVJjSTEE4iOw+uqru/POOSv+hwX84suvvpbQatcyZqaAsGYNKt+yt/4vK8QrlYdP/KQNdMD++65U6bbEVg0EmDSBttpqS/etV1WeNOUxE3CrRtFaLnJEwATcHIELfvbqa4vcmHGTRDUJ9/5+H86mNWq4Zqc2ckccfkjCKyojDz40wc198WX3zXffu0MOPtA1PeUkt+ceuyX8cIM65IsvzXcvzH3ZzZv/itttl538Kudh7tij67r11ls3yW+UB2b25jw71z33wjz37vsfuJoHHeBq1zrM1al9hKtWLVlLnb0/M2Y9Iyqwa6+zttt/n71dk8Ynut123TkR1c23DHD/9SpUnTq09/s9JjhUQw879GDX8erLnb7r0a2TGzt+knvJp/9Hv290j912de3anutVt7ZLhMN+pW+//d71vKmzW3edddz4iVPc/AWvunYXtnbvvvu+m/3cXIcq1047bu/OaHZqqc6a/TR06uRr8Tvvup122kGEjRV+te3BsRPcMfXruBNPODYRX/AGNV/Sd9yx9dyaa64p6qfEde+w2922/9nG/fbb7270g+Pcm159GnXJPXffzc/K7+danN7UVa9eTdTQe/bun1CvnvDIo3J/wP77uFZnNZeo4uAeTJvevzR/oZvz3AvuRb9Ct+WWW7jGJ5/gDjpgP32ddI0T13ff/+BYbaCsv/zqG7ffPnu5I319OP7Y+klhZsNg9rMvuMefmCV1nLoepBUr/nHX39jL/e9//3M3d+/i1ll7bcf+IOo/KvS/enz33XtPyRPtIBs99sRM9zz115fR1ltv5Q7Ybx/X+pwzJdwo7e/Tzz6X8n7bq3YvXfqH23efPd0x9eq4enWOTESt9e+iC86VegtGf/75l7Tjub49KrHyCLFiusH66/n90Lf4NG3prr3yUnHXcKLW4yVeXXfWU7Pds8+/6CibAz2D3K5ta8kvKrwXnn+O2323XSTs4M8rC193Dz38iHv9jbfEeYDXJNjEqyifcNzRsjKqbTFVO+WDd3wbe/aFF6V+0WaOPPxQ6RP28eWiFGwnG2ywfqKdkJ7LLr7Abb/dtqKiPer+h9wHH33sdt15J3fsMXVdoxOP1yBKXXv1HegWv1usYv/q62/ISu66663jenbrnOSXsp405XG3YOFr7v98mbPSe9YZp/n2V72UP+riHN9fbLjhBpIH2j7fZCLFp9v117oHxjws/djqa6zuGvqJtzObn+a3lCxz940eK+3kf35/Zc0DD5A6t+UWm0uwf/zxR6my1zDz7f9e87g8+fSzYp+g1mGHuIsvbCN9P6rwtIUfflji9vdt4DTf7mgL0OdffOUGDb7bu+/tzml5hrjpj7aRY4+u4xoef6z036R1xx22cyefeJxvlxN937tQ2tbZZ54ufS3t9e57R0v9quHV3g895CB3QeuzHYJ9KtL+gFUjxowgsT+1S7ebvdrkP65Pzxukz43SJoNhcB8nj/otbYpxgvb188+/SN7q1a3t9tlrD/WS9spY/IIfr1H/f1nw2dIdceghrn692on6xb7ZBa+8lgijQ+eb5P7SdufL2JV44W/YvpRt3FD/4DnjyWfcO77P2mvPPXybritjmr7nmi+vkG0s0DKFj4nSx+s4NO/lBW6R75d28bwLY1bz006RMg+mPXyfazkF+9slP/zoxoyf6D7//Eu3vx+L69ep7eoedaSM2eH44GEe8OMR5QodfqjvX5o3dZtuWiPJa9R6GnV8U4yi8GNJCcnyMMnbYYDQjGt7yVWybYZ+CG2RIAXxisJnBb/V+2x50P6G/viGTlcn9dnwXYwr9erUcqoNFQXjQoxF2j/37nGDm/LYE26mb19sB6jreeGjPT9A35mNsuU92/f2vvwQWM13kEXlF13VjOmJGU+5y666rlTm+t7czZ3uO3aM0LBPD6ZLZ9nUMwLrhDEj3R6776pO7o4h97jb7xyWeNYbBplRw+90a6yxhjolXWl4+xxU22237TZuzqyp8g7G4ryLrpBBOsmzf7jikrbuysvbJZzv9MZpBt4xNPEcvBn/4L0ikONWq/6JMkN4uBdqEcIghK/bb+2VeIfgAMMZptkzpwhTjPvxJ58uTPHCec94xnwj1+mGnqJig+BN5x+mQf17JTpEqu1VHW+QTjzsD6FWysQz4FdfcXH4tTyznxKV04MP2l86W/X05LRJbh0v2Dc76zzJo7rrlVWXOwf0EQYTHMIEE9Cv900uDu7hMHh+5NHH3bWdbiz1ivhnzHpahKBJ40bJ+zhxMbPbqNnZjj2QYYIpRtUaAR7V8WwYfPDhx+7EJi2kvs2e+ahbbbXVEkEifDU/+/xEOhEsW7S6QIRLZSA0Db26X+8FiqaJb8M3Wi9wp27D5EI77rC9e2T8KD9hND9j+2MC5twLioVP+TDwg3qxrsBqPAjcCFUQ7bPZqY1lsiPwmdxSV2D8D651jLTfJ6aME3cNJ0o9Zt9u0zNaO1390TiIF0EX5nr0vXeVmtzBH4JO+2u66CeJa6dr24tQnKmdZsLkniEDE4y0tpMgJhoRaezS8SqZyFA3vWYqU2336pcrdWLBC0+KkElZ0S4RcJmMCFLz05qIgKR1jUka9puFifCmTnzQbe1XM9KR4sNkHzgHiUmFhX7iEqYqSFrnUEeHQQ6XvYaZT/+XKj3gccB++7oRox4MJkfuySeTEuz9xGgf/d/ggX2T/Gldudz3iVf5PpFJu7oNGkt7Wv6/v0v1dTff1MX1ufX2UvgzcTHott5JYesDEyYnnXqmtMunpz+iznLVcmIMG3PfsEQ5J3kqeQi2Sa2nLVs0cz1v7BwrjwT3rZ9IbnRay5T9Xbp2FUwTEwaD7hoedJJ76v60Rx5y2233H9nziGGfMKVSVab/zTRuDPDjL0biUvEKhH9b3x7u1MYnJaLKlVcggChjwQcffhS5j2cyE8Eq1dhN/R1+10AZ58NlKmnJo5y0vz2pYQM3bfqTCWz0hok45QOUR6L8dttlZ+HL1B9X+LBxD9yTEAo1rUE/eh+sp1HHtzhjtcYT5ar1Snm/vv3vcHePGO369brRNWvaOCkIxSvK+JT0YclDlDzgp+kZ5zrsFNx4fQd37tkt5Ov33v/QNTzlDBlXn54+2W2x+WaR+4JCjEXaP9OP0SeG6T7PX9c9qpY4a9lr34NjlLyHw7TnCkQAAdeoMAic1fqioh33OKjIr/olBegburjzzq/GFflGUuQbfpEXPMXdC8cJ/76DFreaRx5b5Fc3vN8VRZ9/8WVR85bni/tNN/dL+A3fLP3jD/FTt0GjxKsbe/YVtzPPaVv02WdfSHhe2C7a5+Da4j595lPi18+eyjNp9AOUpPH7H5YU+dlmcb/g4isTYR5Rr6G4kcYXXnypiHiXLVsm74Pv/AxuIr5mZ7WRbzp37ZkI57iTmombn0ETt+uu7yHPpGHq49MlzM8+/7LIz/yLO2Er3TPyAXEjH372XNLrhbKiDp1vTITh98aq91LXyY9OS/gDUzD+669lRX6vZVHPPrfJu0uv7Fi0ZMmPEvbCV19PYOZXIBPheWZE/I4cPTbhxk1U3JM+KnnwBqQSaRszbmLR778vLfr5l1+K/B7ThDt1SilqXH41skgxB6dvPF6UG2Wo9YGyh6Ji4AcrSRP1OUj6vV9hFGctW88sCsbg7CdA5Fvi1voTDIN7yoX6QF376utv5LVfWS5qc+Hl4n7/mPGJT1K1P+LRNPrVKKmr1FevviXfEzbtEdI04uZXZYq8xWqpE7zDD+78Bwk/uBGHUjCcbPVY+wDatzdUVuS1PIq8oJBIM2FrmWj44auGwXdBCrbFYDt9/8OPEnmhfoEndWzCI1MT7tRBKNhOwI824oXyRN9F+sjvr7/+JhgNvec+CYN6IBAoYgAAQABJREFUlonmv/Kq+Lvw0quTvJFXwuT/2k7dpAzCaXv/gw/lGz/rn6i3pNMzr0X//fmXRN2lTLRskyIpeVB86C8Ji7riV+0T8VMv/USNuFMP8Ue6/Gq7hJCq7DVM6ms+/R84UBc++vjTIg2TuP3qR9Hy5cuLli5dWgR2uNHWIOLjmX4rTFOnzZB3fpVfXmm7Uv/0L15AKaJ94sZ/o6ZnSZsDF+qPupPvdKRtzTOySV5uuKm3fO8n7gRP9ZetTWp94HsoTh6pqxqPX7kpYpyhDwzWacaXdKT+qAd+P6PgwzjZvVc/yQv1gXJQAh/8RqF04wZjluJM30adpp++5dZB4k74lAeUD68QZyxQDLP18YztWm/oi+Bd4IWUd/EaW5LucJnmW07B/pax0E9qSD/lje8lsHzy6TkSt/JIpJM+inZPH8FYpO2bPhHKZezINr5FHaslATF+vNV5yeudQ+6Rr+BRyCPYhymIV7bxKfwtz1HzEBxn/ISa1AflhZXvjIOxtkfyletYFOxLx0+cnOCthtw9UvCiffktP5LtcD2Nk3cJwH4qHIFk/dQKFLRXhaiZFWcGGxW7vffc3V3cto1ke+FrbySyP3Fy8crrXbf3lRUcVtNQmR02+Dbxo+8TH2S4QSXaD5IyWzb0zv4y20x4qLQNGXSrfDltRvGMJyqkrNLOfHyCrBaRxs0329RdctF54i+88oxj/z7dRXUa9WLUfIPU26/K7bfv3rIaSHxtWhXvU1zsZ/mz0XnntpSVWsJkRvKKSy+UT5il1BWdx6fPErdhPl81Dz5AMGW1hpWjKKpnmgbSyAwjGK+11pqyCskqLFiwEstKEFhgNISZPIjV+EwUB/dU4TzpreJC4IBKJrPNrBhddP65KdTEopcxatyokYIPdZG9OmCM+vttfXtKfVML3FExOKNZE0krqj5KqCE++vh0edR9hsQNoQbL6hv/zJQ+9shYN/LuO+RZPIR+1Dr1nn5mXVVO1/dqwQP63SxlxCx0NurRtZNjtZtVOeoq/01POTmhNfH+Bx8lBYE6KPnCGjF1IlfKVo+94OZQAaR8USvb2avYs2WAVYQRwwblGm2p78LtVNvyBW3OlvoFnqSBMme1A9I6qIGxggt+4IHKm/rjfc8bOznUl2knbdu0kk+oZ55x1c9jX2l3t3gNGMpA00bfCb29+D25znxytvQHrM6gEksfhnG/Lh2vTKwAf/zJp+I300+fnt1Eq4Q6Wd+rrqra+uUXt5VwcKd/aNnidAkmSh+WT/+HVg1qvtQFtme0Lln9IF1oOqDBs+6664raMgla9GaxinqmPGZ6Rz9H/4Lq8SW+7it19+qNtDnyTx+huLCyno5Ob3qKvJrpVe6VvAAh6oA8H3dMfXGO2yY1rDhX1OBJK/Wms99Og5bQ2muvJXVFxzUvuKcNEhVGCM0k1OPBhxWn66+7WrSZ0CRZ9ObitN/n84LVSLa6UKfpp6+4rHgMZPzTPffKC+TCK8QZC6L08ZQxqtrQkDtulT4MXoOx5lbPJ7CCi8ZPKsq3nDRM4ujqNXLYQkA/xSo4/ACk/IL65Tr49luk3dNvMRahHQK9ESjTqPU0yviWL18giUvzo9ifeEID8YFGB7wTmkioa6eibONTqm/i5IHtKqxyQ9163OLG+e008E5oIChfwLuoGOMXKsRYRPunvJW3YsxnVZf2xcptKoqT91Tfm1v5I7B6+Ue56sYY3j/Jfk0IwY3GA0Ojar2/+L06ML9hogH6lSy3zf9tHX5V6lmFA755NSBE4/H3pUvFv8YHg0rH4adc3Geff+H86q3sQ2UfZjo68IB9070qZWiD/VsQ4Wajmn6gChIDFqqBqHGi0rnGGqsn9juzbyZIMH/HHlNPVGOC7unu2d8WJlUXBzfU/n77/XfBYvac4vLws8DhT5Ke4+Ce9GHJw9terQdiz1WY2D/HmadKceJCjQoCn/CExHHejX+lqBgwoHbvdatXFZ+eUAN73Q9iqB+jKqnWxA/z5YS6UusLL3NtzzvH1fbWhxmEmejJRHuX7JNDhRRV+1NPOUn2kDOZQX3NRjDnTIBAnLf8xRdfyv5f6r8y6n961f4gsUe9EJStHn/99bcSDflAoAuS5k9VpYPv4t6H26kycDCAYTq63lGiIulXypJewTwGCUYfYoIouGUCZlHbKiqLCBS5EJgQVpDYT8deSPo/iH2q0J9//VWqr2SPKrT4nffdrl4VMROxFzxIW/n97lDYNoL2ucsiCO5hQ0Nx+j/2xAdJ9/zuFWorqn4dJT3B8IL3lB8TPkoIcWqkZveA3QXeb7ftf8RbpuPuEMx69ukve7VRh4bY40hfelqTk4WhxC1um+SbuLS4ZCKEuNl/GyQ90ivdEXV+ZUlU1PkmbLyNeok9DNomfXVZWAE/tGbxeKlpRtBl8gWeALXr/2zzf3nxCnHGgih9POrpEO2WtAUJQYttWOkon3IKhsne+XCfQX8GMSYFCcFmFy+ABYlJnP633+W++Kp4C0ycsSPK+IZ6LhSFHwumK9s9k9LwRkwmMCGmxNYaVN699kbShKS+zzY+gVGY4vAbfHtuyxbuqafnSF2F12Scw+aBUhyM9ZtCjEVheyOEfXyDo0Vt+e2SyXiNT69x867f2bXiEDABtxyx3yh0dBDMBA1e9yIycClddFnxzJc+B69erSaSgOtVRBKfnd+ufeI+eENnC4PIAMoeh179BibSE/SX6n7ttdIzrxt54wJBStVZBt8H7zfaaKPgo9zXqLFxYp8iRnkgBs7wgIa7rvRxn40wpBUmyqOLN5Dk1ZrCryI9x8U9HCiGrSAM+IQp7BYnLhXogoNgOHx9jooBq/y6XwymCYF1ut8jDJ3WpJEG565pf4n75ZdfRDhnf7nuMWdVHGMsKlQkPii5QZBir1zX7r0TgySvYMzbtDrTndKoYfiTUs8wsR2v754QaEt5CDms7dtCIShbPf7m22IBVwWncJw6Ax92j/scbqdqlCpclwhX3d7wTFOQ0mHCZFNZ0KY1NikV7MZ+BS5IL/j9txBnj6ajKCu4a665RsrPq1VbLcndz5VEpnz6v7XS9KurhwR+mMN8aa2Q5k0wvNX8hGtcor1qf4BmBMYJMVoIMTmlFLdN6ndxrhhUhJikTDf+qdARDpexmLGRNphKiwPjXJAKduHv830O13XCY7+/Ur68QpyxIEof/6HX2IB22y3zZJKmP3jNp5yC4TCxFiadHGK1PahRQv8Sbj8bb7xh+HMxHBll7IgyvsUZq+HHotKj3vAcxATyOef/a49ANc0QclmxDBsUzTY+pYo/bh5Yxe95YxfX4KTTJLjrvCHS8HF6cfuCQoxF2/tzqsPEfnpI20b4fdy8h7+35/JHoGy4k/LPR5WIEQuoSqlmPLHqudaaa3nLhDuqt4zXzTcrXmVBuBw1fHApvxoeTA4WY/WcT4SOI/zK5qabbuLWX3995/dilfq2Ih1UGGLQUuE8mB4dbINuce5b+UGCTg4h6uSGx4kFW9Q4H31suqh8ZwsrDu6pwtrWz4Czqo/1ac2r+vvxp2LhXp/jxKWC1Pfeqmg2ioMBKzOovc7yaspYy0Y9mTqHsRwlVvJQhcQAEipAWAfmzD6/38k97eseRmnSDeqoaz4zY4rMwr/srWz7/TvCtGJkjPJvcfqpGk2pK4J6Y29UC0Itqr5X89xmm63dBr5eY8QLVdqKop12Km7HyuCF06GrLGH3fJ938AN5uvq15McfJfjtvEpuZSe0DDACdcvNXd3OOyb3idq3bbnl5pU9GwVP34q/V5QKExXS8iJOBqA/QE2ZyTRUfZnIPeyQmpKEQrTJKHncvETLAPX1lmc0S8r+P0X/eIMxK0RtOelFyQOnIECMMazmhoUDtEEg+pKKoHx5hThjAfnL1sdvvdVWAgOnIsSlfMopGNcPS0prh7ENBGI8YgzCyFRUilNPo4xvccbqqGn0+/HdyNFjEt7DxvL0xWuvvylq4vqc6zWXPEyeOi0R3YN+vGeiSxcm4mCcCKQAN0uW/JQwJKbBeXsrcvt/JXVZ3fWaS971W7tWDAIm4JYB7v94deNciE4SNRNm4hg4w8JN3DD33GNX+YTZSo64Cc9YBsNTdWiOPml3QevEK0z3VzaC2WBfFeqKmMbnWAslGA+OFsmVYPwRbhkQx44aJnvdNCwE3HT0zz//lnkc3FOFt69XUUT9DdWjsArv64veSvokTlyq7suRFuy/CRJWk1Eh2sHPbO7kZ8LjYFDPq46CF4Jtndq1RAOA8IOqqxpXDV8XWXXlv3PH9t6iYgsRtshrWC1Pv+FKmbMPmn/2y9znj6VBFRLV6LCAG2x/L/rjKiD26rLPNUh/59hOg2Hkc7/rzsVCGUIabZ62r+SNMKWdSVY/uV5Rn8X6ear69fbbxerxWHAuD8pH8OLYHrBjP2pYba080l7Z4sD6O/SKt/7MVpNgf+8NDJZbcuvXPUr6AzSCDvLbWFgJbXPOWZ6pLV4RzqdNxsmjqp7TN8WtH6zaMsHJ6u/Hn3zm1VmTJ1AWvfG24Kl9aq7gBseNOGHkyytourONBbW8zQQoWx+vW1rQDuH4vuCqN0LYI49OE7egBWjNbz7lpGFwffW1NxP7aNWdfhWKsp1Fv9FrLvU00/gWZ6zWNGS7ekNI4gV+COvkYdJxkkmmuG0gHBbPcfPAKrI34CR7srExgZVrbyAqYdslF4xTpSuuG+06rMmmWkvaNsJhxs17+Ht7Ln8E4usglX8aV5oYVRUwihGSdJk63BuzgDp2uUnOEFV/qCXvW/Mot9OeB8s+VHXPdEUVhIGHWWiOAAoSq2CExRFGkKoack6gEvuCB95RutPU9xV51aNdMF5w17ARfnBb5B6bNsOd7/dpMiuYK1X3auMQTNnSP/6d7UWNhoPTwwSjAalaMfdxcMd/mHRvTK++AxIGRfCDyh9HdwQpTly6t4+VlaCJfMq5/bVdnLdU6j71jHAuGKCOTD3jrEuoiRdglcCSusv/Rx9/qs5u/fXWS+zRDZ/Vp56ot9RTztQN0tZbFe+ThKFQStX+1iw5UstbfhWmX/1OfGRqQuVd3TJdgys4uhcnk/8o79gHjeEmyFuFlnOgYQgeGPtwWpXKKOFm86PMHvWL42KUmNzp2qOPPB5S80B1LpOrqsYiyLNClgvpPk72gJN2Jc6npV+j3qQzGKJ+q9JVVTTp/1QNnfxxPueIwCpPWeeZPhFBhn2Btw68S6JrfNIJiWjzaZNx8qiMKkf4cEyREvXt5j63Sf1AfTMdqX2G6/z2BoQ0JeoU2ifQ/l4IzoVSjRtxw8mHV4g6FmiaSG+mPh4NJyYEqHs333KbfiZXjlliXEBLLBXlW04aJmWiNkVwY/VWx41c7CpEradRx7c4YzXpZxKS7RfeMjyPKYmJAyjVxAHuDY8/hotoUaDtlC/FyQOr5Vd1uF6i7NOjq+vWpYNMfLHPWdWAo2Kcb7rD3zPO0S8qsdVAt02FbeWonzh512/sWrEI2ApuAfHHKAkroXTmWGfk7C9lJqNGwxmFrEqgasKZXXWOPMIt/9/yxPluWNikoUUlVq04B5DGO+2JWWLcA6ZWVVmubn+xBMW+qVEPjHPe3LwIa6zi+aMRvFGoyreCS4JJb+cOV4rA549WSMDBbD0WXjlLMBdivxEznZQBZ7weU6+OH2B+lv24hB2m3XbdRZym+n0wrB6f4s8DxjpfVNzD4fGMKi0DFqo9dY5tJHlFCGXwVgMwwe+ixoVFWiwWY6yJ81NH+VVQ9qLAsMGYsN8MwVRXxKJiQFpYkcViNyq/MKEYkFICNywUYumxSfNW7qQTjvOWLjeTtqKq4LoCoN/otfFJx8vZzP64IYdgydnL4KxWI4P7fFO1P4x/QMzkn9Couaz8M5ixQk66YE6iEKthuqJz5rkXiqpzB7+fKLwvMkpYQT8drrrMCwKfS/3yx2wkXhGXqHf6VbBCE8ZqsMjNOYmchcozArxaV+Y8ZAxulCXpHijwb9j4DFe3Ti05UzdOnPQBTHSNvH+s9JUNjqnn+8YN3GzfTqjP1BVdgYoT7srqF5sOnEdOX4SAz6rOVlts4WY9Pbvcs0Q/8uBDE2QFlLocXAHNp03GySP7gekbL2nfUc5KZixmT/B8v82Bfgq1aazUpyOs9y949TUZCzjvGCvS33+/RPoOvuGs4Vy1rNKNG+nSkso9H14h6lgQjDdTH4+/wQNvcaf6s0/ZdvL83HmikcMJEUx0QO1KTo2Qh8BPvuWkQTE2MrZRzptvvqkYFqN/YTzHYnxcilpP44xvUcdqDPSd5ccZaLm/b19ykkQwD5zDPaPE3kUqg5T4pX6qthtGMjH8mC9FzcOtAwbLpHfrVi3c/vsVTwRh5ZpzeNkO9+iEB1xUjPNNc/j7DfxJAEd6/poxBKx1JZxxUSdOw9/wHDXvqb41t/JHwFZwC4j5Bf6IDJhF6IkZTyXM4lcrUc0Kqoyli5Z9iPcMGShCEiqeCDmodTAYc7TLFZe0Tfdpkkqaetph++28qu3dIjR97Y3aICgg3MJ0jPHuWA6EuA7wR8UQD6q/DFIw7w+MHCpuGl7wmik/4Xf+YBj5dM2AUZrqq1cXN/WrRl30ORiX3gfftT2vlXtx9hOu/y3dhWHv3eMG/zzdW3Es3hdVLUcjLBxITznCJDMrjLEpBkj2j0LBNLDPlMGHQQ7cdMUoKu6ar/CV4w0YGCgPBA+EWwTf4SXHRWmd4rs4ccGkDfXHOJBuVgtRI/zLz+xi/fTRiQ8mVLLjYEAaOAoKARkKqwzj1sMfOaKDNJiyMvuJ10pgv/fY0XfjJSVh9Gja5IfkCCOEUr5DuOUIAlSytL3xcar2hxVnjiLCP0wtQjjHUlBn9MgSNaaTrf5RJuBGvcCS9c9+4kO/DSY+Wzj41TrEXiSOupox9WE5UgFjIAyikx7613CShheMI3ivq8t6Db7jXuMKune4+jKxeo1aNJNy1DEmGSijrp2vDXpNeZ8urqDnVPHqeybpEBC0XOiXoERei7sL9Z50DcbdueNVrv1lF0naaaeUC+UDo3Lv0NsTarFJAYQewunU/WHVVkseHhP+StKWquw16ITfEod8+j9t6+H4NI5qAeNTfXp2lbZMtPRHjB86GYibYqff4hYm7aM1zfo+0zfqR68HHrBfoj84vWljdZZrLm2yZPiQ76PmEc/0mYNu6y2THfQfjGv0AzD6k8bel1FAZdWSOkQfBUPMOEwYTJwM6t8rL2Eh3bihY1YqrNVN62U+vALYRB0L8Atl6+OxnvzAiCFS/7AfQVtEuEXAnP7o+MR2m1RtPJ9yKk6dP67MjzFMzlFG8F8Qe4c5ElFPDVAM9ZtU1+p+sg+KU0+jjm9Rx2p4Pz0CT1fbw2n15/yKExaBMy16nNroRPGnR/cp/pmwyPQuSh78+eFu9IPjhH+5+opLEknHsjP1gYntEaPGxMI4EUjoRvu0kHPSYzg/o+8dLGM54x7CLbwLW5+uverSxHeKU7DviZL3RAB2U+EIrMZJvBWeiiqWAPaVcZQMKpjKLOWaRawlosYRVMXMNSxWAdlrWWOTTUQgSxcOR/nQIbCaWVkJlTPSyV5BOp0gsXqB8Mb5gByrkythdRHDFVtsXnyuXqZwwPY3rxKFmqyqn6n/qLir/+CV5okqDYMtK6vZKE5cqCyhko6lyXSDRFQMUEdiNRDhgkkHZtPTESuwqAmqhct0/sLuqAmyJ3wzXy/TGaTim3Ttj6NB/vBq55Sn7gcMxxHlmaOzivwfhqrCA2eU74N+mGAgrAZH1/MG3dZLvPrZHxN20OH15XneszNiY5UIKMINcUHUsYogyqV6tepJ+c8lHeSDyRqMgeRTvrnEXdm+oQ3QbzBBFjwGqLKlM582GTeP9Hf0T/Q7qewDZMOGvmdDryGQqe/JFkb4faZxI+w323M+vEKUsSBOH89Z6N9+952cGxwX67jlxIogk6ZM2HNkE3uAGbc5Ritf/ksxj1NPo45vUcbq8H5mTU9luUbJQ9S0xsE4aphhf2hFip2VRfNk0oOxHF49F02MQuY9nE57LgwCqxcmGAsliABqVJlm1IJ+s93n0vDShUlnv20E66ioDFV2Yr8n+2tg4Hr7lbXdvfXeL7780q+2PivCLekPn5EbN08IqlHwIlywTScgRMU9VfoQoOIcexQnLhi1dbbKfBxBNgzo5Dm2CZVwmEfUszMJt+Qx14kTZuGjlEe69kebLES75MzoQhGrp+yHRo3ssovOd9v6mWTOqZ04eapEwapq3ImAuGlLV2/jhpOr/0KUCXFLPipISM8172X1HW0gSlspq/ijhptPm4ybR/q78BmtUdOJv7Joh5nGjThpw28+vEKmsSCXPp4JJrXUHDcf+ZYTBq7yKedU6Y1TT6OOb1HG6qCxrlTpqmi3KHmImsY4GEcNM5s/xvJcx/NC5j1bOu19bgiYgJsbbvZVBSPAHtUXX5ovamPhM4NRFx4+eIBjn5FR2SIw7J5RTvdAI9hecWl6FfqyTcnKGfo1V14qKpOok/IfJIRbtisYGQKGgCFQUQhYH19RyFu8hoAhkA8CpqKcD3r2bYUjgKXBRW++5T755HM503CvvXYX4xZlMdte4ZmthAl49vkXZd8xxws19PvdWFE3iocAqpaznpojgu5XX33tV3H/4/byButQt4uilh4vNvNtCBgChkB0BCp7H0/63nv/Q3fyicfF0naKjoD5rCoIYOsB69ocY7iqb2OpKmWaKR8m4GZCx94ZAoaAIWAIGAKGgCFgCBgChoAhYAisNAgkm4lcaZJtCTUEDAFDwBAwBAwBQ8AQMAQMAUPAEDAEkhEwATcZD3syBAwBQ8AQMAQMAUPAEDAEDAFDwBBYSREwAXclLThLtiFgCBgChoAhYAgYAoaAIWAIGAKGQDICJuAm42FPhoAhYAgYAoaAIWAIGAKGgCFgCBgCKykCJuCupAVnyTYEDAFDwBAwBAwBQ8AQMAQMAUPAEEhGwATcZDzsyRAwBAwBQ8AQMAQMAUPAEDAEDAFDYCVFwATclbTgLNmGgCFgCBgChoAhYAgYAoaAIWAIGALJCJiAm4yHPRkChoAhYAgYAoaAIWAIGAKGgCFgCKykCJiAu5IWnCXbEDAEDAFDwBAwBAwBQ8AQMAQMAUMgGQETcJPxsCdDwBAwBAwBQ8AQMAQMAUPAEDAEDIGVFAETcFfSgrNkGwKGgCFgCBgChoAhYAgYAoaAIWAIJCNgAm4yHvZkCBgChoAhYAgYAoaAIWAIGAKGgCGwkiJgAu5KWnCWbEPAEDAEDAFDwBAwBAwBQ8AQMAQMgWQETMBNxsOeDAFDwBAwBAwBQ8AQMAQMAUPAEDAEVlIETMBdSQvOkm0IGAKGgCFgCBgChoAhYAgYAoaAIZCMgAm4yXjYkyFgCBgChoAhYAgYAoaAIWAIGAKGwEqKgAm4FVhwEyc/5lq2aecOqd3ADR56b6SUvPveB272sy+4jz/5LJL/yuBp3ITJ7vSW57m5814uSHK6du8j4f30038LEl5ZBvLKwtfdMQ2butEPjivLaCxsj0BF1IvLr+4kdXHZsuWxy+CNN9+Wb4ePuD/2t3E/oO3RBmmLhSSr3/+imU9dqIi6+2/Ki++uua6ba9L8HPfDkh/Dr7I+PzD2Yenn5r/yala/hfbw448/udNatHZXdrg+76DD9Zl2TbuhbJUKPZ5puFXpSp8GbvRx6aiscCzPfjVd3szdEDAEKh4BE3ArqAyeeuZZ17HLTW7eSwtcjY03dptssnHGlKxYscINGny3O7FJC3d+u/Zu4uSpGf1Xppdff/OtW/jqIvfTf38uSLIWv/Pe/7N3FoBSFV0cP3S3dCMC0ikKSFgoLSq2YMdnC9idGNiNCigqKIKIlHR3l3R3dzy43/kPzLpv3+7j7tt97238jz427p36zd2ZOTNnzpj4jp8IXqkISwaCiGTcxMmydt16GaiTGdEqGEAOGvK3TJsxO6KLkB7PxaLFS82zeOr0qaDZ7D9w0ITduGlz0GGDDYDfHn6D+C2GU2Lh+Q4Xj1CeBTfPruM4MnjIMPnr7xHhyrInngMHD5rfOJSDxUuWeb53+2bg4KGmnRs/YYrbIGG7b/HS5TJvwSIZMnSE7D9wIKR4fZ9n/K7xu0HdWgl3f2bj9X5NzbpGOqndpqNNAze0cYEktTimZbsaqGz8ngRIIP0JZE7/LMRnDqZMm2kK3v2pR+SBe7okC2HDxs3yhM5OoxOnRBeBzrfdJNmyZZMWTRtHV8a9crtGFXSs7lx5eXO5pGF9ryt8G+8EYuH5jpY6PH36tDz59Ismu21bXx3WbOfNk0e++PhdMwHS+JKLgo77jVeek7HjJ8mN13cIOmyoAZDfF559SooVKSL58uYNKbpIeZ5Ts64BiG16SI8JA5MACUQBASq46VRJmzZvMSk3aXRxsjnYsXOXNL+qnbmn9TVXSs3q1eTt9z5KNgwvRg6BIoXPk0cfujdyMsSckEAYCfD5DiPMdI7q6qsuT3EOqletIvhLD8mcObPcdcctYUmaz3NYMDISEiABEkh3AlRww1wFy5avkAmTp8pUXaE9pTPujS++SJo2uUSqV7vQpIQ9Pr8M+EPmL1xsPvf8+AspoCbKV191mVkh883O0aNHzVfvvvWKXH9tWzVNDs3UFXt4x0+aYvKXkJAgtWvWkGtaXi41qlc16Xz7/Y+Ce26/tZNeq54oO+s3bJRPPv9WSpYsLk8++qC5tn3HTjNzjz1+mzZvVQW8qjRu1FBaXtEiUVh/H+x+4vETp0jevHkMp8tbNJUSxYv5u/2c37mNb936DfJz/4GyRE2dDx8+omW/UC5v3lSae62ywrwK91x1RXPJmjWrMQ1E/L2++kh27NjluVb4vEIy5O+RMnfeAimsyuxlzS6Vmzp1lEyZzlj/w9zvh76/mLK1b3uN7FVT0Tfe6Snly5WRa9u3Ns/CjFlzJIsO0urUrmlW8/PkyZ2orCtXr5ExYyeavdeIt2mTRtL59pvkw0++VFOzvfLOGy9KlixZEoWxH5AW0nym22PS75ffZNKU6dLwonrS/clHzC2otxGjxgpMJLPnyC61dAKlQ7tWUumC8831N3t8KEuX/2vez52/0Kzk5syVQ15/6VnzHUzppk6fKZOnzJBpM2dLpYoVpPElDeWKy5pJrlw5zT3J/QNu4AcTQKRfQ38nt918g5QqWSJRsGCeM5jz/6RlnTJ1hmzdvkMa1KsjHZX1hVUqJYozmLyvXrNO/hkz3tRB5iyZ5dLGFwtWe3wFz/JfWp6OHVobDt7Xfxv4p0yfOUfuv6ezh6/3dfseZR0zbqJMmDRV9u3bb9Jq3qyJKwXihJrtI+x4DbtM67Si1kfnW5PmE1Yh2PJQq2Y1uePWG23S5hV10u/XgVqHTbVtuCLRM4tVfLRf2Gv52P/uk5Iliid6vhGBfeZee+kZ8zuZrs/Fbt0vX6XSBfLAvZ2lXNkyidIL5fnu//tgmTlrrjxwXxeZp8/nP2MmmD2kjRo2kAfvu9M8gzBd/WvYSNmpk4W1tE27TttR37Zt27btMlZ9G0ybMUs2btoil1xU3/xO0HZnzJh4J4/bZ8EW0m27ZO/394pnZ4r+zqzAogICC6Cs+tu3bYpv/bS88jI5deq0DBw8xDx7yEvpUiVNf3SHtvHeK57vffiZbNu2Q15/5VnJmSOHeLNdrv3aOH22Eb5C+bK6UnuteS5tfmA6jbblzs63mOfUu/08Vxtp48B2nYmTpxlfDUWLFpF2ba4WTAC/8fYHUrZs6YAThUeOHNH99+9I8eJFpevj/7PRmTbZTdviCaBvfNtr72uB3gf7mz927LhgzzJ+Z+s3bpIqlS/QcjaUa9u1lgwZMkhq13U423T4wRg5epwZA2Dvdv06teSeO28LhCrg9wsWLpE+/X6VVavWyIUXVpbmlzYSjAXQ93pLKG0jnpMxamWA9mKBjr8wJoNFUgvts3PnziXoD55+/lX9vWeSt19/wdSFTfuVN96VgwcPyYvPdZX8+f6zEvjq296yUvPc7Yn/SbFiRe3tfCUBEogAAlRww1gJ6OA73/NfB4uo0Wm//9Hn8u0XH5oGe+v27Wavk00WnSOkcqWK9qtErxgcjBs5WMqWKZ3o+5R8gDJz+10PJQqKAfdXvXpLzx6vG8Ume/ZsJn949R0E/j38H3PtkQfvMXFgUNj2+tvMfh4bKfZwQbnAoPnFZ7t6FD173b76ywsG5p988a0M+f0nKR5kZ+E2Pn91hDz3++V3Y+ZmVwKwhwj7Tjds2mT2Etl8nzhxUgfAZ65t3bbNDBrtNbzCAdjyFSvl9ZfPKIBblRHiKViwgEDBPXT4sPlcpnRJs48aioYV1AWUzRFD+nsUVuwva3fdrfYW84r7jKMxNR3GXioMSAMpuMNGjtZB63bxzmtpTRvyqTo2g5LsLXhe8Tz0/6mXUQwnqqIEBQRi920VKlTQo+Aijo8+/coTBVhiEuaSixtI728+DZgvBPjjz6HS9ZmXTVjwAAuk3+/X36XfD19JzRrVzLVgn7NX33zPKHkmsP6DPP362x/yW7/vzWDSfu827ytWrpar23Wywcwr8onn9fCRMxNQ9uLqNWtN/dbVyQoo+t6yUJV4PAtQfu0Egvd1vN+mCnlbrW+wtjJrzjzpqfXUp9fniZQKe9379cXX3jEDZPsdnh8oH74TTvv27TN5OX7ieBIFd7Pu00U+S+lEFhRc72e2T7/+nrzt23/AKH/ezzfStc/cXk3Dtm/4HvUwYODgRO1ZqM/3vPmLTF537tolk3VCwwrSmjV3npnA+673T/ZrQXp4vtDG2ElH7AVsf8PtnnLhZoT/+rs+cv/dneXpro96wgfzLCCQ23bJk0CAN0tVwYSibgXMIQ/df5cqAVkMA/yGfOsHyu2d9z2ciA2UVEzW4Ln4uc/XUrRIYRPXaJ0cwG8d5r5QcC3b3Xv2GMXT3KT/IPywEaPl4/ffFGsqDa7IEyZLsZIbTBuJeDFp8vzLb9okTD3h9wWrJfQ7dWrVCKjgwhEU0oaiaBVct22LJ8Gzb3zba9/r/j4H85vHXufbujxgyoe4oBShHvAH5f6j997UCcXUretwtemYHL75jvs8/QPKg99Nf/2NY6LSrQzT+oWSbAXPEpT8G65rLz3eODORg2uhtI2Y+Hvgka6JfgdIB46uMAGKthVjnvUbNgna2/vuvsNM5CBdPMt9td2D2Ek/vMdv6/OvvzOT5JhkppAACUQWgcRT05GVt6jKDQYGVrnFfqSFsybKotmTBCuvkHsfekKwutu2VUtZs2yOzho2Md8PG/yr+YwG1Z/kzJkzLMrtqtVrPcrtKy90lwUzJ8i8GePkzVefN8libxcGrK10QAsZ8vcIwQqvt/z513DzEYMazEJ3vudhMyjEyvLUccNk+YJp8uP3X5hVE3QIWNnzJ1gJRmcDgWK9ZN4UmTt9nNzV+czAHk60sArnVtzGhxlaa979TNfHZPHcyebv/XdeNUlhpcA3XaxEYKVuwj9DZNn8aZ5ODwGgaGK2ev7M8Yblqy8+beLBANqaoJsv/PwDZQ4r1VOU278Lp5sJECiOcEiFwSMEg6E77zuz0tpFV2ynTxxp7kVnjFVVbyXITxKJvlqp9Y+6QZnfffNlgem7VW4R38rFM2XGpFEeUz/r2Xfk0N+MsovIsDqEZ3fW5H9M3MgnlFvke+CvOpO9eJbhhAEDFMC33g1sSo+6eP+jL0w8/Xp/LeNHDZEVi2bI4488YAYMX/XqY66l5DnDwBgKMsr01x8/m98aBmMYjFhxm3fM+t/3vydMsFtvul6mTRhhnvPvvvrYTHwEUwc27UCvGKjfdf+jpl7v7nKbzJmmK+vzpprfCMKgffGeEPGNBxYHGBhi5RxMwXPi6L9Mm+M9gPQN5/Yz0q5QrqygzcJv/boObZINukitFwYP6Gueiz/695F6dWuZ+78+W7fhfL6h3OI5XrVklowe9odRHPDbhXKLNg6/scVzJnmsZAafbcvwfGHSD/WI+p06frh5bjDBA45Qcq3n6WCfBbftUrIQz158+fluJl/2XvwO8Xd+hXL2K/Ns+NbP2PETzaAeyi+4rF46W/75e6AZ1KOt+XvEmd+yJxI/b6B4QZlFneN3erNaqEDefv8TP3cn/spNGwnfEla5RX+JekKbijJDuQ1W3LYtwcYbjvvHjptklFv0/+j30G+ib0EbigkMTB6kdl2Hq01/5sXXjHKLiciRfw0wvz20t0UKF04y8ZscO7RNGBehrUKbhbYLvz20ZWjTIKG2jS+91sP8DrzzOmro7+Z3AIUWZYG0aH5mXDZn7nzzGf/AqsMKJsitrFy12vRVmDwMNMFs7+UrCZBA2hOgghsm5hhUQ6Dw3HLjdcbkBY00lL+Hz654/qOek9NLRo87kzZWVvEHM1iYp2Gwgj2imCGfrwMNdLRQZKAQeHvNhVkelHh0EBXPL68mrcvNZ8zWQ6HHTDTMibBq9YEqrYjP2/Okd7lH/jPOxA8zZ5jD5sie3Zj9PNf9cTMIRie/Zu067yDJvg8mvtdefMYoY5hQwCoF/jq2b+NZ2cMKjbegvBhwwKwvW7asicyWsGLwbLfHBQ5awPL2WzoJBpIQ8DqXfPZhD7NSjc4R5ljXnN0Dt0I7TgjMtjDwhsL4/NNP6cDhPNORwjz2/XfOdMjnSsNef//tV03doLyoJzDHIB6DHcSXKVMmgbUAVoQg9nm24f29Wk/en3/Uw9Q3zKfB6avPPjC32+v+wkK5wcospHat6uYVe+n+p+kP+Ok7NdXubL5LyXOG5xEryChTtQsry4P33mnimjNvoXnFPzZv58r7wsXLjOJgnwOsdoEfBqh28soTaYhvMGmBZx95f1ZNygvkz2dWFfAbsfUyeep/Ayzf5OwEFCaNYHoHnjD1fufNl6S8KqbhkG+//ND8VsAA8Scnb6liCW54LmANcuftZ/ZJYoUKEs7nGxMjeI5hTgwT2i5nzcex7QBtHH5jmCyE2bJJe9GZLSJ4vqDo2fotVrSIeW7wm/vi4/fMvYP+PLNaGuyzEEy7ZBIKwz++9VNN22f8zvvrbwpcYAILpRhm8pBZaq55LsHEIyY1Uedo3x5V03QIfr/oJ5ITN22kbWvQD6G/RD2hTcXEorWoSS4N32tu2xbfcGnx+d8Vq0wy9evWNm0wPqDNHPjLGasZtPFuJTXq2m27iIkhO/nw5SfvyQUVzze/PbS3sFYLRtA2oY1CW4U2BW0X2jDIUN1aAAmlbcREPSxHIF955RXjmM+078I4DZMLR48dMybxuA8TM1bGT5xq3qKNwBgOEygQTKBBsH2EQgIkEHkEkh+hRF5+IzZHCxctNXmDouIrlzW/1Jxzi30fqSHYU/puz8/8Ro0BA9JfsOBM2v4ciWBwiD8r2KMGE7YRo8Z4TCJHnTUhuuHaduY27F+FXKHKMAY+3nKVfoe/QIK9chB0KDC19Rbsk4MsXbbCdJre1wK9Dya++vVqm2iwX2jjxk26SnrImGBCsYDYPc/mg/6DvXyBpGGDeokUXtwH1r1//FUOnOO4CnTqMFv2FngDhXk39l1C7AQB9rPaPb32fuwNDEbq1K6R6HZMcGAQj84aK01Y0cUeI/y5EYSz5qf7deXftx4RBwa/m7dsNfs0fePEhAAGv+De4frbzZ7vhg3q6uC7vNg6QpiUPGcwD/YWq0BjQI4VeihBbvMOqwsIfte+Ct2VlzfzTibk90uXnvlNgRv233qLPf4k0BEu8LqKlQgI9mh7CyYz8HvEamQogsksKB5upbZOcnnLRVq/EDxrkHA+39j77y3W7LaqDri9xW59OK4DdIh9vvzVbyOdaICAK56bYJ+FYNolk1CI//irH1iJ4A+DfPzW9mrbcujQIZmj+z8haIPPJfXPrrzb+8AW7RcmBvBcQkEIJG7aSHs6gD9F4XJt+77v+3Og6P1+77Zt8Rs4lb80VgxqSIL9zlt0i8sVLZqZCT5MHNjJUTdZSI26DqZNx3MEuVj9OdjflM03JlKQP5gAuxG0TWijvMW2YVA00baF0jbCeg2CvPruk8WkLvpB9AcrVqw22xbwPE+cMs2Ewe8G4yCYymNLQw+1WsAkOLaUTZ8129xzSTJjBHMD/yEBEkgXAlRww4TdOo3yt1fWfoc9eKkh6GzQCPsTqywsOJt2OXXWcS5ppgNkM6upZsowu8XAHnuEIK2uvsK8WoUQnVmwMln3AkO+/OaHgEGDWcENJj4oCN3VkYTNf8AMnL0Ax0eBxN/ZxW4VgPN0pdxX4OjCW6yZc7FiRby/Nu8xIMBqu1sT2ex6VJGvoE7ffPdD13F4h8d+KCv3P/yUfZvkFZMvcETkT775vKc80f0FMxP+ku4dhWAAghW3+3WFHRMntp6Cec7yeTkBQZx4fr1ZBZP3VWf3H8MpmK9gIO0dr+/1YD9j7zYE+9hgpu9P7AqQ7zVbJgySYWngK8Hw8w1rP+fQ1f9gJF/exMqwryIUzucbR3H5k8y6iu8tWMH0Fvt8+atfWADYSRjswwv2WQimXfLOU0rf+6sfDNB7fvyl2Vef0njz5cuXJGjBgvmNgpvkgs8XbtrItes2mFDFVHH2lRLqOCol4qZtSUm8oYbBZOVz3Z+Qjz//2vh9gO8HCKymHri3i7GEcZNGatS1bUOQ/rnadDiXgpyvq6D+BCu6bhVcf20T2jC0ZdgWgXyF0jbClBgSKK+YVIWCi/vgdO9qdcyGc50x8btz524TFhY7F1auZBRc7Ku/QJ33IUywExMmMv5DAiSQJgSo4IYJc7kypYzJFryFwszNW3btPtNIllFTpNQQrF5g/6Q/sUoTBnBYwcIKqW/+fMOhc7leV2r7/PSrwMNv8WLFjDky9prYAYtVWnaox9dgBYNGmPfAMcP55RN3kHB6ky1rNilaNOlgJ1A6buODMthOnWJBsJKNs2nhETpP7tzG2ZF1phQonbT+3joeW7N2fZKksXLiVrlNEli/wJmV9kxN7D3ELHShQgXUtD63tO14i78gib6D528rcN7kK7YeK1ZMXL/e98EkDWFRPuzZhXdvmCtibzAct8DhSijPmXda3u+Dybs1a/bHGo5L/H2PtE47p72TNO9PnDyZ5DvvL+CFGwKT5FtvvN77kokvIeGUMVtOdOHsh4IFzlgDYECIFQ9fz7921dQ37CmN01egFKWFpObz7Tb/dvUpUD1CsYUUPu88bZPOtOv+7vX3LLhtl9zmNSX3wcEh9tNj4uhafa7qqZdbTMxg9fCxp55LSZRhDwOHROiboOj6rrC52erhL0Nu2hZ/4UL5zu1vHtuY4CkeeztnzZ4nvw0aYiymYDX196Bfknh7d5unUOs6mHYRFlYQnCjgT7bt+G8C1N917+/8tU1ow6y/AbRtobSN9ncbKK92DGPva6oenKHgwspho7anEGy9gvk4JjSh2F6qFlSwtLnpho7eReF7EiCBCCJABTdMlQFzPJjTwOwO+1C8ZcmSM6Y62JeaGmL3TyYXN/bAQYnASrM9EsjeDxMxmN/BnMw6LenQtpVRcOHV1yoZHb2cymBvFwQdNPZoeQu8kqITwGpxIz0myVfq16ltFFzstbKOZ3zvCeaz2/hwVAgE5r1ffPxuoiQS1AQx0qTahWcYD/pzqMDJFAamVuzMv/0c7Ks1KcYxIw/c08UTHMcwBBJvxQceJ60ZGiYJzjVpEihOfI8ZfPzdevP15vcDj7bYE/XO6y9JKM9ZoDSDyfuFOhkDwW/E91ggu5fUOx27soJVWF85l1WC9TyKlc5gfxco0wXnVzATUZgwwP4yb7Emqfa7HGctE2brIA6mid4rm+vXb7S3pepraj7fbjNuPSn7q18otxjEgivqJNhnwW275DavKbnPWvZ81vNtqavKrZUdIwP/zu09afVaC3sbVbn7ecBAuVj3X9pnEWbh2LIRiiTXtuA3Ew5JyW8eaWNVEH9PPvagPN7teeNccLRO8PkeZ+Y2jymp65S26VXOnvqAo+MQh/f2DZi9+2v/ApXDt23CfXZSF5NEYBVK24iVV4i/vOIZW7DozPatqmePkbMmxzNnzTO+RtDP2S0PWN2FE8kJZ/fl4ngnCgmQQGQSyBiZ2Yq+XGEfB+TNHj2NW3lbAsxMv/ja2+Zjg/pn7rHX0vL1Yj3XEfLy6z08nQc+w/znjrsfkhdeeSuRB2GY6mCfFRrzvnpmHwZ4zXRm04rd8wYPiFZxxDV0GI91fc7Ety7AQNmaTeM4F/CxAi+l193URSpcWM+cqWi/P9er2/hwXiQE5lUY1Fv5/Y8hrszt7P1p9VqzRlVjsoaZ7HsefFyG65E/2A+ImXr8hSJZspyZ27L7fREX6u7DT75KEm22s3uscfYpZtatYDAK6f7cK3LSa3USZsk16l9q6tHuHbVh7Csmg1DPrTrclGgfYJGzZop43pDHUJ4zm5a/V7d5twMrKNyjx07wRIVn9ennXvV8tm/swG/EP2ONF2z7PSZ8rFMS+53vq1XmMXkBMzgrYA4P3+CF44ICSSPdww3BWY5YUbSCY5uQvrfgtw3BaqTdXoHPOCbluz798DbVJTWfb7eZ965fKFlWMGi3R1g1bnSGq/e9bp4Ft+2STfNcr96r8nZf4bnCZMp09neu++St4Fzs5LaH2PvS6rVt65amf4HTIjy7ePbxvKIf8X1u3eTJbdviJi439wTzm7/1zgfM79hu+UH8UA5hIQCBYzlIatd1qG06LLnQhqD9eLfnpybP9p+XdbsJJobcCuoYbZQVtF14DiCYdIeE0jbC3wSUVOS1xweJ8/rx59+YlWKUBauzEGwfwv1/jxhlzKy9/apY3xcwMYfYMR3MmXHEYaRZgZlM8h8SiFMCXMENU8VjJhZnJsKRS7Mr25mZWXRS1kMkPBe31Nm/9BJ4GIUHUQxsrmjV0eQPHasd1LVrc3WSszk7Xa/n0KlTBSihWL3ydiaFDu77rz8xx5rA1K1331+krK7Ywo0+OhLsTenQ9hq/xUWHAe+YcB7SqEUrs/8I+/XGaUeHsHAG4W/l129k+qXb+A6qcxUI9gZd3baT8VaLlWsojVCogumUTUSp/A94f637VGFWDeXIW0HC8zR+4mSPGVewWQEzOMOC+SKOc8HxIlN1hX/HzqQrO6hXCPhc0+5Gada0kdlH9oR6wUaecEQL6rFp40vkxMkTHu+acFzmversnccG6uwLzwj2QLa59hbjnAuOtGAaBoFHalgmhPKceafn+95t3pF/nMX49Auv6XFBT5qVVczm+zqBsvFX0VUAu3es9kXNzfEXx44fN7+zcz1jMIGDZcFDj3U3R9dg0gzn5c5UT7cYOGEABg/tgeSpxx4yZ2liNbJeo8vlsmaXyvqNm8xqCkw/vSeT8NvHbx6KOyaV4Lm5WJEiMmrMuEDRh/371Hy+3WYWTLFfE3WLfYdYOYfFypRpM01bBM+pXZ942EQHhsE8C27bJbd5xcom8oPVsZs732e2WHR78pFkg7dtdZUZeGOCDP4TsHd/vDowO+bCuVSyEYfxIrwI9/7mM7nh1ruMouOt7OAMYvRBwYjbtiWYOJO7N5jffKeO7Y0lFbaHjNRJMISFXwiME9A+YC8uJLXrOhxtOjzQY4Ky1w8/af4nmf2rmFxAO+Pb3phCBfgH92KSFKv1ZUuXkrETJpm+Bkon2jRIqG0jTixo3fFmc2wYtufAog0Te3CUBu6+np/x24XyC8HYyYpdKEBfCGUXpxJAXnvrfeNocZI6p/K3ZceG5ysJkEDaEeAKbhhZd3vyYcHRN5j9gwkoOi2Y2Dymxyq8+GzXRCnZGVr7muiiiw8pCYfOopsO1mz+oNxigIfjGT7wc+xMOz0awkp7P8oqjuDAEQEw08GgGrPSGDjB4+Cfv/9kjntA+IxnHbtY0zN896w62njs4fsNH+QDgxoot5gk6PXlR0m8BiOMlYyqCEGCjS+/Oh/COX3WlBNn9eL4AZyDe9XlLc7EqZMSoYgnT2fLbOvp7MdEefZNx4a1YXAds8kTRv1pjs6Bwog6xDE6Lz3XVQ4fOWqisOF84/P+7HsP9hThKAbUP0zXsVIPhzw/fv+lZybbhoeShwGC5fbLgD/MJQyWMTDodF0HcwzLoCF/G+UWceKoHjxXgQTK66D+fc2zgkEGziuFso3jXHAsE55TK66fMz/PhY3D9zWYvN9wXXuTJ7unEmfoYlD+S59vjDKLuC1fDHhwHisUEQisG/B8myOx1OwfYu/NmDGD+SxnX/ABe8M//uAtM8mDiRfUC5RbKCcDf/4hWVNw7Lf//uuPDVPEhbShDOGIoe5nedrfIq6//fqLnnvxDKD+MLDD0VcQ+xza/Jovff757x6fC/rRN1yGswXNetZ6ACFCfb4tQ9+0PG2Ez+/Z3pdRnz8rcPyDwTqUfEzYQOmH4Ln+Xs87toNYfBfMs4D73bZznvzahgKB/QjO9EV7i7YSbea+ffuScPYO9oj+BrHnE4LnFhNIGNx/8/mH3reZ95kyn2HiYXT2+bSfkwTQL+y1QPWQXBgN7LmMiQWczY72BFsmXnjmSRk3crBceVlzc4/l4wng9SaDTx0H07Z4RXMmnbNx2azZ8nnfZ39D9lowv3n0o2hLMQkG66ePP/vajBOgLOF8aWsKi/RSs67D0aajPURbh98N2nD0/wcPHjTt1+UtLj3L87869maI95Yj2ia0UWirrDUYxhBoy6wPEdzvtm20z6J3u1pGfaT8+mMv045iEhdtHV7hVwRnpvs6umrS6IxSC+W3lv5erGA12JolN7u0sf3as5JrzZs9F/iGBEgg3QhkUFPN/2w10y0bsZfwvrMmYVCqIlGQP5jh+fPma/OLmWWsHmImdfSwgZ7BjL3u/Yp9NzB3RQdtB73e15N7j7xAMYaZlu9xOMmFC3TNTXwwnT2iCiIOpQ9HmoHyEsr3MCWE4yV4QEbnbgdUiBMr5Z3v+Z+pmzHDzyicKU0LTj4QN45MOJeAW6aMmRINPGwYmLvDDNz3+CN7PdArTHCx9xd72c71ewnlOQuUPr53m3coFmDlpowwY4aHc/wmvPeoJZcP72soK9JDeCj+wQh+2yiTm7C4F6bJmJjwVuaCSS8l96bV8x1M3sAcx1652VMezLOAPLhpl9zmFcd5OfofHOR5twuBwp86dVrreJuxqMAgPZIEx64sWbbcnINqt/rY/MEk/7Mve5mz2195obv92vVrMG2L60iTuTGY3/yhQ4f1mdhvjtmBUh5IUruuw9GmoyyHDh82K63B9v+23Njmgn4Av71ztZehtI34LWxXJ1hoG5PjbvPl9hVnA4drX7fbNHkfCZBAYAJUcAOzidsrGPCu1X2U3Z59xcyqYqUPnl0paUsAe5EaX9baKDkwEYfjr3z58hjzye/7/Gxmze/T43Se6fpY2maMqZFAGAjw+Q4DxBiIAseztNQtI5DXX3pWLrqoruCcYmwD+KpXb2OuCqsenDFOIQESIAESIAE3BKjguqEUZ/fAEQZMFiEwx/nhm0/DOtMZZzhDKi5Wah96rJvf/cFtW7WUd958yeyrCykRBiaBdCLA5zudwEdYstie8M77H/vN1fNPPyF3dzljZu33Bn5JAiRAAiRAAj4EqOD6AOFHEexNhXljJT2svY06KTmXuRCZpS4BmHJiP/eqNWvVDPyAOh6qIFX1CKGGDeq6Mk9M3dwxdhIIjQCf79D4xUpoeIbG2bArV60x21xwXA72C9vzkmOlnCwHCZAACZBA6hOggpv6jJkCCZAACZAACZAACZAACZAACZBAGhAIzWVsGmSQSZAACZAACZAACZAACZAACZAACZCAGwJUcN1Q4j0kQAIkQAIkQAIkQAIkQAIkQAIRT4AKbsRXETNIAiRAAiRAAiRAAiRAAjYAgH4AAEAASURBVCRAAiTghgAVXDeUeA8JkAAJkAAJkAAJkAAJkAAJkEDEE6CCG/FVxAySAAmQAAmQAAmQAAmQAAmQAAm4IUAF1w0l3kMCJEACJEACJEACJEACJEACJBDxBKjgRnwVMYMkQAIkQAIkQAIkQAIkQAIkQAJuCFDBdUOJ95AACZAACZAACZAACZAACZAACUQ8ASq4EV9FzCAJkAAJkAAJkAAJkAAJkAAJkIAbAlRw3VDiPSRAAiRAAiRAAiRAAiRAAiRAAhFPgApuxFcRM0gCJEACJEACJEACJEACJEACJOCGABVcN5R4DwmQAAmQAAmQAAmQAAmQAAmQQMQToIIb8VXEDJIACZAACZAACZAACZAACZAACbghQAXXDSXeQwIkQAIkQAIkQAIkQAIkQAIkEPEEqOBGfBUxgyRAAiRAAiRAAiRAAiRAAiRAAm4IUMF1Q4n3kAAJkAAJkAAJkAAJkAAJkAAJRDwBKrgRX0XMIAmQAAmQAAmQAAmQAAmQAAmQgBsCVHDdUOI9JEACJEACJEACJEACJEACJEACEU+ACm7EVxEzSAIkQAIkQAIkQAIkQAIkQAIk4IYAFVw3lHgPCZAACZAACZAACZAACZAACZBAxBOgghvxVcQMkgAJkAAJkAAJkAAJkAAJkAAJuCFABdcNJd5DAiRAAiRAAiRAAiRAAiRAAiQQ8QSo4EZ8FTGDJEACJEACJEACJEACJEACJEACbghQwXVDifeQAAmQAAmQAAmQAAmQAAmQAAlEPAEquBFfRcwgCZAACZAACZAACZAACZAACZCAGwJUcN1Q4j0kQAIkQAIkQAIkQAIkQAIkQAIRT4AKbsRXETNIAiRAAiRAAiRAAiRAAiRAAiTghgAVXDeUeA8JkAAJkAAJkAAJkAAJkAAJkEDEE6CCG/FVxAySAAmQAAmQAAmQAAmQAAmQAAm4IUAF1w0l3kMCJEACJEACJEACJEACJEACJBDxBKjgRnwVMYMkQAIkQAIkQAIkQAIkQAIkQAJuCFDBdUOJ95AACZAACZAACZAACZAACZAACUQ8ASq4EV9FzCAJkAAJkAAJkAAJkAAJkAAJkIAbAlRw3VDiPSRAAiRAAiRAAiRAAiRAAiRAAhFPgApuxFcRM0gCJEACJEACJEACJEACJEACJOCGABVcN5R4DwmQAAmQAAmQAAmQAAmQAAmQQMQToIIb8VXEDJIACZAACZAACZAACZAACZAACbghQAXXDSXeQwIkQAIkQAIkQAIkQAIkQAIkEPEEqOBGfBUxgyRAAiRAAiRAAiRAAiRAAiRAAm4IUMF1Q4n3kAAJkAAJkAAJkAAJkAAJkAAJRDwBKrgRX0XMIAmQAAmQAAmQAAmQAAmQAAmQgBsCVHDdUOI9JEACJEACJEACJEACJEACJEACEU+ACm7EV1HaZnDbnhPiOE7aJsrUSIAESIAESIAESIAESIAESCAMBKjghgFirESx5+BJ6frpcoGSSyEBEiABEiABEiABEiABEiCBaCNABTfaaiyV8nsy4bSMmr5btu4+KYMn7JSjx0+nUkqMlgRIgARIgARIgARIgARIgARShwAV3NThGnWxbth+XCYt2GvMk6ct3if/bjgcdWVghkmABEiABEiABEiABEiABOKbABXc+K5/U/rjJ07LrGX7ZMP2Y6rgiuzYe0KmLtwrB48kkA4JkAAJkECUEhgza3eU5pzZJgESIAESIIGUE6CCm3J2MRNy087jMmXhfjl87JQp0/GTp2XOvwdl7ZajMVNGFoQESIAE4o3AF4M2xVuRWV4SIAESIAESECq4cf4QYPV2/oqDntVbi2Pr7uMyfck+ruJaIHwlARIggSgjcEInKykkQAIkQAIkEG8EqODGW417lRfmyFBkp6g58oHDic2R4WRqzvIziu9pHhvkRY1vSYAESCA6CBQ/L1t0ZJS5JAESIAESIIEwEqCCG0aY0RZVwqnTMldXb1dt9m+KjD25M5buF6zyUkiABEiABKKLwEMdS0dXhplbEiABEiABEggDASq4YYAYrVEc0VXaEVN3BTRDPqaK7fg5e2T3gZPRWkTmmwRIgATilkDtC/LEbdlZcBIgARIggfglQAU3futexqnyunrLkWQJbFYHVGNm7Un2Hl4kARIgARKIPALDp++KvEwxRyRAAiRAAiSQygQyOCqpnAajj2ACvrV/3bPz5ceXq0vO7Jm9cu1IhgwZvD7zLQmQAAmQQKQTaNttnvz1Xp1IzybzRwIkQAIkQAJhJeCtxYQ1YkYWHQR89VajyKoum/h7KrfRUZvMJQmQAAmQAAmQAAmQAAnENwGaKMd3/bP0JEACJEACMUqgbPEcMVoyFosESIAESIAEAhOgghuYDa+QAAmQAAmQQNQSeOhaelGO2spjxkmABEiABFJMgApuitExIAmQAAmQAAlELoGq5XNFbuaYMxIgARIgARJIJQJUcFMJLKMlARIgARIggfQk8OeknemZPNMmARIgARIggXQhQAU3XbAzURIgARIgARJIXQK9hmxK3QQYOwmQAAmQAAlEIAEquBFYKcwSCZAACZAACZAACZAACZAACZBA8ASo4AbPjCFIgARIgARIIOIJXFA6Z8TnkRkkARIgARIggXAToIIbbqKMjwRIgARIgAQigMBDHelFOQKqgVkgARIgARJIYwJUcNMYOJMjARIgARIggbQgULEUV3DTgjPTIAESIAESiCwCVHAjqz6YGxIgARIgARIIC4Hfxm4PSzyMhARIgARIgASiiQAV3GiqLeaVBEiABEiABFwS6Dt8i8s7eRsJkAAJkAAJxA4BKrixU5csCQmQAAmQAAmQAAmQAAmQAAnENQEquHFd/Sw8CZAACZBArBKoXiF3rBaN5SIBEiABEiCBgASo4AZEwwskQAIkQAIkEL0EHqQX5eitPOacBEiABEggxQSo4KYYHQOSAAmQAAmQQOQSKFM0e+RmjjkjARIgARIggVQiQAU3lcAyWhIgARIgARJITwL9Rm5Nz+SZNgmQAAmQAAmkCwEquOmCnYmSAAmQAAmQQOoS+HX0ttRNgLGTAAmQAAmQQAQSoIIbgZXCLJEACZAACZAACZAACZAACZAACQRPgApu8MwYggRIgARIgAQinkDdynkjPo/MIAmQAAmQAAmEmwAV3HATZXwkQAIkQAIkEAEEHri2VATkglkgARIgARIggbQlQAU3bXkzNRIgARIgARJIEwLFC2VLk3SYCAmQAAmQAAlEEgEquJFUG8wLCZAACZAACYSJwA9/bwlTTIyGBEiABEiABKKHABXc6Kkr5pQESIAESIAEXBP4Y/x21/fyRhIgARIgARKIFQJUcGOlJlkOEiABEiABEiABEiABEiABEohzAlRw4/wBYPFJgARIgARik8DF1fLHZsFYKhIgARIgARJIhkDmZK7xEgmETGDVqlUyZMgQmTFjhqxbt87EV7RoUWnZsqW0bdtWSpcuLRkyZAg5nWAjmD59ujz22GNy/vnny7vvviulSkWWt1Hk7+2335YCBQrIZ599Jrlz5w62iLyfBEggzgmklRfl7777Tvr27SvHjh3zSzxr1qxyySWXSP369eXKK6807ZrfG/llsgTQhz766KOye/du+eGHH6RSpUrJ3s+LJEACJBCvBKjgxmvNp3K5Dx06JJ9++ql8/PHHsmvXLjl9+rQ4jmNShUI7fPhwefnll6VXr17SoUOHVM5N0uj3798vM2fOlKNHj8rx48eT3pDO3xw4cEAWLFgghQsXllOnTqVzbpg8CZBANBIolC9LmmR78+bNMnv2bDly5EjA9KZNmyYZM2aUiy++WD7//HOpUaNGwHt5wT8BTCDMnz9ftm3blixr/6H5LQmQAAnEDwEquPFT12lW0r1798ptt90mI0eOlPz588v1118v11xzjVSvXl1OnDhhFLdffvnFKJjXXnutUXLvuOMOyZIlbQZjaQaCCZEACZBAOhL45s/Ncl/7kmmWA6zUwuLEV7DyCKuUuXPnyuTJk6Vjx44ybNgwueCCC3xv5WcSIAESIAESCJkAFdyQETICbwJYEX388cdlxIgRRqF94YUXpE2bNpIjRw7PbTBVw6rts88+Kz/++KM888wzxlS4efPmnnv4hgRIgARIIDQCf03ekaYKbubMmeXee+/1m+nDhw/LTz/9JO+8846sXr3atPswbcYkKIUESIAESIAEwkmATqbCSZNxydixY43Smi9fPnnwwQeNIuut3FpExYoVk6efflrKly8v+/btkz59+hhzYXudryRAAiRAArFDIFeuXMayB74PoNT+8ccfxsondkrIkpAACZAACUQKAa7gRkpNxEA+sD8I5mnYa1u1alXp1KlTsmbHVapUkVtvvVUGDBhgnDxh9XfDhg3y/vvvC8ycsfpbu3btJGT27NljHGxMnTpVXnrpJalVq5bnHuz3HTVqlIwbN05wX7Zs2aRu3brSqlUrqVy5smTKlMlzb3JvNm7cKEOHDhXsG8PKQ968eaVOnTrGORYcewTjGOu6664zijwGditWrDADO+yhyp49u1xxxRVy+eWXS5kyZZLLjpk4wKo4Vj4weYAyg2/x4sWThMN+51mzZsmkSZNkyZIlgv28EJS/YcOGJj1fp1UnT540ecMExZQpUwSfcU+zZs0MO0xI+BM4O/n9999lzpw5xvFJnjx5zN46OJKpWbOmvyD8jgRIII0INK1dII1ScpcMlFxsR8FKLtqM/v37y4033pgoMPqPZcuWyeDBg2Xp0qVm4rNIkSLGSVWLFi2MY8JEAc5+gC8FODNE+4/waOvhxPDqq6+WJk2aJLIiQhD0N2gnx48fb9o+fIaJdbly5eSqq64SpGUF7XbPnj1l586d8vzzz5s+xV6zr5io7d27t2l3n3vuOXNPoH4CPiCwer127Vpj8YS9ywgLU+6cOXOavgaWTzDhDhRHQkKCyT/6KeQP238uuugiad26tbGesvnyfl2/fr3pS7CPd9OmTeZSoUKFTL+AMsPZom96a9askdGjR5s91mjv0S9g/zS2HoGVP0H/gX4EvjZQJuS1YsWKph7Qp6A/pZAACZBAqhLQzoRCAh4CHZ+Z7xw6etLzOZg3qnw52iHDk5SjHbyroNrRO6pMOjo4cLQTdHSQ4ainTUc7Wadbt25+49BBiaMDF0cVKEcHMuYedcTkTJgwwdHO0ylYsKCjpnImH+rUxNEO2dHO1VFFzKSBAKosmuvaUTvq6TlROtqZO40aNXJUkXQQHuXRwZKjypujSrmJJ1GAc3xAeORVvTWb8LrX2JM3XclwdEDiqCKaKBbdv+yULVvWsABL9TztqEKcKC+Ic/HixYnC4YOaADqq+JpyI99IH38If9555zlqQuioUxhPOB0YOb/++qujkxKODjwMe1tm5K9x48aOOpBxVHH2hMEbHaA6qjAbTpY30gPvkiVLOl9++WWi+/mBBEggbQkcOJyQJgm++uqrjipm5s9NguoJ2LQzOumWqC1C2N9++81RRctRZdjT/qLNVI/yTtOmTR3dw5skCfQhDz/8sAmnFkOmvUMfohOcjirHzkMPPeSo0uUJp4qq88QTT5j7kW/bziMM2km0t3feeadz8OBBEwb9EvoEtIsI509UaTRttvqacBYtWuTvFs9327dvd1Sxd3Sy1FGHW6btRV4RP/Ji+xrE6S3o79D3ob1VL/uOngLgoLzIN8Ki7dVJYUcnB7yDmX5PJ30dVfQdtOmqyJv7EQZx4Tu0/2jnvUUnPB2dIPbbxuukrIN+yp88+eSTnj7L5s2bK8YKFBIgARJITQJYbaOQgIdAKAquziQbxQqdJgYpKZU333zTdL7ocHWlM1E0GKR89dVX5joGGlCMIbrya5RIDA7Q8b733nuOziAbxU1nps2gAUqfznSb+wMpuOoIxdGVWqPQYvDx/fffe+LRlVYzYEL5ELdbsYMIDNgw+Pjiiy/MIE1Xqs1gBQOA9u3bOzt27PBEaRVchIXS2KBBA0cdczkYpKj3aUe9KxsGulKaSPFUU2/zPQZtN910k4M6QV5R3rvuussMZjDQ0FVzT1oYbGBQhnTUOZgzZswYkz9dYTBMbf50hd4TRj08O7paYLhCmf3ggw9MOmp26KhDMcMJgy1dqUmUP08EfEMCJJDqBBJOJZ6USq0Eg1Vw9Ygbo5TpFhXPJCUm0AYOHGjaLyh7aG8x8Yb2C+0w2mO07+qrIdHEHpRQ9edgwkERvueee4zipSu5RrGFYox29MMPPzTFRzuGPgbtMe5HP4J7kQ7aLz3CzrSTmOD866+/PMh69Ohh8ozJ0q1bt3q+xxtMzqK9RDpQtNV6KNF13w9WwYVyijygPX/jjTeciRMnmv5NLXRMWlA8dQXVE9wquEgHLHAf+kOEA1PbL6jFkuOtRKJ/VO/VJgwmJW2/hv4ELCpUqGDSQz9kRVd7TR2g/cck56BBgwwj9EPqR8P0F2CEyQUrmGhG+ZE/5B19jq7imnBqkWUmWBGfbl86JyMbJ19JgARIICUEqOCmhFoMhwmXgovVvZSKmjSZwYeaxZoBh3c8am5rBjgYtGBF1ooeSWQ6VXTEvrPniE+dWplZccyWQ/wpuFCWMdOPGW10zFZ5tmmoGZnzv//9z1zHKrMehWQvJftqByNYXfaekcdgADPkF154ocm7t9LpreAiT76C1WAMcMrqKq9d/cXADYMYzM7ff//9DvLrLcgvZtaRHzXt9uT/zz//NN+pR2szUeAdRs33HKxyQ1m1AyZwUUdihgMGUr6cEP711183cUIxx0CJQgIkkPYEvhi4wTmVBkpuShXcEiVKGOUSZNC+wAIICp+aASdpv6A06nYP066gfbHtGybbsJIJ65N+/folWqlVs2XTFqkZrmln8RkWO+3atTMrn5hs9BW0k1ithZLtbYmEdgwrq1AifSdwkRco5FDqfv75Z98ok3y2Ci7aYuQdE6vegjbdWjKh/YcCDbEKLpRE9Ce+E8C6pcb0nZjkRR9nBX0LJj3RP/qz+lFnjw76W+THyt9//20UX6wY69Yf+7V5VfNmcw1cv/32W8819YxtuGEyGZMFvoJxAfo7KMZQfH2tgnzv52cSIAESSCkBOpnSFp0SWQRUaROdSTbn5+IoCezttYI9SzhuAvtqvc9RxP4lOLNq27atYG+vtyC+u+++2+zpxftAgj27qlias2eRPtLVgYjnD3tZb7nlFrOvF/nA/i23ogq53HzzzYn2C6uCKqoAmrLqYEp09SJJdDoQEOzd9RXscUV47HXCviiIrmSIKuaiM+gmDHhAUC7so8L+NOxR9hVduRVV6gX7s3A2MF7t2cA42gnOwrAfGulBcOYljvuA4JovJzADJzUVly1btph0zc38hwRIIE0JTJi3V46fPJ2maaY0MfgMUCsWsz/z9ttvN74DvNtftDNo37GPF/tmdWLN+HvQlVfjmwD+DC699FLTltk8YE8t/DzAoSG8O+N8drSL2Kf61FNPGT8GuBdnjcPvgyq/pg3EnlFfgZ8EeP/Hfdj3ij27VrDPFPmAzwh/fiPsff5e1Vzb7Ln1vgYfFjhqD22zKppm76/3dXyvJtSiptTeXxs/C6pAGjboD6xgD3P37t0FadmjmcDTtuVo8+G7wVuQBtp8+KBQZdmwAT+IWu2YPgYM4dvBCvwxoE8CA50k8PSdth7RJ4A99iDrliJPP2PD85UESIAEwkWATqbCRZLxGIdS3koQlNCUiq6Uis6EGycjOrMv1apVM1HpDL15rVevXiLHTLpqaxyKwLERlDVfgcMO/CUnanZmBko6Cy+6Imwcofi7H848UM5///1Xmrs82ggDETgA8RVdGTUKOZxuYIDnK1DIMTgJJBiIYcAF0f21ZhCHgQ0mATAIw8ACDq2g5GIQgz9fwWAEA0M1VxM4R4ETLThngSMrKOBwCoNBpRUMQjEQ1FUE0RVxgWMpf4IBEgahUK4pJEACJOBLQFdrPe3bvHnzjNIIpfTFF1/0vdV8xmQe2p3ly5eLrpqa72z7gj7CX1sJT/3qzyFRfPfdd59pG6GUwkETFFS0VXAihfdo35A3X0G/hKPtkP7KlSs9jvTwna4ymIlXpOdWkF/0kyizr+hqq1FwoYiir/F29AcGtk/0DYfPmIy1yig+62qvcdIFp104g15Xcc09aMttv4c+wlswgYz2H0orFFn0B+iP0Meiz+jcubNxeGjDIL2FCxcaRRl99iOPPGIvJXoFXwgYQhnWLTPmM/8hARIggXASSKoJhDN2xhVXBND52VVDdF6YbU+pQIFVEy2j4GKlFJ05FDfdZ2Q8B0Ox9O4YoXQi7VC8M1qvkhjowGtkcgIlGsqjW8EKLVZj/QnigsKM1U5fwcAHgxm3Au+YOF8YgzYM1jD7jpl5eIDGzD0GVON19cNboHzr/i/jJRQz9QiLNDHbjkGV7s8yK+CoT+QT9YC4MTjB/ckJ4vG3apxcGF4jARIID4HGNfNLtiyRZ6iF/gGC9g0TcxB4rkebgrZcTYDNd4H+weop7oMgDARtP9rZcwnuRxv4ySefGIUME4Ro09SE1yhw6HuQLyiwvgJlFBOVyD8sYqDsQbHr1auXaVvhedm7X/IN7/sZk6mB7oeCjfYTk5i+yifi8TeR6xu//QyF9+OPPzYnFkCpRZsMhVzNrU0Z4F0fyj76Pito+9GXIH9QcuGdGu0/+jGEwx9WmbHajglQxGktf9CH4C85gWKNlXMKCZAACaQGASq4qUE1TuOEAgVlCbPfWI30nTX3hwXHAsGETPdESceOHUX3I5nbMMBQJ0nStWtXsxoJ5QpKJxQrrDBidjvcYgcMl112magnYnO0T6A0MPCwynyge4L9PtBKqNt4MHB54IEHjOk0jmRQZ1SiXkfNaizyisHE119/bQZ33nGi3Lp315xFjPpQJ1PGVBuDQBwzpPu+zOouZv6xCo5BDlZnYZqGFXXdR+cdXZL34eaUJAF+QQIk4JfAfR1K6e/V/QSZ30jC/CUm3bAVBAoWVjvtUWdWocORbr11y8m5BNs+UiJYXVQnhKadg7KK1WIoquh70K4hH1id9Kfg4hr6K2wbgZUMTJZhaot+CaudsIQJt6C9hfIdiuDMYXUmZeLB9hGYc+PoJMSNMqmTKtPWeyu4uIYtKjj6D7zUV4Ppg9E/WAVW9z+b9zhCCezQL0LU6aCx/Ekuz+h3Ak36JheO10iABEjADQEquG4o8R5XBNAh4sxXnE+LMw5xpipmtG2n5xsJFC6YdumxD2b2FwMEq+AiDPbqfPTRR2a/J/YKqTMLM5sMZdh3pRYz95jlxioABk6+aUI5QyeN1QLMRPsT7F1CJ42ZZax62pUF73sxm46ZaqRnFWLv64HeY4UAecNqqLcgHawE47p6pvS+FPR7nDmIlQXkTT1emrOIvSPBqgcGl74CUz/8YaYe+5fBAft48R1m9TEwwoQFVgCg4OLcRKzWwzQQnP1xQrkw6MPgKRhOvnnjZxIggZQTUMfEKQ+cCiHRLmDizFq/oL9AvwHBvlO0XTBzxWQf3vsKzHWxGolrto1HGwNB+4q9nb5KE7ZoqGdkwWop9qEi7X/++cdYCMHvge8EHfKYnNUJ+iWc1Q5rGaSpHolNOwdl1zdt3/z7fsaEol1NteWx9yBu5AUThL79hr3H7SsmbCGYMMbEs2Vmw2Pl1a6E2+/AGv0F7kWbD/8O+EM/AhNn9AtQerG1BZMG6Ltt+WFSDQsgW7c2TvTNWPFG3L55sPfwlQRIgATCQSDybJfCUSrGkW4EYK6ElT2sJmLmFx2dP4cd6OCgAENpQkeHFUSYhnkLFCf1TGkGPBiQYI8WZu2h4PpKp06dTJpQxOyeVHsPlEeYk2H/Ubly5ezXSV4xqIJZNFYshwwZYgZL3jdBIddjI8xg44YbbhDs+3UrGFRhYGf3jSEcOns4q7LONuDYKhSBiTMGKRhUYA+tr2BFAhwhuA/pQ3rragkcgqhn5URlxqoB+OsxS2bm3yqqWKXHaj3KokdUGOXcROT1D8zK8RxgVR4TGBQSIIG0J/Dtn5tVSUr7dP2liDYHyivafLSHUNrQPlhB2wtlDn2HHneWyLkg7kGfgT3/2AsKJQ0TmlAKMYkKix+0ObAesu0awkBBxIQrlEhch/WPVV71rN0ke1+RR7RX6GsQjzW5RVxWoLjByR+UPNsvQbFTL/T2FtevKBNWs6G0ewsUdUzKou/E6rJ1DOV9TzDv4XsB/h7QdmMS1wrKCB4oByYkIcgTBJOkaP+h1KIPtYI6wmQ0JkEhqAOryFonX1B80ef6miBjsgHhYOqN7UbWzNzGzVcSIAESCBcBruCGiyTjMQSglH755ZfGVBYdNzpLPdDeeDxG54oODyukGETouYGmc23evLno8TVJnBVhxh3OMbD/B7PkmPnFTLyvl2QkDA/FSA8KKNKBsoi8wOQKK5vocKEcY89QIMH9uI5V0G+++casaCIezF5jJhsDJKwCo0xQ/jBYcisYIGDAgjLBPAyvmL2HcgnFFx0+BhOhCAZBWNkAJ0wuYCIA6WCwhIkG7BODl2QIBpF2cIHVWHyGGRtWM8AYgzgM9qDsY8UbyiwGoBB40MQqBgYwqBc76YDvMSCEh2WYrKHMGAz5qy8TEf8hARJIVQJTF+2Te9uXlBzZ/lNqUjNBKJRoJ30FyigmGOH4DlYhaDPgyA9trhUoR1BW0Q6hnYXyhS0WsNZBmwaP+lBw0a7AJwMUNggUQNyHiUI9q1bgQApWKFahRlsExQrfQ6mGYgtrFbSFWMHFBB4m79BO4jts40B6ELTRvoL8IJ/9+/c37TcmVLGFBmmmRPSscNP3YdIU7TWUf/RjaHcx6RrIWVMwacEpFOoF8aKfgGk4FFOYGqNvHDx4sKc/wKQryoI9tujr4MUZK8DoC9HGQ+mGRRX6Eyi2MDFHfwHp0qWLqT9MNOhRT8aUG86q0C/BxwWYoX7RpyINruIGU4u8lwRIIBgCVHCDocV7XRGAwoo9ODBhgnIJc2UoUejUoOBixhgdIAYqmMHHHijvI39sIhh0wDkSBjB6vp/5Gkc9+BMMjrAvCqsDMB/DYAiDBQxUoNxhsPTMM8+YlWJ/4fEdBj2YhYfpLRRPDJaQf8zOwywL8WDwgcHU22+/nUQhDxQvvsegCGXHQAEOVDA4g1KJVWCsdMKZB/bNhiLIFwZrGEToOblmYIIBEhisU8+VGGRgAALv1FD87co6Vs+xLwurJsgfBiAoM65jgIcBD8zvcNQSBKslMC0ECwwewRuc4MAKSjMmCDCJgf1bOJ4DgyIKCZBA7BPA7x9+AHwFK5RQitCOok3Xc7rlmmuuSXQb2qq33nrLtNVYPYRFCdpGODDCBBv6EbTj8M2AdhrtNQTOkGB6jDTQdqFNLaeWOmi/0Jaj7cP96Geweol9t2gnobghDbTH6GvQH8HUFu0wLJHQHkIxx6Qd2k4riAOryCiHtU7xV2Z7/7leoXBjKw58TIAB0kRfg/fos9Cfhirw/gxPyHAKiPYczKDgwgwafQEmV2H9ZE2mkR4cT2G/Mdp3/CEs2nj0Y+i74J8Bk5cwe7amyVCeMTkB1ogPK8eoC/QZ6C+w6o1JjSeeeMLUg135DbV8DE8CJEACSQhoh0EhAQ+Bjs/Mdw4dPen5nNI3Onvu6Iy9ozPujs5uO6rcmkPk9QE0B8qrouWoouXooCfZJHTQ4ahSa8Lqiqmjgw2/9+vKgaMz8I7ORjvaKTvaEZswqkg6uoLs4NB6HQB5wmpnba6rYu2osu35HvHoURQmHh0UOaqceeJRJdpRxd3RQZPnfjdvUGbt5B2d8XZeeeUVR82HHR1cGA5qruXoQMDRmfJEUelqtKOTAo6umjo6AEl0DR/UhM7RQZkpJ8psRc2Unddff91R5dLkG2nj/WuvvebooMmkpYNGR2fwHTVZNsF0wGLqQVdjHd1j6+hgxITVQZ1JH2XWgYoDNt6CfKlpm3P99dc7ujJiwuig09GBkfPqq6+a+HWQ6R2E70mABNKQwJd/bNTfbeoniN+7WrV42hy0O95/usLnXH311Y5OiDmqgDqq6AbMFPoEte5xVOlydKXXxKPKnqMWKY6atTqqKCVpi9AvoE3UY84cXa00YdB+qSmtSVMVN08YtEnom1Qxc1SZNfeizVMrGkcnBh2doHPUgZT5Ht/hXl/RSUNHlUZzjyp1Afsl33D2M8qAfgmM1A+Fo/4lHLTL+AxW6MPQRyEdb1GLGtN/6MqnKa/3NbxX5di02YgHrKygH1VF3lHLGwcscV0ngB2d2HR0ctJRhdVRs2vTL+nkrQ1m4hswYICjq8uOWkaZcAirq6+OOjH028ZbvuhzwE+teEw4PUfY0UlSUy7vvtiTGN+QAAmQQBgJZEBc2mBRSMAQuO7ZBdL35WqSK3t4FvfxeNk/b8SYPbZ/3t/7vsfsOWaeYZqGv4ceesj3lkSfbVrejzXS8Z0pxnWY0/m7ZiPEdd943OTZhrevCAPTOJg9w0Mz4rWCfOG6r5wrf/Y6wvnGgWv2D9dtnvFqv8er914s3Od9DZ8h3mHPfJP0X1sehIe4CZM0Fn5DAiQQbgL4RSZtXcKdypm2w7YDgWIPpl1IaVvkGy65NJO7F9dQnkDh0S/B6ubDDz80VkOPPvpooGL7/R4roAgDaxtYv2BbiM0PAiBd3z7LRoQVVIhvu2+vI9+Iy/e6jR+vVrzTseG8v8N9gcJZNjYu39dA4QKVyzc8P5MACZBAKATCo8WEkgOGjWkC5+oEkys8OkiYjGEfKEx6sXf1XOI2Pdznq+D5xp0aHbGbdJGPc92X3HVcw58/Sek1f3HZ71KDk42bryRAAikncOBQguTLnfrdfHLtUUpyn1w7lVx8wYRL7t7kyoN+aa2a+cJEF/0SJi1DleTy4ht3Svutc6URqB0/Vzjf/NnPKQ1nw/OVBEiABEIhkPo9Xyi5Y9i4JID9m9gXhP1aOGcV5w3iXELu5YzLx4GFJgESSCGBb4dsliduKiOZIuws3BQWJ12DwVEV+iU4XoIfAzjLgu8CNb1N13wxcRIgARIggaQEqOAmZcJv0pkAvG3C2Qgci8BhCI68gSdmeOSlkAAJkAAJuCMwe9l+OXFSz1JNIy/K7nIVnXfBkgiOEzHxumDBAuNxHv0SVnEpJEACJEACkUWACm5k1QdzowRwPAGUXHX2ZI7PgcdFnLsXyISK0EiABEiABEggNQnA+y88xMMbMDwoP/7448YrP/ul1KTOuEmABEggZQToZCpl3GI2VLidTKUEFM4vxCACzjSwaovjfnDMQLQKjqnAMRQYINmjLaK1LMw3CZBA9BD47q/NcmebEpIxwJ786ClJ+ucU/RKcQ+H4oVD7JfRtOA4I56vj3HZaJ6V//TIHJEACsUWACm5s1WfIpYkEBTfkQjACEiABEiABEiABEiABEiCBuCSQMS5LzUKTAAmQAAmQQIwT2LXvZIyXkMUjARIgARIggaQEqOAmZcJvSIAESIAESCDqCXw7ZJMknPrv3NOoLxALQAIkQAIkQAIuCFDBdQGJt5AACZAACZBAtBFYsPKgnEw4HW3ZZn5JgARIgARIICQCVHBDwsfAJEACJEACJEACJEACJEACJEACkUKACm6k1ATzQQIkQAIkQAJhJNC6UWHJnjVTGGNkVCRAAiRAAiQQ+QR4Dm7k1xFzSAIkQAIkQAJBE7j9muJBh2EAEiABEiABEoh2AlzBjfYaZP5JgARIgARIwA+BLbuO+/mWX5EACZAACZBAbBOgghvb9cvSkQAJkAAJxCmBXupF+eQpOpmK0+pnsUmABEggbglQwY3bqmfBSYAESIAEYpnA0rWHJSGBxwTFch2zbCRAAiRAAkkJUMFNyoTfkAAJkAAJkAAJkAAJkAAJkAAJRCEBKrhRWGnMMgmQAAmQAAmci0CHpkUkRzZ6UT4XJ14nARIgARKILQJUcGOrPlkaEiABEiABEjAEbrqyGEmQAAmQAAmQQNwRoIIbd1XOApMACZAACcQDgXVbj8ZDMVlGEiABEiABEkhEgApuIhz8QAIkQAIkQAKxQeC7vzbLyQR6UY6N2mQpSIAESIAE3BKgguuWFO8jARIgARIggSgisHLjEUk4RS/KUVRlzCoJkAAJkEAYCFDBDQNERkECJEACJEACJEACJEACJEACJJD+BKjgpn8dMAckQAIkQAIkEHYCN1xWlF6Uw06VEZIACZAACUQ6ASq4kV5DzB8JkAAJkAAJpIDAdS2KpiAUg5AACZAACZBAdBOgghvd9cfckwAJkAAJkIBfAis2HPb7Pb8kARIgARIggVgmQAU3lmuXZSMBEiABEohbAt8P3aJelOlkKm4fABacBEiABOKUABXcOK14FpsESIAESCC2CeAc3IRTPCYotmuZpSMBEiABEvAlQAXXlwg/kwAJkAAJkAAJkAAJkAAJkAAJRCUBKrhRWW3MNAmQAAmQAAkkT+DWlsXpRTl5RLxKAiRAAiQQgwSo4MZgpbJIJEACJEACJNC2SWFCIAESIAESIIG4I0AFN+6qnAUmARIggegncOrUKZkxY4a89tprMnbsWDlx4kT0FyrMJVi8+lCYY2R0JEACJEACJBD5BKjgRn4dMYckQAIkQAI+BKDgTp06VV5++WUZM2YMFVwfPvj4/d+b5UQCnUz5QcOvSIAESIAEYpgAFdwYrlwWjQRIgARIIH4JbNl5XE6d4jFB8fsEsOQkQAIkEJ8EMsdnsVlqEiABEiCBaCaQNWtWeeKJJ8xfNJcjNfOeMUNqxs64SYAESIAESCAyCXAFNzLrhbkiARIgARIggZAIdG5dgl6UQyLIwCRAAiRAAtFIgCu40VhrzDMJkAAJhInAzp07ZejQoVKyZElp3ry5rF69WpYsWSIHDx6U3LlzS7Vq1aRixYqCFdPDhw/L/PnzZe3atXL69GkpWrSo1K5dW4oUKSIZMiRdLlyzZo25F2kcPXrU5LhYsWJStmxZueCCCyRLlizmOziIGjRokBw5ckSKFy8uzZo1kxw5cnhKiLDTp0+XdevWSeXKleWiiy6SjBkzyrJly2TmzJlSq1YtqVmzpmTOnNnkcfTo0Sb8xRdfLPv375d58+bJ7t27JXv27Cbd6tWrm/cJCQmydOlSWb58uQlXoEABE1f58uU9aePNxIkTDRfk/Zprrkl0DR82bNhg9gGff/750rBhQ8mWLZspL5xg7dmzx5QHvBYuXGjuBcty5coJ8pEvXz5BPlC2RYsWyb59+wz3qlWrmrzi3pRKy4bnpTQow5EACZAACZBA9BJwKCTgRaDjM/OdQ0dPen3DtyRAArFMQBVHbNJ0VKl0/vjjD+fKK690VOky3+XNm9e5/PLLnQEDBjiq9DpPP/20o0qZo0qXkylTJqdMmTLO7bff7mzatCkRomPHjjm//vqro8qgU6FCBSdnzpwmPqRTqlQpRxVpp2fPno4qcyYc7n/yySfNPZUqVXL++ecfT3yqGDqqsDqqEDv58+d3vvvuO+fkyZPO8ePHTRyI87nnnnNUITdhVNl0VOF1WrZs6fTp08fp1KmTowq4iVuVZqdBgwbOZ599ZtL+8MMPncaNGzuqyJvrhQoVclq1auWoQutJH29uvfVWcx2M/Ikq5+b6bbfd5qgibW7ZunWrc8MNNziqkBt+d955p6MKsLlPFWBHJw4MzwMHDjg///yzc9VVVzlIH+XJkyePYdS7d29/ybn+bs7y/a7v5Y0kQAIkQAIkECsEuIKrowkKCZAACQQicPLUaVmw4pDUvzBvoFti4vvFixcbj8QFCxaU7t27iyqlooqXjBs3zqwqYnUTK5Cq7Ikqa2b1dMiQIeYerFzCm7GVv/76S1588UVZuXKltGjRQrp06SKqtJnVVKyujh8/XtavX29Whtu2bWtWPFVJNavDWC3t16+fWTnGau7evXvl1VdfNSuc99xzj+B+rNSe61gg5BXpY4X0vvvuM6+TJk2S4cOHm7j+/fdf+e2336RJkybSvn172bFjh6hSLsOGDTNx45oq1LZIKX5FvGCjiqzceOONUqJECbOiDEaqaIsq6vLnn38KVo1VyTerueA+YcIEs6qMVWisWqdEfhi6RapVyC3ZsnA3Ukr4MQwJkAAJkEB0EqCCG531xlyTAAmkMoEEVWynLtovff/eIhkyZVAFt2oqp5i+0UMBg/L4yiuvGDNhmBxfdtll0q5dO6OQ5cqVS6CUwTwYCqauogqU4U8++US+/PJLj4K7a9cu+emnn2TVqlVy7bXXiq5CGgUWJsUw03388cfllltukREjRhhFF2lCdPVS3njjDenQoYPoSrLoKq+5r2vXrjJlyhRp2rSpPProo3Leee7Mbrdt22by/8033xjza5SnTZs2oqvFMmrUKPn6669Neg8++KAxv0beUDZd8TUmy1CQkWaoApNjcBo8eLBR2sEOrJGPgQMHyhdffGHS/Pzzz43ZtM6eS8eOHaVGjRpGEcdRSClVcHfuO6HMsShMIQESIAESIIH4IcBp3fipa5aUBEjgHARwpMr+QwkyYf5eeaXXanm771pZvfWoHDt+SlTviGnByiIUUuyPxb5P7I/Fvlw14TWKKVZh69WrZ/a24hpWeLH6WbhwYdm+fbuHDfacQiHDiqSaAIuaOZv4oGBCecMr9vVCocTeU29B/FjthPL33nvviZojyw8//CClS5cWKLpVqlTxu9fXOw77HuncfPPNombURsFGmRAee38hyFe3bt3Mfldcw/5cNWs213DGLpTQcAjKrKbLRmHFvmKwgzLfqFEjkwesRKPMlhP272JvLlhgEiGUfGTLkkF5haMUjIMESIAESIAEoocAV3Cjp66YUxIggVQicFIV270HTsrSdYdkwty9smDVQdl7MLHydVoVlUwxrC1gZRQKYCCBsmudQtl7oBTqXlz70bzqHlrp0aOHMSvWvbkya9YsgZMp3ZNqVnXnzJkj06ZNSxTGfoCiCXNhXO/fv79RaqHwQblu3bq1vc3VK/KLvGDF1J/AMZWvQMlMDalbt65R8gPFDSdevgKT8FClS+uSkj1r4voJNU6GJwESIAESIIFIJ+C/54/0XDN/JEACJBAGAgmq2O7Ye0KWrDkkkxfuk6VrD8mu/SeTxmwU29heCoOi6qvAJgXh7ht4T8YeVnUWZbwPr1MPwVA0sdoLxRPeiGHC7E9wHSvJ2IO6ceNG46n53nvv9Xdrst9B+Q6k3CYbMBUuYrUbK8ppLS3qFUzrJJkeCZAACZAACaQ7ASq46V4FzAAJkECwBA4fPSEbtu6XzdsPyr79R+XQkRNy5NhJOaTfHzuWoIpNRsmbK5s6Nsou+XNnlfx5ckjp4vnMXxa9BjmlexPnrTwgf4zfIWs2H5Vd2K8YwAwZq7vv9VubLkpKsGzc3F/z/NxyzSXu9rK6ic/7HjhV+uCDD4xpMRxLYQ8vnFCp92TBqiSOFurbt698+umn3sE873EkEBTkQ4cOme9wXBEcT8HcmBIcgRlL9kvDavmCC8S7SYAESIAESCDKCVDBjfIKZPZJIB4IHDh0XBau2CZLVu2Uf9fukg1b9suRoyfl2IkE9XibINg7m2D2dJ42TnUyZMwgmTNllCyZdVUycwbzmiNHFilXIr80qF5SGtYqKZUrFJYShbJJlTI5ZfvuE7IzGZC5cmSSdk0Ka5xpvwqXTLZSfClf7jPnz6Y4gmQCQhmFV2A4lYKzKJg9w0EVVlStwPzYn2Bf7uTJk+Wrr74y+3D1mB2zEoz9uDA3xr7USBPsI8a+40iUH4ZulloX5KaZciRWDvNEAiRAAiSQagSo4KYaWkZMAiQQKoGZizbLiIkrZOKc9bJzzxE9IdT8LznU3LXmhcWkYKEcUrV8YSlfMr8UyJdT/7JLvtzZ5PiJU6q0HjJ/O3Yflk1bD8jU+Rtl8pwNMmn2eoECXKpoXrm5TQ1p37SSNK9bUMbM3iv/zNwt2/YcT5JtKMkXlM6pijL98iWB4/MFTI83b95snCjBQZU/geLrT/QMWfnoo4+MWbOeuSs4Omj16tXmeCJ4GYbTKhz7k9YCh1A4usifwCHWsmXL/F1K9+/2qcO0WHeOlu6QmQESIAESIIGII0AFN+KqhBkigfgkAJPhQ4dPyLrNe2XUlNXyz/TVskuV09xqalwwXw5pUres1KtWQqqeX1gqlCkoya2l5sklcl6BnFKtYpFEMNdt2itT521SZXe9rFi3Rz7qM01+H7lEOl1dXVo2KKvmnLll6sIDMm3RPtmqe3OPnzjtURCoKCRCGfAD9tni/FgcszN37lzjtRh7YeERGIovlFSYIENwxu3+/fuN0grPxb169TLn1OLsV5gkw+lT7969pVmzZuaYnYYNG8pdd90Vtr3CAQvhcwF7hiE4uxfK+RVXXGHycPjwYRkzZowxufZ1tuUTRbp8zJMzs2RMh72/6VJYJkoCJEACJEACZwlQweWjQAIkkK4EcIwK9tP+u3a3jJuxVqbpSmsmNQUuV7KAXNGwgtStVlxqVyluFNZQM1quVAHB381tqsvqjXtl+MSVZmW3Z++pMnjMcrmq8flyqSrSDavllTn/HpTpSw7I6k1HzN7bDFy8dYW/Tp06Ag/FMDWG52OceYtVV5yPC2UQ5ryXXnqpTJo0SaAg4g/X4ZAK5+AWKVJE4FQKRwlB8IpjdJ5//nn59ttvzXE7UIDTUnAebv369WX27NnmaCGcp4ujfqDEjx07VuAFGSbZkSZdWpeQbFkjL1+Rxon5IQESIAESiC0CVHBjqz5ZGhKIKgLrt+yTibPXyZS5G2XZ6p3GMVTzi8rJxbVKSc3KxaREkTypUh54tK2oq8AP3NRAWjapKJPnbpBpmodPf5ohMxdukvaXV5G2jctIgwvzyUx11LNp13HJont6KecmULNmTenevbvg2CEc99OzZ09zlFDx4sUFimmrVq2MstigQQNzfBDMkrGK++STT5pzcdu2bSsdOnTweECG4tipUyfjVXnQoEFmBfiLL75IU1NllAX7gt99911TJphLY1W6Ro0acv/990vt2rXlhRdeODecNL6jcc38aZwikyMBEiABEiCB9CeQQVdPAvgNTf/MMQdpT+C6ZxdI35erSa7snPtIe/rxk+K+g8dk9LTVMmLSKln07zYpVSyfrp5WlEtql5YyJfLpPtrsumqadjwSTp2WTdsOmBXkgaOWyLHjCXJlo/Pl9va1deU4lzlKqFSR/5wkpV3OUj8lmAnjSB54OIbSiSNtrJw4ccKsUuI8W6ykwhuy90olPCbPnz9fjhw5YpRSGw6OlxAGxwPt27fPhMEqLcKXKFHCKLKjRo0yaUE5PH78uDkvF3HDKZXvubAwX165cqUsX77cOKvCCnCOHDlk7dq1smjRIuOAyp55Cy/M06dPV8djpwTnzxYsmPioHKy6wkQaptT+9ggPHjzYpIF8WdNklAtd5ZYtW8yeYFsmeIZGmWB+DXNsMITSi/N8USakBbNspIP0vAV7lf/9918TFgq9r0ydOtWYcIMH0kiJTJq/Vy6tHfp5uilJm2FIgARIgARIIL0IUMFNL/IRmi4V3AitmBjK1gxdIe39x1yZt3y75M6ZRW5oWV06XlVVV2+zqjll+k6snDh5Svfm7jIruXOWbJGyxfPLw7c1lBYNy8dQDbAo8ULg7jeXyOfdqtCLcrxUOMtJAiRAAiRgCKTvaJKVQAIkEBcETuvqF4716dn7jFOnnGoh0Pyi8vKIKo8l1ZtxpEjWLJmk+gVF5b1uLaX/sEXy45CF8uibw6TbnY3klra1zPm6kZJX5oMEzkXg8LFTHidp57qX10mABEiABEggVghQwY2VmmQ5SCBCCRw8fFw9F2+UXgPmyKYdB6Ru1eJy13V1pVGd0uas2kjMdl49aujeTvWleqWi0uPbyfL5r7Nl94Fjcnu7Wsajc0Y9ZohCApFOoGDeLGoezmc10uuJ+SMBEiABEggvASq44eXJ2EiABM4SwLE/q9bvlmHqqXjI2OWSL092uV+VxrYtKkshPcInGgR7gnt0vUo+7Tdd/tQy7Np7RO5QJfeCcoWoOERDBcZ5Ho0X5Sx0jhbnjwGLTwIkQAJxR4AKbtxVOQtMAmlD4B89y/bnoQvUedNBqV+9hNlne3HN0mnqPCocJa1cvpA8c++lMmD4Yhk2YaVsUWdUD9zcQBqqp2cKCUQygYuq5ovk7DFvJEACJEACJJAqBDi1mypYGSkJxC+BI8dOyjf9Z8n730+RzTsOqalvPel2dxNpWLNU1Cm3thZL6nFFd6tZdedra8t6PbP3tS/GC5xQUUggkgmMmbU7krPHvJEACZAACZBAqhCggpsqWBkpCcQnARy189InY+Wb3+Yaz609nrpSOl1dXYoUzCUZ0/LcnzDjx7m5MLG+uXUNefCWi2TP/qPy2FvDZc5iKrlhRs3owkigz7AtcuzEqTDGyKhIgARIgARIIPIJUMGN/DpiDkkg4gmc1v2285dtlWc//EfGz1wnl9YrK33fvc6YJmfKFDtObjJnyqjHGlWVx+64RM8vPSXPfzxGZi7arGeuno74OmIG44/AiQSHXpTjr9pZYhIgARKIewJUcOP+ESAAEgiNAJxJTZy9Xs12J8hmXcG9s2MdeeepK4y34dBijtzQN7WqLl316CCcm/v+d1NkxsLNcjKBK2WRW2PxmbNiBbOpM7T4LDtLTQIkQAIkEL8E2PXFb92z5CQQMoFjxxOMh+R3v5ssp06flofUfLdzh9qSLWvs+6+7rmU1efCmBrL/0HH59KfpuoK9TXDeL4UEIoVAlzYlJJue7UwhARIgARIggXgiQAU3nmqbZSWBMBLYp+fC9vptjnzYe5rZn9r1zsbmCKDcObOGMZXIjQrni7ZpXknuub6u7N53RJXcGbJx64HIzTBzFncEal+QJ+7KzAKTAAmQAAmQABVcPgMkQAJBE9i++7B83Hea9Bu6UMqWyCevP3qZNKpTJi5Wbr1h5ciexSj1N7euKWs375W3v5koWNWmkEAkEBg+bVckZIN5IAESIAESIIE0JUAFN01xMzESiH4CO1S5xRFAv49aKnWqFpe+PTpKxTIFJZacSQVTS9mzZVaz7FpyVePzZfqCjfL65xOCCc57SSDVCMCL8tHj3BueaoAZMQmQAAmQQEQSiP2NchGJnZkigegksG3XIflMTXHHz1wr7S+vIl3vaqxn28aOl+SU1kpG9eTz6G0Xy5bth2TUtFVSvF9uuUvPzc2pK7wUEiABEiABEiABEiCBtCPAFdy0Y82USCCqCUC5/fTH6TJ62hrde1pZHr61oeTXs2EpZwjgnNwXHmgqlcqdJ7+PXCqDRy+Tw0dPEA8JpBuBUkWySSbdK04hARIgARIggXgiQAU3nmqbZSWBFBLYsHW/vNtrsoycvEpaNTvjWKnYeblTGFvsBitZLK88c28TKVEkj/T9c4FMnrNBEnhGbuxWeISX7K42JSVrFnbzEV5NzB4JkAAJkECYCbDnCzNQRkcCsUZg/Zb90vOHqTIGK7ctqsj9nepJyaJ5Y62YYStPtYpFzPFBOJ7lpyELZNvOQ2GLmxGRQDAEqpbnJFQwvHgvCZAACZBAbBCgghsb9chSkECqENi686B8ombJ42etkw5XXCjd7m4sRblymyxrHB90Se3Sclu7WoKVb5yRy+Nxk0XGi6lE4M+JO1IpZkZLAiRAAiRAApFLgApu5NYNc0YC6Upg74Gj8sOg+TJ2+hrjUOqFB5tKrhx0muSmUjJnzmi8KuPopJFTVsvX/WfJKZoqu0HHe8JI4Jd/ttGLchh5MioSIAESIIHoIEAFNzrqibkkgTQlcOToSfltxBIZNn6FtGxSUf53y0WSJXOmNM1DtCcGp1P33FBPalxQRD7/eaaMmLKK+3GjvVKs8I1tAABAAElEQVSZfxIgARIgARIggYgnQAU34quIGSSBtCVw6rQjQ8Yul1+GLpL61UvI/TfWlyIFc6VtJmIktfNLF5BHb79EnU7llV4D5sjildtjpGQsRjQQKF8ih2TORC/K0VBXzCMJkAAJkED4CFDBDR9LxkQCMUFg0Jjl8vWA2VK2VH6j3JYvVSAmypVehWhQo4Q8fvvFsmvvYekzeL5s2nYgvbLCdOOMwN1tS6rlBbv5OKt2FpcESIAE4p4Ae764fwQIgAT+IzB80kr56peZkl09AD9xxyVSucJ5/13kuxQTuKJxBbn2iqoyZe5GGTRmmRw6wvNxUwyTAV0TqFgqp+t7eSMJkAAJkAAJxAoBKrixUpMsBwmESGDmwk2q3M6SPfuOyjtdr5KalYtJxgw0bwwRqwmO/cu3qlflOhcWl7/G/isr1+8OR7SMgwSSJfD7WJrEJwuIF0mABEiABGKSABXcmKxWFooE3BPAETYr1u1WT7+zZfvuw/L6Y5dLrSrFhLqte4Zu7ixaKJc6naorGbXV/VInErbvOuwmGO8hgRQT+H3cdnpRTjE9BiQBEiABEohWAlRwo7XmmG8SCBOBnXsOy/d/zJXla3cZBeyKS8qHKWZG40vgwgqFpU3zyrJg+Tbp++cCelX2BcTPJEACJEACJEACJBAiASq4IQJkcBKIdgL9hy+W6fM3SvvLqkjHK6tKtqyZo71IEZv/3DmzSkfdi9tYz8cdPHqpOWM4YjPLjEU9gUplctLJVNTXIgtAAiRAAiQQLAEquMES4/0kEEMEBqhy+/vIJVJHTZJvblNDCubLEUOli8yilCiaR25vX1tyZs8sn/40Q5as2hGZGWWuop7APe1K8ZigqK9FFoAESIAESCBYAlRwgyXG+0kgRgiMnb5GPuo7XXLnyCr36lm3pYrmi5GSRX4xalYuoubg9WTDlv3y7W9z6FU58qssKnNYpmj2qMw3M00CJEACJEACoRCgghsKPYYlgSgl8O+aXdKj12Q5cvSkPPtAU6l6fhE6lUrDusyUKaPc2KqGtGhYXuYs2SKjpqwWB96+KCQQRgL9Rm4NY2yMigRIgARIgASigwAV3OioJ+aSBMJGAE6lev0+Rw4ePi7d7mksTeqWCVvcjCg4Ak92aSRZ9czhgaOWyDKddKCSGxw/3p08gb8m76QX5eQR8SoJkAAJkEAMEqCCG4OVyiKRQCACh46ckEGjl8msxZulbYvKcmubmoFu5fdpQKCk7se9v1N92bz9gAybuIKmymnAnEmQAAmQAAmQAAnENgEquLFdvywdCXgIJJw6LeNnrJXfRiyRKhXOk9va1fJc45v0IQBT5csuriANa5WWYRNWyrT5m+TU6dPpkxmmGnMEqlXITS/KMVerLBAJkAAJkMC5CFDBPRchXieBGCGwav0e+XrAbMmbO5t0ubaOlCicJ0ZKFt3FKKCeqztcXkXy5soqPwyaK4d1lZ1CAuEgcE+7kvSiHA6QjIMESIAESCCqCFDBjaLqWrD5iLw+fJN06rVSWn62TLr+sd7kfujiffL9tJ2ScJpOaqKoOtM8qz17TzMmsFi5bVC9pGD1kJL+BDJlzCAX1Sgl7fQc4vWb98lX/eekf6aYg5ggULxQtpgoBwtBAiRAAiRAAsEQyBzMzbw3fQis2nlMnv1zgwxfsk8On/jPfPHYyTMK7fxNh+SdUVvko3Fb5cPryknTinkkS6YM6ZNZphpxBBISTsvnP8+UWYs2yfUtq0mb5pWo3EZYLWXS32vr5pVljB7d9NOQBXJpvTJySe3SEZZLZifaCPT+e4t0blWCHtKjreKYXxIgARIggZAIcAknJHypH3jJ1qNy3bcr5Pd5ewQLtMXyZpXCebIkSvjoCUe9r4os0hXeO/qskqGL9ya6zg/xS+C0Phijp6+WH1Vpqly+kO67ral78jLFL5AILnnRQrnkwZsaSD41If+q/yzZs/9IBOeWWYsGAiOm75JjJ05FQ1aZRxIgARIgARIIGwEquGFDGf6INu49IZ37rpJFW45ImYJZ5cGmReXdDqWldbX8iRJrWyO/3HlJYTkvd2bZfvCkmivvkI17jye6hx/ikwD23f40ZKEUyJtdnrqzsZQtkfjZiU8qkVvqJvXKSuumlWTpqp3y69+L5TiVk8itLOaMBEiABEiABEggIglQwY3IajmTqf5zd8mcDYelQM7M8uRlJeSla0rK7Q0LS5E8iS3LLy6fR15rU1q6X1lCPbA6Mm/jEZm29lAEl4xZSwsCO/S8235DF8pKVXLvvq6eNKhRMi2SZRohEujSsY5UKFlARk5ZJYtXbg8xNgaPZwJ1Kul2lczs5uP5GWDZSYAESCAeCbDni+BaH7/igMldrZI55K5GhSVfjsSKrXfWC6oS/OClRf/P3l3Ax3WcawN/xCtpxcwsWZYtmZkTx+wwOcy9gTbJbXvb+7W3Kd22t01KadKww4kdsB1TzMwsy5YtWWQxM0v+Zo4iU2RZsHB2z3P622rh7JyZ/2wsvTsz72BYkAvK69uQVd58+cu8rzGBlrYObNh1Dht2ZmL2pGixvjNOYwKW29xAPz2eunssCsvqsGrLGVRUN1luY1hzswo8vjiUWZTN2gO8OAUoQAEKmEOAAa451Pt4TTlFWR5TY9zh5nT9dZN6cU5SsDNa2i9ckYyqj5fjaVYkkF9Ug2XrUhEd7oVHbxsFN1dmU7Wk7h2bEoK5U+OwRSSdSsvkKK4l9Z2a6urjcWW+BjXVjXWhAAUoQAEKGEuAAa6xZA1Qrtw+RB4d/dj9p02cLN/FHMoKnSb/r17so/qayJpc1yTWcN8yAlGhXpp0sORGu7k44u65w+Dj5YIPVh5HQWnXbA5LbhPrbnqBt1bmi+SE/fgFYvoq8ooUoAAFKEABgwswwDU4qeEKDPnu2/dj5xtQ1dh+3YKLaltxKK8ermIkV05Z5qFNga83ncb2gzm4YXy0WHcbyi1CLPRjEB3mhTmTY5B6pgTrd2RaaCtYbXMKbD5UKRKVXdpazpx14bUpQAEKUIACphJggGsq6QFcZ4qYmiyPPdl1eGdPKSoarh3kFte24U9iL9y8ylYlm3K0r24AV+RbLF3gWHoxln59DENj/HHvguFK9mRLb5NW6++ic8B8kVF5eHyAmG5+Ehk5FVqlYLspQAEKUIACFKBAnwUY4PaZyvQnPjDeFzG+Tqhu7MDftxbjl9/kYcXxKtQ2X/pGXm4LtPxIBV74IgdL95VBJsycHK3H5Bg301eYVzSrQJFISvS39/eiurYJSxYlIybc26z14cUHLxAW7IEF0+PQ0NyGf364X+x3zemmg1fVTgnjhnrA0YG/5rXT42wpBShAAQpIAc5jVfHnINjDEe8/GIO73slAQY3c37YMy45UQq6zlcfB3HqM/7+TqGvuQF1Lh/J8hNgv99kZQfBxZdequGuNUrWvNpxCWkYp7piThFkTooxyDRZqWgFbGxvME6O4Ow/nYduBbKwVU5VlwMuDAn0ReOLmEHTncujL+TyHAhSgAAUoYA0C/GpX5b04WUxT/vyxeCSL7Mhii1tlLW6tCGjl0dTWiTyRabm6qWvq8oQoPXa+OAwTIvUqbxWrZ0gBOaq341Au1mzPQGSoJ37+5FQxanP9rNuGrAPLMp6Azskej94+Stnj+o3PD6K4nHtcG0/bukp20fHfAevqUbaGAhSgAAX6IsBhvr4omfmcKWK68YbnEvFNapVIItWA1IJGtMtoVxx6J1vE+OkwLdYDd4/2FlOUmT/ZzN1l8ssXltVj+fo01NY347+fmmry6/OCxhcYFuePJ+8cjQ+/OYEVm0/jkVtHwsmR/3wbX96yr/DG1/n4wa2hsOXvBcvuSNaeAhSgAAX6JcC/kPrFZb6T/d0c8Ngkf3HrvQ4y8M0Viab0jrYIcOceiL1rWf6rLa0d2CEyJp/MKMG9C5MxZliI5TeKLehR4L7FKdh6IAcbd5/DeJEde+TQoB7P45MU6BbYcawKjywMhnMf9lHvfg9/UoACFKAABSxdgFOUVdyDf9pYiB8tz8H6U9V9ruVSsU73mc+z8c3Jqj6/hydarsDZ7HJ8JEb1osO8RcbdOMjprDysU8BD74Sn7h6DSpFEbOOec6iua7bOhrJVFKAABShAAQpQYBACDHAHgWfst35ysBz/2FaM/Tl9X3O3+UwNvhUBsRzF5WH9Ah+sOo7mlnYsnpWA0MCubaWsv9XabKGNSDg1JilYGb1ds/0s0s6WinX5zKqszU9D31o9OdkTTsyi3DcsnkUBClCAAlYjwADXaroSSoblnZm1VtQiNqU3gRWbTmPLvixMSA7FTZNi4GDPhDK9eVnDa57uzrj5hiHQuzjiC5E1u7GpzRqaxTYYSeDJW7j+1ki0LJYCFKAABVQswPmMKumcpz7Nwlu7S8U+l9+v0Etr8iFvfT08nO0Q6M6u7auXJZ53vqgGf3prFwJ89Lh3wXA467je2hL7sb91FoO4GB4XgAkpYSLATcOcI7GYOyW2v8XwfI0IdF7aMl0jLWYzKUABClCAAgBHcFXyKfj1/FAMCXCGu9jWofvWvX+hzt7m4nPdr13rZ6BILDV7iCdmxnuopGWshqEF6htb8ebyQ2hqacMSkVhqWLy/oS/B8lQsoHd1FFPShyBGrLt+W3wOKmuaVFxbVs2cAm+tzAeDXHP2AK9NAQpQgALmEOAwnznUe7hmoIcj/nJbODJKLyWO+b+NRSisacUNQzxE0Nq3gNXH1QHjxT64cf66Hq7CpyxdQO55K6clbz+Yi3Eik+4tYroqD+0JDIvzw8wJkXj/6+P4eNUJPPfAeO0hsMXXFdiTWo0nbg5hFuXrSvEEClCAAhSwJgEGuCrqzflJXkDSpQq9KzIiywB3bIQeP5rJLUEuyWj3Xm5hDVaLBEOuzg746eOTIUfzeGhPwM7OFnfOGYZdh/Kwams6po+PQHJ8oPYg2GIKUIACFKAABShwlQCnKF8FoqaHyx6Lx9GfD8dTUwLUVC3WxUwCTc1tWLcjA0dOFuLOuUnK1kBmqgovqwKBQF89Hlg8AmWVDfhoZVc2bRVUi1VQkcCMUV7QOTL5nIq6hFWhAAUoQAETCDDANQHyQC+REKDDiFBXkTCKCYQGamhN78strMb6XWcxYmiQ2PM2Hra2IuMQD00LLJgRh4kjw3HkVLEYzc3VtAUb/32Bp24Ng0xMxoMCFKAABSigJQFOUbaA3i6ubUNNUzvaO3tIsXxV/b84WoXTxY2YFK3HD2dwWvNVPBb7sKGpFZ+tPSkSCjXj6XvHwd/H1WLbwoobTkDujfv0PWPx5K9WYdW2Mxg+JEDJrG24K7AkSxaorW+Hh56/5i25D1l3ClCAAhTovwB/8/XfzKTv2HmuDn/cUIA9WXWobuzo87Xj/J37fC5PVL/A0dPF2LQnC7MmRGHU0GDYclhG/Z1mohrGR/nijjlJWLPtLPYdzxej+3HcE9lE9mq/zFurCvDCPeHozsiv9vqyfhSgAAUoQAFDCHCKsiEUjVTGqeImPPbROaw9Wd3n4FbvZIvJYvQ2nlmUjdQrpi+2pKIef/9gHzzdnbBoZgL8vDl6a/peUO8VHR1sMXdqrPL5WC2C3PKqRvVWljUzqcCh0zVobeNmuCZF58UoQAEKUMDsAgxwzd4F167A8iMVyrZBDnY2mBHvhnfvj8GqHyQgKchZ+UZ+0XAv5fEbS6KVfW/lkkxn8cfu09MCsSDJ89oF8xWLEvh0dSqy86swZ3Ichicw4ZhFdZ4JKiunKceGe2PhjHikZ5Vh+4EcdIrtpHhQgAIUoAAFKEABLQowwFVxrx/Lb1BqJ0djX787Gg+O94MMamcneip/wMo/YeXjRyf6YdljsZgW647qpg5lOrO3K2efq7hr+1y1w2mF+GrjaYQHeeDBW1NERlT2a5/xNHSik/hcTBkdiYhgT7y/4ihaW9s11Ho29VoCs8f5QOfELMrX8uHzFKAABShgnQIMcFXcr1nlLUrtZiV4YEigHLXtquzwYGfIAZq8yhZklDXDXgzd+uod8N4D0egQiag2ptdg85kaFbeMVeuLQEdHJ5aJxFL1ja146u4xIlmMri9v4zkaFYiP9MHsyTGormvBax8fUP6N0CgFm/2dwGOLQsAkyvw4UIACFKCA1gQY4FpAj/tcNRo7MdpdqXVDayfyq1ovtiDSR4exEXqU1rXjbEnzxed5x/IE5BcV3+7KxEExgjt1TATmTIm1vEawxiYXmD0pBnER3li68hhOnysz+fV5QXUJlFVf+v2grpqxNhSgAAUoQAHjCTDANZ7toEvW2Xd9997cduV6ukSxP667zhb1zR0ouOoPmCgfJ9Q2t6Okrm3Q12cB5hMoKa/Hup0Zyh6Wj90+ynwV4ZUtSiDYzw13zxum7JH8zpdHUN/AAMeiOtDAlX1rZT7aO678/WHgS7A4ClCAAhSggOoEGOCqrksuVSjCu2tK6vGCBtSJYPbyI9TLEU0iO2Zp/ZWBbF1Lh1ifC/Bvmsu1LOt+a1sHdh/JxdFTRVg0IwEJUT6W1QDW1qwCM8ZFYUJKGPYfPy8+R3lmrQsvbl6BE5n1aGtnFmXz9gKvTgEKUIACphZggGtq8X5cb2xE13YwB3Pr8d7esiuC3KGBLqgXwezR8w2oaOhKKFMoRnMP5zXAUWRddmYuon5Iq+tUuc3Luh2ZCPZ3V6YmOzowSYy6ekjdtXF1ccSPH5mENrGGe9XWdBSV1au7wqwdBShAAQpQgAIUMKAAA1wDYhq6qB/NCkKgm70SwP50RR4mv5wGGezKY8EwL2Wk9pvUKvznlzn45/Zi3PxmujI12Uus2Q31cjJ0dVieCQTk9i5y7W3q2RIsENu+xInEQXIbGB4U6I9ATLgPbr9pKE6cLcU+MZLLQ5sCCyb5iczr/IJMm73PVlOAAhTQrgADXBX3vRyJXfpQLMLEdOQL4n95VS0XR3HvHOWD8ZF6MYrbiff3l+OHy3JwKLdRyZg5JMAZo8L1Km4Zq3YtgZq6Zsh9b5OHBIhtX8Jh3506+1pv4PMU6EFAfify4M0joHd2wHqxlju3kFnVe2Cy+qcemBekrOO3+oaygRSgAAUoQIHLBBjgXoahxrtzxJ63nz0ajycmByj73Hq5dM09dnawwSu3R2BGnBsC3B3g4WwHH1cHTIlxx28WhmJYkLMam8M69SLQLqaU/u39vWhsbsPcKXGICfPu5Wy+RIHeBTzddLht9lCcEtmUD52UyYa4FrN3Met7tfC7reasr2VsEQUoQAEKUODaAlypeW0bs79S29QBdxG4TozSY3S4K4pqWpUgVlbMVgzRjBMjuP+4MxKHxLpbmYTKUYz2TYjWY3iwi9nrzgr0X+DQyQKs2X4W44aHYMbYyP4XwHdQ4DIBnZM9po+LxI7DuVi2Lg3jkkMRFuhx2Rm8a+0CMovyfz8cBQfOBLH2rmb7KEABClDgMgEGuJdhqO3uKrG+dk9WLeaL9bYLxS3C+8p1tfa2Nhga5KLc1FZ31qd/AlW1TXh7+RFllO2eBcnw8+lKMNa/Ung2Ba4UiAj2xI0To/H2F0eUxGVP3jX6yhP4yKoFTuc0oL39gghwrbqZbBwFKEABClDgCgFOUb6CQ10PVqVW4q3dpfjwQJm6KsbaGFxg055zSMssxYLpCWKLl1CDl88CtSngJBIMzRwfhagQTyz9+ijOF3EtrjY/CWw1BShAAQpQQDsCDHBV3NdnSpohtzCUWwLxsF6BnIJqrNpyFp1ijeRPH58MbgtkvX1tjpaFB3lg4cwEXBAZul//9KA5qsBrmknglmn+cHbi8K2Z+HlZClCAAhQwkwADXDPB9+Wy/m4Oymklta0i0L3Ql7fwHAsTaBPfYGw7kI2cgir84N6x8NDrLKwFrK4lCMydGofoEC+sExmV9x7jtkGW0GeGqOM9swMNUQzLoAAFKEABCliUAANcFXfXkjE+cNfZYf2pGnx9rBLZFS1o7WCgq+Iu61fV5IhaRm4F1ot9byPEFFI5ysaDAsYQcHd1xFPiCxQ7sfXY52tPolpsR8XD+gVyipqsv5FsIQUoQAEKUOAqASaZugpETQ89nO0xSWRF3nq2Fi9+mYuUUFdE+TiKmw7XS4o5LtJNyb6spvawLlcKNLe0Y/PeLJSU1eOHD0yA3NaFBwWMJTB5VDhmjovCgdQC7DiYg8WzhhjrUixXJQJvr8rHrx6LgYM9v8tWSZewGhSgAAUoYAIBBrgmQB7oJf69swSni5uUdbj51a2QN3m4iVFdm+sU+pPZwQxwr2Nk7pfl2tsvN5xCypAAjBeJpRzsuVbO3H1izde3E1nXn71/PB7/fyuxUSQ1GzU0GKGB7tbcZM23LTNf/P4Qs34c+Jte858FAlCAAhTQkgB/7am4t0vq2i4GtZdXU+55e72jRWwNwUPdAsvWp0FsZ4zZk2IQ6KdXd2VZO6sQkPvgLpqVgE/XpIqR3HwE+yfCVgS+PChAAQpQgAIUoIC1CDDAVXFPHv/vZBXXjlUbjMCZrHIxepuGSSPDMWlUBGxlpMuDAkYWkMHszWJq8o6DuVizPQOjk0IQEexh5KuyeHMJ3HVDILMomwuf16UABShAAbMJcGGO2eh5Ya0KyLW3r35yAO6uTrht9lB4u3PtrVY/C+Zod4CvHvOmxSH1TDF2H85Fu9yLjIdVCtw2w98q28VGUYACFKAABXoTYIDbmw5fo4ARBHYfyYO8pQwJEiO4YUa4AoukwLUFdE72mD42AkNj/bBcrAEvKq+79sl8xaIFzuY1WnT9WXkKUIACFKDAQAQY4A5Eje+hwAAFKqqbsPzbNHR2duLRO0ZC7+I4wJL4NgoMXCA82BOzJkSjtKJemSo/8JL4TjULvLu6AG3Mx6DmLmLdKEABClDACAIMcI2AyiIpcC2BXYdzcCqzFAtnDMGIhMBrncbnKWBUAUcHO8ydEofoUG8sX38Kp86VGvV6LNw8AnIf3PYOTkE3jz6vSgEKUIAC5hJggGsueV5XcwKFpXX4dtc5tLR14IcPjofd9TYz1pwQG2xKAX8fV9wxdyhaxefx7eWHTXlpXosCFKAABShAAQoYTYABrtFoWTAFLgl0dl7AoZMFyujtvQuGw8fD+dKLvEcBMwnIjMrJYh/mvcfysWlvlplqwcsaS+D+uUHMomwsXJZLAQpQgAKqFWCAq9quYcWsSaC4vF6M3mbCTWROXjQzgaO31tS5Ft6Wp+8RswnE9kGrNqejqqbJwlvD6l8usHCy3+UPeZ8CFKAABSigCQEGuJroZjbSnAIdYg3c4bRCpIm1twtmxCPIz82c1eG1KXCFwOikIGXboOPpxWIU9xzk55WHdQiczKq3joawFRSgAAUoQIF+CDDA7QcWT6XAQASaWzuwfF0a5P6jk0eFw0XnMJBi+B4KGE3gnvnD4eHmhM17s3G+uNZo12HBphWQWZRbuc+xadF5NQpQgAIUMLsAA1yzdwErYO0Ca7afQWZeBWaMi8KQaF9rby7bZ4ECYUEeWCzW4x4U68R3Hc5TEk9ZYDNY5asECstaxIj8haue5UMKUIACFKCAdQvYW3fzLLt1XxytRGVje78aYS/W0o0Kc0VioA42NjawEe8WTylr7PpVEE82iICc7vnvzw4hQExLnikCXAd7O4OUy0IoYEgBuW2Q3Bd3x6FcrN1+VnwZE4nQQHdDXoJlmUFArq3mQQEKUIACFNCaAANcFff4b9fl40RB44Br6Ku3R6yfM+YkeuCJyf4I8XQccFl8Y/8FOi9cwJufH0J1bRPuuGkoR2/7T8h3mFBAjuLeMDEa//p4P9buOIsn7hwjviQzYQV4KYMLPDifWZQNjsoCKUABClBA9QKcoqziLor0cUJCgDP0TpdG/VwcbRHg5qA8H+OrgwxiHe0v/RXqZG8rnnOAh7MdqsTo777sOvxGBMo/XJ6NjNJmFbfW+qqWU1CNFSIzbVigp8icPMT6GsgWWZWAg/i3Y+b4KIwaGoSvN6Ujr6jGqtqnxcbMGc8lEVrsd7aZAhSggNYF7F4Sh9YR1Nr+KBHgyinKaUWNcLSzwY1DPPDkFH/cNcoHt4/0xtwkT8yIc8ewYFe0tHWisKYVbjo7PDrRDw+KP2zGhOuVacpZ5S3IqWhFh9iLdVKMG3TiD9lrHcs2l+DWGf4iaL72Odd6L5+/JNDa1oF3vjyMA6kFeOruMUpyqUuv8h4F1CngrncS6287seNgDsqqGpQRXXXWlLXqi8CRM7UI8nXqy6k8hwIUoAAFKGA1ApyirOKu7Lhgg7Vp1SIwhQha/fGfNwQp04wdRLB7+dHY2imCXm/898rz+Ca1CtkioH12eiCC3B1x9xhf/HptPj7cX4bNZ2qUwHhaLNfWXe5njPunz5Vh37F8ZVryQrE1EA8KWIKAXLc/e1IMNu/LElsGZWH+9FxMGRVhCVVnHXsQeG9NIZKi9XBy4BeWPfDwKQpQgAIUsFIB/tZTccd+JILSgupWjA5zwZ9uCYecsnx1cCurL6ctDxFTmd9/MAaezrbYm12v3OTU5Rjx7f0/74wUgbEDSurakC/K42FcgTaxLcfW/dmQU5TvXzwCbq4cQTGuOEs3pIAcxb1vQTJaWtrx5rLDaG5pM2TxLMuEAmVVregUM3d4UIACFKAABbQkwABXxb19NL9Bqd2kaHcliL1eVeX05Mkx7iKQbcXZkqaLp8s1vMkhriivb0eRmMbMw7gCZ7LLse94PkYmBorRr3DjXoylU8AIApNHh2Pe1Ficy6sUWZUzIROm8bA8AZ348pOJwiyv31hjClCAAhQYnAAD3MH5GfXdTWItnDzktMH+HHJK83dv/e5tF8S62/6V0Z/r8dxLAi2t7ThwIh+5hdVYODMBLjqHSy/yHgUsSODJe8Yq21qt2pqO/OJaC6o5q9ot8ND8YOgcLyUp7H6ePylAAQpQgALWLMAAV8W96+PatUT6YG49imuvP/JaWNOGo+cb4CSCWVfHSwGtHHyR05Nloiod12IZtceLyuqVLVaGxfljzLAQ2DNZl1G9WbjxBKJDvXDvwuHIzKvA1gPZaBZf3vCwLIGZo70tq8KsLQUoQAEKUMAAAgxwDYBorCK6k0EdFkHrm7tLew1yz4u1tb9eex55Ys1VoEguNSTQ5WK1Vp6oxPH8RmX7IPkaD+MIXBDfJOw4mI2SigbMGBeJQF+9cS7EUilgIoE5k2MQGuCBzXuyOIprInNDXmZ/Grd6MqQny6IABShAAcsQYBZlFfeTzIS8dH8p8sQWP3/bUowDOQ2YL7YGGhPhinERetS3dGB/Tr3Y67YeG05X42BuA+xtbTA11g03xLvjUF4DPjlYjs8OV6BBZFoeG6FDcvClwFfFTbfIqsnpyZ+sToUc+ZqQEgZHB04NtMiOZKUvCoQGeuCOOUl4ZelubBGZlcMC3eHkyF8bF4FUfue91QVIidNzmrLK+4nVowAFKEABwwrwLxXDehq0NF+9PTY8MxSzXz2FvMpWsWVQFdaJm61Yk9u9LFcmf5FTkC/ARvy8gCkiuP3jzeHKfrhfHavEG7tK0djaAS8Xe9wpthKK9WNGX4N20mWFfbzqBKrrWnDn3OGIDvO67BXepYBlCtjb2WLc8BAMjw/Al9+exi03JsLfm782LKU3q0ViQfn7gQcFKEABClBASwKcoqzy3o4P0GHFkwm4e7SPsq+t3BJIDNKireMC2sX2D/a2tkowG+LhgOdnBeLzR+KUvXJls9raOyDX8Y4Jd8X/Lg7D09MC+52wSuU8qqleZU0T3vn6GIL89Jg1IZLOqukZVmSwAuHBHiKjcpyyXdCbyw5x25nBgprw/W4udsoXoia8JC9FAQpQgAIUMLsAv4o3exdcvwIjw1yx9IEYMQW5a3/bIpFwqrC6DfYiaVSAmz1i/JzFlGVXjBaBrBzd7T4enhiA+cO8MVNMV+ZhPAE5cv7p6hOob2jBwzenIEpMUeZBAWsSmDgiHFsSs7FyczrmT4/HqMQga2qe1bbl4QUhYko5v8e22g5mwyhAAQpQoEcBBrg9sqjvSZn9eGqsu3Lra+2SgpwhbzyMK5BTUI1Ne7MQEuCGRbMSjHsxlk4BMwgE+LrittmJOHKqEP/4YB9e+dlceHvw3xYzdEW/Ljk52bNf5/NkClCAAhSggDUI8Ktda+hFtsGsAut2ZiC/pBb3LkgWU5TdzFoXXpwCxhKQidNumBCDE2eKsW7HWWNdhuUaUGDnsSoDlsaiKEABClCAApYhwBFcC+in+pZOrBBb/ZwqbOxzbWcmeGD2EI8+n88TByZwNqcCe46eV7LL3jU3aWCF8F0UsAABnZM9nlkyDhvFlkErNqVj7PBQxEf6WEDNtVvFpWsKMXaoO7Moa/cjwJZTgAIU0KQAA1wVd7tMfrkpvQY/XJ6D9OKmftXUTmQ/ZYDbL7J+n9wpknwdTC3A2exyvPDQJMgAgAcFrFnA38cVzy4Zi79+sBff7s5EbIT3Fev+rbntlti2huYOZlG2xI5jnSlAAQpQYFAC/It8UHzGffPx/AYsefcsyhs64GhvAw+dHVyd7GAn0yhf5/AW2wLxMK5AbqFce3sOMRE+mDE+0rgXY+kUUInA7XOGKp/7TXvOYeywEGUbIds+/Jukkuprqhre7g5g32iqy9lYClCAAhQQAoyCVPwx+PBAuRLcOosEUwuHe2LBMC+EeTnBSQS71zvkeTyMJ9De0SkS7hQhM68ST9wxhgl3jEfNklUm4OBgh3vEevPf/3s7Nuw+hyHRvvB006mslqyOFHhkociiLH5/8KAABShAAQpoSYABrop7e39OvVI7uf3PHxaHi+2A+EekWrqrrqEVKzafRniQB8anyK04+J+SWvqG9TCugNyKbOywYEwbE4Gt+7MwZXQYZoyL4lRl47IPqPSxidwibkBwfBMFKEABCli0AL/aVXH31Yn1U/KYFO3G4FZl/bRtfzayzldh2thI7nursr5hdYwv4OGuw9wpcdC7OGHZulNoa+v6t8r4V+YV+iOw+VBlf07nuRSgAAUoQAGrEGCAq+JulFOT5eHiyG5SWzctXXkUgb56TBkZDkcxZZMHBbQkIEdxxyWHYMbYCBxOK8CqrWe01HyLaev7awrQ3MovHyymw1hRClCAAhQwiAAjJ4MwGqeQ0WGuSsF7surQ0i5zKvNQg4DcIuV8YY2YmhyKpDh/NVSJdaCAyQXkWtx50+LFFlkeeP2Tg6htaDF5HXjB3gVaxe+NC/zV0TsSX6UABShAAasTYICr4i69f7wfgj0ccOR8A97bW4qqxnYV11YbVautb8Fna1KVpFILxB/3PCigZYGhsX5YOCMe1XXN+PsH+9HC0UJVfRwCvZ1EFmVVVYmVoQAFKEABChhdgJlxjE488Av4uNrjoQl+eHt3GX6/vgCnxV64ySEukM/rrpMZM8ZXhzh/JqUauH7P79y0NwsZeRVYNDOeo7c9E/FZjQksmpmAzfuy8O2us7hhQhQmjQzTmIB6m/vIwmCRRZlLKNTbQ6wZBShAAQoYQ4ABrjFUDVTmb9cVILOsGa1iS5qy+g68vrNEWY8r98N1tO/9a/mnpwXghVlBBqoJi5EC5VWNWL8zAzZiz88HFqcQhQIUEAJ+3q54Zsk4PPvbtfhyQxriIr3h59W1vIJA5hVIiXMzbwV4dQpQgAIUoIAZBBjgmgG9r5c8UdCAEwWNF09v67iAmqYO5XbxyWvcqWxkYpFr0Az46YOpBcjIrcD8qXEic7L3gMvhGylgbQLjhodi4fQ47Dich73H8rFYjOryML/Aur3lmDfR1/wVYQ0oQAEKUIACJhRggGtC7P5e6tcLw1DZMLB1tyliKjMPwwlU1TZh095zyijuI3eMFOvabAxXOEuigIUL2IsZJc89OBF7juVhtcionBIfgIgQTwtvleVX//21hZgxygvOTpymbPm9yRZQgAIUoEBfBRjg9lXKDOfdkuxlhqvyklcLyCykqWdKkJZZiltvTESIn/vVp/AxBTQv4K53wl3zkvHuV4eVQDc4wB0O11lKoXk0AlCAAhSgAAUoYHCB3hdyGvxyLJAClidQJ7Y/2SmmXjY0tWPOlFjxRztHQyyvF1ljYwvIZEY3TozCkChffLUxHVnnq4x9SZZ/HYEwkWjQjrNNrqPElylAAQpQwNoEOIKrkh49lt+I9s4L8HC2Q5xfV/bjtKImNLV1DqiGQe4OCPF0HNB7+aZLAhfE8G1uUQ12HMrBxBGhSBB/vNtwdvIlIN6jwGUCIWLUdq5Yo/7apwexfP1J/OI/pl/2Ku+aWkBmUXa8TsZ9U9eJ16MABShAAQoYW4ABrrGF+1j+c8uyleRRU2Lc8No9Ucq7frXmPM6WNPexhCtPe3KKP56dHnjlk3zUb4EO8aXDFrH2Vu7vOW1MJLzcufVSvxH5Bs0IODna46bJsTh8sgjrd2Vi6pgITB8bqZn2q62hQ6P0aqsS60MBClCAAhQwugADXKMT9+0Cp8QetzKhVKjXpVHXjNJmpBZeyqLct5K6ziqpG1hyqv5cQwvnNoppySvEdMvEWD+MHBoEOzvO6tdCv7ONAxfw9nDGbTcl4vCpQvz+3zswckgg3N34xdDARQf+zpU7SnHzNP+BF8B3UoACFKAABSxQgAGuSjrtKTHi2tjaicRA54s1um+sL2bGt1583J87E/nNfX+4rnnuB6uOin2IOzBdjESF+HNPyWtC8QUKXCYwcUQYbhZbBb3z1RG8/eURPC8yLDPz+GVAJrr76cZi3DTeh1mUTeTNy1CAAhSggDoEGOCqox/wv4vDv1eTn84O/t5zfMJ0AlU1Tfji2zREBHli0qjv94/pasIrUcDyBO6/eQTW7crA6m1nMSElDJNGhlleI1hjClCAAhSgAAUsToDzLS2uy1hhUwl8tiYVNbUtmDU+CuFBHqa6LK9DAasQ8PF0xv88PRNyHfvXm06jrGpgyy2sAsNMjYgOdoa9HbPimYmfl6UABShAATMJMMA1Ezwvq26BPJE5+dvdmQjwdcXCWQnqrixrRwGVCsipynOnxmLv0TxsEEmnWto6VFpT66zWo4tCuBexdXYtW0UBClCAAr0IcIpyLzhqeelUUSOWH61ETkVLn6u0aLgXbhvh3efzeeKVAhtFcFtYVo/Hbh+FQF9mIr1Sh48o0DcBuaXWHTcNxfHTRVi7/SzGp4QiNpz/LvVNb/BnxYa6DL4QlkABClCAAhSwMAEGuCrvsH/tKMGvVp9XthDqFHuy9vUI83JigNtXrKvOyyuswbYDOdDZ2yoB7lUv8yEFKNAPgehQL9wzfzj+8MYOrNycjmeWjIPOib96+kE44FO/2FKCO2YFDPj9fCMFKEABClDAEgX4V4aKe23nuTr819e5aBDZlZ3sbeCps4erox3sbK+/psrT2U7FLVNv1To6O7H/eD5yCqpx36IU2IsglwcFKDBwAbm11niRZGqq2EdaJm27YWI0Roitg3gYX+CLrSVYMNmXWZSNT80rUIACFKCAigQY4KqoM66uyscHypTg1tXRFveM8cGdo3wwPtINDF6vljLc49KKBuw+lged+DJhwcx4wxXMkiigYYEgPz1uuTERJzNL8bf39+KVn82F3C+XBwUoQAEKUIACFDC0AIenDC1qwPKO5zcopU2MdsOvF4RhTqIng1sD+l5dlMz2eupcGY6nF2Pu5Fj4enL92tVGfEyBgQqMSgrCzHFRSD1bgs/Wpg60GL6vHwLx4S5MMtUPL55KAQpQgALWIcAAV8X92NjWteZ2bIQrQjwdVVxT66haQ2MrdhzKhZODHaaMiRDrBB2so2FsBQVUIOCic8CDt6QgJsIbX204jcMnC1VQK+uuwuOLQ7lNkHV3MVtHAQpQgAI9CDDA7QFFLU95fbeOth+5pdRSdYusR0l5PbbsOYdRScGIi/CBzADLgwIUMJxAkJ8bHr99tNgTtwFvfXEYVbXNhiucJX1PIDxA973n+AQFKEABClDA2gUY4Kq4h1PCXEWQZYP9OXXoTwZlFTdJ1VVbsfk0HMTo7TQxesv1garuKlbOggVumhyDRTMSkJZRik17MnGB3+AZrTc/2VBktLJZMAUoQAEKUECtAgxw1dozol7/MTUQ0T6OOHq+EX/ZVISSujZ0dKq4whZctZq6ZqzdloH4KF8kJzDDqwV3JatuAQLPLBkLvbMjVmw5g/TsCga5RuqzVTvL0NTSYaTSWSwFKEABClBAnQLMoqzOflFq1dLeidtH+uDN3aX444ZCHBGB7tRYPQLdHcW2Qb1/NxHnp0MCp6f1uXc/XHUcTW3tmDI6HMH+bn1+H0+kAAX6L+DnrcfDt4/Ea58cwMbdmQgLdIfehXkG+i/Jd1CAAhSgAAUocLUAA9yrRVT0+Ldr83G2tBl2Yi1oRUM7Pj9crtw8xNpcnUPvAe7zMwPxs5tCVNQa9ValoLQWKzadVgLbGyZEq7eirBkFrERA7i8tMyrLPae/2XoGIxKDMGVUOGz7sMe3lRCYpBlJ0XpmUTaJNC9CAQpQgAJqEmCAq6beuKouGWXNSC1svOpZoKapQ7l974XLnmho7crAfNlTvHsNgfU7M1Fa2YDb5gyFTILDgwIUML6Ar5cLFs9MwJnsciz96igmpITC0dbO+BfW0BWeYBZlDfU2m0oBClCAAt0CDHC7JVT4c/MPEyFmKQ/o0DvxD8W+wJVU1GPt9rOwsbXFXXOH9eUtPIcCFDCAgBytldtxnc4qxwcrj+Hfnx3CDx8Yb4CSWUS3QKDI4cCDAhSgAAUooDUBBrgq7nFXEaS2tl+As4MNHK+z5lbFzVBt1WTy1u0HclBS0YCHbh4BX08X1daVFaOANQrY29li8awEbD+Yg7eWHxJbdAWKqcoR1thUs7Rp6dpCPDQvmFuemUWfF6UABShAAXMJ9L6Q01y14nUVgb9tKcLcf53GhwfKKWIEgYrqRmwTAa5I4Yq75yUZ4QoskgIUuJ5ASIA7nhZZlb08nPH6pwdRKr5w4mEYgfV7y9HcyizKhtFkKRSgAAUoYCkCDHBV3FNbz9ZiX3Y9Np+pUXEtLbdqx04X42xOBeZNixcJptwttyGsOQUsXGDamEjxJdMwnBVbBr2/4hjqGlotvEWsPgUoQAEKUIAC5hJggGsu+T5cV+57K48YX10fzuYp/RGoFvve7jt+XnnLvKmxnMLXHzyeSwEjCCxZmIyRQ4Owcc85kV05j3vjGsB4ZLybyKIs0vDzoAAFKEABCmhIgAGuijs7McBZqd2JAk7ZM3Q35RfXYvfRPIxLDkFUqJehi2d5FKBAPwW83HV4/sGJsBf7on25MR15RZy50k/C753+uJJFmb/mvwfDJyhAAQpQwKoF+JtPxd37n7ODoXeyxdaMOrz4ZS7yqzltzxDd1SLWpG3dn61Mg7xhYrSy9s8Q5bIMClBgcAIx4d64/aYk7D6Si1Wbz6CpuWsWy+BK1e67fTwctNt4tpwCFKAABTQrwCzKKu764/kNeGSiP97aVYK/ioRTb+4qRrCnE4YFOcNBZB/t7bhthDfuHu3T2ymafa26rkmZBpmSEICESF/NOrDhFFCbgJOjHeaKJQMnzhaLUdw0TB4dhlFDg9VWTYupz1sr8/HY4hDY2nCassV0GitKAQpQgAKDFmCAO2hC4xXwz23FOFHQePECDa0XkFHarNwuPnmNO/FievPd13hN609/uzMTZZUNYt/bJIQEuGmdg+2ngKoEZFblu+YOR2ZuJV5+bw/+/JM5Igkc/zsdSCdtPlSJ++cGwZn7og+Ej++hAAUoQAELFWCAq+KOmxnvgSifgSWYGhIwsPepmMMgVauubcay9WkIC3THhBGhIrkURzYMAstCKGBAgVFDA7FoZgLe++oo/vr+Xvzq6RnQuzoa8AosigIUoAAFKEABaxVggKvinv2vm4LR2t45oBp6OLNre4LbsDsTRWV1uH9xCqJCmFyqJyM+RwFzCzjrHHCX2DYoM68Sm/aew4ghgbhvUbK5q2Vx1x831B2ODr0vZ7G4RrHCFKAABShAgesIMAq6DpA5Xw5yZ4IQQ/o3t7bjo29S4SL+eJ4/LQ5211nHbMhrsywKUKB/At4ezvjPRybhSFoRPl2TirgIb5H1PLR/hWj87CduDoWdLWepaPxjwOZTgAIU0JwAv9q1si5v77wgRn0vQP7kcaXAln1ZKC6vw7QxUUiIYnKpK3X4iALqEwjyc8Mvn5mO/JJavCumKxeK2Rc8+i7Atbd9t+KZFKAABShgPQIcwbWAvsytbEFFQzvaOq4ftK44XomzIhHVtFg3/GhmkAW0zjRVlNuNbNx9DhCEd81LMs1FeRUKUGDQAtPGROLhW0fiyw1pWL8zA0sWJEPnxF9dfYF9c0U+fnBrKGw5itsXLp5DAQpQgAJWIsC/ElTekRtO1+DPmwpxMLceNU0dfa7t0CCXPp+rhRMPpRXidFY5JqaEImVIgBaazDZSwCoE5BTbe8R63PSsMnyx/pSydn762EgGbX3o3R3HqvDIwmBmUe6DFU+hAAUoQAHrEeAUZRX3pdwi6AefZmFTek2fg1s3J1vMjHdHIrMoX+zZhqY27D6SB5lB+f6bUy4+zzsUoIBlCPh5u+BuEeTKpOdvf3EYhaWcqmwZPcdaUoACFKAABUwvwADX9OZ9vuIXxyqRXdECBzsbzE70wLLH47H1R0ORHOKsJA65LcVbefzRw7G4KdETchaaTmTM/MHUACwY5tnn61j7idn5VTh6qggpCYEYGutv7c1l+yhgdQIyIdzEEWG4fU4S8opq8NqnB6yujcZo0ORkTzgxi7IxaFkmBShAAQqoWIABroo750RBg1I7uaftG/dE4/YR3pghRmdvHOKJzgsX0Cy2EJKP7xntgy+fiMPMOA9UNbZjy5kacJugro5tE0ZHxPTk9OxyLJgeL6bqcVa+ij/yrBoFrikg193KUdyJyWH4dlcm3ll++Jrn8oUugSdv4fpbfhYoQAEKUEB7AgxwVdzn2eUtSu1mJngiytdJGaGVTySHuEDEt8ivblUSSsk1anonO7z7QLSYwmcjAtxabBTTmnkA5ZUN2HkoF8PjAzBcrL1lshV+KihguQKuzg74jyVj4evlgrfEVOVNe7LQyYzx1+zQjj4kJrzmm/kCBShAAQpQwEIFGOBaQMd5u9hdUcsJUW7K4/qWDiXI7X4x3NsJYyL0KK1vQ4bIpKz1Q34JcDanAmmZZZgkpjcG+rhqnYTtp4DFC0SFeuF/np6h7Gf92mcHcEbMzuDRs8BbK/PFFwA9v8ZnKUABClCAAtYqwABXxT3r7CAW1Yqjqe3Kv1AS/HXwFEFvQ0snCqq7Rnm7mxHh5Yi65g6U1rV1P6XZnx0dnfh64yn4+7piXHIInHUOmrVgwylgTQKTR4XjmfvGoaq6CZ+uSUVJRb01Nc9gbdl7sgYtbX3Pvm+wC7MgClCAAhSggBkFGOCaEf96l44QI7LyOHq+AbUiaL38CPFwVALfktorA9laMaorZ+xxZhqUkVu5PVDKkEAMifa7nI/3KUABCxeYPy0eN02Jxea9WVi5OR0yWzoPClCAAhSgAAUowABXxZ+B8ZFdU5EP5TbgrV2lyshsd3WTxD639WIE92h+I8rr25WnC8Sa3IM59XAUWZddvhv97T5fiz8/+eYEHB3tMGVUGPQujlokYJspYLUCOicHJenUsHh/vL/iGPYeO6/kJrDaBg+gYTNGeUEn/g3kQQEKUIACFNCSAANcFff2C7OCEOxhj0qRGfknK3Ix8g+p2JfdNRVvUbKXkkl55fFKPLcsGy9vLsKcV0+hTAS7Xi72CBVTlbV8nDtfhXW7MhDs54apoyO0TMG2U8AqBeSeuNFhXnjktlHw8XTBy+/tRmNTq1W2daCNeuqWMGXv4IG+n++jAAUoQAEKWKIAA1wV95r8A+6Dh+IQ5+8EJ3tbVDS0obG1a6ryrWIP3Gmx7mgRc5E/O1yBH3+Vi7SiZmV/3OEiy/LocL2KW2bcqsktlJatO6lkTL5ldiLkSA8PClDAOgUmpITivkXJqG9sxQt/WIfqOibY6+7p2oau2T3dj/mTAhSgAAUooAUBBrgq7+UbEjzw8SPxeG5GIG5K9ISPvitYc3G0xf+Jb+fnJHogxNMR3q728HdzgDz/NwvDMDTQWeUtM1718gqrsWVfFgL99Jg1Ptp4F2LJFKCAKgQWiPW4c8V63P2pBXhl6R6UVzWqol7mroTMotzBbZTM3Q28PgUoQAEKmFjA3sTX4+UGIDA23BUpwS7K9j9y+rE8ZH7l0WJLoFduj8DxgkZlPa6D2A93tDg3UcPBrbSRSWdq6pvFfpnj4O2h3UBfWvCggBYE9K6OePyO0SgTge23OzPhI/67l1OX3fVdifq0YNBTGw+l16JVZOF3Fvuk86AABShAAQpoRYABroX0tKO9DULFSO3lh70IaOP9nZXb5c9r+X5+ca2SbMZL/IF7y6xELVOw7RTQlECArx4/fWwKXvrnVqzYlI7QAA8snBkPJ0f+mtPUB4GNpQAFKEABzQtwirKFfQR2ZtbhjxsK8POVeXhjV4lS+8NiG6G0oiaI3YE0fxw9XYSM3EosnJ4AL3ed5j0IQAEtCQT7u+Gnj0+Gr5czPlh5DGeyK7TU/O+1dfY4H5GDgKO334PhExSgAAUoYNUCDHAtoHsrRKKQv28rRsyvjmHaX9NEcHteBLmF+ORg1x9v69OqMeNvaXhgaSYaWjs1G+jKdXe7j+Yp+wDfdtNQC+hZVpECFDC0QHS4N567f4KSdOovIrNySXlX5nlDX8cSyntsUYiynMUS6so6UoACFKAABQwlwADXUJJGKievsgVPfJKF55fnILu8Gc4OttBf9Y18XXM7aps68PHBckx5+SSO5jUYqTbqLVYkTkbm+UocO12MGydGw91V22vv1NtTrBkFjCtgK9LPjxkegnvmD0NmTgX+/M5uVNU0GfeiKi29TOyNzoMCFKAABSigNQEGuCru8bL6Njz/ZS6+Plap7G176whv/GxOsMiU7H5FraeI7YJuHOIhthKyUaYq/3VrsdgPt+2Kc6z9QXNLO/Ydy0dDU5uy762rC7cGsvY+Z/socC0BF50Dbp09FPOmx2HrgWz8/YN9qKjWXmblt1YWoF1sJceDAhSgAAUooCUBBrgq7u21Yurx6tRKZcT24Ql++MedkfifeaFICLhybenCYV74u3jt4Qn+aBN/zOzJqsOBHG2N4sq9LzfvPYeUIQFIiPKBHMXhQQEKaFfA18tFyaQ8fWwkVmxJx3tfHdXcHrknRM6GtvZO7X4I2HIKUIACFNCkAANcFXf7+rQqEbACSUE6/HxOiLLf7bWqG+unE/vfhiLIwwElta3IKNPWlLwdB3OUaYgTkkMR6Ot2LSY+TwEKaEggNMAdP3lsMsYMCxaZlU/ji29PoalZW7NbNNTdbCoFKEABClBAEWCAq+IPwuniZqV2U2Lc4ae//lYX/m4OkOfKRFMV9e0qbpnhq/bFhjSEBLpjtPhD1s6Oo7eGF2aJFLBMgSA/N7zyX3MRFuiJT745gS37stDRoY1RzfmTfKFz5K95y/zkstYUoAAFKDBQAf7mG6icCd/nelVSqd4ufUFmW9LYsVn8wXourwqjEoORGO2nsdazuRSgwPUE3PVOeOm5mfDxdMFrnx7CUZGMTgv/VD44Lxg2XK5xvY8HX6cABShAASsTYICr4g71du0atc0sa0ZLH9ZRNYqR21NFzUqyKb1OG3sftrS24+NVx+Gud8SsCVEq7k1WjQIUMKdATJgX/uPesbATv/X+8OZOpJ4tNmd1THLtAvG7gwcFKEABClBAawIMcFXc42Mj9Ertdp2rw9qT1Whu631a3fv7ysTa20b46h0Q5aONbXKOnipWRmOS4gKQnBCo4t5k1ShAEwxhdAAAQABJREFUAXMK2NvbYtLIMDx060hU1Tbi9//egeNnSsxZJaNf++1VBSKPQ++/N4xeCV6AAhSgAAUoYGIBBrgmBu/P5Z6Y7A8vZzsUiL0MX1p7Hv/eVYLSuu8nSDlb2ozfrsvH79YXQP4tMzRQhzHhXcFxf65naed2dl7Ayq3p6BRzDe+ckwQnR22MWltaP7G+FFCLgM7JHnOnxuJhEeRm5lXiL+/uwsmMUrVUz+D1OC2y6be3a2/ZisEhWSAFKEABCliUwPUzF1lUc6yrsjIz8u8Wh+E/v8rFycIm/HptAV7bUXJxJPd0cRPm/Ssd58qbUVjTioaWTrFfrh2emByACG9H68LooTUnM0pw4kwxEqJ9MWlEWA9n8CkKUIACVwq4OjsqX4i1ihT1r360H68s3YMfPzoZQ2O4fv9KKT6iAAUoQAEKWKYAA1yV99vT07qm3f7ym/OoampHdeOl7Mhl9W1Yf6paaYHMI+Iu1t2+uSQGd4z0VnmrDFO93YfPo6yiET+4aywcOXprGFSWQgENCDjrHPD4HaMhZ4G8+vF+/OW93fh/T01DTJh1/dt5yzR/OPcjSaEGup5NpAAFKEABDQgwwLWATpYjsikhrvj0cDmOnG9EkRit7RB/mMnDQWyJEyC2B5oc44anpwYgyldnAS0afBWz86tw4GQ+AnxcMXda3OALZAkUoIDmBB68eQTaRAK/j8X2QS+/twcvPjwJseHWE+TeM5t5CTT3oWaDKUABClAADHAt4EMgg1gZwMqbPPbn1Iusyl0BrpeLPWL9nODsoJ3l1HIPS5kc5pxYQ/fAzSmwteW+txbwMWYVKaA6Abkm976FyWLLoAv4fO1JEeTuVqYrW8tIbrZY2hIV7Kw6d1aIAhSgAAUoYEwB7URFxlQ0cdnjI/WYFuum3IaLP14uD25TCxtxMLdBJKb6fjIqE1fTaJerqm3GvmPn4SLW0k0ZFSG2/WCAazRsFkwBKxfwdNfh3gXDcff8YTgm9sf93b+349S5Mqto9Tvf5Csj1FbRGDaCAhSgAAUo0EcBBrh9hLKU0/5ndT4e/egcvjpWYSlV7nc9zxfVYN/xfBHchiPYv2tUu9+F8A0UoAAFvhPw8XTBfYuScf/iZBxKLcSf39ltFdmVM/Ob0N7BLMr8oFOAAhSggLYEGOBaWX9nljWJjMuNKK2/lIzKmprY0tqObQdyYGdni8kiwHXXa2PNsTX1IdtCATUKeLk7K4mnnrt/PI6eKlKmK6dnl6uxqqwTBShAAQpQgAK9CDDA7QWHL6lPoKGpDd/uzlS29IiP9IXMHs2DAhSggCEEnBzt8eRdY/DU3aPFFmQl+P3rXdOVxRJdizzuuiGQWZQtsudYaQpQgAIUGIwAA9zB6PG9JhdYs+0sauqaMT45BCEBnJ5s8g7gBSmgAYEHbxkpgtwxyBPLIX7zr204eroInRYY5d42w18DvcUmUoACFKAABa4UYIB7pQcfqVigrqEFX25IU9bdjk8JU3FNWTUKUMCSBVydHZTEU0/dPVb5Qu2lV7dgo5g50txiWUs/zuY1WnI3sO4UoAAFKECBAQkwwB0QG99kDgG59jZXjKiMGRaCqFBPc1SB16QABTQi4ObqhFtuHIIXHpooMrXbisRTe/Dp6lTU1LdYjEBXFmULnV9tMcqsKAUoQAEKqE2AAa7aeoT16VGgTex9+9maVOjEGrn50+NgL5JM8aAABShgTAEXnQNmTYzG/754I3w9nfHuV0fw1rLDqKi2jJHR3OJmkUW505hELJsCFKAABSigOgFGCarrElaoJ4E9R/KQlV+FccNCkRwf2NMpfI4CFKCAwQXkl2mJ0X544zeLkRDtiw9XHcM/P9oPuR83DwpQgAIUoAAF1CfAAFd9fcIaXSXQ1t6BTbuz0NbWgXsWDmPm5Kt8+JACFDC+gIebDr/94SzcKEZ0V4tkdzL5VFFZnaqTT90/N4hZlI3/0eAVKEABClBAZQL2KquPZqtzoqARHZ2DXyvV0mZ909FOni3DibPFSIrzw8QRTC6l2f9I2HAKmFkgyM9NrMmdBE8R7H67+xye/991eHrJOIxOCobexdHMtfv+5RdO9vv+k3yGAhSgAAUoYOUCDHBV0sHPf5GD2uaOQdemsKZt0GWoqYCW1g7sPZaHkvJ6/OCesWqqGutCAQpoUCA00B3P3DceUWFe+HxtmjKSe8ecJNw2OxEBvnpViZzMqsewaHXVSVVArAwFKEABClilAANclXTrcTGCW9lgWVtQmIKuoKQWh9IKER7sibHDQ0xxSV6DAhSgQK8C3h7OuGvuMAyLDcCrH+/HB2JdbmFZLZ68awzCAj16fa8pX3z3mwL88Zk4ONpzNZIp3XktClCAAhQwrwADXPP6X7z6LcleqG8x3PTiYUHOF8u21DudYsr26awypGaU4D/EfpTueidLbQrrTQEKWJmAo4MdRiQG4qVnZ+L1Tw9g3Y4M5BfV4kcPThDPB6mitYXlLejoEEtf+JteFf3BSlCAAhSggGkE+GvPNM7Xvco798dc9xytnVBd14ztB3MQ6KPHhJRQyD8oeVCAAhRQk4Ccsvyzp6YhPMQTH606jsd+uRIvPT1T2c7MzszbmZn58mrqJtaFAhSgAAU0JMB5SxrqbEtran5xLQ6eKBDBbRiC/d0trfqsLwUooBEBN5Fg6ok7R+MXT05HRJAHfvmPzfj1q9uQnl2OFpH93VzHQ/NDmEXZXPi8LgUoQAEKmE2AI7hmo+eFexO4IGbVrd+ZAVs7G4xPDoGnu6630/kaBShAAbMK2NrYYM60WAQF6PHhiuPYdTQPaZmluHv+MNwgthaS63ZtxDmmPG4a72PKy/FaFKAABShAAVUIcARXFd3ASlwtUFpRj293ZSIuwgfD4wOufpmPKUABCqhSIDkhEL94ejp+9MAEODnZ4/XPDuLlpXtx5FSRyet75Eytya/JC1KAAhSgAAXMLcARXHP3AK/fo8A3W8+gsbkNk8S+t37erj2ewycpQAEKqFHAQ+yTO396HGLDvbFiczrWidkoqWeKlczLt92UCFdn0+yZ+96aQiSJbYKcHPhdtho/J6wTBShAAQoYR4C/9YzjylIHIdDS2o53vzoKHy8XTB8XCVtb007rG0TVLeKthYWFuPPOO+Hv74/9+/cPus5///vflbJ+9KMfDbosFkABaxFwsLfD0Fh//PjRSfj5k1NRXdOMf3y0Dy/+cb0yddkU7SyraoXMRs+DAhSgAAUooCUBBrha6m0Laascva1vbMGM0RGIEPvf8jCsQGdnJ2pqalBWVoa2trZBF97Y2KiUVVdXN+iyWAAFrElALrl1crTHgunxWP6PuzFTfGF37HQxnv7Narz83h4Ultahrd14Sah0jrZi3a81ibItFKAABShAgesLcIry9Y14hgkFGhpbsUbsJ+mic8SCWUNMeGXtXEqn02H06NFKwhsvL69BNzwqKgo33XQTkpKSBl0WC6CAtQoE+urx+xdmY4PILfDN1nR8tfEUdh/JxS03DsW0MREICXCHg71hv3N+aH4wdI7cXs1aP1NsFwUoQAEK9Cxgc0EcPb/EZ7UocPvPj+ODXyXBVWee7z427c3Cb17bhrHDgvHyf83VYhewzRSggJULlIgkepv2ZGHLviwcPFkg/r0LUTItzxgbiUA/Ny7LsPL+Z/MoQAEKUMC4Aob9uti4dWXpVi4gR2+3HchGfUMLHr191HVb2ym+m0nLrge/orkuFU+gAAVUJBDgo8c9Yvug//7BdDz/4ESxJKMVr360H79/YwdWbklHQ1OrQWq772SNQcphIRSgAAUoQAFLEmCAa0m9ZeV1PZNdriRfGZccisRov2u2Vga2OUVN+MfnefjD+9lo77DuSQgnT55UphQ//fTTqK+vx7Jly7B48WLluYULF+LTTz9F9/rX4uJi/O53v8PUqVMxYcIEyPccOXJEJJrpvOhZUlKiPC+nKR87duzi8ytXrsQNN9yAf/3rX8ra3E8++QR33HGHcp158+bh97//PWT5Vx/vvvuucs6vf/3rK16S5d9///3IysrC1q1b8dBDDynnTZs2Da+99trFsmTdZRnyGvI99913HzZs2ICOjivXJv7yl79UXn/22WevuE73gz179iiv//jHP0ZFRUX30/jnP/+JG2+8EatXr0ZOTg7+8Ic/KOdJn+eeew6HDx9Ge3u7cr5MuvXkk08qr8v3/O1vf0NVVdXFsniHAoYSsLOzRUyYF+5fnIL/ffFG3LtwODJyKvDK0j144per8OmaVFTXNg/qckvXFKC59cr/jgZVIN9MAQpQgAIUsAAB88xDtQAYVtG0Ah0dnTiQmo/s81V4esm4a07RO1/ajLV7yrD9aBWKK1uV0dsOkSXUAdabSaWhoUEJUh0dHfGnP/0JL7/8Mpqbm0XbuwL7zZs3K4HajBkz8OKLLyIjI+NiQHvgwAElAN6+fTuSk5OVTpWJpTIzM5UyZcDcfcig8MSJExcDYxl0ymt0X0cGnZ999pkSYCcmJna/DTJglkF0SkrKxefkne7AeunSpXjjjTeURFTdZe3evRs7d+6EDFZ//vOfQz7uDsKPHj2Kzz//XKm3zPbcfcjgVJbp59fzlx+1tbXK65GRkVckzyooKEBqaqpyvT/+8Y/Yu3fvxWtJn2+++QZvv/02Dh06hF/84hfKa931lIG5DPTleTwoYAwBRwc7Eeh645kl4zFvajw++uYEVm87gz++uRNvLjuEh24ZiUUz4+Hj6dLvy1fXtyv/Rvb7jXwDBShAAQpQwIIFOIJrwZ1nTVU/X1wr1qIVIjkhACnxgRebJkdrG5s7kJHfiHdXF+CXb2Tgs00lKKroCm7liVrZBkOONH744Yd49NFHsW3bNmXk8ZFHHlECsg8++ACPP/44nJ2dlSBUBmQyaBs2bJiSMVmO6vb1kCOecjT34YcfxpYtWyBHRmUQ6unpifT0dPz5z3++IoDsrVw5+vz6668rI6gykJRBpBxBdXV1xddff40HH3wQ+fn5ykipbN9XX30FGajbiNSvL7zwAlpaWnorvs+vVVZWKiPTMqCXo8eyHsuXL8eoUaOQm5uL559/Xvny4N5771VGj3fs2KF8aSDrefDgQSWo7/PFeCIFBiAgt0OLjfDGS8/OwLJX7sSDYmTX0cEer396AA/89Cu89slB5BZUQy7l6Ovh5mIHW6ZR7isXz6MABShAASsR4AiulXSkpTdD/tHW0X4Bc6bEwcPNSWlOfVOHMhX5wKka7E+rQWZBowjmemqp9Y7eXt5amf1YTvP9yU9+Ar1er7z0m9/8BmlpacoIo8xiLIO22NhY5bWxY8cqU5pfeuklrF279vKier0vpwzLqbkykO4+Jk6cCHt7e/z2t79VRn/lXroRERHdL1/zpxwJnT9/vhIUy3135REdHa2MMssRYjnqKussg1p5yIDTxcUF2dnZynTiM2fOXBx5Vk4Y4P/JKchDhgyB3LNXTt+2tbXFyJEjIbc4ktO4peEzzzyDV1999eIV5Ij08ePHIYNdebvrrrsuvsY7FDCmQHS4N158dDJun5skklGdw95j5/HZmhNYuek0Zk6MwnSRjCpWnCP3Cu8tgH14QYjYpojfYxuzr1g2BShAAQqoT4ABrvr6RJM1igz1xAsPT0Swv5uyb2RtQzs+XF+I1HP1yCtpRlNLj5GtYvXBukIx0mE9f8S5ONliUrInwgN0V3wWgoODlZHQ7uBWvihHbOPi4pQAd9GiRZDnXH7Ex8fDw8NDGaW8/Pne7gcGBkKOZF59zJo1Swlwr36+t8fe3t5K8Nod3MpzZaAupxHLY9KkSRg+fLhyv/v/5LZD7u7uykNDjeDKwsaNG6dcSwa38pA/pZec8iyngT/11FPK893/J+sgg+Jdu3ahqamp+2n+pIBJBOTAa2SIJx69YxTmTI3F0bQi7DqSB5lpfqMIekclBmHiiDCMTwkTWwy59VinyeLfER4UoAAFKEABrQkwwNVaj6u0va7OjkgZcmlqsoO9DbzdHeAo9oXsedT2UkPiwl3EXo/WE+A6irbrnb+/d6UMbK8OYC8pQAlku4O37uflqOvVz3W/dq2fcoRVBs5XH05OXSPrcoS3vLy8TyO4MkgMCwu7uqiLj+W0Zzu7K9s6kDpfLLCXOwEBAco068tP6V5rK5/raW1vd5svfw/vU8CUAnKENizQQ7lNHBmGzLxKbN2fjW3itv9EgQiC0zF9XCRumBCtBMSX123HsSpMGzH4va4vL5P3KUABClCAAmoXYICr9h7SaP2cnexw24wATE3xwu4TNdhyuEJMUW7qcb3tuER3uLlY/0dZBqr9DVYH8vFxcHDo9W0ySVVfRzTlWtqrA9heCzfii7IepvAzYhNYtMYF/Lxd4evlquQquGNOEtbvyhRTl1ORLjLQf/ntKcyeFIPb5wxFeJCHIvX+mkKMG+ouvgC88kskjTOy+RSgAAUoYOUC1h8VWHkHWnPznMS041B/He6+UYepIzyVIHfT/goUiARTMnPyd0mEewx6rdmFbetZ4PLR2J7P4LMUsHwBOXVZzniJj/RRbg/cnIwv1p7EZ+vS8MHKY/hq0ynMGBOJ20SgW9/UJrbAEss7GOBafsezBRSgAAUo0GcBBrh9puKJ5hQI9nXC/XOCMXm4J3adqMa+kzXIKmwSezx2wkZkH+Vh/QIy+VRvo8EyIRUPCmhNwMvNGU/cPRb3LEzGys2nlenLe0/k45vtZ8VSAz0+Xt2BSSNCEeirh7eHs/hvyHqWc2itr9leClCAAhTomwAD3L458SyVCEQFuyA80BmTk72wQ+yFe/B0DZytaP2tSphVWY2EhARle6Hz58+jurr6ivW0ZWVl+OKLL1RZb1aKAqYQcHMVXwIuHoH50xNwPL1YrM/NR/q5cny86jg+X30Co4cFY2xyCIZE+SIy1Avu4nweFKAABShAAWsUYIBrjb1q5W2yEyO20cHOCBNZhienyCRFHMG18i5Xmie3P5KjuKdOnVKyOS9ZskTZLuncuXP45JNPlD16teDANlKgNwE5SjtzfNdWQln5VTgj1uceO12EwyIL8+5jeWLZhwfionwwZmgwRicFiQzM7hzV7Q2Ur1GAAhSggMUJMMC1uC5jhbsFHERgGxfq0v2QP61cYMaMGbj99tvxr3/9C//+97+VvX1lQiy5l25VVRVeeeUVPP7441auwOZRoG8CtuKLwNxSYN60OEwZFY6yqkacPFuCrQeysVEkp9p5KBd+Yh/dESJ7/SyRgXmyOIcHBShAAQpQwBoEGOBaQy+yDRTQgIDccugvf/kLRo0ahTfffBP79++Hl5cX5s2bh5/97GfKFkoMcDXwQWAT+ywgsyjLvXA93HTKLVpMTZYBb3VdM77acBrfbDuDLzeexqqtZxAk9iC/48ahmD0lFkF++j5fgydSgAIUoAAF1CZgIzKPXlBbpVgf8wnc/vPj+OBXSXDV8bsP8/UCr0wBClBg8AL3/PIE3vtFEuS2az0dDSLL8oHj+Vi1LR1HxBTmxuY2ODnaY8rocMyfGochMX5Kxma5zRCTU/UkyOcoQAEKUECNAoxi1NgrrBMFKEABClBgkAIB3o5i7+drF+Lq7ICZE6KUW1ZeJXYczsWB1AKkninBpt3nECAyL48Wa3VHDg1CTLg3/H1clWnNDHavbcpXKEABClDA/AIMcM3fB6wBBShAAQpQwOACjy4MgZNDz6O3V18sWgSw8nbb7KFIFWt1ZQbmdJGg6mRmCTbuPadsMZQgMjAnxvohNswHMWFeCA5wgz23Hbqako8pQAEKUMDMAgxwzdwBvDwFKEABClDAGAIpcW79LtZd76QknJo0MhzlIjFVYVktzhfV4ER6CY6dKcauI7nwFHvvBos1u5EhXhiRGIiUIQGICPIUo8XMaN9vcL6BAhSgAAUMLsA1uAYntewCuQbXsvuPtacABSjQLbBubznmTfTtfjjgn52dF9DQ1Iq6hlYl2N0n1u3uEtOZM8S0ZjcXR+hdHREf7gMZFE8YGYqIYM8BX4tvpAAFKEABCgxWgCO4gxXk+ylAAQpQgAIqFHh/bSFmjPK6ZpKpvlZZjsy6uTopNzlyOz4lFM/ePw65BdVYvzMTa3dmYNuhHGwRWxA52NsiKdYfc6bGKhmbvd2dYWPDkd2+WvM8ClCAAhQYvAAD3MEbsgQKUIACFKCApgTsRPaq6DBvPL1knHI7lVWG3YfzsP/4eTHKW4vXPjmIvy7di2FxfiJRVShSEgMQKUZ2XURiK1cx6uuic9CUFxtLAQpQgAKmE2CAazprXokCFKAABShgMoEwfx3sTLQudmi0H+TtoVtGICOnAifEet3Us6XIL6kVI7xn8fHq4/AQ63vjonwwJMoPCeKnn7cr/MXN18tF2Z7IZDC8EAUoQAEKWLUAA1yr7l42jgIUoAAFtCrw6KIQODr0sk+QEWAcRdbmpDh/5XZrSzsKS0WSqmKZqKoW2QVVyMmvwtcbT6G2oQUh/u4IDXRHWJAHokTCqshQT2WUV25PxIMCFKAABSgwUAEGuAOV4/soQAEKUIACKhZIjHQ1a+10TvbKNGY5lblDJKqqF0FtVW0TKmualID3ZEYpTp0rw5FT6UoGZi+xXtfbwxlhgR4iQPZTgmS5NZHOkX+qmLUjeXEKUIACFibALMoW1mHGri6zKBtbmOVTgAIUMI3Ayh2luHmav2ku1s+ryMzMLa0daGlrR1VNs7L37sGTBTiUmi+2JqoXU5btxB6+9nDTO2LEkECMHR6K0UnBCA1w53ZE/bTm6RSgAAW0JsCvRbXW42wvBShAAQpoQuDTjcW4abzPoLMoGwNLZmZ21tkrN083HaLE9OTFsxIgA98sMY35wIl87Duaj9SMEmzam61ka+7o6ISXGOFNTghEcnwAhicEKOt5HcQ0bDs7W9iLxFd2dszYbIz+YpkUoAAFLEmAAa4l9RbrSgEKUIACFLBiARn4xoZ7K7clC5NRW9+CdJGh+cSZEpwWP4vK6pAjtic6KRJY1X1+CLgAxER4Iz7SB3HyFuEDDzexpZGLk8jW7KD8tBdbF/GgAAUoQAHtCDDA1U5fs6UUoAAFKKAhgehgZ9hb+Iimu8i8PC45VLl1XriAmroW5BfXIF8krTovf4oszeXVjcpa3h2Hc1El7geK5FXhInFVmJjOHCp+Bvq6ws9L3L7L2KwX2xTxoAAFKEAB6xVggGu9fcuWUYACFKCAhgUeWxwKBysavbS1sYGXu065DRdTlOXR3NqOiuomlFc1KD9LyutFAFyL3KJqHD5diNXbzyqZpH08XJTtiHzElkTBfm4IF3vyBvvrEeCjh7+4uYr9eXlQgAIUoIB1CDDAtY5+ZCsoQAEKUIACVwjEhDhf8dgaH8gMyyH+bspNtq+jsxNNze1oaGoVtzbU1DYjp7Aa6dnlyMgqx36xrre+uRUuzo5KUCvf7yKmMsv9eCNE0BshRnxl8Bse5K4EvtZoxjZRgAIUsHYBBrjW3sNsHwUoQAEKaFJg+ZYS3Dmra6RTKwB2ItGUnIJ8+TTklMRALOq4ADnFua2tQ9mX9/iZYmVtb2ZOJTLPV4o1vSWwESPEcpRYrgOWNw9XJ7Gm17trbW+kr7LONzrUCw5ir18eFKAABSigXgEGuOrtG9aMAhSgAAUoMGCBL7eWYOFkX1VmUR5wowbwRiVote/KruwogtMh0b7KrbsomZ25WExtzjpfhXMig3O2/JlXiTIx7flMbqXI5FyKtvZO5XZBBMnhwR6IDvVGTJgXokVCLBn0yrXC9iKTs6PY3kj+lFPD5U+Z3ZkHBShAAQqYVoABrmm9eTUKUIACFKAABVQkIIPQEJGQSt6mjolQaiYD2frGVhSU1qFArOktKJUJrepQXFKPOjH9WSa6klmd6xpa0CjO0znZw9PdGbEii7Oc7uzn7SxueniLbY1cxYiyi85BfNEgpkOLqdFyeyT5WAbbPChAAQpQwPACDHANb8oSKUABClCAAmYXSAh3taokU6YEldOV3cQU5SFR8uZ78dJytLe8qiupVVllg5LBuaKqUYz2NqJKrPetrW+GnP4sf9bWt6KlrV1sW6SD3OvXS9yU+yJRVvdzHmLk10MvXvfoek6OBMvHTmIkmAcFKEABCgxMgAHuwNz4LgpQgAIUoICqBR5bHGLx2wSpDViO9gaIbYfkrfuQo72NMrGVGMmVya0am9uUBFeNMsmVCHTLRfArszwrgXFFAzJzK5TnWsR6YJm9WY7munw3yts12msvMkWLEWCxtZG3p05Mf+4KkD1lYCwCYBks60XwzYMCFKAABXoWYIDbswufpQAFKEABCli0QHiAzqLrbymVl6O9MlDt2mroUuAr69+V2Equ3+1Auxj9bW/rRKu4L5NdVdc1o7CsDoVi6nNRqZgGXVYvHteK+3VoFed1reW1ET/txFpe8dNerO8Vya9kkO0ssj97e4utj5Ttj5zFFkh6cZM/XSG3QvLxdFbWBcv1xzwoQAEKaE2AAa7WepztpQAFKEABTQh8sqEIS24K0kRb1dpIGWDK6cY9TTmWq31ThgR+r+oX/n97dwJfd1XnffyXPW2aJk3apPveQpG1YNkpVlkFRAYUxUHHF+gg8swMz4zjMuMzwszLmWF8HoFxGCw6bgiiyKassiNlpyy2LF1pm7RJk7TZ9zy/77m5IU2TtglZ7r3/z9Hbu/2Xc96nr1f53XPO7/gnldWN9l5ZjZV70Fvho77bq+pth15X11v5zsYQGK/zhFgqGkFWGOtPphd6r9cKghXwlk4e7+uCfc/fybFHSbGPDPvaYE2Z1rrhPN8mSUG0n+kPv4TXOVyqV2ycFu6g78Ih/IEAAggktAABbkJ3D5VDAAEEEEBgaAL3Pl1pn1xeEvksykPTG7uzFEOW+OisHgMVTW/W2t/q3U3hoddVeq3p0Ltjn9fWt4SR4spdTR4Q11vHmq4wetzuGaG1llgjynpO795aKd8D3Qke9E7Myw7rgLUGWWuC9V7TpHu/11ZJGkmOZYr2UWW/hl5re6UMf6R1P8fexz7vvQXTQO3icwQQQGA4BAhwh0ORayCAAAIIIIAAAqMkkOMB5vSS/PAY6JaaBl3b0BrWAe/26dAKeGOPZl8v7GuGm329cGObNbW0WXNru7W2doQAuMWfNU16U9sunyrdERJltbZ0P/vU6Xb/TNshjde07PE5lqes0GGKdnbIDK2M0rnZWZaT4yPX4XWmqb6xkezMcIwCZAXEsWnYGd3bKqWFPYY1mpyVFfsuHKOp2T5FOwTLfo4CaL2OB9QK0PUZBQEEEIgLEODGJXhGAAEEEEAghQQOXTCBLMop1J+DbYqCSK3F1WNfpbOzyxTUtniQq2C3xYPZZs/+3NLSHgLfZn/uee3H6L0eTd3JtJo8wVYIkv2zeg+oq3c3h6BY11PQrOu1tLV58OwjyH7dLr9fpu8TrPppv+DszMzwrKBWWydleUCrZ605ztZ+wv6s4zRiHB4ey8Zedwe5CpQV8OpYBcfhWA+WQ2Ac25M4I3yu9cuxYDkeOIfr+LmxUefY9GyNRsdHoUNQ7fOyFUQrhg7PvrWx1kRrKvcen6teOs7ro2P9/6NQfDq5pqTv42b7+GrA+mntuP5e6Np6VumIv9f9OjWh3b/zr7o6O8Mx/hSrix/bc26f6/jb2Hc6puc7nR97r7nx8c/Dtf1GOifUI9xL91SdYud0he/Tuq/ZZXNnTLJjDp2u6lIiLkCAG/G/ADQfAQQQQCA1BS47d2YY+UrN1tGq4RJQEKe9efUotP0nJlOwoWBHI8Sa5tymUV09d3T4lGf/zl/rvQKRDg9q4+/bPShRYKRR4caWVg+SO6zJM01r9FgBsgLlEDi3+uumWFCtz7Ufsc7RfVo8QVeHP/RewXKrT7dua/Wp1n7hEHCGoNMDz/izt03tiwem6R529gSg+lzH+cP/H1tf3Pu9QlT/f+z77mOErs/83PC/cJ6+e//78Nq/DwuZh6uT9ncdv91AZR9fhcCx//O6A2fvQ48rQ1vUn+GlPtNLNVFBZ/y9nnVo9/vwLnbKnp/rpN7HdZ+nC8bP1Q11WPy9rhVO6zlW373/ffz4s5cvJsANuvxBgMvfAQQQQAABBFJQYGpxdgq2iiaNtYACOE0Z1ijoUEoIWnRiCFA0YhcfpYtdTaNzCoFCANPrdThF54RgJ7wIJ+hYBdFtHuxq3+Hm5ljwG0alFQR7MBwfTY691oiyB9A+utzmzwrC2zxgD0G5XycE7x6sd4ZA3T9XUK3A3eui79r9eK1jbvd6K9hu8+O6wjViAX+H1jiHEUm1S7Xrv8gxRIn9f73fT0MqsIEvv//z0wbuP41Qh1HsMDU8NqIdH9XO1Ai3Vz0tjJz7TwYezPtgeRgdV9AbRsD9hf5+hJFuv41+YND5GT66HhsVj41ya8Rd1dAIfPyHiHCORsHD593Ha2Rc57uZRt1jx6qOsXvE6mY2a2rhftvNAdEQIMCNRj/TSgQQQACBiAn85P4y+/xZ02MjUxFrO81NXIEwwqnqKb7z4umqYi96/uz7vucLXiCAAAIHJDDwzzcHdDoHIYAAAggggEAiCjy4aqdP/+xIxKpRJwQQQAABBEZMgAB3xGi5MAIIIIAAAggggAACCCCAwGgKEOCOpjb3QgABBBBAYJQEjjpoomeS7Z4HOkr35DYIIIAAAgiMtQAB7lj3APdHAAEEEEBgBAQuP2/GkBMBjUB1uCQCCCCAAAKjIkCAOyrM3AQBBBBAAIHRFSiamDW6N+RuCCCAAAIIJIAAAW4CdAJVQAABBBBAYLgFVt6zLexFOtzX5XoIIIAAAggksgABbiL3DnVDAAEEEEBgiAKPvlTle336hpwUBBBAAAEEIiRAgBuhzqapCCCAAAIIIIAAAggggEAqCxDgpnLv0jYEEEAAgcgKLDtkomVn8c98ZP8C0HAEEEAgogL8yxfRjqfZCCCAAAKpLfCl82dZRjrbBKV2L9M6BBBAAIG+AgS4fUV4jwACCCCAQAoI5GbzT3wKdCNNQAABBBAYpAD/+g0SjMMRQAABBBBIBoEf3r3VOju7kqGq1BEBBBBAAIFhEyDAHTZKLoQAAggggEDiCDy1usZa2siinDg9Qk0QQAABBEZDgAB3NJS5BwIIIIAAAggggAACCCCAwIgLEOCOODE3QAABBBBAYPQFTjy80HLIojz68NwRAQQQQGBMBQhwx5SfmyOAAAIIIDAyAl/2LMrpZFEeGVyuigACCCCQsAIEuAnbNVQMAQQQQACBoQu0d7D+duh6nIkAAgggkKwCBLjJ2nPUGwEEEEAAgX0IrLxnm5FEeR9AfIUAAgggkJICBLgp2a00CgEEEEAg6gKr3txlLa0dUWeg/QgggAACERMgwI1Yh9NcBBBAAAEEEEAAAQQQQCBVBQhwU7VnaRcCCCCAQKQFTl06yXKzMyJtQOMRQAABBKInQIAbvT6nxQgggAACERBQFuW0tAg0lCYigAACCCDQS4AAtxcGLxFAAAEEEEgVgdrG9lRpCu1AAAEEEEDggAUIcA+YigMRQAABBBBIHoGVd2+1DtIoJ0+HUVMEEEAAgWERIMAdFkYuggACCCCAQGIJvPRWrbW2sRduYvUKtUEAAQQQGGkBAtyRFub6CCCAAAIIIIAAAggggAACoyJAgDsqzNwEAQQQQACB0RU4/djJlptDFuXRVeduCCCAAAJjLZA51hXg/ggggAACCCAw/AJfPGf68F+UKyKAAAIIIJDgAozgJngHUT0EEEAAAQSGIlC5q20op3EOAggggAACSS1AgJvU3UflEUAAAQQQ6F9g5T1brb2jq/8v+RQBBBBAAIEUFSDATdGOpVkIIIAAAtEWeH1dnbW1k0U52n8LaD0CCCAQPQEC3Oj1OS1GAAEEEEAAAQQQQAABBFJSgAA3JbuVRiGAAAIIRF3g7BM8i3I2/8xH/e8B7UcAAQSiJkAW5aj1OO1FAAEEEIiEwKVnkUU5Eh1NIxFAAAEE9hDgp909OHiDAAIIIIBAaghsq2xOjYbQCgQQQAABBAYhQIA7CCwORQABBBBAIFkEbrl3m7V1kGQqWfqLeiKAAAIIDI8AAe7wOHIVBBBAAAEEEkpg7aYGa29nm6CE6hQqgwACCCAw4gIEuCNOzA0QQAABBBBAAAEEEEAAAQRGQ4AAdzSUuQcCCCCAAAKjLHD+KSU2LidjlO/K7RBAAAEEEBhbAQLcsfXn7ggggAACCIyIwMWnTR2R63JRBBBAAAEEElmAADeRe4e6IYAAAgggMESBjWVNQzyT0xBAAAEEEEheAQLc5O07ao4AAggggMCAAi1tZFAeEIcvEEAAAQRSVoAAN2W7loYhgAACCERZ4OA5eVFuPm1HAAEEEIioAAFuRDueZiOAAAIIIIAAAggggAACqSZAgJtqPUp7EEAAAQQQQAABBBBAAIGIChDgRrTjaTYCCCCAAAIIIIAAAgggkGoCBLip1qMfsD1t7Z2WlcFfiw/IyOkIIIAAAggggAACKSqwYVuTdXR2pWjrkr9ZRDLJ34fD2oJmz7qZncVfi2FF5WIIIIAAAggggAACKSHQ5XHt9+/YbL98qNw2b2+2TgLdhOvXzISrERUaU4HxOenW3NphudkZY1oPbo4AAggggAACCCCAQCIKvLmhwdZtbbIX1tba8YcW2ElHFNns0pxErGok60SAG8luH7jRGenpTLkYmIdvEEAAAQQQQAABBCIu0OXDuE0tHfanjfW2dlODPfpSlZ22bLKdurTIphZlR1xn7JtPgDv2fUANEEAAAQQQQAABBBBAIMkENF25w//YUNZsK+/dZk+vrrGPHF1kx36owEomZVsOy/7GpEcJcMeEPXFv2t7RZave2M063MTtImqGAAIIIIAAAgggMEYCaWlp/d5Za3HX+GjuxvIm++Pru+y4wwrtnBMmW14uy/76BRvBDwlwRxA3GS994YpS21rRnIxVp84IIIAAAggggAACCIyswAABbvymnZ1mdY3ttqOqxbQ7iRkBbtxmtJ7TfA45Oa5HS5v7IIAAAggggAACCCCAQNIKKHJacdVLe9U/3Qd250zN9enJhXbcoYU2119PzMuwgUZ897oAHwybACO4w0bJhRBAAAEEEEAAAQQQQCBqAtOKs+3kIyfZ8qOKbO60cTYuO90D26gpJE57CXATpy+oCQIIIIAAAggggAACCCSBQLpHsMUFmXbS4YV25vFTbPGs8UlQ62hUkQA3Gv1MKxFAAAEEEEAAAQQQQGAYBDRie8SifPvEySW2yAPbDM1PpiSMAGtwE6YrqAgCCCCAAAIIIIAAAggkusCrb9faYQvzLTODwDYR+4oANxF7hTohgAACCCCAAAIIIIAAAggMWiB90GdwAgIIIIAAAggggAACCCCAAAIJKECAm4CdQpUQQAABBBBAAAEEEEAAAQQGL0CSqcGbcQYCCCAwZgI/e77SPv+z9UO6vzI+fm5Zsf300oVDOn+wJ11+6wa75dkKO35evt382Xl22PThyTB52o1r7Q9v7bbTDi6wh69aMthqJd3xTW2d9oi3977Xq23lJQuSrv5UGAEEEEAAgdEUIMAdTW3uhQACCHxAgSxPaDExN2Ovq3T6zvPNbV3W3uk70Hvp7xjtyZebxcSdvfAS/INb/lhh3/7dFptTlJPgNaV6CCCAAAIIjL0AAe7Y9wE1QAABBA5Y4MiZefadj8/c6/iK+ja74+UqW7+zJXzX3zEKcA8qHbfXuSP1welLCqxwfGYIzCbnDd8/NxctLTY5LJoSjYDv3cpm29XUYXNGqqO4LgIIIIAAAikkMHz/xZFCKDQFAQQQSFSBJVPHmR59y5rtTfbM+vqeAPevV0zre8iov1cgqsdwly+dWDLcl+R6CCCAAAIIIJAiAsxVS5GOpBkIIIAAAggggAACCCCAQNQFGMGN+t8A2o8AApET0JTXq+7YZI964qL/+2dzbGFJrn3rni32RlmjzS3OsU8cPsmuu2COxbevr25ot9t8+vMdL++017Y1WkNLZzCbNSnbls7Os6+cMtVWLJ64l+Nf3rbRfuRJpo6bN8Fu+sx8O3RabOT5P5/cYX/zm0224qCJduOn5tk7Fc124+Pb7blNtdbY2mVFeRkhgdTVK6aH6/e98Jk/eCvU/WOeZOqBKw/u+frKX220Hz5TYRceVWS3fXGR3fFKld309A57Zl1dOGZaQZad/aFC++aZM222132g8tzGOvv3P5SF82oaO6wkP8NOXlhg3/Lz3treaP/r15tsZ3277fqPYywvZ+/10ANdt62jy+5cXWU/XlVpL7/XYLU+7VhFPisOKrDLTigxmapoLfV37t9m//rQNuteVm2ve/9kXfV8WF99zbmz7MpTSsOx8T/e9O+/+3CZPfnubquoaw/9p/751NLJ9pljim3qxKz4oT3P37pvi93g9ofPGGeP/dUhdtfqavuPR8u8nc3W0t5lh0zLtYuPnmxfOqnUigeYZr7WZw/855Pb7dG3d9v6ytgU+VlF2XbUzPF2hf/d+Ji3jYIAAggggMBoCRDgjpY090EAAQQSRMDzUVmHR00Kol7f1mB/f/dm6/JwaIIHa1t3tdpbO5qsyw9SYPXM+jr7xr3v2Qub6v2INA/o0i3fk1zp/C01rbaxqsXufLXag78Z9o9nzbSczHhY/P49Ojwe1vXiRQmxdO/G1k677pEy+82rVdbomYLzsjNsfHaXVTd02K0vVtkDf9plKz+3wC44oih+aniO113PvYve6ro76trsb3+72X7oyZnaPaiM13ebt+1mD4AfWrvbHv7qElvkgX3v0uD1+Z9VFfZ3d20OwV1OZnpob11Ll9ex2l7ZUm/HzJ5gClR1H9Oi5gMsu5va7W/u3OzXr7SM9DRvZ8xRFqs21AXn21/aaTdcNNcUuKtke0Ix1b2xtcPrY5bh99P7Cf5QsrF4qWvpCI7Xe6Cq17mqt19fVXxxc7295I/7/1Rj/3b+bA868/aodqf3jdqiYPaa+7fa9x4t9+/TQj+mez3fLGuyfyzfak+8W2v/6ucf7pmwVX8VOdzrmZ2/dvcW27Czuae+6urtu9vsrqoa++3qGrvkw8X2g0/Pt4JxB/5jQLxtPCOAAAIIIDBYAQLcwYpxPAIIIJBCAj9/YaeVTMiyi32Eb97kXNvsAeupPhqrEEaB4rUPbPUArD6M/p3hSaOO9gBPQayC0+c3NXiwuMtqGtvtv5+uCOcNZrTudR8NfrO8yWYU5vgIZr6P8I4Pge7TPuKqbYCqffT0m/e8ZyfNz/dR1L1HHwfqBgXjWpO80JNQnbGk0Ob5qLSC14e9rk/7OuVN3sa/vG2DPeojlr2LtmBScNvuA6uH+Drn0/zcRVNyu+tUG0aN79tdEwK73ucdyOubn6kMwa1+RDhlUb4tX5hvheMyQ2D5wqY63waoNoxkX/eH8jBqrdHSMw4psNL8TLvdR88ff6fWnTLtm2fMDMHtMXMmhNuqH/7dfyS47pHy8CPC0bPyQr01Qt3c7n20sd4e9+BUngr6f/b5hTazcO/R6227Wuy/ntrhI8g5dpaPch/sycgaPLB+el3sXI3OfvehMrveA/Bp3SPB71Q02Q1P7AjBrX4sOOfQ2Hke99qW6pawtdGrWxvtrtdqbOmsHXb1R6cfCBXHIIAAAggg8IEECHA/EB8nI4AAAsktoJE7BR5/vWLqXg3RqN0ffXRRo41fXV4ajhvXa5shBcDX3J8RpgUrGHrSg7DBBLi1zR12qI8IfvcTs33qcIFpn16VC44stm94YKuRXU15fXDNLrv02Cl71W+gDxTMamruP587206YP8Eyu0cczztskl3to6i/99HMp9fXhinZ8b15NU165R93hK2WFNR+97zZHigW9Gyr9LkPT7Z/+v0W++nzO0NQOtC9B/r8Vz69W+1bNjfPbvQgcb7/mBAv9S1TQpB64xPbbXN1bGpwONaD2GX+0I8ACnALx2WFqcLx8/SsPrr+sXIfhe30tubbtefMCs/xEd5dx3WEado3PF4errHSR7X7y7C9vbY9ZLu+9tyZ9vFDJ1l+99TrS46ZbN/ubrd+IHjS7/fpo4vDDyCbq1t9ynqDjyqnu/Usnwq9Z0KxTxxRb5+8+S1TwPtu99Tl3nXnNQIIIIAAAiMhQJKpkVDlmggggECSCBT6tNHPHze539q+sqXBinybH2VtPtuDnt7BrU4o9VHVj/r6SgVTmmpb74HlYIpGgi89drIHxRN7gludr9HHU3yEU/fz2ChMmx7MdYt89FPB1nFz3w9udf4CD1xPXBC7bpuP0q7xwDFeHvIgekP3FkufOrrITvfR0957BqutV5xc6tsTjY+fMqhnTY9W0Y8FU3zEvHfRqO6Vy6fary9bbLdcssAGs6XSHa/s9GnJnWE0+AvHTdkjuNU91L9fPqkkrHdWnP/fvia5v6KA+s+OmmSf9Ong8eBWx00ryLbLTyy1xT5Cu9vXDN/9WnWYnq7vNHVan6mT5vazR++x7n/rXywK66G/0me9sM6nIIAAAgggMBICBLgjoco1EUAAgSQRmOnB5CQPYvsrmg77wtcOs99dcVCYPtzfMVqnOtQy0afoLvCRzN6BZPxa8yeP6/fz+Pf7ei7wNapKlpXdaz1w/PjpHrBprW/f8mZ5o9X7+lUNIl+6rMSnYe/ZLn2+sGScfWTx0BImLfWpw/oR4CkfAb3s1vW+xninaQQ7XhRAa+3t8kUTB9XuN7bFgnSd/xkfbY2P3Mavq2f9SKEpx3Ku8FH337+5q/fX4XW6N/fCoyb32+45njBKU9NVXtxcZ51a3OtF153hnvph44u/WB8SXClBV+8irxX+iI+U9/6O1wgggAACCIyEQP//VTMSd+KaCCCAAAIJJ6CkQwOVSeMzPPiNJZRSQiE9FKRVeVbl+96oCRmVn/KMvc2eICqrn2ByoOvGP1eANFBwnaH4MhZHxQ8/4OcCD5wHWrOrUUwFq72LskSX+QirkmHNKMi0xaXvTx/ufZwSN831YE+Bc6tP7R5M+YvjS+wxn2as0dY7XqkOj2LPFn3MnHz7uK95/bivX9Va5CyPveNTtfd3fU0XVsCqssuTWH3l9o0DnqLkYfFmr/Zpxbpf76IfBY73bM79lakTPVu2j1z//HnzUe7Wnm7RiPjxPi36rteq7E8+Gq710gqwNdqrwPaCIyfZh719uVlpPdPE+7s+nyGAAAIIIDCcAgS4w6nJtRBAAIEUElCWYk2tfdgTFN3/Zk1IglS+uzUkf1IzFYSGkc545DTItmuQtM9A6SCv0P/hCrL6jsD2f2TsUwV/lb7tj8o0DzL3VQo9KJ/owaC2CRpMuWhpkSdtmmtKZPX2jhY3bPdHp2lqtB7f/l2Gne5JrS4/sSSM4vY3Eruv+5V51uKfPFe5r0N6votv89Tzgb9Y6MHqYMscn5b8f86e4T8mZIYkVjJUtmgFu3po6yCN3H7atxn6gk+Dn9FPcqvB3pPjEUAAAQQQ2J8AAe7+hPgeAQQQiKjAq1sb7Du/3xqy4SoZlda2lvpo3tzi9JBVWaOZWnb7M0+8NOTh1gSwVTAcDygbfJryvkqLZyYe7Oht/HpfOK7EzjusKOwXqz2HlUVaexLrRwPtt6t9e7UV0Y//fKGd7GuFB1MWTM4J2ZMP5Jxlc/Yetdd62qEUJQn7wafn2bOejExrttUuBbfveRbl7bVt4f3bFVt9O6nmkExsygT+s2MozpyDAAIIIHDgAvxLc+BWHIkAAghESuD6x7bbAz66qO1sLj22yLcBKrDpBVkh+ZOSD031dZ+P+Ojurb7VkDLlJmuZUZjlyZSywhTe9zwzsLY96m/qtKZoK2jTWt2hFv1IcJEnwNJDo+Pvevbm92pa7F6f8q1s0es82/CPnq04oABXU4fjI9XzPMC96eJ5Q62WB6SxJFj9XaDep1WXebtVdE/tk9u3KIOzHvoh5G3fR1ltemlzg7dlhycJawsjvOcdXucB/qS+p/IeAQQQQACBYRUgwB1WTi6GAAIIpI7APR50aV3qCs+U/PXTp/t+srl7rV9VMJjEsW3oLGUxXuwJpJSEqbGtKwTtfbe80YGV9W328nsNvg55cH38vO/Lq/2GK2pb7UIPbOPX1pRdPXQ9rVvVOuBVvm/t675G9kDKfA9qp/ma4fU+gK4M0Kt9z9mBsjwraL7ft0eaND7LLvEtjz7iex33LvU+gqsfK07zRFd9y3av9yvebpUjfC2uwlttxfRLT5T1hK/BnuVt+LonJFPGZmXGPnzG+PDQOtwu/981928LU5e3eNBLQQABBBBAYKQFlMaDggACCCCAwF4Cdd1Zfmf6CGdpvkbu9jxEyaZ+9XKlT9kd3PZAe14lMd4d4UFZvq+t7fIkWrf7nrX9lS01rfaI7wU72KKR39s8GLzrtRq7x7fZ6VuU+GpibqYnr4r9k1zoQeiBFE2rjmd11hrcger9pk8b/qmv/b37tV32a58GrazIfYuCbO0D3LdoHbamHq/qzo6sEVitvZbTuxVNdvtLVfbjVZW2y3/o6FuUlEs/Hqhk+Unj+8le3fcc3iOAAAIIIPBBBQhwP6gg5yOAAAIpKlDs02lV7n1jl4/U1YbESkqOpJFMBTxfvm2Dryf1bWM8OPJ4x9qSONDVlOGP+n68iuEfWVtrV9+5OUy1VRCv9j6ydrd98efrrUb7vg6ynOTraQ8uzbF2h3rQr/Pt322x9b72VtdWBme9/sFT28M61kyPdk/yqb69i+qkHxde8zW7OzxrskbNlbla5YqTp9psD1j1/kfPVtq192u9a4tfuy08Vvs66mse2GarfI1sWlqXXeZJrOb71kx9i/rvoTW77W9/uzlMm4738y88MP+rX28M19cewmf6/sDK8qzAVXsgK8u2kktd8pN19pyPPu/sbpPMfru62q57pMzvm+ZrtzNt0RASWfWtJ+8RQAABBBDYnwBTlPcnxPcIIIBARAWuXD7Vrn98ewjALv7xOyEjrjIIK8B620fvWn3Q7jAf+VznAZoCNSVMavJAa5xP9U3G8venzwjJkZ7b1GA3PFFud79e7dOyc6yxtcun/9aHdum9pgNn++hpiOoPsKH/cNYs++odG22zr3W97g9lYSR15qQc02U2VrV6huqmcP0VHmRfdWrpHlfVumft3au1v6d+f02YzqxpxprqrLXDt1yywK7ya6te1z64LWRTnu/BpAJjJQpTxmeNpi5flG//cu6sPa4df6MAWtv+3PDE9rAFlDIka59eTa9W0K1px1/72HSb5XWOF/W9MiT/wqdfK8nUOTettYNKfSQ8J92nJHeEBFOayqxp2JedUGIK9CkIIIAAAgiMtAAB7kgLc30EEEAgSQWuXjEt1PwuH4nb5Flxn/NgR0VrLReVjLePLJpoFx9TbN/xUcN7X6+xck9EpMzAx87tfz/VcHIC/6Fpyjd/doH9v8fK7Kl1daY1oxs9aFRweJCv0VVblXDpXzyILJ2YZemaW3yA5Szf6/aGi+bZ/zxXYa/6lF8Fum/taA5ny/OoWXm2wtfFKtNycd6eU5TPPKQwrM19/J3d9tb2JnvHkzgt9FHY8w8vCnvyat2sMhnf+kKl91FDCNI3en+pKFnWMXMm2Ol+zBeOm9KTlCp82euPDI9wv3fBHPveo+U+ElsXkl1pKvJcD3SPnp1nXz6pxE7x/o5nm9ap0z3R2P/+6DSb4snG7vP+V9IsBboqWourjNsnlY7zNb/Fdv4RReFz/kAAAQQQQGCkBdJ8HY1PTKIggAACCCSzgEbMXtxcbxU+hVXlsz7CN1Cp85HAFz1YVUZgZd89ft7AI2u67pry2NTYJk/ApDIhJ82DmxwPcnPDnrAa5dM02zyftrp01vieUb4XvD7rPEvwZN8aZgCQiigAAASRSURBVJkHvcrGrKIsu0rWpD1lP+zBV39bx2gq7rMb6n1qbEcYPfzQtPHhXP3x2Nu7Q92Vybl3siS1X1mJiydkmbbC6S8T8iafvqtRzSYfWdSUW41U9i07fXrtGg8kZaktgXKz0nwUMifsFasR7Wsf2GoHTx1nr3z9sEGNVmsqdwiaNYXYR1W15ZDKBB/xnOaeC6fk9FtnHbNWga2P8sb3sNW+tUs98NToqoquXVHX6gmnWkK9m0NfdYVr9+6rcHCvP75xzxb7/uPlnkysyxq/vyxMb37HA2/9HdGlJ/s09XkeTGvkeqCivyOqW3zKtY5TIFzkgfrsSdnh78lA5/I5AggggAACwy1AgDvcolwPAQQQQCDpBO58tcqTNFXZBJ8K/LUzZtiS0r3XqZb5frVam/srP+5UH8188KtLwkhl0jW2V4V7B7itNxzb6xteIoAAAgggkJwCTFFOzn6j1ggggAACwyhQ09hhj71TG9YSf8inKi8pjU3P7n2Lcs9UHJ+Cu9BHrwcxQ7n3ZXiNAAIIIIAAAiMoQIA7grhcGgEEEEAgOQSOnz/Bt0LKCgHuTZ7ReI5PrdX06Uyfaqvsx5U+XfnyX270KcatVuLHXXhkUc/04ORoIbVEAAEEEEAgGgIEuNHoZ1qJAAIIILAPAa3xVRKmf3u4LGQjVjC7uCQnbIejNabrK5us1hNMTfXkUl85pdSO9XXLyjxMQQABBBBAAIHEEiDATaz+oDYIIIAAAmMkcMXJpSE78m9eqQ5b3Ly2tdFaO7pCpuKpnhH45IXj7JM+cnvuYZNCJukxqia3RQABBBBAAIF9CJBkah84fIUAAgggED0BZVpWhmllEm73AFfb5eT7/r8Kcmf4vrPZmcm5z29/PamM1tqySPmxz1hS0N8hfIYAAggggEBSCRDgJlV3UVkEEEAAAQQQQAABBBBAAIGBBFLnZ+iBWsjnCCCAAAIIIIAAAggggAACkRAgwI1EN9NIBBBAAAEEEEAAAQQQQCD1BQhwU7+PaSECCCCAAAIIIIAAAgggEAkBAtxIdDONRAABBBBAAAEEEEAAAQRSX4AAN/X7mBYigAACCCCAAAIIIIAAApEQIMCNRDfTSAQQQAABBBBAAAEEEEAg9QUIcFO/j2khAggggAACCCCAAAIIIBAJAQLcSHQzjUQAAQQQQAABBBBAAAEEUl+AADf1+5gWIoAAAggggAACCCCAAAKRECDAjUQ300gEEEAAAQQQQAABBBBAIPUFCHBTv49pIQIIIIAAAggggAACCCAQCQEC3Eh0M41EAAEEEEAAAQQQQAABBFJfgAA39fuYFiKAAAIIIIAAAggggAACkRAgwI1EN9NIBBBAAAEEEEAAAQQQQCD1BQhwU7+PaSECCCCAAAIIIIAAAgggEAkBAtxIdDONRAABBBBAAAEEEEAAAQRSX4AAN/X7mBYigAACCCCAAAIIIIAAApEQIMCNRDfTSAQQQAABBBBAAAEEEEAg9QUIcFO/j2khAggggAACCCCAAAIIIBAJAQLcSHQzjUQAAQQQQAABBBBAAAEEUl/g/wOvG3J7ixds9wAAAABJRU5ErkJggg==)"
      ],
      "metadata": {
        "id": "LGvzR8fNOiLA"
      }
    },
    {
      "cell_type": "code",
      "source": [
        "plt.plot(rates)\n",
        "plt.ylabel(\"Learning rate\")\n",
        "plt.xlabel(\"Iteration\")"
      ],
      "metadata": {
        "id": "jP_lvDfELs3w"
      },
      "execution_count": null,
      "outputs": []
    },
    {
      "cell_type": "code",
      "source": [
        "iterations = math.ceil(len(X_train_scaled) / batch_size) * n_epochs\n",
        "rates_first_half = rates[:int(iterations/2)]\n",
        "rates_second_half = rates[int(iterations/2):]\n",
        "\n",
        "plt.plot(rates[:380])\n",
        "plt.ylabel(\"Learning rate\")\n",
        "plt.xlabel(\"Iteration\")\n",
        "plt.title('Iterations Start-400')"
      ],
      "metadata": {
        "id": "I8rVimzTGjUM"
      },
      "execution_count": null,
      "outputs": []
    },
    {
      "cell_type": "code",
      "source": [
        "plt.plot(rates[400:3000])\n",
        "plt.ylabel(\"Learning rate\")\n",
        "plt.xlabel(\"Iteration\")\n",
        "plt.title('Iterations 400-3000') # ax rate e çıktı"
      ],
      "metadata": {
        "id": "60W4fGCJJyPn"
      },
      "execution_count": null,
      "outputs": []
    },
    {
      "cell_type": "code",
      "source": [
        "plt.plot(rates[3000:5100])\n",
        "plt.ylabel(\"Learning rate\")\n",
        "plt.xlabel(\"Iteration\")\n",
        "plt.title('Iterations 3000- 5100') "
      ],
      "metadata": {
        "id": "Qz_mTpN7M7y8"
      },
      "execution_count": null,
      "outputs": []
    },
    {
      "cell_type": "code",
      "source": [
        "plt.plot(rates[5000:])\n",
        "plt.ylabel(\"Learning rate\")\n",
        "plt.xlabel(\"Iteration\")\n",
        "plt.title('Iteartions 5000 - End, Decay Phase') "
      ],
      "metadata": {
        "id": "9lSBX6MXRtL0"
      },
      "execution_count": null,
      "outputs": []
    },
    {
      "cell_type": "code",
      "source": [
        "model = keras.models.load_model(\"my_cifar10_1cycle_model.h5\")\n",
        "model.evaluate(X_valid_scaled, y_valid)"
      ],
      "metadata": {
        "id": "yzVzMI5sPYFm"
      },
      "execution_count": null,
      "outputs": []
    },
    {
      "cell_type": "markdown",
      "source": [
        "* One cycle allowed us to train the model in just 15 epochs, each taking only 6 seconds (thanks to the larger batch size). This is several times faster than the fastest model we trained so far. Moreover, we improved the model's performance (from 46.08% to 47.76%). The batch normalized model reaches a slightly better performance (54.22%), but it's much slower to train."
      ],
      "metadata": {
        "id": "xZZcDg9RsVnT"
      }
    },
    {
      "cell_type": "markdown",
      "source": [
        "## Links\n",
        "\n",
        "* https://github.com/ageron/handson-ml2/blob/master/11_training_deep_neural_networks.ipynb"
      ],
      "metadata": {
        "id": "-yF2-2ao2jqV"
      }
    }
  ]
}