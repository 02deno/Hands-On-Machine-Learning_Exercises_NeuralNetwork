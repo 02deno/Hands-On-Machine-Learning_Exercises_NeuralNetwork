{
  "nbformat": 4,
  "nbformat_minor": 0,
  "metadata": {
    "colab": {
      "provenance": []
    },
    "kernelspec": {
      "name": "python3",
      "display_name": "Python 3"
    },
    "language_info": {
      "name": "python"
    }
  },
  "cells": [
    {
      "cell_type": "markdown",
      "source": [
        "# Question 9"
      ],
      "metadata": {
        "id": "XVDzUOg0P_Vr"
      }
    },
    {
      "cell_type": "markdown",
      "source": [
        "* Build your own CNN from scratch and try to achieve the highest possible accuracy on MNIST.\n"
      ],
      "metadata": {
        "id": "FfNLzIjlQBiQ"
      }
    },
    {
      "cell_type": "markdown",
      "source": [
        "Links : \n",
        "\n",
        "* https://github.com/ageron/handson-ml2/blob/master/14_deep_computer_vision_with_cnns.ipynb"
      ],
      "metadata": {
        "id": "QkVy84KsQINE"
      }
    },
    {
      "cell_type": "code",
      "source": [
        "from tensorflow import keras\n",
        "import numpy as np\n",
        "import tensorflow as tf\n",
        "import matplotlib.pyplot as plt\n",
        "from tensorflow.keras import layers\n",
        "from keras.preprocessing.image import ImageDataGenerator\n",
        "# Core\n",
        "import numpy as np\n",
        "import pandas as pd\n",
        "import seaborn as sns\n",
        "sns.set(style='darkgrid', font_scale=1.4)\n",
        "import matplotlib.pyplot as plt\n",
        "%matplotlib inline\n",
        "import time\n",
        "import warnings\n",
        "warnings.filterwarnings(\"ignore\")\n",
        "\n",
        "# Sklearn\n",
        "from sklearn.model_selection import train_test_split, StratifiedKFold\n",
        "from sklearn.metrics import accuracy_score\n",
        "\n",
        "# Tensorflow\n",
        "import tensorflow as tf\n",
        "from tensorflow import keras\n",
        "from tensorflow.keras import layers\n",
        "from tensorflow.keras import callbacks\n",
        "from keras.preprocessing.image import ImageDataGenerator\n",
        "from tensorflow.keras.layers.experimental import preprocessing\n",
        "from keras.utils.vis_utils import plot_model\n",
        "\n",
        "import keras\n",
        "from keras.models import Sequential\n",
        "from keras.layers import Conv2D, Lambda, MaxPooling2D # convolution layers\n",
        "from keras.layers import Dense, Dropout, Flatten # core layers\n",
        "from keras.layers import BatchNormalization\n"
      ],
      "metadata": {
        "id": "vF6VMH8VQeTS"
      },
      "execution_count": null,
      "outputs": []
    },
    {
      "cell_type": "code",
      "execution_count": null,
      "metadata": {
        "id": "BFj04flxP49M",
        "colab": {
          "base_uri": "https://localhost:8080/"
        },
        "outputId": "297ec906-ae80-407b-c07b-53e87e968f14"
      },
      "outputs": [
        {
          "output_type": "stream",
          "name": "stdout",
          "text": [
            "Downloading data from https://storage.googleapis.com/tensorflow/tf-keras-datasets/mnist.npz\n",
            "11490434/11490434 [==============================] - 1s 0us/step\n"
          ]
        }
      ],
      "source": [
        "# load the data\n",
        "(X_train_full, y_train_full), (X_test, y_test) = keras.datasets.mnist.load_data()\n",
        "\n",
        "# normalize\n",
        "X_train_full = X_train_full / 255.\n",
        "X_test = X_test / 255.\n",
        "\n",
        "# splitting the dataset into train, test, valid \n",
        "X_train, X_valid = X_train_full[:-5000], X_train_full[-5000:] # 55000 instances for training set\n",
        "y_train, y_valid = y_train_full[:-5000], y_train_full[-5000:] # 5000 instances for validation set\n",
        "\n",
        "X_train = X_train[..., np.newaxis]\n",
        "X_valid = X_valid[..., np.newaxis]\n",
        "X_test = X_test[..., np.newaxis]"
      ]
    },
    {
      "cell_type": "code",
      "source": [
        "print(\"Training set : \", X_train.shape)\n",
        "print(\"Validation set : \", X_valid.shape)\n",
        "print(\"Test set : \", X_test.shape)\n",
        "# 1 for color channel"
      ],
      "metadata": {
        "colab": {
          "base_uri": "https://localhost:8080/"
        },
        "id": "5kmePs74KyAS",
        "outputId": "2f6ec808-9825-4106-f56d-85c53afad545"
      },
      "execution_count": null,
      "outputs": [
        {
          "output_type": "stream",
          "name": "stdout",
          "text": [
            "Training set :  (55000, 28, 28, 1)\n",
            "Validation set :  (5000, 28, 28, 1)\n",
            "Test set :  (10000, 28, 28, 1)\n"
          ]
        }
      ]
    },
    {
      "cell_type": "code",
      "source": [
        "print(\"Training label : \", y_train.shape)\n",
        "print(\"Validation label: \", y_valid.shape)\n",
        "print(\"Test label : \", y_test.shape)"
      ],
      "metadata": {
        "colab": {
          "base_uri": "https://localhost:8080/"
        },
        "id": "87iTXpFYriI8",
        "outputId": "609f817e-5dc5-4f19-b259-5279ee3de71a"
      },
      "execution_count": null,
      "outputs": [
        {
          "output_type": "stream",
          "name": "stdout",
          "text": [
            "Training label :  (55000,)\n",
            "Validation label:  (5000,)\n",
            "Test label :  (10000,)\n"
          ]
        }
      ]
    },
    {
      "cell_type": "code",
      "source": [
        "y_train[0]"
      ],
      "metadata": {
        "colab": {
          "base_uri": "https://localhost:8080/"
        },
        "id": "Kp7SnxTGrlxS",
        "outputId": "b0f1082e-ef31-48a6-9296-9bdac86906a4"
      },
      "execution_count": null,
      "outputs": [
        {
          "output_type": "execute_result",
          "data": {
            "text/plain": [
              "5"
            ]
          },
          "metadata": {},
          "execution_count": 22
        }
      ]
    },
    {
      "cell_type": "code",
      "source": [
        "keras.backend.clear_session()\n",
        "tf.random.set_seed(42)\n",
        "np.random.seed(42)\n",
        "\n",
        "model = keras.models.Sequential([\n",
        "    keras.layers.Conv2D(32, kernel_size=3, padding=\"same\", activation=\"relu\"),\n",
        "    keras.layers.Conv2D(64, kernel_size=3, padding=\"same\", activation=\"relu\"),\n",
        "    keras.layers.MaxPool2D(),\n",
        "    keras.layers.Flatten(),\n",
        "    keras.layers.Dropout(0.25),\n",
        "    keras.layers.Dense(128, activation=\"relu\"),\n",
        "    keras.layers.Dropout(0.5),\n",
        "    keras.layers.Dense(10, activation=\"softmax\")\n",
        "])\n",
        "#one hot encoded depilse bu sparse kllanılır loss func olarak\n",
        "model.compile(loss=\"sparse_categorical_crossentropy\", optimizer=\"nadam\",\n",
        "              metrics=[\"accuracy\"])\n",
        "# Much like Adam is essentially RMSprop with momentum, Nadam is Adam with Nesterov momentum.\n",
        "\n",
        "model.fit(X_train, y_train, epochs=10, validation_data=(X_valid, y_valid))\n",
        "model.evaluate(X_test, y_test)"
      ],
      "metadata": {
        "id": "UEJkhaWnQaI2",
        "colab": {
          "base_uri": "https://localhost:8080/"
        },
        "outputId": "4314a046-0f2b-4995-9fb8-a21b8b026107"
      },
      "execution_count": null,
      "outputs": [
        {
          "output_type": "stream",
          "name": "stdout",
          "text": [
            "Epoch 1/10\n",
            "1719/1719 [==============================] - 249s 144ms/step - loss: 0.2001 - accuracy: 0.9401 - val_loss: 0.0559 - val_accuracy: 0.9858\n",
            "Epoch 2/10\n",
            "1719/1719 [==============================] - 240s 140ms/step - loss: 0.0854 - accuracy: 0.9740 - val_loss: 0.0469 - val_accuracy: 0.9870\n",
            "Epoch 3/10\n",
            "1719/1719 [==============================] - 246s 143ms/step - loss: 0.0625 - accuracy: 0.9807 - val_loss: 0.0404 - val_accuracy: 0.9898\n",
            "Epoch 4/10\n",
            "1719/1719 [==============================] - 239s 139ms/step - loss: 0.0509 - accuracy: 0.9840 - val_loss: 0.0433 - val_accuracy: 0.9882\n",
            "Epoch 5/10\n",
            "1719/1719 [==============================] - 240s 140ms/step - loss: 0.0456 - accuracy: 0.9859 - val_loss: 0.0327 - val_accuracy: 0.9916\n",
            "Epoch 6/10\n",
            "1719/1719 [==============================] - 246s 143ms/step - loss: 0.0374 - accuracy: 0.9880 - val_loss: 0.0491 - val_accuracy: 0.9896\n",
            "Epoch 7/10\n",
            "1719/1719 [==============================] - 239s 139ms/step - loss: 0.0334 - accuracy: 0.9896 - val_loss: 0.0338 - val_accuracy: 0.9914\n",
            "Epoch 8/10\n",
            "1719/1719 [==============================] - 239s 139ms/step - loss: 0.0306 - accuracy: 0.9906 - val_loss: 0.0358 - val_accuracy: 0.9912\n",
            "Epoch 9/10\n",
            "1719/1719 [==============================] - 239s 139ms/step - loss: 0.0260 - accuracy: 0.9913 - val_loss: 0.0347 - val_accuracy: 0.9926\n",
            "Epoch 10/10\n",
            "1719/1719 [==============================] - 239s 139ms/step - loss: 0.0236 - accuracy: 0.9924 - val_loss: 0.0318 - val_accuracy: 0.9920\n",
            "313/313 [==============================] - 9s 29ms/step - loss: 0.0270 - accuracy: 0.9926\n"
          ]
        },
        {
          "output_type": "execute_result",
          "data": {
            "text/plain": [
              "[0.027015408501029015, 0.9926000237464905]"
            ]
          },
          "metadata": {},
          "execution_count": 9
        }
      ]
    },
    {
      "cell_type": "code",
      "source": [
        "model.summary()"
      ],
      "metadata": {
        "colab": {
          "base_uri": "https://localhost:8080/"
        },
        "id": "P5G6MAmQLlT3",
        "outputId": "e4e28d92-cf23-442f-ef6d-a48ec4e0670a"
      },
      "execution_count": null,
      "outputs": [
        {
          "output_type": "stream",
          "name": "stdout",
          "text": [
            "Model: \"sequential\"\n",
            "_________________________________________________________________\n",
            " Layer (type)                Output Shape              Param #   \n",
            "=================================================================\n",
            " conv2d (Conv2D)             (None, 28, 28, 32)        320       \n",
            "                                                                 \n",
            " conv2d_1 (Conv2D)           (None, 28, 28, 64)        18496     \n",
            "                                                                 \n",
            " max_pooling2d (MaxPooling2D  (None, 14, 14, 64)       0         \n",
            " )                                                               \n",
            "                                                                 \n",
            " flatten (Flatten)           (None, 12544)             0         \n",
            "                                                                 \n",
            " dropout (Dropout)           (None, 12544)             0         \n",
            "                                                                 \n",
            " dense (Dense)               (None, 128)               1605760   \n",
            "                                                                 \n",
            " dropout_1 (Dropout)         (None, 128)               0         \n",
            "                                                                 \n",
            " dense_1 (Dense)             (None, 10)                1290      \n",
            "                                                                 \n",
            "=================================================================\n",
            "Total params: 1,625,866\n",
            "Trainable params: 1,625,866\n",
            "Non-trainable params: 0\n",
            "_________________________________________________________________\n"
          ]
        }
      ]
    },
    {
      "cell_type": "markdown",
      "source": [
        "* The following model uses 2 convolutional layers, followed by 1 pooling layer, then dropout 25%, then a dense layer, another dropout layer but with 50% dropout, and finally the output layer. It reaches about 99.2% accuracy on the test set. This places this model roughly in the top 20% in the MNIST Kaggle competition (if we ignore the models with an accuracy greater than 99.79% which were most likely trained on the test set, as explained by Chris Deotte in this post). Can you do better? To reach 99.5 to 99.7% accuracy on the test set, you need to add image augmentation, batch norm, use a learning schedule such as 1-cycle, and possibly create an ensemble."
      ],
      "metadata": {
        "id": "fdUph1HhQpoZ"
      }
    },
    {
      "cell_type": "code",
      "source": [
        "# Data Augmentation\n",
        "datagen = ImageDataGenerator(\n",
        "    rotation_range = 18,           # 18 degrees\n",
        "    zoom_range=0.2,                # 20 %\n",
        "    fill_mode='constant',          # edge pixels\n",
        "    cval=0                         # fill value\n",
        ")\n",
        "\n",
        "aug = datagen.flow(X_train[42].reshape(-1, 28, 28, 1)) # itaretor\n",
        "\n",
        "# Plot using a for loop\n",
        "fig, axes = plt.subplots(2, 8, figsize = (15, 4))\n",
        "plt.suptitle('Random Rotation & Random Zoom', fontsize=20, y=1.05)\n",
        "axes = axes.ravel()\n",
        "\n",
        "for i in range(16):\n",
        "    \n",
        "    aug_img = next(aug)[0]\n",
        "    axes[i].imshow(aug_img, cmap = 'gray')\n",
        "    axes[i].axis('off')\n",
        "    \n",
        "plt.show()"
      ],
      "metadata": {
        "colab": {
          "base_uri": "https://localhost:8080/",
          "height": 404
        },
        "id": "w48gRp6mT1t4",
        "outputId": "94cb37de-b24a-4299-c021-3915ab83db5a"
      },
      "execution_count": null,
      "outputs": [
        {
          "output_type": "display_data",
          "data": {
            "text/plain": [
              "<Figure size 1500x400 with 16 Axes>"
            ],
            "image/png": "[encoded data removed]"
          },
          "metadata": {}
        }
      ]
    },
    {
      "cell_type": "code",
      "source": [
        "# Define model\n",
        "def build_model():\n",
        "    model = keras.Sequential([\n",
        "\n",
        "        # Data Augmentation\n",
        "        preprocessing.RandomRotation(factor=0.05, fill_mode='constant'),     # 18 degrees\n",
        "        preprocessing.RandomZoom(height_factor=(-0.2,0.2), width_factor=(-0.2,0.2), fill_mode='constant'),  # 20%\n",
        "\n",
        "        # Convolutional layer 1\n",
        "        layers.Conv2D(filters=64, kernel_size=5, strides=1, padding='same', input_shape=[28,28,1], activation='relu'),\n",
        "        layers.MaxPool2D(pool_size=2, padding='same'),\n",
        "        layers.Dropout(rate=0.3),\n",
        "\n",
        "        # Convolutional layer 2\n",
        "        layers.Conv2D(filters=128, kernel_size=3, strides=1, padding='same', activation='relu'),\n",
        "        layers.MaxPool2D(pool_size=4, padding='same'),\n",
        "        layers.Dropout(rate=0.3),\n",
        "        layers.Flatten(),\n",
        "\n",
        "        # Hidden layer 3\n",
        "        layers.Dense(units=256, activation='relu'),\n",
        "        layers.Dropout(rate=0.4),\n",
        "\n",
        "        # Output layer (softmax returns a probability distribution)\n",
        "        layers.Dense(units=10, activation='softmax')\n",
        "    ])\n",
        "\n",
        "    # Define optimizer, loss function and accuracy metric\n",
        "    model.compile(optimizer='adam',\n",
        "                  loss='sparse_categorical_crossentropy',\n",
        "                  metrics=['sparse_categorical_accuracy'])\n",
        "    \n",
        "    return model"
      ],
      "metadata": {
        "id": "G3Os4WmVUZs2"
      },
      "execution_count": null,
      "outputs": []
    },
    {
      "cell_type": "code",
      "source": [
        "# Define early stopping callback on validation loss\n",
        "early_stopping = callbacks.EarlyStopping(\n",
        "    monitor='val_loss',\n",
        "    patience=20,\n",
        "    restore_best_weights=True,\n",
        ")\n",
        "\n",
        "# Reduce learning rate when validation loss plateaus\n",
        "reduce_lr = callbacks.ReduceLROnPlateau(\n",
        "    monitor='val_loss',\n",
        "    factor=0.5,\n",
        "    patience=5\n",
        ")"
      ],
      "metadata": {
        "id": "F2vvKLYrUnVv"
      },
      "execution_count": null,
      "outputs": []
    },
    {
      "cell_type": "code",
      "source": [
        "keras.backend.clear_session()\n",
        "tf.random.set_seed(42)\n",
        "np.random.seed(42)\n",
        "\n",
        "model = build_model()\n",
        "model.fit(X_train, y_train, epochs=10, validation_data=(X_valid, y_valid), callbacks=[early_stopping, reduce_lr])\n",
        "model.evaluate(X_test, y_test)"
      ],
      "metadata": {
        "colab": {
          "base_uri": "https://localhost:8080/"
        },
        "id": "onm6GsLjVXNV",
        "outputId": "9b3b72e5-fbb9-4b17-e349-756e91bd919f"
      },
      "execution_count": null,
      "outputs": [
        {
          "output_type": "stream",
          "name": "stdout",
          "text": [
            "Epoch 1/10\n",
            "1719/1719 [==============================] - 232s 134ms/step - loss: 0.2740 - sparse_categorical_accuracy: 0.9129 - val_loss: 0.0552 - val_sparse_categorical_accuracy: 0.9846 - lr: 0.0010\n",
            "Epoch 2/10\n",
            "1719/1719 [==============================] - 245s 143ms/step - loss: 0.1099 - sparse_categorical_accuracy: 0.9662 - val_loss: 0.0348 - val_sparse_categorical_accuracy: 0.9894 - lr: 0.0010\n",
            "Epoch 3/10\n",
            "1719/1719 [==============================] - 239s 139ms/step - loss: 0.0894 - sparse_categorical_accuracy: 0.9726 - val_loss: 0.0331 - val_sparse_categorical_accuracy: 0.9922 - lr: 0.0010\n",
            "Epoch 4/10\n",
            "1719/1719 [==============================] - 222s 129ms/step - loss: 0.0807 - sparse_categorical_accuracy: 0.9752 - val_loss: 0.0308 - val_sparse_categorical_accuracy: 0.9930 - lr: 0.0010\n",
            "Epoch 5/10\n",
            "1719/1719 [==============================] - 221s 128ms/step - loss: 0.0729 - sparse_categorical_accuracy: 0.9778 - val_loss: 0.0411 - val_sparse_categorical_accuracy: 0.9904 - lr: 0.0010\n",
            "Epoch 6/10\n",
            "1719/1719 [==============================] - 219s 128ms/step - loss: 0.0664 - sparse_categorical_accuracy: 0.9792 - val_loss: 0.0264 - val_sparse_categorical_accuracy: 0.9936 - lr: 0.0010\n",
            "Epoch 7/10\n",
            "1719/1719 [==============================] - 221s 129ms/step - loss: 0.0659 - sparse_categorical_accuracy: 0.9803 - val_loss: 0.0307 - val_sparse_categorical_accuracy: 0.9914 - lr: 0.0010\n",
            "Epoch 8/10\n",
            "1719/1719 [==============================] - 225s 131ms/step - loss: 0.0597 - sparse_categorical_accuracy: 0.9822 - val_loss: 0.0303 - val_sparse_categorical_accuracy: 0.9928 - lr: 0.0010\n",
            "Epoch 9/10\n",
            "1719/1719 [==============================] - 220s 128ms/step - loss: 0.0586 - sparse_categorical_accuracy: 0.9822 - val_loss: 0.0299 - val_sparse_categorical_accuracy: 0.9940 - lr: 0.0010\n",
            "Epoch 10/10\n",
            "1719/1719 [==============================] - 219s 128ms/step - loss: 0.0569 - sparse_categorical_accuracy: 0.9823 - val_loss: 0.0274 - val_sparse_categorical_accuracy: 0.9946 - lr: 0.0010\n",
            "313/313 [==============================] - 10s 33ms/step - loss: 0.0214 - sparse_categorical_accuracy: 0.9934\n"
          ]
        },
        {
          "output_type": "execute_result",
          "data": {
            "text/plain": [
              "[0.021423956379294395, 0.993399977684021]"
            ]
          },
          "metadata": {},
          "execution_count": 11
        }
      ]
    },
    {
      "cell_type": "code",
      "source": [
        "keras.backend.clear_session()\n",
        "tf.random.set_seed(42)\n",
        "np.random.seed(42)\n",
        "\n",
        "model = keras.models.Sequential([\n",
        "    keras.layers.Conv2D(32, kernel_size=3, padding=\"same\", activation=\"relu\"),\n",
        "    keras.layers.BatchNormalization(),\n",
        "    keras.layers.Conv2D(64, kernel_size=3, padding=\"same\", activation=\"relu\"),\n",
        "    keras.layers.BatchNormalization(),\n",
        "    keras.layers.MaxPool2D(),\n",
        "    keras.layers.Flatten(),\n",
        "    keras.layers.Dropout(0.25),\n",
        "    keras.layers.Dense(128, activation=\"relu\"),\n",
        "    keras.layers.Dropout(0.5),\n",
        "    keras.layers.Dense(10, activation=\"softmax\")\n",
        "])\n",
        "model.compile(loss=\"sparse_categorical_crossentropy\", optimizer=\"nadam\",\n",
        "              metrics=[\"accuracy\"])\n",
        "\n",
        "model.fit(X_train, y_train, epochs=10, validation_data=(X_valid, y_valid), callbacks=[early_stopping, reduce_lr])\n",
        "model.evaluate(X_test, y_test)"
      ],
      "metadata": {
        "colab": {
          "base_uri": "https://localhost:8080/"
        },
        "id": "drTngm5zr_--",
        "outputId": "d205dfc5-d596-4a07-92c8-9b8cc8e67bdd"
      },
      "execution_count": null,
      "outputs": [
        {
          "output_type": "stream",
          "name": "stdout",
          "text": [
            "Epoch 1/10\n",
            "1719/1719 [==============================] - 307s 177ms/step - loss: 0.3615 - accuracy: 0.8987 - val_loss: 0.0887 - val_accuracy: 0.9814 - lr: 0.0010\n",
            "Epoch 2/10\n",
            "1719/1719 [==============================] - 294s 171ms/step - loss: 0.1772 - accuracy: 0.9518 - val_loss: 0.0679 - val_accuracy: 0.9840 - lr: 0.0010\n",
            "Epoch 3/10\n",
            "1719/1719 [==============================] - 284s 165ms/step - loss: 0.1302 - accuracy: 0.9635 - val_loss: 0.0585 - val_accuracy: 0.9870 - lr: 0.0010\n",
            "Epoch 4/10\n",
            "1719/1719 [==============================] - 288s 167ms/step - loss: 0.1077 - accuracy: 0.9693 - val_loss: 0.0500 - val_accuracy: 0.9890 - lr: 0.0010\n",
            "Epoch 5/10\n",
            "1719/1719 [==============================] - 284s 165ms/step - loss: 0.0922 - accuracy: 0.9746 - val_loss: 0.0545 - val_accuracy: 0.9880 - lr: 0.0010\n",
            "Epoch 6/10\n",
            "1719/1719 [==============================] - 282s 164ms/step - loss: 0.0789 - accuracy: 0.9771 - val_loss: 0.0453 - val_accuracy: 0.9898 - lr: 0.0010\n",
            "Epoch 7/10\n",
            "1719/1719 [==============================] - 282s 164ms/step - loss: 0.0696 - accuracy: 0.9803 - val_loss: 0.0444 - val_accuracy: 0.9900 - lr: 0.0010\n",
            "Epoch 8/10\n",
            "1719/1719 [==============================] - 289s 168ms/step - loss: 0.0603 - accuracy: 0.9827 - val_loss: 0.0443 - val_accuracy: 0.9906 - lr: 0.0010\n",
            "Epoch 9/10\n",
            "1719/1719 [==============================] - 288s 168ms/step - loss: 0.0556 - accuracy: 0.9844 - val_loss: 0.0435 - val_accuracy: 0.9908 - lr: 0.0010\n",
            "Epoch 10/10\n",
            "1719/1719 [==============================] - 281s 163ms/step - loss: 0.0484 - accuracy: 0.9859 - val_loss: 0.0484 - val_accuracy: 0.9888 - lr: 0.0010\n",
            "313/313 [==============================] - 12s 37ms/step - loss: 0.0411 - accuracy: 0.9899\n"
          ]
        },
        {
          "output_type": "execute_result",
          "data": {
            "text/plain": [
              "[0.04113473370671272, 0.9898999929428101]"
            ]
          },
          "metadata": {},
          "execution_count": 12
        }
      ]
    },
    {
      "cell_type": "markdown",
      "source": [
        "* Normal CNN : 99.26\n",
        "* Data Augmentation : 99.33\n",
        "* Batch Normalization : 98.98\n"
      ],
      "metadata": {
        "id": "3IQXdM9ceX4i"
      }
    }
  ]
}